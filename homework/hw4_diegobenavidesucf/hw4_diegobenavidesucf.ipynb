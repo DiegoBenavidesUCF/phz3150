{
 "cells": [
  {
   "cell_type": "code",
   "execution_count": 1,
   "metadata": {},
   "outputs": [],
   "source": [
    "# Diego Benavides\n",
    "# Homework 4\n",
    "# Feb 1 2022"
   ]
  },
  {
   "cell_type": "markdown",
   "metadata": {},
   "source": [
    "PROBLEM 2:"
   ]
  },
  {
   "cell_type": "markdown",
   "metadata": {},
   "source": [
    "We have a body of mass m (kg). When a force F (N) acts on it,\n",
    "according to Newton’s second law, the body will get an acceleration a (m/s2).\n",
    "Remember that F=ma. Write an expression that calculates F for the following mass and\n",
    "acceleration pairs: "
   ]
  },
  {
   "cell_type": "markdown",
   "metadata": {},
   "source": [
    "m [kg] |a [m/s2]\n",
    "\n",
    "10     |  5\n",
    "\n",
    "15     | 10\n",
    "\n",
    "20     | 5\n",
    "\n",
    "40     | 3"
   ]
  },
  {
   "cell_type": "code",
   "execution_count": 2,
   "metadata": {},
   "outputs": [
    {
     "name": "stdout",
     "output_type": "stream",
     "text": [
      "Problem 2:\n"
     ]
    }
   ],
   "source": [
    "print('Problem 2:')\n",
    "\n",
    "#Expression for force: F = m * a ; m is mass , a is acceleration , F is force. "
   ]
  },
  {
   "cell_type": "markdown",
   "metadata": {},
   "source": [
    "Then, make a function force_to_acceleration that calculates the acceleration of a\n",
    "body of mass m[kg] when a force F[N] is applied on it. Remember to use a good\n",
    "docstring! Calculate the acceleration of a body of mass 150kg when forces F of 100,\n",
    "22 and 450 (N) are applied to it."
   ]
  },
  {
   "cell_type": "code",
   "execution_count": 8,
   "metadata": {},
   "outputs": [],
   "source": [
    "def force_to_acceleration( force , mass):\n",
    "    \"\"\"This function will take in a value for force and mass, and divide force by mass in order\n",
    "    to calculate acceleration.\n",
    "    INPUT: Force[N] , Mass[kg]\n",
    "    OUTPUT: Acceleration[m/s^2]\"\"\"\n",
    "    \n",
    "    a = force / mass\n",
    "    \n",
    "    return a\n",
    "    "
   ]
  },
  {
   "cell_type": "code",
   "execution_count": 10,
   "metadata": {},
   "outputs": [
    {
     "name": "stdout",
     "output_type": "stream",
     "text": [
      "Problem 2:\n",
      " Force is equal to 0.6666666666666666\n",
      " Force is equal to 0.14666666666666667\n",
      " Force is equal to 3.0\n"
     ]
    }
   ],
   "source": [
    "# mass will be denoted as m and the forces as F_n , where n is a number\n",
    "\n",
    "m = 150\n",
    "\n",
    "F_1 = 100\n",
    "\n",
    "F_2 = 22\n",
    "\n",
    "F_3 = 450\n",
    "\n",
    "print('Problem 2:')\n",
    "\n",
    "print(f\" Force is equal to {force_to_acceleration( 100 , 150)}\")\n",
    "\n",
    "print(f\" Force is equal to {force_to_acceleration( 22 , 150)}\")\n",
    "\n",
    "print(f\" Force is equal to {force_to_acceleration( 450 , 150)}\")\n"
   ]
  },
  {
   "cell_type": "markdown",
   "metadata": {},
   "source": [
    "PROBLEM 3:"
   ]
  },
  {
   "cell_type": "markdown",
   "metadata": {},
   "source": [
    "The acceleration of a body can be approximated by the ratio of\n",
    "the change of a body’s speed (u2-u1) over a time span (t1-t1) as: a=(u2-u1)/(t2-t1).\n",
    "Write a function called acceleration(u1,u2,t1,t2) that takes the different\n",
    "speeds (u1,u2) of a body at times t1 and t2 and calculates the acceleration of the body.\n",
    "Save it in a separate file, not your main homework file. Remember to start the function\n",
    "with a good docstring. In your main homework file, import the function and calculate the\n",
    "acceleration of a body for the following times and speeds\n",
    "\n",
    "t1 [ s ] t2 [ s ] u1 [ m/s ] u2 [ m/s ]\n",
    "\n",
    "0  | 2 | 10 | 13\n",
    "\n",
    "10 | 14 | 15 | 30\n",
    "\n",
    "14 | 16 | 32 | 36\n",
    "\n",
    "28 | 32 | 42 | 20\n",
    "\n",
    "0  | 10 | 20 | 22\n",
    "\n",
    "Calculate these numbers some other way to check that they are correct (in general,\n",
    "always check your code in this way). State in comments how you checked (calculator,\n",
    "web site, etc.). Name 2 test cases you could use to verify the code works as it should."
   ]
  },
  {
   "cell_type": "code",
   "execution_count": 31,
   "metadata": {},
   "outputs": [],
   "source": [
    "from my_saved_functions import acceleration"
   ]
  },
  {
   "cell_type": "code",
   "execution_count": 32,
   "metadata": {},
   "outputs": [
    {
     "name": "stdout",
     "output_type": "stream",
     "text": [
      "Problem 3\n",
      "The accelerarion is 1.5\n",
      "The accelerarion is 3.75\n",
      "The accelerarion is 2.0\n",
      "The accelerarion is -5.5\n",
      "The accelerarion is 0.2\n"
     ]
    }
   ],
   "source": [
    "print('Problem 3')\n",
    "\n",
    "ui_1 = 10\n",
    "uf_1 = 13\n",
    "ti_1 = 0\n",
    "tf_1 = 2\n",
    "\n",
    "ui_2 = 15\n",
    "uf_2 = 30\n",
    "ti_2 = 10\n",
    "tf_2 = 14\n",
    "\n",
    "ui_3 = 32\n",
    "uf_3 = 36\n",
    "ti_3 = 14\n",
    "tf_3 = 16\n",
    "\n",
    "ui_4 = 42\n",
    "uf_4 = 20\n",
    "ti_4 = 28\n",
    "tf_4 = 32\n",
    "\n",
    "ui_5 = 20\n",
    "uf_5 = 22\n",
    "ti_5 = 0\n",
    "tf_5 = 10\n",
    "\n",
    "print(f'The accelerarion is { acceleration( ui_1 , uf_1 , ti_1 , tf_1 ) }')\n",
    "print(f'The accelerarion is { acceleration( ui_2 , uf_2 , ti_2 , tf_2 ) }')\n",
    "print(f'The accelerarion is { acceleration( ui_3 , uf_3 , ti_3 , tf_3 ) }')\n",
    "print(f'The accelerarion is { acceleration( ui_4 , uf_4 , ti_4 , tf_4 ) }')\n",
    "print(f'The accelerarion is { acceleration( ui_5 , uf_5 , ti_5 , tf_5 ) }')"
   ]
  },
  {
   "cell_type": "code",
   "execution_count": 33,
   "metadata": {},
   "outputs": [],
   "source": [
    "#I tested each case using a calculator and it appears to be working correctly.\n",
    "#One test case could be to make the denominator equal zero, which should result in an error\n",
    "#Another test case could be to make the numerator input and denominator input be equal to eachother which should result in 1"
   ]
  },
  {
   "cell_type": "code",
   "execution_count": null,
   "metadata": {},
   "outputs": [],
   "source": []
  }
 ],
 "metadata": {
  "kernelspec": {
   "display_name": "Python 3",
   "language": "python",
   "name": "python3"
  },
  "language_info": {
   "codemirror_mode": {
    "name": "ipython",
    "version": 3
   },
   "file_extension": ".py",
   "mimetype": "text/x-python",
   "name": "python",
   "nbconvert_exporter": "python",
   "pygments_lexer": "ipython3",
   "version": "3.8.3"
  }
 },
 "nbformat": 4,
 "nbformat_minor": 4
}
