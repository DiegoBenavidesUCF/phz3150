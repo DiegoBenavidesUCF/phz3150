{
 "cells": [
  {
   "cell_type": "code",
   "execution_count": 1,
   "metadata": {},
   "outputs": [],
   "source": [
    "# Diego Benavides\n",
    "# Homework 4\n",
    "# Feb 1 2021"
   ]
  },
  {
   "cell_type": "markdown",
   "metadata": {},
   "source": [
    "PROBLEM 2:"
   ]
  },
  {
   "cell_type": "markdown",
   "metadata": {},
   "source": [
    "We have a body of mass m (kg). When a force F (N) acts on it,\n",
    "according to Newton’s second law, the body will get an acceleration a (m/s2).\n",
    "Remember that F=ma. Write an expression that calculates F for the following mass and\n",
    "acceleration pairs: "
   ]
  },
  {
   "cell_type": "markdown",
   "metadata": {},
   "source": [
    "m [kg] |a [m/s2]\n",
    "\n",
    "10     |  5\n",
    "\n",
    "15     | 10\n",
    "\n",
    "20     | 5\n",
    "\n",
    "40     | 3"
   ]
  },
  {
   "cell_type": "code",
   "execution_count": 2,
   "metadata": {},
   "outputs": [
    {
     "name": "stdout",
     "output_type": "stream",
     "text": [
      "Problem 2:\n"
     ]
    }
   ],
   "source": [
    "print('Problem 2:')\n",
    "\n",
    "#Expression for force: F = m * a ; m is mass , a is acceleration , F is force. "
   ]
  },
  {
   "cell_type": "markdown",
   "metadata": {},
   "source": [
    "Then, make a function force_to_acceleration that calculates the acceleration of a\n",
    "body of mass m[kg] when a force F[N] is applied on it. Remember to use a good\n",
    "docstring! Calculate the acceleration of a body of mass 150kg when forces F of 100,\n",
    "22 and 450 (N) are applied to it."
   ]
  },
  {
   "cell_type": "code",
   "execution_count": 8,
   "metadata": {},
   "outputs": [],
   "source": [
    "def force_to_acceleration( force , mass):\n",
    "    \"\"\"This function will take in a value for force and mass, and divide force by mass in order\n",
    "    to calculate acceleration.\n",
    "    INPUT: Force[N] , Mass[kg]\n",
    "    OUTPUT: Acceleration[m/s^2]\"\"\"\n",
    "    \n",
    "    a = force / mass\n",
    "    \n",
    "    return a\n",
    "    "
   ]
  },
  {
   "cell_type": "code",
   "execution_count": 10,
   "metadata": {},
   "outputs": [
    {
     "name": "stdout",
     "output_type": "stream",
     "text": [
      "Problem 2:\n",
      " Force is equal to 0.6666666666666666\n",
      " Force is equal to 0.14666666666666667\n",
      " Force is equal to 3.0\n"
     ]
    }
   ],
   "source": [
    "# mass will be denoted as m and the forces as F_n , where n is a number\n",
    "\n",
    "m = 150\n",
    "\n",
    "F_1 = 100\n",
    "\n",
    "F_2 = 22\n",
    "\n",
    "F_3 = 450\n",
    "\n",
    "print('Problem 2:')\n",
    "\n",
    "print(f\" Force is equal to {force_to_acceleration( 100 , 150)}\")\n",
    "\n",
    "print(f\" Force is equal to {force_to_acceleration( 22 , 150)}\")\n",
    "\n",
    "print(f\" Force is equal to {force_to_acceleration( 450 , 150)}\")\n"
   ]
  },
  {
   "cell_type": "code",
   "execution_count": null,
   "metadata": {},
   "outputs": [],
   "source": []
  }
 ],
 "metadata": {
  "kernelspec": {
   "display_name": "Python 3",
   "language": "python",
   "name": "python3"
  },
  "language_info": {
   "codemirror_mode": {
    "name": "ipython",
    "version": 3
   },
   "file_extension": ".py",
   "mimetype": "text/x-python",
   "name": "python",
   "nbconvert_exporter": "python",
   "pygments_lexer": "ipython3",
   "version": "3.8.3"
  }
 },
 "nbformat": 4,
 "nbformat_minor": 4
}
