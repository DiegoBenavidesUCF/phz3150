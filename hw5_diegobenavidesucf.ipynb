{
 "cells": [
  {
   "cell_type": "code",
   "execution_count": 1,
   "metadata": {},
   "outputs": [],
   "source": [
    "#Diego Benavides\n",
    "\n",
    "#Homework 5\n",
    "\n",
    "#Feb 8 2022"
   ]
  },
  {
   "cell_type": "code",
   "execution_count": 2,
   "metadata": {},
   "outputs": [],
   "source": [
    "import numpy as np"
   ]
  },
  {
   "cell_type": "markdown",
   "metadata": {},
   "source": [
    "Problem 2:"
   ]
  },
  {
   "cell_type": "markdown",
   "metadata": {},
   "source": [
    "Recall the quadratic formula � = !\"±√\"!!%&'\n",
    "(& , which solves for\n",
    "the roots of ��( + �� + � = 0. Write a function that calculates and returns a list\n",
    "containing both of the roots, given the three coefficients. Be sure to include a docstring!\n",
    "What does it need to include? Calculate the roots of �( − � − 12 = 0, returning them\n",
    "directly into two variables. Print them."
   ]
  },
  {
   "cell_type": "code",
   "execution_count": 3,
   "metadata": {},
   "outputs": [],
   "source": [
    "def my_solve_for_roots( a , b , c ):\n",
    "    \"\"\"This function will calculate the roots of a quadratic equation, which are second order polynomials, given the three\n",
    "    coefficients of the equation.\n",
    "    INPUT: Coefficients of ax^2 + bx + c = 0 ( a , b , c )\n",
    "    OUTPUT: a list of the roots\"\"\"\n",
    "    \n",
    "    # first I will calculate the discriminant to simplify the rest of the calculation of the calculation\n",
    "    #Hopefully making it more readable.\n",
    "    \n",
    "    discriminant = (np.power( b , 2) - ( 4 * a * c ))\n",
    "    \n",
    "    #plugging in discriminant to the rest of the quadratic formula\n",
    "    \n",
    "    solution_set1 = (( -1 * b ) + np.sqrt(discriminant)) / ( 2 * a )\n",
    "    \n",
    "    solution_set2 = (( -1 * b ) - np.sqrt(discriminant)) / ( 2 * a )\n",
    "    \n",
    "    solution = [ solution_set1 , solution_set2]\n",
    "    \n",
    "    return solution\n",
    "    \n",
    "    "
   ]
  },
  {
   "cell_type": "code",
   "execution_count": 4,
   "metadata": {},
   "outputs": [
    {
     "name": "stdout",
     "output_type": "stream",
     "text": [
      "Problem 2:\n",
      "[4.0, -3.0]\n"
     ]
    }
   ],
   "source": [
    "#Now I am assigning the coefficients of x^2 - x - 12 = 0 to variables so I can input the coefficients into my function\n",
    "\n",
    "a_1 = 1\n",
    "\n",
    "b_1 = -1 \n",
    "\n",
    "c_1 = -12\n",
    "\n",
    "answer_roots = my_solve_for_roots( a_1 , b_1 , c_1 )\n",
    "\n",
    "print( 'Problem 2:' )\n",
    "\n",
    "print( answer_roots )"
   ]
  },
  {
   "cell_type": "code",
   "execution_count": 5,
   "metadata": {},
   "outputs": [],
   "source": [
    "#I double checked that these values are correct by doing the algebra by hand."
   ]
  },
  {
   "cell_type": "markdown",
   "metadata": {},
   "source": [
    "Problem 3:"
   ]
  },
  {
   "cell_type": "markdown",
   "metadata": {},
   "source": [
    ". Create a list student_h that contains the heights of students\n",
    "in feet and inches. A person being 5' 6\" would be noted as 5.06, a person being 5' 10\"\n",
    "would be noted as 5.10. Populate it with the following values: 5.01, 4.10, 6.02, 5.07,\n",
    "6.11. Create a function ft_to_m_cm that takes as input a value from student_h and\n",
    "returns each height in a list [m, cm] (round cm up). Call the function for all values of\n",
    "student_h and print the results with an informative sentence (e.g., Student 1 has a\n",
    "height of 1 m 10 cm ) (Remember that 1 ft ~= 0.3048 m and 1 inch ~= 0.0254 m and\n",
    "1m has 100cm). "
   ]
  },
  {
   "cell_type": "code",
   "execution_count": 35,
   "metadata": {},
   "outputs": [],
   "source": [
    "# first creating a list for the student heights.\n",
    "\n",
    "student_h = [ 5.01 , 4.10 , 6.02 , 5.07 , 6.11 ]\n",
    "\n",
    "def ft_to_m_cm( height_values ):\n",
    "    \"\"\"This funtion will convert the heights of students from the left side of the decimal being feet to meters and the \n",
    "    right side of the decimal being inches to cm.\n",
    "    INPUT: List of height values [feet and inches]\n",
    "    OUTPUT: Heights in meters [ m , cm ]\"\"\"\n",
    "    "
   ]
  },
  {
   "cell_type": "markdown",
   "metadata": {},
   "source": [
    "Problem 3:"
   ]
  },
  {
   "cell_type": "markdown",
   "metadata": {},
   "source": [
    "Create a function displacement(u_init, t ,a) that\n",
    "calculates the total displacement of a body during a time interval t, when the body has\n",
    "initial speed u_init and a constant acceleration a. Save it in a separate .py file, not\n",
    "your main homework file. Remember to start the function with a proper docstring. Also,\n",
    "remember that the displacement of a body that moves with a constant acceleration is\n",
    "given by s=u_init*t+0.5*a*t2, where t is the total time the object moves, a the\n",
    "constant acceleration and u_init the initial speed of the body. In your main homework\n",
    "file import the function and calculate the total displacement for u_init=0, a=[10,\n",
    "20, 30] and t=[2,4,14]. Again, calculate these numbers some other way to check\n",
    "that they are correct, and write on your log how you checked it. "
   ]
  },
  {
   "cell_type": "code",
   "execution_count": 11,
   "metadata": {},
   "outputs": [],
   "source": [
    "from my_saved_functions import displacement"
   ]
  },
  {
   "cell_type": "code",
   "execution_count": 12,
   "metadata": {},
   "outputs": [
    {
     "name": "stdout",
     "output_type": "stream",
     "text": [
      "Help on function displacement in module my_saved_functions:\n",
      "\n",
      "displacement(u_init, t, a)\n",
      "    This function calculates the total displacement of a body that during a time interval of t, a constant\n",
      "    acceleration, and an initial velocity of zero.\n",
      "    INPUT: Initial velocity of 0[m/s] , constan accelerations [m/s^2] , time intervals [s]\n",
      "    OUTPUT: displacement [m]\n",
      "\n"
     ]
    }
   ],
   "source": [
    "#demonstrating that I have a proper docstring\n",
    "\n",
    "help(displacement)"
   ]
  },
  {
   "cell_type": "code",
   "execution_count": 15,
   "metadata": {},
   "outputs": [
    {
     "name": "stdout",
     "output_type": "stream",
     "text": [
      "Problem 4:\n",
      "The displacement for an initial velocity of 0 m/s, time interval of 2s, and acceleration of 10 the displacement is 20.0 m \n",
      "\n",
      "The displacement for an initial velocity of 0 m/s, time interval of 4s, and acceleration of 20 the displacement is 160.0 m \n",
      "\n",
      "The displacement for an initial velocity of 0 m/s, time interval of 14s, and acceleration of 30 the displacement is 2940.0 m \n",
      "\n"
     ]
    }
   ],
   "source": [
    "#velocity\n",
    "\n",
    "v_0 = 0\n",
    "\n",
    "#time intervals\n",
    "\n",
    "t_1= 2\n",
    "\n",
    "t_2 = 4\n",
    "\n",
    "t_3 = 14\n",
    "\n",
    "#Constant accelerations\n",
    "\n",
    "a_1 = 10\n",
    "\n",
    "a_2 = 20\n",
    "\n",
    "a_3 = 30\n",
    "\n",
    "\n",
    "\n",
    "print('Problem 4:')\n",
    "\n",
    "print(f'The displacement for an initial velocity of 0 m/s, time interval of 2s, and acceleration of 10 the displacement is {displacement( v_0 , t_1 , a_1 )} m \\n')\n",
    "\n",
    "print(f'The displacement for an initial velocity of 0 m/s, time interval of 4s, and acceleration of 20 the displacement is {displacement( v_0 , t_2 , a_2 )} m \\n')\n",
    "\n",
    "print(f'The displacement for an initial velocity of 0 m/s, time interval of 14s, and acceleration of 30 the displacement is {displacement( v_0 , t_3 , a_3 )} m \\n')"
   ]
  },
  {
   "cell_type": "code",
   "execution_count": null,
   "metadata": {},
   "outputs": [],
   "source": [
    "#The math on this segment of code was double checked on a calculator."
   ]
  }
 ],
 "metadata": {
  "kernelspec": {
   "display_name": "Python 3",
   "language": "python",
   "name": "python3"
  },
  "language_info": {
   "codemirror_mode": {
    "name": "ipython",
    "version": 3
   },
   "file_extension": ".py",
   "mimetype": "text/x-python",
   "name": "python",
   "nbconvert_exporter": "python",
   "pygments_lexer": "ipython3",
   "version": "3.8.3"
  }
 },
 "nbformat": 4,
 "nbformat_minor": 4
}
