{
 "cells": [
  {
   "cell_type": "code",
   "execution_count": 1,
   "metadata": {},
   "outputs": [],
   "source": [
    "# Diego Benavides\n",
    "\n",
    "# Homework 7\n",
    "\n",
    "# Feb 20 EST 2022"
   ]
  },
  {
   "cell_type": "code",
   "execution_count": 2,
   "metadata": {},
   "outputs": [],
   "source": [
    "import numpy as np\n",
    "import matplotlib.pyplot as plt"
   ]
  },
  {
   "cell_type": "markdown",
   "metadata": {},
   "source": [
    "PROBLEM 5:"
   ]
  },
  {
   "cell_type": "markdown",
   "metadata": {},
   "source": [
    "Bonus problem 5 (10 points). Code a program that will print the following 1-0 pyramid. "
   ]
  },
  {
   "cell_type": "code",
   "execution_count": 3,
   "metadata": {},
   "outputs": [
    {
     "name": "stdout",
     "output_type": "stream",
     "text": [
      "Problem 5:\n",
      "\n",
      "1\n",
      "10\n",
      "101\n",
      "1010\n",
      "10101\n",
      "101010\n",
      "10101\n",
      "1010\n",
      "101\n",
      "10\n",
      "1\n"
     ]
    }
   ],
   "source": [
    "print('Problem 5:\\n')\n",
    "\n",
    "pyramid = [1 , 10 , 101 , 1010 , 10101 , 101010 , 10101 , 1010 , 101, 10 , 1]\n",
    "\n",
    "for i in pyramid:\n",
    "    print(i)"
   ]
  },
  {
   "cell_type": "markdown",
   "metadata": {},
   "source": [
    "PROBLEM 2:"
   ]
  },
  {
   "cell_type": "markdown",
   "metadata": {},
   "source": [
    "Problem 2 (15 points). For loops automatically iterate over a parameter i (unlike while\n",
    "loops). They start from i=0 (or whichever value you ask), do what you want them to do\n",
    "and then automatically do i = i+1 (i+=1). Writing an extra i = i+1 can create\n",
    "accidental bugs in for loops, and missing a i = i+1 can make your while loops run\n",
    "an infinite time.\n",
    "Code a program that scans the sentence: “Deleting an item from a list or array while\n",
    "iterating over it is a Python problem that is well known to any experienced software\n",
    "developer” and prints out the words it’s made of.\n",
    "Then, use a for loop to loop over the full sentence, and print - at the end - only the\n",
    "longest word of the sentence.\n",
    "Do the same program, but now looping over the sentence with a while loop.\n",
    "Create a program that scans only the first 6 words (so “\"Deleting an item from a list”)\n",
    "and prints only the UNIQUE letters in this sentence. "
   ]
  },
  {
   "cell_type": "code",
   "execution_count": 4,
   "metadata": {},
   "outputs": [
    {
     "name": "stdout",
     "output_type": "stream",
     "text": [
      "Problem 2 part 1:\n",
      "\n",
      "Deleting\n",
      "an\n",
      "item\n",
      "from\n",
      "a\n",
      "list\n",
      "or\n",
      "array\n",
      "while\n",
      "iterating\n",
      "over\n",
      "it\n",
      "is\n",
      "a\n",
      "Python\n",
      "problem\n",
      "that\n",
      "is\n",
      "well\n",
      "known\n",
      "to\n",
      "any\n",
      "experienced\n",
      "software\n",
      "developer\n",
      "\n",
      "\n",
      "Problem 2 part 2:\n",
      "\n",
      "experienced \n",
      "\n",
      "Problem 2 part 3:\n",
      "\n",
      "{'n', 'g', 't', 'D', 'e', 'l', 'i'}\n",
      "{'n', 'a'}\n",
      "{'e', 'i', 't', 'm'}\n",
      "{'m', 'r', 'f', 'o'}\n",
      "{'a'}\n",
      "{'i', 's', 'l', 't'}\n"
     ]
    }
   ],
   "source": [
    "print('Problem 2 part 1:\\n')\n",
    "\n",
    "# first part of problem 2:\n",
    "\n",
    "str_1 = \" Deleting an item from a list or array while iterating over it is a Python problem that is well known to any experienced software developer\"\n",
    "\n",
    "lst_1 = str_1.split()\n",
    "\n",
    "for word in lst_1:\n",
    "    print(word)\n",
    "\n",
    "# second part of problem 2:\n",
    "\n",
    "# with for loop \n",
    "\n",
    "print('\\n')\n",
    "print('Problem 2 part 2:\\n')\n",
    "\n",
    "guess_max = lst_1[0]\n",
    "\n",
    "for i in range( 1 , len(lst_1)):\n",
    "    if (len(lst_1[i]) > len(guess_max)):\n",
    "        guess_max = lst_1[i]\n",
    "print(guess_max, '\\n')\n",
    "\n",
    "# with while loop\n",
    "\n",
    "#guess_max2 = lst_1[0]\n",
    "\n",
    "#while lst_1[i] != lst_1[i+1]:\n",
    "    \n",
    "    #if ( len(guess_max2) < len(lst_1[i]) ):\n",
    "        \n",
    "      #  guess_max2 = lst_1[i]\n",
    "        \n",
    "       # i = i + 1\n",
    "        \n",
    "   # print(guess_max2, '\\n')\n",
    "\n",
    "# Third part of problem 2:\n",
    "\n",
    "print('Problem 2 part 3:\\n')\n",
    "\n",
    "\n",
    "for i in lst_1[:6]: # iterates through the first six words only\n",
    "    \n",
    "    print(set(i)) # prints out the unique characters but randomly because it turns the letters into a set.\n"
   ]
  },
  {
   "cell_type": "markdown",
   "metadata": {},
   "source": [
    "PROBLEM 3:"
   ]
  },
  {
   "cell_type": "markdown",
   "metadata": {},
   "source": [
    "Problem 3 (15 points). Open a text file and name it hw7_support_funct.py . Do\n",
    "not write the function on the Jupyter notebook you may be using, as it will store the\n",
    "function in its memory and you may think that you imported from the .py file when you\n",
    "didn’t. If you chose to test the code on the Jupyter notebook, use a different name for\n",
    "your function in the two locations so that you can separate the two.\n",
    "In the hw7_support_funct.py create a function circle(x,x0,y0,r) that takes as\n",
    "input an array x, the coordinates of the center of the circle (x0,y0) and a radius r and\n",
    "return all y coordinates of the circle with radius r. Remember that a circle follows the:\n",
    "(x-x0)2+(y-y0)2 = r2. Write an appropriate informative docstring. Go in your main\n",
    "homework file and import the function circle. Call it for (x0,y0)= (2,2), x = -\n",
    "8.+0.1*np.arange(220) and r =10, and use the y coordinates to plot the circle (if\n",
    "you get only half a circle, why is that? Explain and fix your function to return both\n",
    "values)."
   ]
  },
  {
   "cell_type": "code",
   "execution_count": 5,
   "metadata": {},
   "outputs": [],
   "source": [
    "from hw7_support_funct import circle\n",
    "\n",
    "#print(help(circle))"
   ]
  },
  {
   "cell_type": "code",
   "execution_count": 6,
   "metadata": {},
   "outputs": [],
   "source": [
    "x_arr = -8.0 + 0.1*np.arange(220)\n",
    "\n",
    "#print(x_arr)\n",
    "\n",
    "x_0 , y_0 = (2,2)\n",
    "\n",
    "rad = 10\n",
    "\n",
    "#print(circle( x_arr , x_0 , y_0 , rad ))\n",
    "\n"
   ]
  },
  {
   "cell_type": "markdown",
   "metadata": {},
   "source": [
    "PROBLEM 4:"
   ]
  },
  {
   "cell_type": "markdown",
   "metadata": {},
   "source": [
    "Problem 4 (15 points). In the hw7_support_funct.py create a function\n",
    "order_array(input_array) that takes as input an array of numbers and orders\n",
    "them from smaller to larger (don’t use any predefined function -numpy or otherwisethough!). Write an appropriate and informative docstring. Save it in your\n",
    "hw7_support_funct.py. Import the function in the main homework folder and call it\n",
    "for the array: np.array([4,5,2,10,42,22,8,12]). Now use the appropriate\n",
    "numpy function to test your results."
   ]
  },
  {
   "cell_type": "code",
   "execution_count": 16,
   "metadata": {},
   "outputs": [],
   "source": [
    "from hw7_support_funct import order_array\n",
    "\n",
    "#print(help(order_array))"
   ]
  },
  {
   "cell_type": "code",
   "execution_count": 17,
   "metadata": {},
   "outputs": [
    {
     "name": "stdout",
     "output_type": "stream",
     "text": [
      "Problem 4:\n",
      "\n",
      "[ 2  4  5  8 10 12 22 42]\n"
     ]
    }
   ],
   "source": [
    "print('Problem 4:\\n')\n",
    "\n",
    "test_array = np.array([ 4 , 5 , 2 , 10 , 42 , 22 , 8 , 12 ])\n",
    "\n",
    "print(order_array(test_array))"
   ]
  },
  {
   "cell_type": "code",
   "execution_count": null,
   "metadata": {},
   "outputs": [],
   "source": []
  }
 ],
 "metadata": {
  "kernelspec": {
   "display_name": "Python 3",
   "language": "python",
   "name": "python3"
  },
  "language_info": {
   "codemirror_mode": {
    "name": "ipython",
    "version": 3
   },
   "file_extension": ".py",
   "mimetype": "text/x-python",
   "name": "python",
   "nbconvert_exporter": "python",
   "pygments_lexer": "ipython3",
   "version": "3.8.3"
  }
 },
 "nbformat": 4,
 "nbformat_minor": 4
}
