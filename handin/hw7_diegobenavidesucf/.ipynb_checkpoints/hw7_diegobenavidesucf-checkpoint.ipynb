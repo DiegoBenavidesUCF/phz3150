{
 "cells": [
  {
   "cell_type": "code",
   "execution_count": 1,
   "metadata": {},
   "outputs": [],
   "source": [
    "# Diego Benavides\n",
    "\n",
    "# Homework 7\n",
    "\n",
    "# Feb 20 EST 2022"
   ]
  },
  {
   "cell_type": "code",
   "execution_count": 2,
   "metadata": {},
   "outputs": [],
   "source": [
    "import numpy as np\n",
    "import matplotlib.pyplot as plt"
   ]
  },
  {
   "cell_type": "markdown",
   "metadata": {},
   "source": [
    "PROBLEM 5:"
   ]
  },
  {
   "cell_type": "code",
   "execution_count": 3,
   "metadata": {},
   "outputs": [
    {
     "name": "stdout",
     "output_type": "stream",
     "text": [
      "Problem 5:\n",
      "\n",
      "1\n",
      "10\n",
      "101\n",
      "1010\n",
      "10101\n",
      "101010\n",
      "10101\n",
      "1010\n",
      "101\n",
      "10\n",
      "1\n"
     ]
    }
   ],
   "source": [
    "print('Problem 5:\\n')\n",
    "\n",
    "pyramid = [1 , 10 , 101 , 1010 , 10101 , 101010 , 10101 , 1010 , 101, 10 , 1]\n",
    "\n",
    "for i in pyramid:\n",
    "    print(i)"
   ]
  },
  {
   "cell_type": "markdown",
   "metadata": {},
   "source": [
    "PROBLEM 2:"
   ]
  },
  {
   "cell_type": "code",
   "execution_count": 9,
   "metadata": {},
   "outputs": [
    {
     "name": "stdout",
     "output_type": "stream",
     "text": [
      "Problem 2 part 1:\n",
      "\n",
      "Deleting\n",
      "an\n",
      "item\n",
      "from\n",
      "a\n",
      "list\n",
      "or\n",
      "array\n",
      "while\n",
      "iterating\n",
      "over\n",
      "it\n",
      "is\n",
      "a\n",
      "Python\n",
      "problem\n",
      "that\n",
      "is\n",
      "well\n",
      "known\n",
      "to\n",
      "any\n",
      "experienced\n",
      "software\n",
      "developer\n",
      "\n",
      "\n",
      "Problem 2 part 2:\n",
      "\n",
      "experienced \n",
      "\n",
      "Problem 2 part 3:\n",
      "\n",
      "{'n', 'g', 'l', 'i', 'e', 'D', 't'}\n",
      "{'a', 'n'}\n",
      "{'i', 't', 'e', 'm'}\n",
      "{'r', 'm', 'o', 'f'}\n",
      "{'a'}\n",
      "{'l', 'i', 't', 's'}\n"
     ]
    }
   ],
   "source": [
    "print('Problem 2 part 1:\\n')\n",
    "\n",
    "# first part of problem 2:\n",
    "\n",
    "str_1 = \" Deleting an item from a list or array while iterating over it is a Python problem that is well known to any experienced software developer\"\n",
    "\n",
    "lst_1 = str_1.split()\n",
    "\n",
    "for word in lst_1:\n",
    "    print(word)\n",
    "\n",
    "# second part of problem 2:\n",
    "\n",
    "# with for loop \n",
    "\n",
    "print('\\n')\n",
    "print('Problem 2 part 2:\\n')\n",
    "\n",
    "guess_max = lst_1[0]\n",
    "\n",
    "for i in range( 1 , len(lst_1)):\n",
    "    if (len(lst_1[i]) > len(guess_max)):\n",
    "        guess_max = lst_1[i]\n",
    "print(guess_max, '\\n')\n",
    "\n",
    "# with while loop\n",
    "\n",
    "#guess_max2 = lst_1[0]\n",
    "\n",
    "#while lst_1[i] != lst_1[i+1]:\n",
    "    \n",
    "    #if ( len(guess_max2) < len(lst_1[i]) ):\n",
    "        \n",
    "      #  guess_max2 = lst_1[i]\n",
    "        \n",
    "       # i = i + 1\n",
    "        \n",
    "   # print(guess_max2, '\\n')\n",
    "\n",
    "# Third part of problem 2:\n",
    "\n",
    "print('Problem 2 part 3:\\n')\n",
    "\n",
    "\n",
    "for i in lst_1[:6]: # iterates through the first six words only\n",
    "    \n",
    "    print(set(i)) # prints out the unique characters but randomly because it turns the letters into a set.\n"
   ]
  },
  {
   "cell_type": "code",
   "execution_count": null,
   "metadata": {},
   "outputs": [],
   "source": []
  },
  {
   "cell_type": "code",
   "execution_count": null,
   "metadata": {},
   "outputs": [],
   "source": []
  }
 ],
 "metadata": {
  "kernelspec": {
   "display_name": "Python 3",
   "language": "python",
   "name": "python3"
  },
  "language_info": {
   "codemirror_mode": {
    "name": "ipython",
    "version": 3
   },
   "file_extension": ".py",
   "mimetype": "text/x-python",
   "name": "python",
   "nbconvert_exporter": "python",
   "pygments_lexer": "ipython3",
   "version": "3.8.3"
  }
 },
 "nbformat": 4,
 "nbformat_minor": 4
}
