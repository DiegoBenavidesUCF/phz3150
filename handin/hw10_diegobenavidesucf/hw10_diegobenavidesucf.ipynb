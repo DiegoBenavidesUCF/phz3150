{
 "cells": [
  {
   "cell_type": "code",
   "execution_count": 6,
   "metadata": {},
   "outputs": [],
   "source": [
    "# Diego Benavides\n",
    "# Mar 28 2022\n",
    "#HW10"
   ]
  },
  {
   "cell_type": "code",
   "execution_count": 7,
   "metadata": {},
   "outputs": [],
   "source": [
    "import numpy as np\n",
    "import matplotlib.pyplot as plt"
   ]
  },
  {
   "cell_type": "markdown",
   "metadata": {},
   "source": [
    "Problem 2:"
   ]
  },
  {
   "cell_type": "markdown",
   "metadata": {},
   "source": [
    ". Let’s practice some debugging. Go to this link:\n",
    "https://colab.research.google.com/drive/1lGjSv4inSuYzoo9lewXvy0KH7XLvris5?usp=sh\n",
    "aring and copy the code you see in your hw10 juputer notebook. The code has bugs!\n",
    "Use what we learned in class to debug it, check that the data are OK and plot them out.\n",
    "Write comments in the notebook about all the bugs you identify and how you fixed them.\n",
    "If at the end there are bugs you cannot fix, write a comment about what you tried and\n",
    "how it didn’t work."
   ]
  },
  {
   "cell_type": "code",
   "execution_count": 9,
   "metadata": {},
   "outputs": [
    {
     "name": "stdout",
     "output_type": "stream",
     "text": [
      "Problem 2:\n",
      "\n",
      "(4, 6)\n",
      "(4, 6)\n"
     ]
    }
   ],
   "source": [
    "print('Problem 2:\\n')\n",
    "\n",
    "\n",
    "my_data = np.array( ( [12, 34, -3, 27, 28, -17 ], \n",
    "                    [ 6, 52, 37, -22, -67, 12 ], \n",
    "                    [29, -124, 8, -45, -44, 50 ], \n",
    "                    [ 3, 18, -69, 32, 48, 284 ] ) )\n",
    "\n",
    "my_control_data = np.array( ( [12, 442, -12, 22, 21, 17 ], \n",
    "                    [ 0, -32, 32, -22, -61, -2 ], \n",
    "                    [22, -14, 8, 35, -41, 45 ], \n",
    "                    [ 33, 21, -62, 132, 47, 34 ] ) )\n",
    "\n",
    "\n",
    "# making sure the shapes are the same:\n",
    "\n",
    "print(np.shape(my_data))\n",
    "print(np.shape(my_control_data))"
   ]
  },
  {
   "cell_type": "code",
   "execution_count": 10,
   "metadata": {},
   "outputs": [
    {
     "name": "stdout",
     "output_type": "stream",
     "text": [
      "Problem 2:\n",
      "\n",
      "[[1. 1. 1. 2. 3. 1.]\n",
      " [3. 1. 2. 1. 1. 1.]\n",
      " [3. 4. 1. 1. 1. 1.]\n",
      " [1. 1. 1. 1. 1. 3.]]\n"
     ]
    },
    {
     "name": "stderr",
     "output_type": "stream",
     "text": [
      "<ipython-input-10-85e10fea73f5>:30: RuntimeWarning: divide by zero encountered in long_scalars\n",
      "  rel_dif = ((my_data[ l1, l2 ] - my_control_data[ l1, l2 ])/ my_control_data[ l1, l2 ])\n"
     ]
    }
   ],
   "source": [
    "print('Problem 2:\\n')\n",
    "\n",
    "\n",
    "# The data should be consistent with each other. Check that values of a given measurement \n",
    "# (a given i,j combination) are within fifteen percent (relatively) of each other. These are good data!\n",
    "# If they are within 25% they may be noisy measurements. \n",
    "# If they flip sign they are useless data. \n",
    "# Make a mask data_control that contains info about the quality of the data: \n",
    "# 1: good, 2: within 15%-25%, 3: 25%+, 4: bad data (>0 in one measurement, <0 in the other)\n",
    "\n",
    "\n",
    "#make mask data control array equal to 3:\n",
    "\n",
    "#changing the my_data here to my_control_data\n",
    "#Adding parenthesis in order to make sure the elements of the array are zeroed out before getting turned to three.\n",
    "\n",
    "data_control = (0. * my_control_data) + 3\n",
    "\n",
    "\n",
    "#loop over arrays and check values:\n",
    "\n",
    "#there are 4 rows and 6 columns, so I swiched the range of the for loops.\n",
    "\n",
    "for l1 in range( 4):\n",
    "    for l2 in range( 6 ):\n",
    "        \n",
    "      #calculate the relative error\n",
    "    \n",
    "    # i and j should be l1 and l2\n",
    "        rel_dif = ((my_data[ l1, l2 ] - my_control_data[ l1, l2 ])/ my_control_data[ l1, l2 ])\n",
    "        \n",
    "      #check it in comparison to the known limits and flag the mask accordingly\n",
    "    \n",
    "    #good data ,1, should be be under 0.15, within .15 and .25 its 2 , above and below zero is bad data 4. \n",
    "    \n",
    "    #Here I changed all of the 'and's into '&' symbols\n",
    "    \n",
    "    #turned the less than or equal to to a less than.\n",
    "        if (rel_dif < 0.15):\n",
    "            data_control[ l1, l2] = 1\n",
    "            \n",
    "        # turned both boolean statements to less than or equal to and greater than or equal to.\n",
    "        elif (rel_dif >= 0.15) & (rel_dif <= 0.25 ):\n",
    "            data_control[ l1 , l2 ] = 2\n",
    "            \n",
    "        #Here I am putting the elif statement in one line because I found the indentation weird.\n",
    "        \n",
    "        elif ((my_data[ l1, l2 ] > 0) & (my_control_data[ l1, l2 ] < 0) ) or ((my_data[ l1, l2 ] < 0) & (my_control_data[ l1, l2 ] < 0)):\n",
    "            data_control[ l1, l2 ] = 4 \n",
    "        \n",
    "        \n",
    "print(data_control)"
   ]
  },
  {
   "cell_type": "code",
   "execution_count": 11,
   "metadata": {},
   "outputs": [
    {
     "name": "stdout",
     "output_type": "stream",
     "text": [
      "Problem 2:\n",
      "\n"
     ]
    },
    {
     "data": {
      "image/png": "[encoded data removed]",
      "text/plain": [
       "<Figure size 576x576 with 1 Axes>"
      ]
     },
     "metadata": {
      "needs_background": "light"
     },
     "output_type": "display_data"
    }
   ],
   "source": [
    "print('Problem 2:\\n')\n",
    "\n",
    "#visualize your results:\n",
    "#plot the datasets using a different color for the different flags: 1= red, 2 = blue, 3 = gray, 4 = orange\n",
    "# also use different symbols: 1 = circles, 2 = squares, 3 = diamonds, 4 = stars\n",
    "\n",
    "#get edges of plot:\n",
    "min_xy = np.min( [np.min( my_data ), np.min( my_control_data ) ] )\n",
    "max_xy = np.max( [np.max( my_data ), np.max( my_control_data ) ] )\n",
    "\n",
    "#set up the plot\n",
    "plt.figure( figsize= (8,8) )\n",
    "\n",
    "plt.plot( np.arange( 24 ), np.linspace( min_xy, max_xy, num = 24  )  , linestyle = 'none')\n",
    "\n",
    "n=0\n",
    "\n",
    "#plot all i,j combinations:\n",
    "for i in range( 4 ):\n",
    "    for j in range( 6 ):\n",
    "        \n",
    "        if data_control[ i, j ] == 1:\n",
    "            plt.plot( n, my_data[ i,j ], color = 'red', marker = 'o' )\n",
    "            plt.plot( n, my_control_data[ i,j ], color = 'red', marker = 'o' )\n",
    "            \n",
    "        # made the boolean statement proper with ==2 instead of =2:\n",
    "        if data_control[ i, j ] == 2:\n",
    "            plt.plot( n, my_data[ i,j ], color = 'blue', marker = 's' )\n",
    "            plt.plot( n, my_control_data[ i,j ], color = 'blue', marker = 's' )\n",
    "            \n",
    "        if data_control[ i, j ] == 3:\n",
    "            plt.plot( n, my_data[ i,j ], color = 'gray', marker = 'd' )\n",
    "            plt.plot( n, my_control_data[ i,j ], color = 'gray', marker = 'd' )\n",
    "            \n",
    "        if data_control[ i, j ] == 4:\n",
    "            plt.plot( n, my_data[ i,j ], color = 'orange', marker = '*' )\n",
    "            plt.plot( n, my_control_data[ i,j ] )\n",
    "            \n",
    "        #fixed the indentation of the n=n+1 \n",
    "        n+=1\n",
    "\n",
    "    "
   ]
  },
  {
   "cell_type": "markdown",
   "metadata": {},
   "source": [
    "Problem 3:"
   ]
  },
  {
   "cell_type": "markdown",
   "metadata": {},
   "source": [
    "We want to build an electric circuit with N resistors. What will the\n",
    "properties of our circuit be if we connect them in series or in parallel? Make a function\n",
    "my_circuit that takes as input 1) a string with information on whether your circuit is in\n",
    "series or parallel configuration, 2) the number of resistors, 3) a numpy array with their\n",
    "individual resistances and 4) the voltage (V) or amperage ( I ) of the circuit (depending\n",
    "on if it is parallel or series). The function should return information about the total\n",
    "resistance of the system and the total voltage (for series circuit) or amperage (for a\n",
    "parallel circuit). Remember that for a series circuit the total resistance is Rtot = Σi ( Ri )\n",
    "and for a parallel circuit 1/Rtot = Σi (1/Ri ). For a circuit in series I = const; and in parallel\n",
    "V= const. Also, from Ohm's law: R = V/ I .\n",
    "Call your function for a series circuit with 3 resistors with resistances of 5.0, 2.0\n",
    "and 7.0 Ω and a current I = 10 A; and a parallel circuit with 3 resistors with resistances\n",
    "of 12.0, 5.0 and 20.0 Ω and a voltage of 15V."
   ]
  },
  {
   "cell_type": "code",
   "execution_count": 25,
   "metadata": {},
   "outputs": [
    {
     "name": "stdout",
     "output_type": "stream",
     "text": [
      "Problem 3:\n",
      "\n",
      "The total Resistance of the SERIES circuit is 14 Ω. The total Voltage is 140 V.\n",
      "\n",
      "\n",
      "The total Resistance of the PARALLEL circuit is 3.0 Ω. The total Amperage is 5.0 A.\n"
     ]
    }
   ],
   "source": [
    "print('Problem 3:\\n')\n",
    "\n",
    "\n",
    "def my_circuit( parallel_or_series , num_of_resistors , r_array , V_or_I):\n",
    "    \"\"\"This function takes in a string that will state whether the circuit's resistors are in \n",
    "    parallel or series, the number of resistors, a numpy array of the values of the resistors, and the \n",
    "    voltage or current depending on the circuit.The function returns the total resistance and the total voltage for a series\n",
    "    circuit and amperage for a parallel circuit.\n",
    "    INPUT: parallel or series as a string, number of resistors, array of values of resistors, voltage or amperage.\n",
    "    OUTPUT: Total resistance and voltage or amperage.\"\"\"\n",
    "    \n",
    "    import numpy as np\n",
    "    \n",
    "    if ( parallel_or_series == 'parallel' ):\n",
    "        \n",
    "        R_total = 1/(np.sum(1/r_array))\n",
    "        \n",
    "        I = V_or_I/R_total\n",
    "        \n",
    "        return f'The total Resistance of the PARALLEL circuit is {R_total} \\u03A9. The total Amperage is {I} A.'\n",
    "        \n",
    "    elif ( parallel_or_series == 'series'):\n",
    "        \n",
    "        R_total = np.sum(r_array)\n",
    "        \n",
    "        V = V_or_I*R_total\n",
    "        \n",
    "        return f'The total Resistance of the SERIES circuit is {R_total} \\u03A9. The total Voltage is {V} V.'\n",
    "    \n",
    "    \n",
    "print(my_circuit( 'series' , 3 , np.array([ 5 , 2, 7 ]) , 10 ))\n",
    "\n",
    "print('\\n')\n",
    "\n",
    "print(my_circuit( 'parallel' , 3 , np.array([ 12 , 5 , 20 ]) , 15))\n",
    "   "
   ]
  },
  {
   "cell_type": "markdown",
   "metadata": {},
   "source": [
    "Problem 4:"
   ]
  },
  {
   "cell_type": "markdown",
   "metadata": {},
   "source": [
    "(15 points + 10 bonus points) In this exercise we will create a small\n",
    "simulation of our Solar system. Create a dictionary that has as keys the name of all\n",
    "eight planets of our Solar system and as values their average distance to the Sun in AU\n",
    "(see also: https://www.jpl.nasa.gov/edu/pdfs/scaless_reference.pdf) .\n",
    "a) (15 points) Create a function period(a) that calculates the rotational period of\n",
    "a planet when its average orbital distance a is known. The function should use\n",
    "Kepler’s 3rd law (see previous homework) and return the orbital period p of the\n",
    "planet. Call the function for all planets in your dictionary and print their orbital\n",
    "periods in days.\n",
    "Assume that all planets orbit in a circular orbit, with a radius equal to their\n",
    "average orbit at distance a. Use the parametric equations of the circle ( x =\n",
    "r*cosθ ,\ty = r*sinθ ) and calculate the orbits of all 8 planets (i.e., calculate all\n",
    "combinations of (xi,yi) in the orbit of each planet i). Remember your angle θ\n",
    "needs to be in radians for Python. Plot the orbits in a box with dimensions (-50,\n",
    "+50) both in x and y, and add the “Sun” at the center (0,0) of the Solar system.\n",
    "Your plot should look like this:\n",
    "Save the plot as a .png using the appropriate command in Python and the\n",
    "appropriate naming for the image.\n",
    "b) (Bonus 10 points) Now let’s get our planets moving! Can you create a little\n",
    "“movie” that plots Mercury, Venus, Earth, Mars and Jupiter orbiting around the\n",
    "Sun during a Jupiter year? Use a marker point to indicate the location of each\n",
    "planet at t=0. You can start by assuming that all planets are aligned at y = 0 (see\n",
    "Fig 1 below). Then try plotting the location of every planet at 30degrees\n",
    "increments, taking into account their orbital period to show the relative motions of\n",
    "one planet to the other. E.g, the Earth will do one circle in 1 year, but Jupiter\n",
    "needs 12 years, so you expect your “Earth” to do more circles before “Jupiter”\n",
    "completes 1 circle. Save the N necessary plots as .png, where N is the number\n",
    "of plots you need for “Mars” to complete a full rotation around the “Sun”."
   ]
  },
  {
   "cell_type": "code",
   "execution_count": 12,
   "metadata": {},
   "outputs": [
    {
     "name": "stdout",
     "output_type": "stream",
     "text": [
      "Problem 4a:\n",
      "\n",
      "The orbital period of Mercury is 88.89754650720121 days.\n",
      "The orbital period of Venus is 222.9931945149896 days.\n",
      "The orbital period of Earth is 365.0 days.\n",
      "The orbital period of Mars is 684.0033777694376 days.\n",
      "The orbital period of Jupiter is 4328.105913676328 days.\n",
      "The orbital period of Saturn is 10755.124114179249 days.\n",
      "The orbital period of Uranus is 30707.517463969627 days.\n",
      "The orbital period of Neptune is 60155.63684042086 days.\n"
     ]
    },
    {
     "data": {
      "image/png": "[encoded data removed]",
      "text/plain": [
       "<Figure size 576x576 with 1 Axes>"
      ]
     },
     "metadata": {
      "needs_background": "light"
     },
     "output_type": "display_data"
    }
   ],
   "source": [
    "print('Problem 4a:\\n')\n",
    "\n",
    "\n",
    "\n",
    "planetary_distances = { 'Mercury' : 0.39 , 'Venus' : 0.72 , 'Earth' : 1.0 , 'Mars' : 1.52 , 'Jupiter' : 5.2 , 'Saturn' : 9.54 , 'Uranus' : 19.2 , 'Neptune' : 30.06 }\n",
    "\n",
    "#print(planetary_distances)\n",
    "\n",
    "def period(a):\n",
    "    \"\"\"This function takes in values of a solar system planet's average orbital distance in AU from the sun and returns the\n",
    "    period of the planets orbit in earth days.\n",
    "    INPUT: Average orbital distance from sun [AU]\n",
    "    OUTPUT: Orbital Period [Earth days]\n",
    "    \"\"\"\n",
    "    import numpy as np\n",
    "    \n",
    "    #period in years:\n",
    "    p_y = np.power(a,(3/2))\n",
    "    \n",
    "    #years to days:\n",
    "    \n",
    "    p_d = p_y * 365\n",
    "    \n",
    "    return p_d\n",
    "\n",
    "\n",
    "\n",
    "#for loop prints out all of the orbital periods for the dictionary:\n",
    "\n",
    "for k , v in planetary_distances.items():\n",
    "    print(f\"The orbital period of {k} is {period(planetary_distances[k])} days.\")\n",
    "        \n",
    "\n",
    "#plotting:\n",
    "\n",
    "theta = np.linspace( 0 , (2*np.pi)) \n",
    "\n",
    "xy_0 = np.array([ 0.39 , 0.72 , 1.0 , 1.52 , 5.2 , 9.54 , 19.2 , 30.06 ]) \n",
    "\n",
    "x_mercury= xy_0[0] * np.cos(theta)\n",
    "\n",
    "y_mercury = xy_0[0] * np.sin(theta)\n",
    "\n",
    "\n",
    "x_venus= xy_0[1] * np.cos(theta)\n",
    "\n",
    "y_venus = xy_0[1] * np.sin(theta)\n",
    "\n",
    "\n",
    "x_earth = xy_0[2] * np.cos(theta)\n",
    "\n",
    "y_earth = xy_0[2] * np.sin(theta)\n",
    "\n",
    "\n",
    "x_mars= xy_0[3] * np.cos(theta)\n",
    "\n",
    "y_mars = xy_0[3] * np.sin(theta)\n",
    "\n",
    "\n",
    "x_jupiter = xy_0[4] * np.cos(theta)\n",
    "y_jupiter = xy_0[4] * np.sin(theta)\n",
    "\n",
    "\n",
    "x_saturn = xy_0[5] * np.cos(theta)\n",
    "y_saturn = xy_0[5] * np.sin(theta)\n",
    "\n",
    "\n",
    "x_uranus = xy_0[6] * np.cos(theta)\n",
    "y_uranus = xy_0[6] * np.sin(theta)\n",
    "\n",
    "\n",
    "x_neptune = xy_0[7] * np.cos(theta)\n",
    "y_neptune = xy_0[7] * np.sin(theta)\n",
    "\n",
    "\n",
    "\n",
    "\n",
    "fig, ax = plt.subplots(figsize = (8,8))\n",
    "\n",
    "plt.axis('equal')\n",
    "\n",
    "plt.xlim(xmax = 50)\n",
    "plt.xlim(xmin = -50)\n",
    "\n",
    "plt.ylim(ymax = 50)\n",
    "plt.ylim(ymin = -50)\n",
    "\n",
    "ax.set_xticks(np.arange(-50,51,10))\n",
    "ax.set_yticks(np.arange(-50,51,10))\n",
    "\n",
    "\n",
    "plt.xlabel('AU', fontsize = 15)\n",
    "plt.ylabel('AU', fontsize = 15)\n",
    "\n",
    "ax.set_xticklabels(np.arange(-50,51,10),fontsize=15)\n",
    "ax.set_yticklabels(np.arange(-50,51,10),fontsize=15)\n",
    "\n",
    "\n",
    "plt.plot( x_mercury , y_mercury , linestyle = '-' , color = 'red' )\n",
    "\n",
    "plt.plot( x_venus , y_venus , linestyle = '-' , color = 'green' )\n",
    "\n",
    "plt.plot( x_earth , y_earth , linestyle = '-' , color = 'blue' )\n",
    "\n",
    "plt.plot( x_mars , y_mars , linestyle = '-' , color = 'purple' )\n",
    "\n",
    "plt.plot( x_jupiter , y_jupiter , linestyle = '-' , color = 'orange' )\n",
    "\n",
    "plt.plot( x_saturn , y_saturn , linestyle = '-' , color = 'pink' )\n",
    "\n",
    "plt.plot( x_uranus , y_uranus , linestyle = '-' , color = 'gray' )\n",
    "\n",
    "plt.plot( x_neptune , y_neptune , linestyle = '-' , color = 'lightgreen' )\n",
    "\n",
    "plt.show()\n",
    "\n",
    "#fig.savefig('hw10_diegobenavidesucf_prob4a_screenshot.png',  dpi = 1200 , bbox_inches = 'tight', pad_inches = 0.3 )\n"
   ]
  },
  {
   "cell_type": "code",
   "execution_count": null,
   "metadata": {},
   "outputs": [],
   "source": []
  }
 ],
 "metadata": {
  "kernelspec": {
   "display_name": "Python 3",
   "language": "python",
   "name": "python3"
  },
  "language_info": {
   "codemirror_mode": {
    "name": "ipython",
    "version": 3
   },
   "file_extension": ".py",
   "mimetype": "text/x-python",
   "name": "python",
   "nbconvert_exporter": "python",
   "pygments_lexer": "ipython3",
   "version": "3.8.3"
  }
 },
 "nbformat": 4,
 "nbformat_minor": 4
}
