{
 "cells": [
  {
   "cell_type": "markdown",
   "metadata": {},
   "source": [
    "# The last ray of sunshine"
   ]
  },
  {
   "cell_type": "code",
   "execution_count": 50,
   "metadata": {},
   "outputs": [],
   "source": [
    "#Diego Benavides\n",
    "#Friday 4-22-2022\n",
    "#Final Project"
   ]
  },
  {
   "cell_type": "markdown",
   "metadata": {},
   "source": [
    "### You are one of the most renowned investigators in the world. An email arrives asking your help:"
   ]
  },
  {
   "cell_type": "markdown",
   "metadata": {},
   "source": [
    "<img src=\"the_email.png\" width=600 height=400 />"
   ]
  },
  {
   "cell_type": "markdown",
   "metadata": {},
   "source": [
    "### You book the first ticket to the North of Canada and drive to the far north. The place is desolate and icy. In front of you there is a weird looking cave. You get out of the car and approach the entrance of the cave. Before you know it there is noise behind you and evil Dr. Cane and helpers are charging toward you with their bear cavalry. You get arrested and thrown in a dungeon deep in the cave. \n",
    "\n",
    "\n",
    "<img src=\"evil_dr_storm.png\" width=200 height=200 />\n"
   ]
  },
  {
   "cell_type": "markdown",
   "metadata": {},
   "source": [
    "### A screen lights up and a video starts playing. Dr. Cane appears on the screen laughing his evil laugh."
   ]
  },
  {
   "cell_type": "code",
   "execution_count": 1,
   "metadata": {},
   "outputs": [
    {
     "name": "stdout",
     "output_type": "stream",
     "text": [
      "Please give me your name: Diego\n"
     ]
    }
   ],
   "source": [
    "your_name = input('Please give me your name: ')\n"
   ]
  },
  {
   "cell_type": "code",
   "execution_count": 2,
   "metadata": {},
   "outputs": [
    {
     "name": "stdout",
     "output_type": "stream",
     "text": [
      "\n",
      " Welcome Diego. You really think that you can save summers from me??? Dr. Cane? Dr. HARRY Cane!? Muahahaha!\n",
      "Just to prove you wrong I left some hints for you around the room.\n",
      "They could help you escape and find my weather machine. But you will never make it on time! Muahahaha!\n",
      "I will release the eternal storms on April 28 at 12pm. Hope you like swimming!\n"
     ]
    }
   ],
   "source": [
    "print('\\n Welcome '+ your_name + \n",
    "      \"\"\". You really think that you can save summers from me??? Dr. Cane? Dr. HARRY Cane!? Muahahaha!\"\"\")\n",
    "print(\"\"\"Just to prove you wrong I left some hints for you around the room.\n",
    "They could help you escape and find my weather machine. But you will never make it on time! Muahahaha!\"\"\")\n",
    "print(\"\"\"I will release the eternal storms on April 28 at 12pm. Hope you like swimming!\"\"\")"
   ]
  },
  {
   "cell_type": "markdown",
   "metadata": {},
   "source": [
    "## Problem 1. <br> Looking for a way out ( **10 points** ) "
   ]
  },
  {
   "cell_type": "code",
   "execution_count": 3,
   "metadata": {},
   "outputs": [
    {
     "name": "stdout",
     "output_type": "stream",
     "text": [
      "Diego, let's save the summers together. To escape from this \n",
      "      room you will need to use the coding knowledge you got this semester.\n",
      "\n",
      "\n",
      "Don't forget that a good log is part of a successful mission! Start your log please! (3 points)\n",
      "\n",
      "\n",
      "You will need to import the necesary packages to do numerical problems and plot images. Start \n",
      "      by doing all your imports here. (5 points)\n"
     ]
    }
   ],
   "source": [
    "print( your_name + \"\"\", let's save the summers together. To escape from this \n",
    "      room you will need to use the coding knowledge you got this semester.\"\"\")\n",
    "print('\\n')\n",
    "print(\"\"\"Don't forget that a good log is part of a successful mission! Start your log please! (3 points)\"\"\")\n",
    "print('\\n')\n",
    "print(\"\"\"You will need to import the necesary packages to do numerical problems and plot images. Start \n",
    "      by doing all your imports here. (5 points)\"\"\")"
   ]
  },
  {
   "cell_type": "code",
   "execution_count": 51,
   "metadata": {},
   "outputs": [],
   "source": [
    "#import your modules here:\n",
    "\n",
    "import numpy as np\n",
    "import matplotlib.pyplot as plt\n"
   ]
  },
  {
   "cell_type": "code",
   "execution_count": 52,
   "metadata": {},
   "outputs": [
    {
     "name": "stdout",
     "output_type": "stream",
     "text": [
      "You also need to create an empty list named *key_code* that you will slowly populate \n",
      "with the keys you get as you solve the puzzles (2 points)\n"
     ]
    }
   ],
   "source": [
    "print(\"\"\"You also need to create an empty list named *key_code* that you will slowly populate \n",
    "with the keys you get as you solve the puzzles (2 points)\"\"\")"
   ]
  },
  {
   "cell_type": "code",
   "execution_count": 53,
   "metadata": {},
   "outputs": [
    {
     "name": "stdout",
     "output_type": "stream",
     "text": [
      "[]\n",
      "<class 'list'>\n"
     ]
    }
   ],
   "source": [
    "key_code = []\n",
    "print(key_code)\n",
    "print(type(key_code))"
   ]
  },
  {
   "cell_type": "code",
   "execution_count": 54,
   "metadata": {},
   "outputs": [
    {
     "name": "stdout",
     "output_type": "stream",
     "text": [
      "Let's find our way out of here! \n"
     ]
    }
   ],
   "source": [
    "print(\"\"\"Let's find our way out of here! \"\"\")"
   ]
  },
  {
   "cell_type": "code",
   "execution_count": null,
   "metadata": {},
   "outputs": [],
   "source": []
  },
  {
   "cell_type": "markdown",
   "metadata": {},
   "source": [
    "### You take a look around the dungeon. \n",
    "<img src=\"the_escape_room.png\" width=500 height=300 />\n",
    "\n",
    "### At the other side you see the door. Next to it there is something that looks like a key pad. The hints that evil Dr. Cane left all around the room are needed to get the code and escape out of this room...\n",
    "\n",
    "<img src=\"the_door.png\" width=300 height=300 />"
   ]
  },
  {
   "cell_type": "markdown",
   "metadata": {},
   "source": [
    "### Desks, books, paintings, chests, chairs are all over the place. This room is so full of possible hiding places. Where to start? "
   ]
  },
  {
   "cell_type": "markdown",
   "metadata": {},
   "source": [
    "## Problem 2.   <br> The encrypted note ( **15 points** ) "
   ]
  },
  {
   "cell_type": "markdown",
   "metadata": {},
   "source": [
    "### Walking across the dungeon you notice a weird looking painting. It smells of fresh paint. Dr. Cane must have just made this for some reason! You take a closer look. It depicts the dungeon you are in, but it looks slightly different. There is an open book on the floor. At first glance the book contains a weird collection of numbers. What could this mean? You suddenly realize it's a code. \n",
    "\n",
    "- Make a list *message* that contains all the numbers on the note (3 points). \n",
    "- Write a dictionary *letters_to_numbers* that has as keys letters of the alphabet and as values numbers 1 to 26 (5 points). \n",
    "- Make a code that loops over the numbers in the note and uses the dictionary to decode the message (5 points). Print the message out (2 points)."
   ]
  },
  {
   "cell_type": "code",
   "execution_count": 55,
   "metadata": {},
   "outputs": [
    {
     "name": "stdout",
     "output_type": "stream",
     "text": [
      "This is what is written on the book:\n",
      " 20 9 3 11  20 15 3 11 20 9 3 11  20 15 3 11 20 9 13 5 9  19 18 21 14 14 9 14 9 7  15 21 20 \n"
     ]
    }
   ],
   "source": [
    "print( 'This is what is written on the book:')\n",
    "print(\"\"\" 20 9 3 11  20 15 3 11 20 9 3 11  20 15 3 11 20 9 13 5 9  19 18 21 14 14 9 14 9 7  15 21 20 \"\"\")"
   ]
  },
  {
   "cell_type": "code",
   "execution_count": 56,
   "metadata": {},
   "outputs": [
    {
     "name": "stdout",
     "output_type": "stream",
     "text": [
      "[20, 9, 3, 11, 20, 15, 3, 11, 20, 9, 3, 11, 20, 15, 3, 11, 20, 9, 13, 5, 9, 19, 18, 21, 14, 14, 9, 14, 9, 7, 15, 21, 20]\n"
     ]
    }
   ],
   "source": [
    "#The message as a list\n",
    "\n",
    "message = [20, 9, 3, 11 , 20 , 15 , 3 , 11 , 20 , 9 , 3 , 11 , 20 , 15 , 3 , 11 , 20 , 9 , 13 , 5 , 9 , 19 , 18 , 21 , 14 ,14 , 9 , 14 , 9 , 7 , 15 , 21 , 20]\n",
    "\n",
    "print(message)\n"
   ]
  },
  {
   "cell_type": "code",
   "execution_count": 57,
   "metadata": {},
   "outputs": [
    {
     "name": "stdout",
     "output_type": "stream",
     "text": [
      "{'a': 1, 'b': 2, 'c': 3, 'd': 4, 'e': 5, 'f': 6, 'g': 7, 'h': 8, 'i': 9, 'j': 10, 'k': 11, 'l': 12, 'm': 13, 'n': 14, 'o': 15, 'p': 16, 'q': 17, 'r': 18, 's': 19, 't': 20, 'u': 21, 'v': 22, 'w': 23, 'x': 24, 'y': 25, 'z': 26}\n"
     ]
    }
   ],
   "source": [
    "#dictionary with letters as key numbers as values\n",
    "\n",
    "letters_to_numbers = {'a':1 , 'b':2, 'c':3, 'd':4, 'e':5, 'f':6, 'g':7, 'h':8, 'i':9, 'j':10, 'k':11, 'l':12, 'm':13, 'n':14, 'o':15, 'p':16, 'q':17, 'r':18, 's':19, 't':20, 'u':21, 'v':22, 'w':23, 'x':24, 'y':25, 'z':26}\n",
    "\n",
    "print(letters_to_numbers)\n",
    "\n",
    "\n"
   ]
  },
  {
   "cell_type": "code",
   "execution_count": 58,
   "metadata": {},
   "outputs": [
    {
     "name": "stdout",
     "output_type": "stream",
     "text": [
      "['t', 'i', 'c', 'k', 't', 'o', 'c', 'k', 't', 'i', 'c', 'k', 't', 'o', 'c', 'k', 't', 'i', 'm', 'e', 'i', 's', 'r', 'u', 'n', 'n', 'i', 'n', 'i', 'g', 'o', 'u', 't']\n",
      "\n",
      "The decoded message is: ticktockticktocktimeisrunninigout\n"
     ]
    }
   ],
   "source": [
    "#Making a code to loop over the numbers in the message and loop over the dictionary to decode it:\n",
    "\n",
    "#intializing an empty list of letters:\n",
    "letter=[]\n",
    "\n",
    "#loop over the message numbers:\n",
    "for num in message:\n",
    "    #loop over dictionary keys and values:\n",
    "    for k,v in letters_to_numbers.items():\n",
    "        \n",
    "        if num == v:\n",
    "            #appending the decoded numbers to letters to the letter list\n",
    "            letter.append(k)\n",
    "            \n",
    "        \n",
    "            \n",
    "print(f'{letter}\\n')\n",
    "\n",
    "#turning the list of letters to string\n",
    "letter_as_string = ''.join(letter)\n",
    "\n",
    "#print(letter_as_string)\n",
    "\n",
    "print(f'The decoded message is: {letter_as_string}')\n",
    "            \n",
    "\n",
    "    \n",
    "#UH OH TIME IS RUNNING OUT!\n",
    "    "
   ]
  },
  {
   "cell_type": "markdown",
   "metadata": {},
   "source": [
    "## Problem 3. <br> The clock on the wall ( 15 points)"
   ]
  },
  {
   "cell_type": "markdown",
   "metadata": {},
   "source": [
    "### Just as you decode the message a cuckoo clock goes off  somewhere in the room. The time is ticking indeed....You walk toward the clock. It looks old, and has a big mirror at the bottom part. The cuckoo wears glasses?!?! You look around and notice a pair of glasses on the floor that looks exactly like the one the cuckoo wears. Can it be part of the solution? You put the glasses on and look at the clock. There is a secret message painted on the mirror of the clock!"
   ]
  },
  {
   "cell_type": "markdown",
   "metadata": {},
   "source": [
    "- Use your favorite numpy routine to read in the data from 'the_clock_mirror.dat' (3 points) \n",
    "- Make a contour plot using contouring levels 0, 1, 2. (4 points) \n",
    "- Make the plot publication ready. (3 points)\n",
    "\n",
    "- Populate your *key_code* with the number you see on the mirror (2 points).  Print the *key_code* (1 points)."
   ]
  },
  {
   "cell_type": "code",
   "execution_count": 12,
   "metadata": {},
   "outputs": [],
   "source": [
    "clock_mirror_data = np.loadtxt('the_clock_mirror.dat')\n",
    "\n",
    "#print(clock_mirror_data)"
   ]
  },
  {
   "cell_type": "code",
   "execution_count": 13,
   "metadata": {},
   "outputs": [
    {
     "data": {
      "image/png": "[encoded data removed]",
      "text/plain": [
       "<Figure size 720x720 with 1 Axes>"
      ]
     },
     "metadata": {
      "needs_background": "light"
     },
     "output_type": "display_data"
    }
   ],
   "source": [
    "#print(np.shape(clock_mirror_data))\n",
    "\n",
    "plt.figure(figsize = (10,10))\n",
    "\n",
    "plt.contourf(clock_mirror_data, cmap = 'Greens' )\n",
    "plt.title('Message in The Mirror', fontsize = 24)\n",
    "plt.xlabel('X-axis', fontsize = 20)\n",
    "plt.ylabel('Y-axis', fontsize = 20)\n",
    "plt.xticks(fontsize = 20, rotation = 45)\n",
    "plt.yticks(fontsize = 20, rotation = 45)\n",
    "plt.show()"
   ]
  },
  {
   "cell_type": "code",
   "execution_count": 14,
   "metadata": {},
   "outputs": [
    {
     "name": "stdout",
     "output_type": "stream",
     "text": [
      "[3]\n"
     ]
    }
   ],
   "source": [
    "# populating my key code list:\n",
    "\n",
    "message_in_the_mirror = 3\n",
    "\n",
    "key_code.append(message_in_the_mirror)\n",
    "\n",
    "#print\n",
    "\n",
    "print(key_code)"
   ]
  },
  {
   "cell_type": "code",
   "execution_count": null,
   "metadata": {},
   "outputs": [],
   "source": []
  },
  {
   "cell_type": "markdown",
   "metadata": {},
   "source": [
    "## Problem 4. <br> The wooden chest ( 20 points)"
   ]
  },
  {
   "cell_type": "markdown",
   "metadata": {},
   "source": [
    "### You feel excited! You got the first number. However, you have no idea where to look at next...did you miss something? You put on the glasses again and look around. On the opposite wall you see another hidden message written."
   ]
  },
  {
   "cell_type": "markdown",
   "metadata": {},
   "source": [
    "- Read the data from 'the_secret_message.dat' (1 point) \n",
    "- Make a contour plot using contouring levels 0, 1, 2 and 3. (2 points) \n",
    "- The message is flipped. Use the appropriate plt command to flip the y-axis (2 points)."
   ]
  },
  {
   "cell_type": "code",
   "execution_count": 15,
   "metadata": {},
   "outputs": [],
   "source": [
    "secret_message_data = np.loadtxt('the_secret_message.dat')\n",
    "#print(secret_message_data)"
   ]
  },
  {
   "cell_type": "code",
   "execution_count": 16,
   "metadata": {},
   "outputs": [
    {
     "data": {
      "image/png": "[encoded data removed]",
      "text/plain": [
       "<Figure size 720x720 with 1 Axes>"
      ]
     },
     "metadata": {
      "needs_background": "light"
     },
     "output_type": "display_data"
    }
   ],
   "source": [
    "fig , ax = plt.subplots(figsize = (10, 10))\n",
    "\n",
    "plt.contourf(secret_message_data, cmap = 'Blues' )\n",
    "\n",
    "\n",
    "plt.title('The Secret Message', fontsize = 24)\n",
    "plt.xlabel('X-axis', fontsize = 20)\n",
    "plt.ylabel('Y-axis', fontsize = 20)\n",
    "plt.xticks(fontsize = 20, rotation = 45)\n",
    "plt.yticks(fontsize = 20, rotation = 45)\n",
    "ax.invert_yaxis()\n",
    "plt.show()"
   ]
  },
  {
   "cell_type": "code",
   "execution_count": null,
   "metadata": {},
   "outputs": [],
   "source": []
  },
  {
   "cell_type": "markdown",
   "metadata": {},
   "source": [
    "### You look up. There is a big wooden chest on an elevated floor. You go running to the ladder and climb it. You approach the chest and open it. It is full of torn pages from a book. You remove them from the box and see a picture of Dr. Cane laughing his evil laughter. Interestingly, the first page has a hand-written 'muahaha' at the top. Can this be the next clue?"
   ]
  },
  {
   "cell_type": "markdown",
   "metadata": {},
   "source": [
    "- Write a code that reads the the_torn_book.dat line by line (5 points), and counts how many many times the word 'muahaha' appears in it (5 points). \n",
    "- The code should then print an informative statement to let you know  how many evil laughters it found (2 points). \n",
    "\n",
    "### This is the next number you need for the key pad. \n",
    "- Populate your *key_code* (2 points) and print the current *key_code* out (1 point) !\n",
    "\n",
    "#### Warning: DO NOT change the lower/upper case of the words in the book; you might get a wrong answer!"
   ]
  },
  {
   "cell_type": "code",
   "execution_count": 17,
   "metadata": {},
   "outputs": [
    {
     "name": "stdout",
     "output_type": "stream",
     "text": [
      "There are 7 'muahaha' occurences in the torn book\n"
     ]
    }
   ],
   "source": [
    "#The reason I had to implement the encoding = 'utf8' to my reading of the file is due to an error I kept \n",
    "#getting (UnicodeDecodeError: 'charmap' codec can't decode byte 0x9d in position X: character maps to <undefined>)\n",
    "#which was making it impossible to read the the_torn_book.dat file. \n",
    "#I found this solution of using encoding = 'utf8' on stack overflow, I hope it worked properly and my code actually counts\n",
    "#the correct number of muahaha occurrences.\n",
    "\n",
    "with open('the_torn_book.dat', 'r' , encoding = 'utf8') as f:\n",
    "   \n",
    "    for line in f:\n",
    "        book_data = f.read()\n",
    "        occurrence_count = book_data.count('muahaha')\n",
    "        \n",
    "    print(f\"There are {occurrence_count} 'muahaha' occurences in the torn book\")"
   ]
  },
  {
   "cell_type": "code",
   "execution_count": 18,
   "metadata": {},
   "outputs": [
    {
     "name": "stdout",
     "output_type": "stream",
     "text": [
      "[3, 7]\n"
     ]
    }
   ],
   "source": [
    "#updating my key code:\n",
    "\n",
    "key_code.append(occurrence_count)\n",
    "\n",
    "print(key_code)"
   ]
  },
  {
   "cell_type": "code",
   "execution_count": null,
   "metadata": {},
   "outputs": [],
   "source": []
  },
  {
   "cell_type": "markdown",
   "metadata": {},
   "source": [
    "## Problem 5. <br> But wait, there is more. (15 points)"
   ]
  },
  {
   "cell_type": "markdown",
   "metadata": {},
   "source": [
    "### Dr. Cane left you a message on the last line of the book\n",
    "- Adapt your previous code to print it out (4 points). "
   ]
  },
  {
   "cell_type": "code",
   "execution_count": 19,
   "metadata": {},
   "outputs": [
    {
     "name": "stdout",
     "output_type": "stream",
     "text": [
      "I love me some math! what is the integer of: Sigma( n= 1 ) / Sigma (n=7 )+ Sigma (n=2) / Sigma(n = 3) ?\n",
      "\n"
     ]
    }
   ],
   "source": [
    "with open('the_torn_book.dat', 'r' , encoding = 'utf8') as f:\n",
    "    last_line = f.readlines()[-1]\n",
    "    print(last_line)"
   ]
  },
  {
   "cell_type": "code",
   "execution_count": null,
   "metadata": {},
   "outputs": [],
   "source": []
  },
  {
   "cell_type": "markdown",
   "metadata": {},
   "source": [
    "### What could this mean? You look at the book contents and suddenly it all makes sense! The text is full of numbers. You just need to add the counts of each number equal to one, two, three and seven, and then use the equation Dr. Storm gave you to calculate the next key.\n",
    "\n",
    "- Make a code that reads all the book (2 points) and counts how many 'one's, 'two's,'three's and 'seven's the book has (4 points). \n",
    "- Use these sums in the equation Dr. Cane gave you (2 point). \n",
    "- The integer part is the next number you need for the key pad (1 point).\n",
    "\n",
    "- Populate your *key_code* with this number (1 points).  \n",
    "- Print the *key_code* (1 points)."
   ]
  },
  {
   "cell_type": "code",
   "execution_count": 20,
   "metadata": {},
   "outputs": [
    {
     "name": "stdout",
     "output_type": "stream",
     "text": [
      "There are 75 ones\n",
      "There are 51 twos\n",
      "There are 24 threes\n",
      "There are 20 sevens\n"
     ]
    }
   ],
   "source": [
    "f = open('the_torn_book.dat', 'r' , encoding = 'utf8')\n",
    "\n",
    "book_data = f.read()\n",
    "\n",
    "#counting 1:\n",
    "one_count = book_data.count('1')\n",
    "print(f'There are {one_count} ones')\n",
    "\n",
    "#counting 2:\n",
    "two_count = book_data.count('2')\n",
    "print(f'There are {two_count} twos')\n",
    "\n",
    "#counting 3:\n",
    "three_count = book_data.count('3')\n",
    "print(f'There are {three_count} threes')\n",
    "\n",
    "#counting 7:\n",
    "seven_count = book_data.count('7')\n",
    "print(f'There are {seven_count} sevens')\n",
    "\n"
   ]
  },
  {
   "cell_type": "code",
   "execution_count": 21,
   "metadata": {},
   "outputs": [
    {
     "name": "stdout",
     "output_type": "stream",
     "text": [
      "5\n"
     ]
    }
   ],
   "source": [
    "#Now i will follow Dr. Canes equation: Sigma( n= 1 ) / Sigma (n=7 )+ Sigma (n=2) / Sigma(n = 3) \n",
    "\n",
    "canes_equation = one_count / seven_count + two_count / three_count\n",
    "\n",
    "#The only important number is the integer part of it:\n",
    "print(int(canes_equation))"
   ]
  },
  {
   "cell_type": "code",
   "execution_count": 22,
   "metadata": {},
   "outputs": [
    {
     "name": "stdout",
     "output_type": "stream",
     "text": [
      "[3, 7, 5]\n"
     ]
    }
   ],
   "source": [
    "#appending the new number to the key code:\n",
    "\n",
    "key_code.append(int(canes_equation))\n",
    "print(key_code)"
   ]
  },
  {
   "cell_type": "code",
   "execution_count": null,
   "metadata": {},
   "outputs": [],
   "source": []
  },
  {
   "cell_type": "markdown",
   "metadata": {},
   "source": [
    "## Problem 6 <br> Around, around spins the world (10 points) "
   ]
  },
  {
   "cell_type": "markdown",
   "metadata": {},
   "source": [
    "### At the bottom of the chest there is a little holographic machine with a big red button. You feel the urge to press it. This ***must*** be the clue about where to look next.\n",
    "\n",
    "- Read data from file the_holograph.dat and assign the three columns to variables x1, y1, z1 (2 points). \n",
    "- Make a 3D scatter plot with your x1,y1,z1 data (5 points). \n",
    "- Save the 3D plot with an appropriate name (2 points).\n",
    "- What does it look like? Where is your next clue in the room? Print an informative statement with your answer. (1 point)"
   ]
  },
  {
   "cell_type": "code",
   "execution_count": 23,
   "metadata": {},
   "outputs": [],
   "source": [
    "holo_machine_data = np.loadtxt('the_holograph.dat')\n",
    "#print(holo_machine_data)"
   ]
  },
  {
   "cell_type": "code",
   "execution_count": 24,
   "metadata": {},
   "outputs": [
    {
     "data": {
      "image/png": "[encoded data removed]",
      "text/plain": [
       "<Figure size 720x720 with 1 Axes>"
      ]
     },
     "metadata": {
      "needs_background": "light"
     },
     "output_type": "display_data"
    }
   ],
   "source": [
    "x1 = holo_machine_data[:,0]\n",
    "y1 = holo_machine_data[:,1]\n",
    "z1 = holo_machine_data[:,2]\n",
    "\n",
    "fig = plt.figure( figsize = ( 10, 10 ) )\n",
    "ax = fig.gca(projection='3d')\n",
    "ax.scatter(x1, y1, z1, color ='blue', label = '3D-Plot',marker='o')\n",
    "ax.legend()\n",
    "\n",
    "plt.savefig('Final_diegobenavidesucf_prob6_plot_screenshot.png')"
   ]
  },
  {
   "cell_type": "code",
   "execution_count": 25,
   "metadata": {},
   "outputs": [
    {
     "name": "stdout",
     "output_type": "stream",
     "text": [
      "The plot above looks like a spiral, vortex, and or tornado of some kind.\n",
      "So maybe my next clue is the painting of the waves in the room!\n"
     ]
    }
   ],
   "source": [
    "print('The plot above looks like a spiral, vortex, and or tornado of some kind.\\nSo maybe my next clue is the painting of the waves in the room!')"
   ]
  },
  {
   "cell_type": "markdown",
   "metadata": {},
   "source": [
    "## Problem 7 <br> The puzzles (24 points)"
   ]
  },
  {
   "cell_type": "markdown",
   "metadata": {},
   "source": [
    "### You look around the room. There are some nature pictures, but none with a tornado or a hurricane. Nothing makes sense...As you wander around the room you notice something is odd. Vermeer's girl with the pearl earring is odd? You approach and see the girls face is replaced with Dr. Harry Cane's... Can this be it? You turn the painting around and find a paper with two puzzles:"
   ]
  },
  {
   "cell_type": "markdown",
   "metadata": {},
   "source": [
    "### The first puzzle: \n",
    "- The original of this painting was made in what year? Google it! Sum the numbers of the year up. (so if was made in 1111 the answer is 1 + 1+1 +1 = 4) (1 point) \n",
    "- Use the appropriate numpy function to calculate the mean (2 points), median (2 points) and trace (2 points) of the what_is_the_key array (see below). Which one matches your previous sum? \n",
    "- If the mean : u = 2, if the median: u = 9, if the trace: u = 3 (1 point)"
   ]
  },
  {
   "cell_type": "markdown",
   "metadata": {},
   "source": [
    "### The second puzzle:\n",
    "- An alien at Proxima Centauri b looks toward our Sun with their telescope and records a transit (a planet crosses in front of the Sun disk). The planet caused a dip in the light the alien saw of $\\Delta$f=0.007456. The event repeated after 10,740 days. Using Doppler spectroscopy the alien found that the planet causes the Sun to wobble with a velocity semi-amplitude of 2.76m/s. Which planet did the alien see? If Mercury is 1, Venus is 2, this planet is N. \n",
    "\n",
    "    - Find the Radius and Mass of the planet using the information from above and these tips:\n",
    "      - Tip for the transit: you know that $\\Delta$f $\\sim \\frac{R^2_{planet}}{R^2_{star}}$. Use this to find the radius of the planet in km, if you know that the Sun has a radius of 696,000km (5 points)\n",
    "      - Tip for the wobbling: you know that the velocity semi-amplitude is given by $K = \\frac{28.43 [m/s]}{\\sqrt{1-e^2}} \\frac{m_{planet}\\sin i}{m_{Jupiter}}(\\frac{m_{planet}+m_{Sun}}{m_{Sun}})^{-2/3} (\\frac{P}{1 year})^{-1/3}$. Use this to find the mass of the planet. You can assume that e = 0 and sini = 1. Also, note that $m_{planet} << m_{Sun}$ (5 points)\n",
    "      \n",
    "    - Now that you now the Radius, Mass and Period of the planet, compare against this NASA database: https://nssdc.gsfc.nasa.gov/planetary/factsheet/ \n",
    "    - Which is the planet the alien saw? (3 points)\n",
    "    - What is the number N of the planet (if Mercury=1, Venus =2, etc)? Print an informative statement. (1 point)\n",
    "    - Remember that the Moon is *not* a planet!\n",
    "    \n",
    "    \n",
    "### The next key:\n",
    "- What is the number that is equal to N/u ? Populate your *key_code* with the number (1 points).  \n",
    "- Print the *key_code* (1 points)."
   ]
  },
  {
   "cell_type": "code",
   "execution_count": 26,
   "metadata": {},
   "outputs": [
    {
     "data": {
      "text/plain": [
       "'The first puzzle'"
      ]
     },
     "execution_count": 26,
     "metadata": {},
     "output_type": "execute_result"
    }
   ],
   "source": [
    "\"\"\"The first puzzle\"\"\""
   ]
  },
  {
   "cell_type": "code",
   "execution_count": 27,
   "metadata": {},
   "outputs": [],
   "source": [
    "what_is_the_key = np.array( ([ 7, 23, 45, 37, -2, 12, 34 ], \n",
    "                         [ 22, 1, 34, 18, 54, 33, 9  ],\n",
    "                         [  8, 19, 2, 42, 32, 2, 17 ],\n",
    "                         [ 98, 9, 14,  2, 12, 33, 7 ], \n",
    "                         [ 12, 10, 4,  54, 2, -8, 7 ],\n",
    "                         [ 77, 22, -2,  24, -8, 3, 7 ],\n",
    "                         [ 122, 33, 3,  3,  4, 33, 1 ] ) )"
   ]
  },
  {
   "cell_type": "code",
   "execution_count": 28,
   "metadata": {},
   "outputs": [
    {
     "name": "stdout",
     "output_type": "stream",
     "text": [
      "The sum of the numbers within the year of creation is: 18\n"
     ]
    }
   ],
   "source": [
    "#According to the internet the date of creation of the original painting is 1665:\n",
    "year = [1,6,6,5]\n",
    "year_sum = np.sum(year)\n",
    "print(f'The sum of the numbers within the year of creation is: {year_sum}')"
   ]
  },
  {
   "cell_type": "code",
   "execution_count": 29,
   "metadata": {},
   "outputs": [
    {
     "name": "stdout",
     "output_type": "stream",
     "text": [
      "The mean of the what_is_the_key array is: 20.959183673469386\n",
      "\n",
      "The median of the what_is_the_key array is: 12.0\n",
      "\n",
      "The trace of the what_is_the_key array is: 18\n",
      "\n",
      "THE TRACE MATCHES THE PREVIOUS SUM!\n",
      "\n",
      "So u = 3 !\n"
     ]
    }
   ],
   "source": [
    "print(f'The mean of the what_is_the_key array is: {np.mean(what_is_the_key)}\\n')\n",
    "print(f'The median of the what_is_the_key array is: {np.median(what_is_the_key)}\\n')\n",
    "print(f'The trace of the what_is_the_key array is: {np.trace(what_is_the_key)}\\n')\n",
    "\n",
    "print('THE TRACE MATCHES THE PREVIOUS SUM!\\n')\n",
    "\n",
    "print(f'So u = 3 !')\n"
   ]
  },
  {
   "cell_type": "code",
   "execution_count": 30,
   "metadata": {},
   "outputs": [
    {
     "data": {
      "text/plain": [
       "'The second puzzle'"
      ]
     },
     "execution_count": 30,
     "metadata": {},
     "output_type": "execute_result"
    }
   ],
   "source": [
    "\"\"\"The second puzzle\"\"\""
   ]
  },
  {
   "cell_type": "code",
   "execution_count": 31,
   "metadata": {},
   "outputs": [
    {
     "name": "stdout",
     "output_type": "stream",
     "text": [
      "Radius of planet in km observed by the alien is: 60098.300275465364 km\n",
      "\n",
      "The period of the planet in days is: 10740\n",
      "\n",
      "The mass of the planet in kg observed by the alien is: 5.688514936562945e+26\n",
      "\n",
      "Knowing these values for radius [km], mass [kg], and period [days] the observed planet is SATURN!\n",
      "\n",
      "The number N of SATURN is 6\n"
     ]
    }
   ],
   "source": [
    "#For Radius:\n",
    "\n",
    "delta_f = 0.007456\n",
    "\n",
    "R_star_km = 696000.0\n",
    "\n",
    "R_planet_km = np.sqrt((delta_f*(np.power(R_star_km,2))))\n",
    "\n",
    "print(f'Radius of planet in km observed by the alien is: {R_planet_km} km\\n')\n",
    "\n",
    "#For mass:\n",
    "mass_jupiter = 1898.0 * np.power(10.0 ,24)\n",
    "\n",
    "period_days = 10740.0\n",
    "\n",
    "print(f'The period of the planet in days is: 10740\\n')\n",
    "\n",
    "#all i did here is rearrange the formula using the given assumptions:\n",
    "mass_planet = (((2.76)*(mass_jupiter)*(np.cbrt(period_days/365.0)))/(28.43))\n",
    "\n",
    "print(f'The mass of the planet in kg observed by the alien is: {mass_planet}\\n')\n",
    "\n",
    "\n",
    "print('Knowing these values for radius [km], mass [kg], and period [days] the observed planet is SATURN!\\n')\n",
    "print('The number N of SATURN is 6')\n",
    "\n",
    "\n",
    "#I double checked all of the math here using a caculator and I rearranged the equation for the planets mass by hand."
   ]
  },
  {
   "cell_type": "code",
   "execution_count": 32,
   "metadata": {},
   "outputs": [
    {
     "name": "stdout",
     "output_type": "stream",
     "text": [
      "The number N/u is: 2.0\n"
     ]
    }
   ],
   "source": [
    "N = 6\n",
    "u = 3\n",
    "N_u = N/u\n",
    "\n",
    "print(f'The number N/u is: {N_u}')"
   ]
  },
  {
   "cell_type": "code",
   "execution_count": 33,
   "metadata": {},
   "outputs": [
    {
     "name": "stdout",
     "output_type": "stream",
     "text": [
      "[3, 7, 5, 2]\n"
     ]
    }
   ],
   "source": [
    "key_code.append(int(N_u))\n",
    "print(key_code)"
   ]
  },
  {
   "cell_type": "markdown",
   "metadata": {},
   "source": [
    "## Problem 8. <br> The bug exterminator (15 points)"
   ]
  },
  {
   "cell_type": "markdown",
   "metadata": {},
   "source": [
    "On the other side of the room you see a chair in front of a computer. The chair has an 8 scratched on it. This must be where the next clue lies. You walk to the chair and look at the computer screen. There is some code, but it is full of bugs. Does Dr. Cane think that this can stop you?\n",
    "\n",
    "Debug the code to find the next number(s). (8 points)\n",
    "\n",
    "Run the code for wheel radii: r1 = 0.5 m , r2 = 0.8 m, times the cars moved: t1 = 12 s, t2 = 8 s, and wheel rotations of N1 = 8 rotations and N2 = 5 rotations. The integer part of the speed that the code returns is the next part of the key. (2 points)\n",
    "\n",
    "If you get 2 digit speed make a code that will split it in two numbers: e.g., if you get a speed of 42 m/s the code will append to the key a 4, and then a 2. Don't split it manually. (3 points) \n",
    "\n",
    "Populate your key_code with the number(s) (1 points). \n",
    "\n",
    "Print the key_code (1 points)."
   ]
  },
  {
   "cell_type": "code",
   "execution_count": 34,
   "metadata": {},
   "outputs": [
    {
     "name": "stdout",
     "output_type": "stream",
     "text": [
      "Give me the first radius please0.5\n",
      "Give me the second radius please0.8\n",
      "How much time did the first car move?12\n",
      "How much time did the second car move?8\n",
      "How many circles did the wheels of car 1 turn?8\n",
      "How many circles did the wheels of car 2 turn?5\n",
      "Car 1 moved further than Car 2\n",
      "Car 1 moved with a speed of:  25.132741228718345 m/s.\n"
     ]
    }
   ],
   "source": [
    "# Code that calculates the distance traveled by a car knowing how much time it moves and\n",
    "# how many rotations its wheels, with a known perimeter, made. \n",
    "# Code then will compare the distance that two cars moved based on the time they move \n",
    "# and their wheels perimeters and tells you which one moved further and for that car \n",
    "# at what speed it moved. \n",
    "\n",
    "\n",
    "\n",
    "# Ask the user for the two radii of the car wheels:\n",
    "\n",
    "radius1 = float(input( 'Give me the first radius please'  ))\n",
    "radius2 = float(input( 'Give me the second radius please' ))\n",
    "\n",
    "# calculate the perimeter of the two wheels:\n",
    "\n",
    "perimeter1 = radius1 * 2.0 * np.pi\n",
    "perimeter2 = radius2 * 2.0 * np.pi\n",
    "\n",
    "# Ask the user for how much time the two cars move:\n",
    "\n",
    "time1 = float(input( 'How much time did the first car move?' ))\n",
    "time2 = float(input( 'How much time did the second car move?' ))\n",
    " \n",
    "    \n",
    "# Ask the user how many full circles did their wheels turnL\n",
    "\n",
    "N1 = float(input( 'How many circles did the wheels of car 1 turn?' ))\n",
    "N2 = float(input( 'How many circles did the wheels of car 2 turn?' ))\n",
    "\n",
    "\n",
    "# Calculate the total distance each car moved:\n",
    "\n",
    "distance1 = N1 * perimeter1 * time1\n",
    "distance2 = N2 * perimeter2 * time2\n",
    "\n",
    "# Compare the two distances and for the one that moved further print which one\n",
    "# it is and what its speed is:\n",
    "\n",
    "if distance1 > distance2:\n",
    "    print( 'Car 1 moved further than Car 2' )\n",
    "    \n",
    "    speed = distance1 / time1\n",
    "    \n",
    "    print( 'Car 1 moved with a speed of: ', speed , 'm/s.' )\n",
    "\n",
    "elif distance2 > distance1:\n",
    "    print( 'Car 2 moved further than Car 1' )\n",
    "    \n",
    "    speed = distance2 / time2\n",
    "    \n",
    "    print( 'Car 2 moved with a speed of: ', speed , 'm/s.' )\n",
    "\n",
    "else: \n",
    "    print( 'Car 1 and Car 2 moved an equal distance' )\n",
    "    speed1 = distance1 / time1\n",
    "    speed2 = distance2 / time2\n",
    "    \n",
    "    print( 'Car 1 moved with a speed of: ', speed1 , 'm/s' \n",
    "         'and Car 2 moved with a speed of: ', speed2  , 'm/s.')\n",
    "    \n",
    "    "
   ]
  },
  {
   "cell_type": "code",
   "execution_count": 35,
   "metadata": {},
   "outputs": [],
   "source": [
    "#I double checked my answer using a calculator"
   ]
  },
  {
   "cell_type": "code",
   "execution_count": 36,
   "metadata": {},
   "outputs": [
    {
     "name": "stdout",
     "output_type": "stream",
     "text": [
      "From the speed we know the next two keys are: [2, 5]\n",
      "\n",
      "The updated key code is [3, 7, 5, 2, 2, 5]\n"
     ]
    }
   ],
   "source": [
    "#now for splitting the integer part of the speed:\n",
    "#print(speed)\n",
    "\n",
    "# getting the integer part of the speed:\n",
    "speed_integer = int(speed)\n",
    "\n",
    "#print(speed_integer)\n",
    "\n",
    "#splitting the integer of the speed and appending to the key:\n",
    "\n",
    "speed_split = []\n",
    "\n",
    "for num in str(speed_integer):\n",
    "\n",
    "    speed_split.append(int(num))\n",
    "    \n",
    "for i in speed_split:\n",
    "    key_code.append(i)\n",
    "    \n",
    "print(f'From the speed we know the next two keys are: {speed_split}\\n')\n",
    "print(f'The updated key code is {key_code}')\n"
   ]
  },
  {
   "cell_type": "markdown",
   "metadata": {},
   "source": [
    "## Problem 9. <br> The model derivation (35 points)"
   ]
  },
  {
   "cell_type": "markdown",
   "metadata": {},
   "source": [
    "### Looking across the room you see a big 9 next to a usb stick. This must be the next thing to look at. You plug the stick into the computer in the room. There is a single file with GPS data: timestamps, distances from some location and GPS errors.  (10 points total)\n",
    "\n",
    "- Get the data from the table and assign them to numpy arrays named gps_time, gps_distance and gps_error. (3 points) \n",
    "- Plot the distance of the object as a function of time making a publication-ready plot *with errorbars*, axis labels and plot title. (5 points)\n",
    "- Use the appropriate python command to store the plot as a pdf. (2 points)"
   ]
  },
  {
   "cell_type": "markdown",
   "metadata": {},
   "source": [
    "time | distance     | error\n",
    "--|:---------:|:-----------:\n",
    "12.00 | 1137.61    | 45.0\n",
    "12.54 | 1174.34    | 42.1\n",
    "13.07 | 1209.87    | 34.0\n",
    "13.61 | 1244.19    | 44.0\n",
    "14.15 | 1277.31    | 48.0\n",
    "14.68 | 1309.21    | 35.0\n",
    "15.22 | 1339.93    | 25.0\n",
    "15.76 | 1369.39    | 35.0\n",
    "16.29 | 1397.67    | 41.0\n",
    "16.83 | 1424.74    | 42.0\n",
    "17.37 | 1450.61    | 45.0\n",
    "17.90 | 1475.25    | 35.0\n",
    "18.44 | 1498.69    | 45.0\n",
    "18.98 | 1520.90    | 45.0\n",
    "19.51 | 1541.94    | 45.0\n",
    "20.05 | 1561.75    | 45.0\n",
    "20.58 | 1580.35    | 35.0\n",
    "21.12 | 1597.72    | 25.0\n",
    "21.66 | 1613.93    | 15.0\n",
    "22.21 | 1628.91    | 45.0\n",
    "22.73 | 1642.67    | 35.0\n",
    "23.27 | 1655.22    | 25.0\n",
    "23.80 | 1666.57    | 41.0\n",
    "24.34 | 1676.71    | 42.0\n",
    "24.88 | 1685.63    | 45.0\n",
    "25.41 | 1693.35    | 45.0\n",
    "25.95 | 1699.92    | 45.0\n",
    "26.48 | 1705.16    | 45.0\n",
    "27.02 | 1709.25    | 45.0 \n",
    "27.56 | 1712.14    | 45.0\n",
    "28.11 | 1713.81    | 45.0\n",
    "28.63 | 1714.27    | 45.0\n",
    "29.17 | 1713.48    | 45.0\n",
    "29.71 | 1711.57    | 45.0\n",
    "30.24 | 1708.41    | 45.0\n",
    "30.78 | 1704.04    | 45.0\n",
    "31.32 | 1698.45    | 45.0\n",
    "31.85 | 1691.66    | 45.0\n",
    "32.39 | 1683.66    | 45.0\n",
    "32.93 | 1674.44    | 25.0\n",
    "33.46 | 1664.02    | 45.0\n",
    "34.00 | 1652.40    | 15.0"
   ]
  },
  {
   "cell_type": "code",
   "execution_count": 37,
   "metadata": {},
   "outputs": [],
   "source": [
    "#assigning the data\n",
    "\n",
    "gps_time = np.array([12,\n",
    "12.54,\n",
    "13.07,\n",
    "13.61,\n",
    "14.15,\n",
    "14.68,\n",
    "15.22,\n",
    "15.76,\n",
    "16.29,\n",
    "16.83,\n",
    "17.37,\n",
    "17.9,\n",
    "18.44,\n",
    "18.98,\n",
    "19.51,\n",
    "20.05,\n",
    "20.58,\n",
    "21.12,\n",
    "21.66,\n",
    "22.21,\n",
    "22.73,\n",
    "23.27,\n",
    "23.8,\n",
    "24.34,\n",
    "24.88,\n",
    "25.41,\n",
    "25.95,\n",
    "26.48,\n",
    "27.02,\n",
    "27.56,\n",
    "28.11,\n",
    "28.63,\n",
    "29.17,\n",
    "29.71,\n",
    "30.24,\n",
    "30.78,\n",
    "31.32,\n",
    "31.85,\n",
    "32.39,\n",
    "32.93,\n",
    "33.46,\n",
    "34\n",
    "])\n",
    "#print(len(gps_time))\n",
    "\n",
    "gps_distance = np.array([1137.61,\n",
    "1174.34,\n",
    "1209.87,\n",
    "1244.19,\n",
    "1277.31,\n",
    "1309.21,\n",
    "1339.93,\n",
    "1369.39,\n",
    "1397.67,\n",
    "1424.74,\n",
    "1450.61,\n",
    "1475.25,\n",
    "1498.69,\n",
    "1520.9,\n",
    "1541.94,\n",
    "1561.75,\n",
    "1580.35,\n",
    "1597.72,\n",
    "1613.93,\n",
    "1628.91,\n",
    "1642.67,\n",
    "1655.22,\n",
    "1666.57,\n",
    "1676.71,\n",
    "1685.63,\n",
    "1693.35,\n",
    "1699.92,\n",
    "1705.16,\n",
    "1709.25,\n",
    "1712.14,\n",
    "1713.81,\n",
    "1714.27,\n",
    "1713.48,\n",
    "1711.57,\n",
    "1708.41,\n",
    "1704.04,\n",
    "1698.45,\n",
    "1691.66,\n",
    "1683.66,\n",
    "1674.44,\n",
    "1664.02,\n",
    "1652.4\n",
    "])\n",
    "#print(len(gps_distance))\n",
    "\n",
    "gps_error = np.array([45,\n",
    "42.1,\n",
    "34,\n",
    "44,\n",
    "48,\n",
    "35,\n",
    "25,\n",
    "35,\n",
    "41,\n",
    "42,\n",
    "45,\n",
    "35,\n",
    "45,\n",
    "45,\n",
    "45,\n",
    "45,\n",
    "35,\n",
    "25,\n",
    "15,\n",
    "45,\n",
    "35,\n",
    "25,\n",
    "41,\n",
    "42,\n",
    "45,\n",
    "45,\n",
    "45,\n",
    "45,\n",
    "45,\n",
    "45,\n",
    "45,\n",
    "45,\n",
    "45,\n",
    "45,\n",
    "45,\n",
    "45,\n",
    "45,\n",
    "45,\n",
    "45,\n",
    "25,\n",
    "45,\n",
    "15\n",
    "])\n",
    "#print(len(gps_error))"
   ]
  },
  {
   "cell_type": "code",
   "execution_count": 38,
   "metadata": {},
   "outputs": [
    {
     "data": {
      "image/png": "[encoded data removed]",
      "text/plain": [
       "<Figure size 720x720 with 1 Axes>"
      ]
     },
     "metadata": {
      "needs_background": "light"
     },
     "output_type": "display_data"
    }
   ],
   "source": [
    "#plotting:\n",
    "\n",
    "\n",
    "plt.figure( figsize = ( 10, 10) )\n",
    "\n",
    "\n",
    "plt.errorbar( gps_time, gps_distance, yerr = gps_error ,linestyle = 'none', marker='d', color = 'b' ,markersize = 8 )\n",
    "\n",
    "plt.title('Distance As a Fucntion of Time of GPS Data', fontsize = 24)\n",
    "plt.xticks( fontsize = 20 )\n",
    "plt.yticks( fontsize = 20 )\n",
    "plt.xlabel('GPS TIME', fontsize = 22 )\n",
    "plt.ylabel('GPS Distance', fontsize = 22 ) \n",
    "\n",
    "plt.savefig('Final_diegobenavidesucf_prob9_plot1_screenshot.pdf')\n",
    "\n"
   ]
  },
  {
   "cell_type": "markdown",
   "metadata": {},
   "source": [
    "### The model (25 points total):\n",
    "\n",
    "- Use the data to fit a model of the form $s = u * t$  and a model of the form $s = 0.5 * a * t^2 + u_o * t$. Print an informative statement informing the user about which model best describes the data (11 points) and why (3 points)? \n",
    "\n",
    "   - tip: limit your scan of the u parameter in the 0.1 to 150 space for the first model with a step of 2; and the a in the -10 to +10 with a step of 0.1 and u0 in the 0.1 to 140 with a step of 10 for the second model \n",
    "\n",
    "- Is the object moving with a constant speed, or accelerating? (1 point) \n",
    "- What is the speed u or acceleration a of the best-fit model (8 points)?\n",
    "- Populate your *key_code* with the integer part of this number (best-fit speed or best-fit acceleration) (1 points).  \n",
    "- Print the *key_code* (1 points)."
   ]
  },
  {
   "cell_type": "code",
   "execution_count": 39,
   "metadata": {},
   "outputs": [],
   "source": [
    "u = np.arange( 0.1 , 150 , 2 )\n",
    "\n",
    "a = np.arange( -10 , 10 , 0.1 )\n",
    "\n",
    "u0= np.arange( 0.1 , 140 , 10 )\n",
    "\n",
    "s = gps_distance\n",
    "t = gps_time\n"
   ]
  },
  {
   "cell_type": "code",
   "execution_count": 40,
   "metadata": {},
   "outputs": [
    {
     "name": "stdout",
     "output_type": "stream",
     "text": [
      "The chi square is 15633.344653813332\n",
      "[64.1]\n"
     ]
    },
    {
     "data": {
      "text/plain": [
       "Text(0, 0.5, 'GPS Distance')"
      ]
     },
     "execution_count": 40,
     "metadata": {},
     "output_type": "execute_result"
    },
    {
     "data": {
      "image/png": "[encoded data removed]",
      "text/plain": [
       "<Figure size 576x576 with 1 Axes>"
      ]
     },
     "metadata": {
      "needs_background": "light"
     },
     "output_type": "display_data"
    }
   ],
   "source": [
    "# s = u * t model (This is a constant speed model):\n",
    "\n",
    "r1 = np.zeros(len(u))\n",
    "\n",
    "for i in range(len(u)):\n",
    "    for k in range(len(gps_error)):\n",
    "        y1 = (u[i]*t)\n",
    "        r1[i] = np.sum((s-y1)**2/gps_error[k]**2)\n",
    "        \n",
    "        \n",
    "print(f'The chi square is {np.min(r1)}')\n",
    "\n",
    "\n",
    "q1  = np.where( r1 == np.min( r1 ))\n",
    "       \n",
    "y_1 = u[ q1[ 0 ] ]*t\n",
    "\n",
    "print(u[q1[0]])\n",
    "\n",
    "plt.figure(figsize = (8,8))\n",
    "\n",
    "plt.errorbar( gps_time, gps_distance, yerr = gps_error ,linestyle = 'none', marker='d', color = 'b' ,markersize = 8 )\n",
    "\n",
    "plt.plot(t, y_1 , linestyle = '--' , color = 'r')\n",
    "\n",
    "plt.title('Distance As a Fucntion of Time of GPS Data', fontsize = 24)\n",
    "plt.xticks( fontsize = 20 )\n",
    "plt.yticks( fontsize = 20 )\n",
    "plt.xlabel('GPS TIME', fontsize = 22 )\n",
    "plt.ylabel('GPS Distance', fontsize = 22 ) "
   ]
  },
  {
   "cell_type": "code",
   "execution_count": 41,
   "metadata": {},
   "outputs": [
    {
     "name": "stdout",
     "output_type": "stream",
     "text": [
      "The chi square is 1.0794110289024665\n",
      "[-4.2]\n"
     ]
    },
    {
     "data": {
      "text/plain": [
       "Text(0, 0.5, 'GPS Distance')"
      ]
     },
     "execution_count": 41,
     "metadata": {},
     "output_type": "execute_result"
    },
    {
     "data": {
      "image/png": "[encoded data removed]",
      "text/plain": [
       "<Figure size 576x576 with 1 Axes>"
      ]
     },
     "metadata": {
      "needs_background": "light"
     },
     "output_type": "display_data"
    }
   ],
   "source": [
    "# s = 0.5*a*t^2 + u0*t model (This is a constant acceleration model):\n",
    "\n",
    "r2 = np.zeros((len(u0),len(a)))\n",
    "\n",
    "for i in range(len(u0)):\n",
    "    for j in range(len(a)):\n",
    "        for k in range(len(gps_error)):\n",
    "            \n",
    "            y2 = (u0[i]*t) + (a[j]*0.5*t**2)\n",
    "            r2[i,j] = np.sum((s-y2)**2/gps_error[k]**2)\n",
    "            \n",
    "print(f'The chi square is {np.min(r2)}')\n",
    "\n",
    "q2  = np.where( r2 == np.min( r2 ) )\n",
    "\n",
    "y_2 = u0[ q2[ 0 ] ]*t + a[q2[1]]*0.5*t**2\n",
    "\n",
    "#print(y_2)\n",
    "\n",
    "print(a[q2[1]])\n",
    "\n",
    "plt.figure(figsize = (8,8))\n",
    "\n",
    "plt.errorbar( gps_time, gps_distance, yerr = gps_error ,linestyle = 'none', marker='d', color = 'b' ,markersize = 8 )\n",
    "\n",
    "plt.plot(t, y_2 , linestyle = '--' , color = 'r')\n",
    "\n",
    "plt.title('Distance As a Fucntion of Time of GPS Data', fontsize = 24)\n",
    "plt.xticks( fontsize = 20 )\n",
    "plt.yticks( fontsize = 20 )\n",
    "plt.xlabel('GPS TIME', fontsize = 22 )\n",
    "plt.ylabel('GPS Distance', fontsize = 22 ) "
   ]
  },
  {
   "cell_type": "code",
   "execution_count": 42,
   "metadata": {},
   "outputs": [
    {
     "name": "stdout",
     "output_type": "stream",
     "text": [
      "-4\n"
     ]
    }
   ],
   "source": [
    "print(int(a[q2[1]]))"
   ]
  },
  {
   "cell_type": "code",
   "execution_count": 43,
   "metadata": {},
   "outputs": [
    {
     "name": "stdout",
     "output_type": "stream",
     "text": [
      "The second model has a much smaller chi squared value so the second model better describes the data.\n",
      "\n",
      "So the second model which is a model of acceleration the object is accelerating.\n",
      "\n",
      "Just looking at the plot you can also tell it is accelerating because the slope of a distance vs. time graph is velocty and if the slope is changing, which it is, it means there is acceleration\n"
     ]
    }
   ],
   "source": [
    "print('The second model has a much smaller chi squared value so the second model better describes the data.\\n')\n",
    "\n",
    "print('So the second model which is a model of acceleration the object is accelerating.\\n')\n",
    "\n",
    "print('Just looking at the plot you can also tell it is accelerating because the slope of a distance vs. time graph is velocty and if the slope is changing, which it is, it means there is acceleration')\n",
    "\n"
   ]
  },
  {
   "cell_type": "code",
   "execution_count": 44,
   "metadata": {},
   "outputs": [
    {
     "name": "stdout",
     "output_type": "stream",
     "text": [
      "The integer of the acceleration of the best fit model is -4\n"
     ]
    }
   ],
   "source": [
    "print(f'The integer of the acceleration of the best fit model is {int(a[q2[1]])}')"
   ]
  },
  {
   "cell_type": "code",
   "execution_count": 45,
   "metadata": {},
   "outputs": [
    {
     "name": "stdout",
     "output_type": "stream",
     "text": [
      "[3, 7, 5, 2, 2, 5, -4]\n"
     ]
    }
   ],
   "source": [
    "#populating my key:\n",
    "key_code.append(int(a[q2[1]]))\n",
    "print(key_code)"
   ]
  },
  {
   "cell_type": "markdown",
   "metadata": {},
   "source": [
    "## Problem 10. <br>  The data is the truth (15 points)"
   ]
  },
  {
   "cell_type": "markdown",
   "metadata": {},
   "source": [
    "### You are getting close to the end. This is getting exciting! Where can the final clue be? You look around. What else is there? Dr. Cane sure has a fascination with nature....On the floor there is a nature painting showing waves and a Sun..But wait! There is something wrong. This is not just a painting. There are numbers across the 'waves'."
   ]
  },
  {
   "cell_type": "markdown",
   "metadata": {},
   "source": [
    "- Read in the data from the_data.dat (1 point) \n",
    "  The data contain the numbers you see on the painting. Years and some value associated with them.\n",
    "  \n",
    "- What is the period of the data (i.e., the time it takes to go from one peak to the next)? Make a code that scans the data and checks a window of 6 values at a time. If a value is larger than 3 points before it and 3 points after it, it is stored as a peak.   (12 points)\n",
    "    - Tip: start your scanning from point 3 so that the edge of the window is at point 0\n",
    "\n",
    "\n",
    "- Populate your *key_code* with the number (1 points).  \n",
    "- Print the *key_code* (1 points)."
   ]
  },
  {
   "cell_type": "code",
   "execution_count": 46,
   "metadata": {},
   "outputs": [
    {
     "data": {
      "image/png": "[encoded data removed]",
      "text/plain": [
       "<Figure size 432x288 with 1 Axes>"
      ]
     },
     "metadata": {
      "needs_background": "light"
     },
     "output_type": "display_data"
    }
   ],
   "source": [
    "final_data = np.loadtxt('the_data.dat')\n",
    "#print(final_data)\n",
    "year = final_data[:,0]\n",
    "number_associated = final_data[:,1]\n",
    "#print(len(number_associated))\n",
    "\n",
    "#visualizing for my own sake:\n",
    "plt.plot(year , number_associated, linestyle = '-', marker = 'o' , color = 'b')\n",
    "plt.grid()"
   ]
  },
  {
   "cell_type": "code",
   "execution_count": 49,
   "metadata": {},
   "outputs": [
    {
     "name": "stdout",
     "output_type": "stream",
     "text": [
      "The wave peaks are at the associated numbers: [106.5, 155.5, 149.4, 118.6, 129.8]\n",
      "\n",
      "[9.]\n",
      "\n",
      "The period in years between the peaks is 9 years\n"
     ]
    }
   ],
   "source": [
    "wav_peaks = []\n",
    "\n",
    "#Iterating through the associated number of the years in order to use the given parameters to find peaks:\n",
    "\n",
    "for i in range(3,len(number_associated),3):\n",
    "    if (number_associated[i-1]<number_associated[i]>number_associated[i+1]) & (number_associated[i-2]<number_associated[i]>number_associated[i+2]) & (number_associated[i-3]<number_associated[i]>number_associated[i+3]):\n",
    "        wav_peaks.append(number_associated[i])\n",
    "        \n",
    "print(f'The wave peaks are at the associated numbers: {wav_peaks}\\n')\n",
    "\n",
    "#Using the list of peak values I will iterate through them and subtract their associated years to get value of the period:\n",
    "for i in range(1,len(wav_peaks)):\n",
    "    year_0 = year[np.where(number_associated == wav_peaks[i-1])]\n",
    "    \n",
    "    year_f = year[np.where(number_associated == wav_peaks[i])]\n",
    "    \n",
    "    period = year_f - year_0\n",
    "    \n",
    "print(f'{period}\\n')\n",
    "    \n",
    "print(f'The period in years between the peaks is {int(period)} years')\n"
   ]
  },
  {
   "cell_type": "code",
   "execution_count": 48,
   "metadata": {},
   "outputs": [
    {
     "name": "stdout",
     "output_type": "stream",
     "text": [
      "[3, 7, 5, 2, 2, 5, -4, 9]\n"
     ]
    }
   ],
   "source": [
    "#updating the key:\n",
    "key_code.append(int(period))\n",
    "print(key_code)"
   ]
  },
  {
   "cell_type": "markdown",
   "metadata": {},
   "source": [
    "## Problem 11. <br>  Escape the room! (3 points)\n",
    "\n",
    "### You did it! You have the 8 digits that you need to exit the room! You run to the key pad and enter the code. Did it work? Open the pdf ***summer_saved.pdf*** using the 8 digits you got (no spaces or commas in between). "
   ]
  },
  {
   "cell_type": "code",
   "execution_count": 49,
   "metadata": {},
   "outputs": [],
   "source": [
    "#Unfortunately one or more of my keys in my keycode is wrong =( "
   ]
  },
  {
   "cell_type": "markdown",
   "metadata": {},
   "source": [
    "## Problem 12. <br> The final push (10 points)\n",
    "\n",
    "### You run around the cave and see the weather machine! You did it! You quickly open a terminal and access its main code. Dr. Cane is not that smart after all....You delete the running program and stop the eternal hurricane season from ever starting! \n",
    "\n",
    "\n",
    "### Now prepare and submit your homework. Write what you will do to make and submit the zip file into your log. Don’t forget to also commit your finalized log and push it to GitHub. When satisfied, close the log, copy it to your homework directory, and run the commands to make and submit the zip file. Turn the file in on WebCourses."
   ]
  },
  {
   "cell_type": "markdown",
   "metadata": {},
   "source": [
    "# Have a great summer!\n",
    "<img src=\"congrats_summer.gif\" width=200 height=200 />"
   ]
  },
  {
   "cell_type": "code",
   "execution_count": null,
   "metadata": {},
   "outputs": [],
   "source": []
  }
 ],
 "metadata": {
  "kernelspec": {
   "display_name": "Python 3",
   "language": "python",
   "name": "python3"
  },
  "language_info": {
   "codemirror_mode": {
    "name": "ipython",
    "version": 3
   },
   "file_extension": ".py",
   "mimetype": "text/x-python",
   "name": "python",
   "nbconvert_exporter": "python",
   "pygments_lexer": "ipython3",
   "version": "3.8.3"
  }
 },
 "nbformat": 4,
 "nbformat_minor": 5
}
