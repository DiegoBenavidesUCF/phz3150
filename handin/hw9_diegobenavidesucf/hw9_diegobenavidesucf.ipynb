{
 "cells": [
  {
   "cell_type": "code",
   "execution_count": 3,
   "metadata": {},
   "outputs": [],
   "source": [
    "# Diego Benavides\n",
    "# Mar 21 2022\n",
    "# HW9"
   ]
  },
  {
   "cell_type": "code",
   "execution_count": 4,
   "metadata": {},
   "outputs": [],
   "source": [
    "import numpy as np"
   ]
  },
  {
   "cell_type": "code",
   "execution_count": 5,
   "metadata": {},
   "outputs": [],
   "source": [
    "import matplotlib.pyplot as plt"
   ]
  },
  {
   "cell_type": "markdown",
   "metadata": {},
   "source": [
    "Problem 2:"
   ]
  },
  {
   "cell_type": "markdown",
   "metadata": {},
   "source": [
    "(30 points total). You are in the committee for organizing your town’s\n",
    "triathlon and you need to have an estimate for how long the event will take, and who\n",
    "might win it.\n",
    "a) (5 points) Create a numpy array sports with the average distance per sport\n",
    "(swim, bike, run) : 1500, 40000, 10000.\n",
    "‘Mapping’ the names of athletes to an ID number (e.g, Mary = 1, John = 2 etc)\n",
    "create a numpy array athletes_times that contains information about each\n",
    "participant’s average speed per sport (so you will have a (6,4) array ):\n",
    "Participant ID m/s for\n",
    "swimming\n",
    "m/s for biking m/s for\n",
    "running\n",
    "Mary 1 1.204 6.6 0.32\n",
    "John 2 1.212 6.5 0.36\n",
    "Peter 3 1.14 6.6 0.38\n",
    "Mafalda 4 1.12 6.2 0.38\n",
    "Paul 5 1.24 5.6 0.4\n",
    "Lionel 6 1.201 6.0 0.3\n",
    "b) (10 points) Create a function triathlon_time(sports,athletes_times)\n",
    "that gets as input your two arrays and outputs an informative message about\n",
    "which participant will finish first and their expected time in hours, and which one\n",
    "will finish last and their expected time in hours. Remember to use an appropriate\n",
    "docstring.\n",
    "c) (4 points) Change the list sports into a dictionary sports with keywords the\n",
    "sports, and values the total distance for each sport. Change athletes_times\n",
    "into a dictionary that has as keywords the names of participating athletes. For\n",
    "each participant (i.e., for each key) create a list with their average speed per\n",
    "sport (i.e., the appropriate dictionary values).\n",
    "d) (8 points) Create function\n",
    "triathlon_time_dict(sports,athletes_times)that get as input your\n",
    "two dictionaries and like triathlon_time(sports,athletes) outputs an\n",
    "informative message about which participant will finish first -- and their expected\n",
    "time in hours -- and which one will finish last and their expected time in hours.\n",
    "Tip 1: to simplify the problem you can gather the total distances the athletes need\n",
    "to cover in a list or array in your triathlon_time_dict.\n",
    "Tip 2: Scan over your athletes dictionary, and using their average speed per\n",
    "sport calculate the total time each one needs to finish the race. Find the minimum\n",
    "and maximum of these times and use that for your print() statements.\n",
    "e) (3 points) Call your functions (both triathlon_time and\n",
    "triathlon_time_dict) and let me know who finishes first and who last, and\n",
    "what their times will be. \n"
   ]
  },
  {
   "cell_type": "code",
   "execution_count": 6,
   "metadata": {},
   "outputs": [
    {
     "name": "stdout",
     "output_type": "stream",
     "text": [
      "Problem 2a:\n",
      "\n",
      "[ 1500 40000 10000]\n",
      "\n",
      "\n",
      "{1: 'Mary', 2: 'John', 3: 'Peter', 4: 'Mafalda', 5: 'Paul', 6: 'Lionel'}\n",
      "\n",
      "\n",
      "[[1.    1.204 6.6   0.32 ]\n",
      " [2.    1.212 6.5   0.36 ]\n",
      " [3.    1.14  6.6   0.38 ]\n",
      " [4.    1.12  6.2   0.38 ]\n",
      " [5.    1.24  5.6   0.4  ]\n",
      " [6.    1.201 6.    0.3  ]]\n"
     ]
    }
   ],
   "source": [
    "print('Problem 2a:\\n')\n",
    "\n",
    "#avg. distance per sport\n",
    "sports = np.array([ 1500 , 40000 , 10000 ])\n",
    "print(sports)\n",
    "\n",
    "print('\\n')\n",
    "\n",
    "#mapping the names to the ID number via a dictionary\n",
    "name_map = { 1 :'Mary' , 2 : 'John' , 3 : 'Peter' , 4 : 'Mafalda' , 5 : 'Paul', 6 : 'Lionel'}\n",
    "print(name_map)\n",
    "\n",
    "print('\\n')\n",
    "\n",
    "#6 by 4 array \n",
    "athletes_times = np.array([ [ 1 , 1.204 , 6.6 , 0.32] , [ 2 , 1.212 , 6.5 , 0.36 ] , [ 3 , 1.14 , 6.6 , 0.38 ] , [ 4 , 1.12 , 6.2 , 0.38 ] ,[ 5 , 1.24 , 5.6 , 0.4 ] , [ 6 , 1.201 , 6.0 , 0.3 ] ])\n",
    "athletes_times.reshape((6,4))\n",
    "\n",
    "print(athletes_times)\n",
    "#print(np.shape(athletes_times))\n",
    "\n",
    "\n"
   ]
  },
  {
   "cell_type": "code",
   "execution_count": 7,
   "metadata": {},
   "outputs": [
    {
     "name": "stdout",
     "output_type": "stream",
     "text": [
      "Problem 2b:\n",
      "\n",
      " Fastest athlete is Mary and their time is 1.760900486897533 hours.\n",
      " Slowest athlete is Paul and their time is 1.9759054634745241 hours\n",
      "None\n"
     ]
    }
   ],
   "source": [
    "print('Problem 2b:\\n')\n",
    "\n",
    "\n",
    "\n",
    "def triathlon_time( sports , athletes_times ):\n",
    "    \"\"\" This function takes in the average distance of each sport from the array sports\n",
    "    and takes in the athlete times per sport from the array athletes_times and output \n",
    "    outputs an informative message about which participant will finish first and their expected time in hours, and which one\n",
    "    will finish last and their expected time in hours.\n",
    "    INPUT: sports array and athletes_times array.\n",
    "    OUTPUT: statement about who finishes first and in what time in hours and who finishes. \"\"\"\n",
    "    \n",
    "    name_map = { 1 :'Mary' , 2 : 'John' , 3 : 'Peter' , 4 : 'Mafalda' , 5 : 'Paul', 6 : 'Lionel'}\n",
    "    \n",
    "    mary_time = ((np.sum(sports))/(np.sum(athletes_times[0, 1: ])))/(60*60)\n",
    "    \n",
    "    john_time = ((np.sum(sports))/(np.sum(athletes_times[1, 1: ])))/(60*60)\n",
    "    \n",
    "    peter_time = ((np.sum(sports))/(np.sum(athletes_times[2, 1: ])))/(60*60)\n",
    "    \n",
    "    mafalda_time = ((np.sum(sports))/(np.sum(athletes_times[3, 1: ])))/(60*60)\n",
    "    \n",
    "    paul_time = ((np.sum(sports))/(np.sum(athletes_times[4, 1: ])))/(60*60)\n",
    "    \n",
    "    lionel_time = ((np.sum(sports))/(np.sum(athletes_times[5, 1: ])))/(60*60)\n",
    "    \n",
    "    times_in_hours = [ mary_time , john_time , peter_time , mafalda_time , paul_time , lionel_time ]\n",
    "    \n",
    "    first_time = np.min(times_in_hours)\n",
    "    \n",
    "    last_time = np.max(times_in_hours)\n",
    "    \n",
    "    index_of_first = times_in_hours.index(first_time) + 1\n",
    "    \n",
    "    index_of_last = times_in_hours.index(last_time) + 1\n",
    "    \n",
    "    \n",
    "    \n",
    "    return print(f' Fastest athlete is {name_map[index_of_first]} and their time is {first_time} hours.\\n Slowest athlete is {name_map[index_of_last]} and their time is {last_time} hours')\n",
    "\n",
    "\n",
    "print(triathlon_time( sports , athletes_times))"
   ]
  },
  {
   "cell_type": "code",
   "execution_count": 9,
   "metadata": {},
   "outputs": [
    {
     "name": "stdout",
     "output_type": "stream",
     "text": [
      "Problem 2c:\n",
      "\n",
      "{'swimming': 1500, 'biking': 40000, 'running': 10000}\n",
      "\n",
      "{'Mary': [1.204, 6.6, 0.32], 'John': [1.212, 6.5, 0.36], 'Peter': [1.14, 6.6, 0.38], 'Mafalda': [1.12, 6.2, 0.38], 'Paul': [1.24, 5.6, 0.4], 'Lionel': [1.201, 6.0, 0.3]}\n",
      "\n"
     ]
    }
   ],
   "source": [
    "print('Problem 2c:\\n')\n",
    "\n",
    "sports_dict = { 'swimming' : 1500 , 'biking' : 40000 , 'running' : 10000 }\n",
    "\n",
    "print(f'{sports_dict}\\n')\n",
    "\n",
    "athletes_times_dict = { 'Mary' : [ 1.204 , 6.6 , 0.32 ] , 'John' : [ 1.212 , 6.5 , 0.36 ] , 'Peter' : [ 1.14 , 6.6 , 0.38 ] , 'Mafalda' : [ 1.12 , 6.2 , 0.38 ] , 'Paul' : [ 1.24 , 5.6 , 0.4 ] , 'Lionel' :[ 1.201 , 6.0 , 0.3 ]}\n",
    "\n",
    "print(f'{athletes_times_dict}\\n')\n"
   ]
  },
  {
   "cell_type": "code",
   "execution_count": 10,
   "metadata": {},
   "outputs": [
    {
     "name": "stdout",
     "output_type": "stream",
     "text": [
      "Problem 2d:\n",
      "\n",
      " Fastest athlete is Mary and their time is 1.760900486897533 hours.\n",
      " Slowest athlete is Paul and their time is 1.9759054634745241 hours\n",
      "None\n"
     ]
    }
   ],
   "source": [
    "print('Problem 2d:\\n')\n",
    "\n",
    "def triathlon_time_dict( sports_dict , athletes_times_dict ):\n",
    "    \"\"\" This function takes in the average distance of each sport from the dictionary sports\n",
    "    and takes in the athlete times per sport from the dictionary athletes_times and output \n",
    "    outputs an informative message about which participant will finish first and their expected time in hours, \n",
    "    and which one will finish last and their expected time in hours.\n",
    "    INPUT: sports dictionary and athletes_times dictionary.\n",
    "    OUTPUT: statement about who finishes first and in what time in hours and who finishes. \"\"\"\n",
    "    \n",
    "    tot_d = sports_dict['swimming'] + sports_dict['biking'] + sports_dict['running']\n",
    "    \n",
    "    tot_speed = np.array([ sum(athletes_times_dict['Mary']) , sum(athletes_times_dict['John']) , sum(athletes_times_dict['Peter']) , sum(athletes_times_dict['Mafalda']) , sum(athletes_times_dict['Paul']) , sum(athletes_times_dict['Lionel'] )])\n",
    "    \n",
    "    fastest_speed = np.max(tot_speed)\n",
    "    slowest_speed = np.min(tot_speed)\n",
    "\n",
    "    \n",
    "    for k , v in athletes_times_dict.items():\n",
    "        if sum(v) == fastest_speed:\n",
    "            fastest_person = k\n",
    "        \n",
    "    for k , v in athletes_times_dict.items():\n",
    "        if sum(v) == slowest_speed:\n",
    "            slowest_person = k\n",
    "            \n",
    "    fastest_time = (tot_d/(np.sum(athletes_times_dict[fastest_person])))/(60*60)\n",
    "    slowest_time = (tot_d/(np.sum(athletes_times_dict[slowest_person])))/(60*60) \n",
    "    \n",
    "    return print(f' Fastest athlete is {fastest_person} and their time is {fastest_time} hours.\\n Slowest athlete is {slowest_person} and their time is {slowest_time} hours')\n",
    "\n",
    "print(triathlon_time_dict(sports_dict , athletes_times_dict))"
   ]
  },
  {
   "cell_type": "code",
   "execution_count": 27,
   "metadata": {},
   "outputs": [
    {
     "name": "stdout",
     "output_type": "stream",
     "text": [
      "Problem 2e:\n",
      "\n",
      " Fastest athlete is Mary and their time is 1.760900486897533 hours.\n",
      " Slowest athlete is Paul and their time is 1.9759054634745241 hours\n",
      "None\n",
      "\n",
      "\n",
      " Fastest athlete is Mary and their time is 1.760900486897533 hours.\n",
      " Slowest athlete is Paul and their time is 1.9759054634745241 hours\n",
      "None\n"
     ]
    }
   ],
   "source": [
    "print('Problem 2e:\\n')\n",
    "\n",
    "#first function:\n",
    "\n",
    "print(triathlon_time( sports , athletes_times))\n",
    "\n",
    "print('\\n')\n",
    "# Function with dicitonaries:\n",
    "\n",
    "print(triathlon_time_dict(sports_dict , athletes_times_dict))    "
   ]
  },
  {
   "cell_type": "markdown",
   "metadata": {},
   "source": [
    "Problem 3:"
   ]
  },
  {
   "cell_type": "markdown",
   "metadata": {},
   "source": [
    ") Do your homework(!) In Python.\n",
    "a) (5 points) Choose any problem from a recent homework assignment or other\n",
    "assessment in another class that involves something you need to calculate or\n",
    "derive and that you can plot. State the class, section, assignment, and item\n",
    "number. State (or take a photo/ make a screenshot of) the problem. State (or\n",
    "take a photo/ make a screenshot of) your solution as given in that class\n",
    "(corrected by you).\n",
    "b) (15 points) Now, code your solution and make and save one or more plots. Your\n",
    "code must use two or more of: control flow structures (conditional, loops, function\n",
    "calls), when possible, avoid loops and use NumPy array math (you’ll get bonus 5\n",
    "points for actively doing this, provided it is appropriate), broadcasting, string\n",
    "formatting, reading or writing data to/from a file, masks. However, everything you\n",
    "write should be natural and belong in the code. "
   ]
  },
  {
   "cell_type": "code",
   "execution_count": 28,
   "metadata": {},
   "outputs": [
    {
     "name": "stdout",
     "output_type": "stream",
     "text": [
      "Problem 3a:\n",
      "\n",
      "I will include my Results for this experiment in my hw9_diegobenavidesucf folder as a pdf titled hw9_diegobenavidesucf_prob3a_Interferometry_Results_Revision_Group_8.\n"
     ]
    }
   ],
   "source": [
    "print('Problem 3a:\\n')\n",
    "# Class: 4803L (advanced physics lab) section 0001\n",
    "# Assignment: Interferometry Experiment\n",
    "# The Interferometry experiment required me to build a Michelson Interferometer, where the optical path can be \n",
    "# manipulated by a micrometer. The experiment required me to plot the change in optical path as a function of\n",
    "# of the fringe counts. I had to repeat this for two different lasers; a red one and a green one.\n",
    "# The slope of the linear regression of this plot gives the wavelenghth of the lasers \n",
    "# (This is visible in the legend of my plot). \n",
    "\n",
    "\n",
    "#I will include my Results for this experiment in my hw9_diegobenavidesucf folder as a pdf titled Interferometry_Results_Revision_Group_8.\n",
    "\n",
    "print('I will include my Results for this experiment in my hw9_diegobenavidesucf folder as a pdf titled hw9_diegobenavidesucf_prob3a_Interferometry_Results_Revision_Group_8.')"
   ]
  },
  {
   "cell_type": "code",
   "execution_count": 29,
   "metadata": {},
   "outputs": [
    {
     "name": "stdout",
     "output_type": "stream",
     "text": [
      "Problem 3b:\n",
      "\n",
      "Linear regression of red laser is  \n",
      "700.4 x - 509.6 its R^2 is 0.9891521804210001\n",
      "Linear regression of green laser is  \n",
      "547.6 x - 289.5 its R^2 is 0.9981068364927439\n"
     ]
    },
    {
     "data": {
      "image/png": "[encoded data removed]",
      "text/plain": [
       "<Figure size 576x576 with 1 Axes>"
      ]
     },
     "metadata": {
      "needs_background": "light"
     },
     "output_type": "display_data"
    }
   ],
   "source": [
    "print('Problem 3b:\\n')\n",
    "\n",
    "#plot where slope is wavelength , and I will save this plot\n",
    "\n",
    "from sklearn.metrics import r2_score \n",
    "\n",
    "n_red = [ 0 , 22 , 25 , 43 ]\n",
    "\n",
    "d_red = [ 0, 13000 , 18000 , 30000 ]\n",
    "\n",
    "n_green = [ 0 , 19 , 36 , 39 , 73 ]\n",
    "\n",
    "d_green = [ 0 , 10000 , 20000 , 20000 , 40000 ] \n",
    "\n",
    "plt.figure(figsize = (8,8))\n",
    "\n",
    "plt.plot( n_red , d_red , color = 'red' , linestyle = 'none' , label = ' red laser', marker = 'o') \n",
    "\n",
    "plt.plot( n_green , d_green , color = 'green' , linestyle = 'none' , label = ' green laser', marker = 's')\n",
    "\n",
    "plt.title('Fringe Count (n) vs Change in Optical Path Length (nm)', fontsize = 15)\n",
    "\n",
    "plt.ylabel('Change in Distance (nm) (of Optical Path)', fontsize = 15)\n",
    "\n",
    "plt.xlabel('Fringes Count ( n )' , fontsize = 15)\n",
    "\n",
    "#linear regression red\n",
    "\n",
    "polynomial_coefficients = np.polyfit( n_red , d_red , 1 )\n",
    "p1= np.poly1d(polynomial_coefficients)\n",
    "#print(p1)\n",
    "xnew_lin = p1\n",
    "\n",
    "#linear regression green\n",
    "\n",
    "polynomial_coefficients_2 = np.polyfit( n_green , d_green , 1)\n",
    "p2 = np.poly1d(polynomial_coefficients_2)\n",
    "#print(p2)\n",
    "xnew_lin_2 = p2\n",
    "\n",
    "plt.plot( n_red , np.polyval( p1 , n_red ) , color = 'red' , linestyle = '--', label = 'y = 700.4 x - 509.6'  )\n",
    "plt.plot( n_green , np.polyval( p2 , n_green) , color = 'green' , linestyle ='--' , label = 'y = 547.6 x - 289.5 ')\n",
    "plt.plot( 0 , 0 , color = 'none' , linestyle = 'none', label = '\\n R^2 for red laser: 0.989')\n",
    "plt.plot(0 , 0 , color = 'none' , linestyle = 'none', label = '\\n R^2 for green laser: 0.998')\n",
    "plt.legend(fontsize = 11.0)\n",
    "\n",
    "#r^2\n",
    "\n",
    "r_squared_red = r2_score( d_red , np.polyval( p1 , n_red ) )\n",
    "\n",
    "r_squared_green = r2_score( d_green , np.polyval( p2 , n_green ))\n",
    "\n",
    "\n",
    "# dictionary where the name of lasers contain a list of the linear regression r^2 value and for loop to print the:\n",
    "\n",
    "laser_stats = {'red laser': [p1 , r_squared_red] , 'green laser' : [p2 , r_squared_green] }\n",
    "\n",
    "for k , v in laser_stats.items():\n",
    "    print(f'Linear regression of {k} is {v[0]} its R^2 is {v[1]}')\n",
    "\n",
    "\n",
    "\n",
    "plt.savefig('hw9_diegobenavidesucf_prob3b_Interferometry_wav_from_slope.png' , dpi = 1200 , bbox_inches = 'tight', pad_inches = 0.3 )\n",
    "\n",
    "\n"
   ]
  },
  {
   "cell_type": "markdown",
   "metadata": {},
   "source": [
    "Problem 4:"
   ]
  },
  {
   "cell_type": "markdown",
   "metadata": {},
   "source": [
    "Graduation season is coming, and you need to buy presents for\n",
    "all your friends graduating! Surprising your friends with many little presents which you\n",
    "hide in one big box is more fun than getting them one big present. The logistics though,\n",
    "are hard. To prepare for that, you need to find out how much wrapping paper you will\n",
    "need for the boxes and how many presents you can fit in every box! Create a class\n",
    "graduation_presents that uses the dimensions a,b,c of a box to calculate the\n",
    "box’s surface area and volume. Assume that your dimensions are in inches. The class\n",
    "should also know how much wrapping paper you have (in inches2) and how many\n",
    "presents you want to fit in your box. Use a proper initiation function.\n",
    "Your class should contain:\n",
    "a) An initiation function\n",
    "b) a function that returns the surface area of the box (named, e.g.,\n",
    "surface_area),\n",
    "c) a function that returns the volume of the box (e.g., volume),\n",
    "d) a function that checks if you have enough wrapping paper to cover your box\n",
    "(enough_paper)\n",
    "e) a function that checks if your box can fit all the presents (fits; assuming that\n",
    "the average volume of a gift is 25 inches3) and\n",
    "f) a function (print_gift) that combines all these information and lets you know\n",
    "(with print() statements) if you have enough wrapping paper to wrap your box, if\n",
    "your gifts fit in the box, or if nothing is right.\n",
    "Test it for the following combinations:\n",
    "a b c number_of_gifts wrap_paper_available\n",
    "10 10 10 15 800\n",
    "10 10 10 55 1000\n",
    "100 20 10 55 300"
   ]
  },
  {
   "cell_type": "code",
   "execution_count": 11,
   "metadata": {},
   "outputs": [
    {
     "name": "stdout",
     "output_type": "stream",
     "text": [
      "Problem 4:\n",
      "\n",
      "Surface area for case 1 is 600 inches^2.\n",
      "Volume for case 1 is 1000 inches^3.\n",
      "You have enough paper for case 1.\n",
      "You CAN fit all gifts for case 1.\n",
      " You have enough paper, You CAN fit all gifts in the box, \n",
      "None\n",
      "\n",
      "Surface area for case 2 is 600 inches^2.\n",
      "Volume for case 2 is 1000 inches^3.\n",
      "You have enough paper for case 2.\n",
      "You CANNOT fit all gifts for case 2.\n",
      " You have enough paper, You CANNOT fit all gifts in the box, \n",
      "None\n",
      "\n",
      "Surface area for case 3 is 6400 inches^2.\n",
      "Volume for case 3 is 20000 inches^3.\n",
      "Sorry, not enough paper for case 3.\n",
      "You CAN fit all gifts for case 3.\n",
      " Sorry, not enough paper, You CAN fit all gifts in the box, \n",
      "None\n",
      "\n"
     ]
    }
   ],
   "source": [
    "print('Problem 4:\\n')\n",
    "\n",
    "class graduation_presents:\n",
    "    \n",
    "    def __init__(self , a = 0 , b = 0 , c = 0 , p = 0 , w = 0 ):\n",
    "        \n",
    "        #dimensions\n",
    "        self.a = a\n",
    "        self.b = b\n",
    "        self.c = c\n",
    "        \n",
    "        #wrapping paper\n",
    "        \n",
    "        self.w = w\n",
    "        \n",
    "        #present count\n",
    "        \n",
    "        self.p = p\n",
    "        \n",
    "    def surface_area(self):\n",
    "        \n",
    "        s_a = (2*self.a*self.b) + (2*self.a*self.c) + (2*self.b*self.c)\n",
    "        \n",
    "        return s_a\n",
    "        \n",
    "    def volume(self):\n",
    "        \n",
    "        v = self.a * self.b * self.c\n",
    "        \n",
    "        return v\n",
    "    \n",
    "    def enough_paper(self):\n",
    "        \n",
    "        area = (2*self.a*self.b) + (2*self.a*self.c) + (2*self.b*self.c)\n",
    "        \n",
    "        if self.w > area:\n",
    "            x = 'You have enough paper'\n",
    "        else:\n",
    "            x = 'Sorry, not enough paper'\n",
    "            \n",
    "        return x\n",
    "    \n",
    "    def fits(self):\n",
    "        \n",
    "        v = self.a * self.b * self.c\n",
    "        \n",
    "        v_of_gift = 25 \n",
    "        \n",
    "        v_tot_gift = v_of_gift*self.p\n",
    "        \n",
    "        if v_tot_gift < v:\n",
    "            y = 'You CAN fit all gifts'\n",
    "        else:\n",
    "            y = 'You CANNOT fit all gifts'\n",
    "            \n",
    "        return y\n",
    "    \n",
    "    def print_gift(self):\n",
    "        \n",
    "        area = (2*self.a*self.b) + (2*self.a*self.c) + (2*self.b*self.c)\n",
    "        \n",
    "        if self.w > area:\n",
    "            x = 'You have enough paper'\n",
    "        else:\n",
    "            x = 'Sorry, not enough paper'\n",
    "            \n",
    "        v = self.a * self.b * self.c\n",
    "        \n",
    "        v_of_gift = 25 \n",
    "        \n",
    "        v_tot_gift = v_of_gift*self.p\n",
    "        \n",
    "        if v_tot_gift < v:\n",
    "            y = 'You CAN fit all gifts in the box'\n",
    "        else:\n",
    "            y = 'You CANNOT fit all gifts in the box'\n",
    "            \n",
    "            \n",
    "        \n",
    "        if (self.w < area) & ( v_tot_gift > v):\n",
    "            q = 'Nothing is right!'\n",
    "            \n",
    "        else:\n",
    "            q =''\n",
    "        \n",
    "        z = print(f' {x}, {y}, {q}')\n",
    "        \n",
    "        return z\n",
    "        \n",
    "        \n",
    "        \n",
    "        \n",
    "    \n",
    "    \n",
    "#test cases:\n",
    "\n",
    "#case 1:\n",
    "\n",
    "g1 = graduation_presents( 10 , 10 , 10 , 15, 800 )\n",
    "\n",
    "print(f'Surface area for case 1 is {g1.surface_area()} inches^2.\\nVolume for case 1 is {g1.volume()} inches^3.\\n{g1.enough_paper()} for case 1.\\n{g1.fits()} for case 1.')\n",
    "        \n",
    "print(f'{g1.print_gift()}\\n')     \n",
    "\n",
    "#case 2:\n",
    "\n",
    "g2 = graduation_presents( 10 , 10 , 10 , 55 , 1000 )\n",
    "\n",
    "print(f'Surface area for case 2 is {g2.surface_area()} inches^2.\\nVolume for case 2 is {g2.volume()} inches^3.\\n{g2.enough_paper()} for case 2.\\n{g2.fits()} for case 2.')\n",
    "        \n",
    "print(f'{g2.print_gift()}\\n')  \n",
    "\n",
    "#case 3:\n",
    "\n",
    "g3 = graduation_presents( 100 , 20 , 10 , 55 , 300 )\n",
    "\n",
    "print(f'Surface area for case 3 is {g3.surface_area()} inches^2.\\nVolume for case 3 is {g3.volume()} inches^3.\\n{g3.enough_paper()} for case 3.\\n{g3.fits()} for case 3.')\n",
    "        \n",
    "print(f'{g3.print_gift()}\\n') \n"
   ]
  },
  {
   "cell_type": "code",
   "execution_count": null,
   "metadata": {},
   "outputs": [],
   "source": []
  }
 ],
 "metadata": {
  "kernelspec": {
   "display_name": "Python 3",
   "language": "python",
   "name": "python3"
  },
  "language_info": {
   "codemirror_mode": {
    "name": "ipython",
    "version": 3
   },
   "file_extension": ".py",
   "mimetype": "text/x-python",
   "name": "python",
   "nbconvert_exporter": "python",
   "pygments_lexer": "ipython3",
   "version": "3.8.3"
  }
 },
 "nbformat": 4,
 "nbformat_minor": 4
}
