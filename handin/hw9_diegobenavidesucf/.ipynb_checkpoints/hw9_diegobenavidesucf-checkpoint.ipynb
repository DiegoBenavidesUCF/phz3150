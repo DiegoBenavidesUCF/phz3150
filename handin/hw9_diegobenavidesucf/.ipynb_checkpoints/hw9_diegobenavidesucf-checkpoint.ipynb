{
 "cells": [
  {
   "cell_type": "code",
   "execution_count": 1,
   "metadata": {},
   "outputs": [],
   "source": [
    "# Diego Benavide\n",
    "# Mar 21 2022\n",
    "# HW9"
   ]
  },
  {
   "cell_type": "code",
   "execution_count": 2,
   "metadata": {},
   "outputs": [],
   "source": [
    "import numpy as np"
   ]
  },
  {
   "cell_type": "code",
   "execution_count": 3,
   "metadata": {},
   "outputs": [],
   "source": [
    "import matplotlib.pyplot as plt"
   ]
  },
  {
   "cell_type": "markdown",
   "metadata": {},
   "source": [
    "Problem 2:"
   ]
  },
  {
   "cell_type": "markdown",
   "metadata": {},
   "source": [
    "(30 points total). You are in the committee for organizing your town’s\n",
    "triathlon and you need to have an estimate for how long the event will take, and who\n",
    "might win it.\n",
    "a) (5 points) Create a numpy array sports with the average distance per sport\n",
    "(swim, bike, run) : 1500, 40000, 10000.\n",
    "‘Mapping’ the names of athletes to an ID number (e.g, Mary = 1, John = 2 etc)\n",
    "create a numpy array athletes_times that contains information about each\n",
    "participant’s average speed per sport (so you will have a (6,4) array ):\n",
    "Participant ID m/s for\n",
    "swimming\n",
    "m/s for biking m/s for\n",
    "running\n",
    "Mary 1 1.204 6.6 0.32\n",
    "John 2 1.212 6.5 0.36\n",
    "Peter 3 1.14 6.6 0.38\n",
    "Mafalda 4 1.12 6.2 0.38\n",
    "Paul 5 1.24 5.6 0.4\n",
    "Lionel 6 1.201 6.0 0.3\n",
    "b) (10 points) Create a function triathlon_time(sports,athletes_times)\n",
    "that gets as input your two arrays and outputs an informative message about\n",
    "which participant will finish first and their expected time in hours, and which one\n",
    "will finish last and their expected time in hours. Remember to use an appropriate\n",
    "docstring.\n",
    "c) (4 points) Change the list sports into a dictionary sports with keywords the\n",
    "sports, and values the total distance for each sport. Change athletes_times\n",
    "into a dictionary that has as keywords the names of participating athletes. For\n",
    "each participant (i.e., for each key) create a list with their average speed per\n",
    "sport (i.e., the appropriate dictionary values).\n",
    "d) (8 points) Create function\n",
    "triathlon_time_dict(sports,athletes_times)that get as input your\n",
    "two dictionaries and like triathlon_time(sports,athletes) outputs an\n",
    "informative message about which participant will finish first -- and their expected\n",
    "time in hours -- and which one will finish last and their expected time in hours.\n",
    "Tip 1: to simplify the problem you can gather the total distances the athletes need\n",
    "to cover in a list or array in your triathlon_time_dict.\n",
    "Tip 2: Scan over your athletes dictionary, and using their average speed per\n",
    "sport calculate the total time each one needs to finish the race. Find the minimum\n",
    "and maximum of these times and use that for your print() statements.\n",
    "e) (3 points) Call your functions (both triathlon_time and\n",
    "triathlon_time_dict) and let me know who finishes first and who last, and\n",
    "what their times will be. \n"
   ]
  },
  {
   "cell_type": "code",
   "execution_count": null,
   "metadata": {},
   "outputs": [],
   "source": []
  },
  {
   "cell_type": "code",
   "execution_count": null,
   "metadata": {},
   "outputs": [],
   "source": []
  }
 ],
 "metadata": {
  "kernelspec": {
   "display_name": "Python 3",
   "language": "python",
   "name": "python3"
  },
  "language_info": {
   "codemirror_mode": {
    "name": "ipython",
    "version": 3
   },
   "file_extension": ".py",
   "mimetype": "text/x-python",
   "name": "python",
   "nbconvert_exporter": "python",
   "pygments_lexer": "ipython3",
   "version": "3.8.3"
  }
 },
 "nbformat": 4,
 "nbformat_minor": 4
}
