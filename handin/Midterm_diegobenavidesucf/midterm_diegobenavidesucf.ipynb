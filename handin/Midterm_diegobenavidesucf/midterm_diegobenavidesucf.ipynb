{
 "cells": [
  {
   "cell_type": "code",
   "execution_count": 1,
   "metadata": {},
   "outputs": [],
   "source": [
    "# Diego Benavides\n",
    "#feb 23 2022\n",
    "#Midterm assignment "
   ]
  },
  {
   "cell_type": "markdown",
   "metadata": {},
   "source": [
    "## The Grand Tour  "
   ]
  },
  {
   "cell_type": "markdown",
   "metadata": {},
   "source": [
    "### The year is 2340. Human kind has colonized the whole Solar system. Travelling between planets, moons and minor bodies with one's spaceship is as easy as driving a car between cities used to be in the 21st century. There are still, however, some extra considerations to take into account as all these bodies evolve around the Sun and one needs to organize their trip carefully, or risk wasting *a lot* of fuel. Your mission is to create a code that will enable navigation through the Solar system and let the user know when is best to travel to their destination.\n",
    "\n",
    "<img src=\"grand_tour_nasa.png\" width=300 height=500 />\n",
    "Credit: NASA"
   ]
  },
  {
   "cell_type": "markdown",
   "metadata": {},
   "source": [
    "\n"
   ]
  },
  {
   "cell_type": "markdown",
   "metadata": {},
   "source": [
    "## 1. The setup (10 points total)"
   ]
  },
  {
   "cell_type": "markdown",
   "metadata": {},
   "source": [
    "At this point you should have made a folder named Midterm_yourname and have moved this notebook in there. (**2 points**)\n",
    "\n",
    "Don't forget that a good log is part of a successful mission! Start your log please! (**3 points**)\n",
    "\n",
    "You will need to import the necessary package(s) to do numerical problems. Start by doing all your imports here. (**5 points**)"
   ]
  },
  {
   "cell_type": "code",
   "execution_count": 1,
   "metadata": {},
   "outputs": [],
   "source": [
    "import numpy as np"
   ]
  },
  {
   "cell_type": "code",
   "execution_count": 2,
   "metadata": {},
   "outputs": [],
   "source": [
    "import matplotlib.pyplot as plt "
   ]
  },
  {
   "cell_type": "markdown",
   "metadata": {},
   "source": [
    "## 2. Well begun is half done. (30 points total + 2 bonus)"
   ]
  },
  {
   "cell_type": "markdown",
   "metadata": {},
   "source": [
    "### We need to ask the user of our code where they travel from/to.\n",
    "\n",
    "A) Make a variable named *start_location* that will hold the information of where the \n",
    "traveler starts from. Make a variable *destination_location* that will hold the information \n",
    "of where the traveler wants to end. Your code should ask for input from the user about \n",
    "where they want to travel to/from and store the input in these variables. (**5 points**) "
   ]
  },
  {
   "cell_type": "code",
   "execution_count": 3,
   "metadata": {},
   "outputs": [
    {
     "name": "stdout",
     "output_type": "stream",
     "text": [
      "Type in your starting location and then type in your desired destination location:\n",
      "\n",
      "Earth\n",
      "Mars\n"
     ]
    }
   ],
   "source": [
    "print('Type in your starting location and then type in your desired destination location:\\n')\n",
    "\n",
    "start_location = str(input())\n",
    "\n",
    "destination_location = str(input())\n"
   ]
  },
  {
   "cell_type": "markdown",
   "metadata": {},
   "source": [
    "### Now we need to make sure that the traveler gave us valid input. \n",
    "\n",
    "B) Make a list named *planets_and_moons* that contains the names of all possible planets and moons the traveler can travel between. The list should contain only the following bodies: \n",
    "\n",
    "Mercury, Venus, Earth, Moon, Ceres, Mars, Jupiter, Io, Europa, Saturn, Titan, Neptune, Pluto, Charon. (**5 points**) \n",
    "\n"
   ]
  },
  {
   "cell_type": "code",
   "execution_count": 4,
   "metadata": {},
   "outputs": [],
   "source": [
    "planets_and_moons = ['Mercury' , 'Venus' , 'Earth' , 'Moon' , 'Ceres' , 'Mars' , 'Jupiter' , 'Io' , 'Europa' , 'Saturn' , 'Titan' , 'Neptune' , 'Pluto' , 'Charon']\n",
    "#print(type(planets_and_moons))"
   ]
  },
  {
   "cell_type": "markdown",
   "metadata": {},
   "source": [
    "C) Make a code that checks whether the input given from the traveler is available among the allowed locations a trip can be made to/from. (**2 points**) \n",
    "\n",
    "If both are valid inputs the code should print a message to let the traveler know the code will proceed (**3 point**).\n",
    "\n",
    "If any of the inputs are not allowed, the code should let the traveler know that they need to give a new start or destination point, and inform them what options are available. The code should then ask for the corrected start or destination points. (**5 points**)\n",
    "\n",
    "Note: at this point we will assume that the traveler entered a correct location and did not do a mistake a second time. **Bonus 2 points:** what would you need to add to the code to check that this assumption is correct, and let the traveler know they made a new mistake? Add functionality that could account for the user making repeated mistakes entering the locations until they entered it in correctly. Explain with a comment under the code you just wrote. "
   ]
  },
  {
   "cell_type": "code",
   "execution_count": 5,
   "metadata": {},
   "outputs": [
    {
     "name": "stdout",
     "output_type": "stream",
     "text": [
      "Both Earth and Mars are valid locations. The Journey will proceed!\n"
     ]
    }
   ],
   "source": [
    "if start_location in planets_and_moons:\n",
    "    if destination_location in planets_and_moons:\n",
    "        print(f'Both {start_location} and {destination_location} are valid locations. The Journey will proceed!')\n",
    "    else:\n",
    "        print(f'One or more of your locations is invalid.\\nYour possible options are {planets_and_moons}.\\nInput new locations:\\n')\n",
    "        start_location = str(input())\n",
    "        destination_location = str(input())\n",
    "else:\n",
    "    print(f'One or more of your locations is invalid.\\nYour possible options are {planets_and_moons}.\\nInput new locations:\\n')\n",
    "    \n",
    "    start_location = str(input())\n",
    "    destination_location = str(input())\n",
    "    "
   ]
  },
  {
   "cell_type": "code",
   "execution_count": null,
   "metadata": {},
   "outputs": [],
   "source": [
    "#In order to check if the new locations are correct or incorrect you would have to \n",
    "#repeat the code above for the new locations. But this could go on forever if you wanted to\n",
    "#by continuing to check if the new locations are incorrect, and then do the same for the ones\n",
    "#after that and after that."
   ]
  },
  {
   "cell_type": "markdown",
   "metadata": {},
   "source": [
    "### Test that your code works.  \n",
    "\n",
    "D-1) Try a trip starting at Demos and destination Io. Run the code so far, and make a screenshot showing that the code warns you that the starting point is not valid. Save the screenshot with the appropriate name to your folder. (**5 points**)\n",
    "\n",
    "D-2) Change the starting point to Jupiter. Make a screenshot showing that the code lets you know you will proceed with the trip. Save the screenshot with the appropriate name to your folder. (**5 points**)\n"
   ]
  },
  {
   "cell_type": "code",
   "execution_count": null,
   "metadata": {},
   "outputs": [],
   "source": [
    "# Now I will take a screen shot for the above prompts D-1 and D-2."
   ]
  },
  {
   "cell_type": "markdown",
   "metadata": {},
   "source": [
    "## 3. The solar system nagivation. (20 points total)\n",
    "\n",
    "Now that we know what the traveler wants to do, we need to let them know how long the trip will be and how much time it will take them. \n",
    "\n",
    "A) File solar_system_date_1.dat has information about the distances (in AU) between all bodies on a given date. If you open the file, you will see that it contains a 14 x 14 table (as we have 14 celestial bodies that we can travel between) with the distances between the bodies. The  Nth line and Nth column are a given body, so that the diagonal is zeros (as the distance from A to A is zero). The distance between Earth and the Moon, e.g., is 0.0030 AU so that line 3 (#4 of the file) column 2 of your data (i.e., the distance from the Earth to the Moon) is 0.0030 (note that the same is true for line 2 column 3 as this is the distance from the Moon to the Earth). \n",
    "\n",
    "Use the appropriate numpy function to read the data into variable *space_distances_date1*. (**3 points**)"
   ]
  },
  {
   "cell_type": "code",
   "execution_count": 6,
   "metadata": {},
   "outputs": [],
   "source": [
    "space_distances_date_1 = np.loadtxt('solar_system_date_1.dat', comments = '#')\n",
    "\n",
    "#print(space_distances_date1)"
   ]
  },
  {
   "cell_type": "markdown",
   "metadata": {},
   "source": [
    "B) Next you will need to find which solar system bodies the traveler wants to travel from/to when they give you their navigation start and end points (like above Jupiter/Io). Use your preferred method to get the index of the bodies (name the indexes *start_body_i* and *destination_body_i*) from your planets_and_moons list. (**4 points**) "
   ]
  },
  {
   "cell_type": "code",
   "execution_count": 7,
   "metadata": {},
   "outputs": [
    {
     "name": "stdout",
     "output_type": "stream",
     "text": [
      "2\n"
     ]
    }
   ],
   "source": [
    "start_body_i = planets_and_moons.index(start_location)\n",
    "\n",
    "print(start_body_i)"
   ]
  },
  {
   "cell_type": "code",
   "execution_count": 8,
   "metadata": {},
   "outputs": [
    {
     "name": "stdout",
     "output_type": "stream",
     "text": [
      "5\n"
     ]
    }
   ],
   "source": [
    "destination_body_i = planets_and_moons.index(destination_location)\n",
    "\n",
    "print(destination_body_i)"
   ]
  },
  {
   "cell_type": "markdown",
   "metadata": {},
   "source": [
    "C) Using the space_distances_date1 data and indexes start_body_i and destination_body_i you just calculated, find the distance the traveler will travel. Print an informative statement to let them know what the distance between their start and end points are (e.g., 'You will travel 10AU from the Moon to Calisto' ) (**5 points**)"
   ]
  },
  {
   "cell_type": "code",
   "execution_count": 9,
   "metadata": {},
   "outputs": [],
   "source": [
    "desired_travel_distance = space_distances_date_1[ destination_body_i , start_body_i ]\n",
    "\n",
    "#print(desired_travel_distance)"
   ]
  },
  {
   "cell_type": "code",
   "execution_count": 10,
   "metadata": {},
   "outputs": [
    {
     "name": "stdout",
     "output_type": "stream",
     "text": [
      "The distance between Earth and Mars is 2.113 AU\n"
     ]
    }
   ],
   "source": [
    "print(f'The distance between {start_location} and {destination_location} is {desired_travel_distance} AU')"
   ]
  },
  {
   "cell_type": "markdown",
   "metadata": {},
   "source": [
    "D) Assume that the traveler can travel at an average speed of 0.001AU/hr. Calculate the average travel time it will take them to go from their start to their destination body. Calculate how many Earth years (travel_time_years; assume 365 days in the year), Earth days (travel_time_days), Earth hours (travel_time_hours) and Earth minutes (travel_time_minutes) the trip will take. </br>\n",
    "Present this result in the format: \"(Earth_Years) years (Earth_Days) days, (Earth_Hours) hours (Earth_Mins) mins\". With the corresponding values in the parentheses, do not include the parentheses in your final answer. Print an informative statement that lets the traveler know how long their trip will take. (**4 points**) "
   ]
  },
  {
   "cell_type": "code",
   "execution_count": 11,
   "metadata": {},
   "outputs": [],
   "source": [
    "average_speed = 0.001"
   ]
  },
  {
   "cell_type": "code",
   "execution_count": 12,
   "metadata": {},
   "outputs": [
    {
     "name": "stdout",
     "output_type": "stream",
     "text": [
      "0.24121004566210047\n"
     ]
    }
   ],
   "source": [
    "travel_time_years = (desired_travel_distance/average_speed) / (24*365)\n",
    "\n",
    "print(travel_time_years)"
   ]
  },
  {
   "cell_type": "code",
   "execution_count": 13,
   "metadata": {},
   "outputs": [
    {
     "name": "stdout",
     "output_type": "stream",
     "text": [
      "88.04166666666667\n"
     ]
    }
   ],
   "source": [
    "travel_time_days =  (travel_time_years - int(travel_time_years)) * 365\n",
    "\n",
    "print(travel_time_days)"
   ]
  },
  {
   "cell_type": "code",
   "execution_count": 14,
   "metadata": {},
   "outputs": [
    {
     "name": "stdout",
     "output_type": "stream",
     "text": [
      "1.0000000000001137\n"
     ]
    }
   ],
   "source": [
    "travel_time_hours = (travel_time_days - int(travel_time_days)) * 24\n",
    "\n",
    "print(travel_time_hours)"
   ]
  },
  {
   "cell_type": "code",
   "execution_count": 15,
   "metadata": {},
   "outputs": [
    {
     "name": "stdout",
     "output_type": "stream",
     "text": [
      "6.821210263296962e-12\n"
     ]
    }
   ],
   "source": [
    "travel_time_minutes = (travel_time_hours - int(travel_time_hours)) * 60\n",
    "\n",
    "print(travel_time_minutes)"
   ]
  },
  {
   "cell_type": "code",
   "execution_count": 16,
   "metadata": {},
   "outputs": [
    {
     "name": "stdout",
     "output_type": "stream",
     "text": [
      " Your trip will take 0 year(s), 88 day(s), 1 hour(s), and 0 minute(s)\n"
     ]
    }
   ],
   "source": [
    "print(f\" Your trip will take {int(travel_time_years)} year(s), {int(travel_time_days)} day(s), {int(travel_time_hours)} hour(s), and {int(travel_time_minutes)} minute(s)\")"
   ]
  },
  {
   "cell_type": "markdown",
   "metadata": {},
   "source": [
    "E) Turn the program you wrote so far into a function *planet_tour* that takes as input the names of the two bodies (start, destination)the traveler wants to travel between, and outputs the necessary information (total distance, travel time). Make sure you include an appropriate informative docstring! Save the function in a separate file. (**2 points**)"
   ]
  },
  {
   "cell_type": "code",
   "execution_count": null,
   "metadata": {},
   "outputs": [],
   "source": [
    "# code for planet_tour() function:\n",
    "\n",
    "#def planet_tour( start , destination ):\n",
    " #   \"\"\"This function will take in the given starting location and the given destination location, and return the\n",
    "  #  distance between the two locations and the time taken to travel between them moving at 0.001 AU/hr\n",
    "   # INPUT: start location input at the beginning of the code, destination location input in the beginning \n",
    "    #OUTPUT: distance between the two inputs, travel time between the two places with a speed of 0.001 AU/hr\"\"\"\n",
    "    \n",
    "    #planets_and_moons = ['Mercury' , 'Venus' , 'Earth' , 'Moon' , 'Ceres' , 'Mars' , 'Jupiter' , 'Io' , 'Europa' , 'Saturn' , 'Titan' , 'Neptune' , 'Pluto' , 'Charon']\n",
    "    #print('Type in your starting location and then type in your desired destination location:\\n')\n",
    "    \n",
    "    #start = str(input())\n",
    "    \n",
    "    #destination = str(input())\n",
    "    \n",
    "    #start_location = start\n",
    "    \n",
    "    #destination_location = destination\n",
    "    \n",
    "    #if start_location in planets_and_moons:\n",
    "     #   if destination_location in planets_and_moons:\n",
    "      #      print(f'Both {start_location} and {destination_location} are valid locations. The Journey will proceed!\\n')\n",
    "    #else:\n",
    "     #   print(f'One or more of your locations is invalid.\\nYour possible options are {planets_and_moons}.\\nInput new locations:\\n')\n",
    "      #  new_start_location = str(input())\n",
    "       # new_destination_location = str(input())\n",
    "    \n",
    "    \n",
    "    #space_distances_date1 = np.loadtxt('solar_system_date_1.dat', comments = '#')\n",
    "    \n",
    "    #start_body_i = planets_and_moons.index(start_location)\n",
    "    #destination_body_i = planets_and_moons.index(destination_location)\n",
    "\n",
    "    #desired_travel_distance = space_distances_date1[ destination_body_i , start_body_i ]\n",
    "    \n",
    "    #total_distance = f\"Your total travel distance is {desired_travel_distance} AU\"\n",
    "    \n",
    "    #average_speed = 0.001\n",
    "    #travel_time_years = (desired_travel_distance/average_speed) / (24*365)\n",
    "    #travel_time_days =  (travel_time_years - int(travel_time_years)) * 365\n",
    "    #travel_time_hours = (travel_time_days - int(travel_time_days)) * 24\n",
    "    #travel_time_minutes = (travel_time_hours - int(travel_time_hours)) * 60\n",
    "    \n",
    "    #travel_time = f\" Your trip will take {int(travel_time_years)} year(s), {int(travel_time_days)} day(s), {int(travel_time_hours)} hour(s), and {int(travel_time_minutes)} minute(s)\"\n",
    "    \n",
    "    #return (total_distance , travel_time )###\n"
   ]
  },
  {
   "cell_type": "code",
   "execution_count": 30,
   "metadata": {},
   "outputs": [],
   "source": [
    "#Now I will save the function into a separate file titled midterm_funct_diegobenavidesucf.py by copy and pasting it in there\n",
    "#and I will turn the cell above into text so the function doesnt go into my notebook's memory \n",
    "#and I can prove that I am actually importing the function into this notebook from a .py file."
   ]
  },
  {
   "cell_type": "code",
   "execution_count": 18,
   "metadata": {},
   "outputs": [
    {
     "name": "stdout",
     "output_type": "stream",
     "text": [
      "Type in your starting location and then type in your desired destination location:\n",
      "\n",
      "Demos\n",
      "Io\n",
      "One or more of your locations is invalid.\n",
      "Your possible options are ['Mercury', 'Venus', 'Earth', 'Moon', 'Ceres', 'Mars', 'Jupiter', 'Io', 'Europa', 'Saturn', 'Titan', 'Neptune', 'Pluto', 'Charon'].\n",
      "Input new locations:\n",
      "\n",
      "Jupiter\n",
      "Io\n",
      "The best date to travel is Date 3 , the distance is 0.0018 AU.\n",
      "\n",
      "Your trip will take 0 year(s), 0 day(s), 1 hour(s), and 47 minute(s)\n",
      "\n",
      "Your journey will require -0.0 refueling stops.\n",
      "No stops needed for your trip.\n",
      "\n",
      "('The best date to travel is Date 3 , the distance is 0.0018 AU.', 'Your trip will take 0 year(s), 0 day(s), 1 hour(s), and 47 minute(s)')\n"
     ]
    }
   ],
   "source": [
    "#testing function\n",
    "from midterm_funct_diegobenavidesucf import planet_tour\n",
    "\n",
    "print(planet_tour('Earth' , 'Mars'))"
   ]
  },
  {
   "cell_type": "markdown",
   "metadata": {},
   "source": [
    "F) Test that your program so far works. Import the function and call it for a trip from the Earth to Mars. Your trip should take 88 days and 1 hour. Note that this is *much* faster than what the trip takes nowadays, where we need the better part of a year (9 months or more) to get there. (**2 points**)\n"
   ]
  },
  {
   "cell_type": "code",
   "execution_count": 19,
   "metadata": {},
   "outputs": [
    {
     "name": "stdout",
     "output_type": "stream",
     "text": [
      "Help on function planet_tour in module midterm_funct_diegobenavidesucf:\n",
      "\n",
      "planet_tour(start, destination)\n",
      "    This function will take in the given starting location and the given destination location, and return the\n",
      "    distance between the two locations for the best case and the time taken to travel between them \n",
      "    moving at 0.001 AU/hr for the best case.\n",
      "    The function also returns how many stops of refueling are required, and makes a .txt file to send to \n",
      "    the stations mentioning where the refueling stops are needed. It also prints the date for the best case with the \n",
      "    distance for the best case of each refuel stop with a 4 digit precision.\n",
      "    \n",
      "    INPUT: start location input at the beginning of the code, destination location input in the beginning \n",
      "    OUTPUT: distance between the two inputs for the best case, \n",
      "            and the travel time between the two places with a speed of 0.001 AU/hr for the best case\n",
      "\n",
      "None\n"
     ]
    }
   ],
   "source": [
    "from midterm_funct_diegobenavidesucf import planet_tour\n",
    "\n",
    "print(help(planet_tour))"
   ]
  },
  {
   "cell_type": "code",
   "execution_count": 21,
   "metadata": {},
   "outputs": [],
   "source": [
    "#planet_tour( 'Earth' , 'Mars' )"
   ]
  },
  {
   "cell_type": "code",
   "execution_count": 20,
   "metadata": {},
   "outputs": [
    {
     "name": "stdout",
     "output_type": "stream",
     "text": [
      "Type in your starting location and then type in your desired destination location:\n",
      "\n",
      "Earth\n",
      "Mars\n",
      "Both Earth and Mars are valid locations. The Journey will proceed!\n",
      "\n",
      "The best date to travel is Date 3 , the distance is 2.0230 AU.\n",
      "\n",
      "Your trip will take 0 year(s), 84 day(s), 7 hour(s), and 0 minute(s)\n",
      "\n",
      "Your journey will require 3.0 refueling stops.\n",
      "\n",
      "\n",
      "My trip starts at Earth and ends at Mars. I will need to encounter a stop at 0.6500 AU.\n",
      "I will need to encounter a stop at 1.3000 AU.\n",
      "I will need to encounter a stop at 1.9500 AU.\n",
      "\n",
      "('The best date to travel is Date 3 , the distance is 2.0230 AU.', 'Your trip will take 0 year(s), 84 day(s), 7 hour(s), and 0 minute(s)')\n"
     ]
    }
   ],
   "source": [
    "print(planet_tour( 'Earth' , 'Mars' ))"
   ]
  },
  {
   "cell_type": "markdown",
   "metadata": {},
   "source": [
    "## 4. Refueling is still a thing. (25 points total)\n",
    "\n",
    "Humans are able to travel through space easily, but refueling is still a thing as we have not discovered ways to use an infinite source of energy. It is important to let people know not only how long their trip will take, but also how much fuel they will need on their trip. The Solar system is full of refueling stations, but as they are in orbit we need to send them messages about where to meet our spaceship and how much fuel we will need. \n",
    "\n",
    "You will need to change the function you just made to include this information and print a statement that you will send the refueling stations.\n",
    "\n",
    "A) Assuming your spaceship needs refueling every 0.65AU calculate how many refueling stops your trip will make. The code should print a message to let the user know how many stops they will need for refueling. Assume you start every trip with a full tank. Remember to round up when needed (1.2 stops doesn't make sense: 2 stops does). ( **5 points**)\n"
   ]
  },
  {
   "cell_type": "code",
   "execution_count": 21,
   "metadata": {},
   "outputs": [
    {
     "name": "stdout",
     "output_type": "stream",
     "text": [
      "Your journey will require 3.0 refueling stops\n"
     ]
    }
   ],
   "source": [
    "#I will first make the refueling count calculation in this cell before adding it to the function.\n",
    "#np.ceil() will round up my numbers so it makes sense\n",
    "#But assuming you start with a full tank,\n",
    "#you have to subtract one stop after using division to calculate how many stops are needed.\n",
    "\n",
    "refuel_distance = 0.65\n",
    "\n",
    "expected_stops = np.ceil(((desired_travel_distance / refuel_distance)-1))\n",
    "\n",
    "print(f\"Your journey will require {expected_stops} refueling stops\")"
   ]
  },
  {
   "cell_type": "code",
   "execution_count": 23,
   "metadata": {},
   "outputs": [],
   "source": [
    "#I will now add this code to the function by copy and pasting into the midterm_funct_diegobenavidesucf.py file"
   ]
  },
  {
   "cell_type": "code",
   "execution_count": 23,
   "metadata": {},
   "outputs": [],
   "source": [
    "#testing the function now:\n",
    "#from midterm_funct_diegobenavidesucf import planet_tour\n",
    "#print(planet_tour( 'Earth' , 'Mars'))"
   ]
  },
  {
   "cell_type": "markdown",
   "metadata": {},
   "source": [
    "B) If you will need refueling, the code should write a file *message_to_stations.txt* that will be sent to the refueling stations with information about: your start and end point, where they will need to meet with you (e.g., 'My trip starts at Earth and ends at Mars. I will need to encounter stations for a refueling at 0.65AU, 1.3AU and 1.95AU.') (**10 points**) "
   ]
  },
  {
   "cell_type": "code",
   "execution_count": 22,
   "metadata": {},
   "outputs": [
    {
     "name": "stdout",
     "output_type": "stream",
     "text": [
      "My trip starts at Earth and ends at Mars. I will need to encounter a stop at 0.65 AU.\n",
      "I will need to encounter a stop at 1.3 AU.\n",
      "I will need to encounter a stop at 1.9500000000000002 AU.\n",
      "\n"
     ]
    }
   ],
   "source": [
    "f = open( \"message_to_stations.txt\" , 'w' )\n",
    "\n",
    "if expected_stops >= 1:\n",
    "    arr_of_stops = np.arange( 1 , expected_stops+1)\n",
    "    f.write(f\"My trip starts at {start_location} and ends at {destination_location}. \")\n",
    "    \n",
    "    for i in range(len(arr_of_stops)):\n",
    "        f.write(f\"I will need to encounter a stop at {arr_of_stops[i] * 0.65} AU.\\n\")\n",
    "        \n",
    "if expected_stops < 1:\n",
    "    f.write(\"No stops needed for your trip.\\n\")\n",
    "    \n",
    "f = open(\"message_to_stations.txt\" , 'r')\n",
    "    \n",
    "output_message = f.read()\n",
    "\n",
    "print(output_message)\n",
    "\n",
    "f.close()"
   ]
  },
  {
   "cell_type": "code",
   "execution_count": 28,
   "metadata": {},
   "outputs": [],
   "source": [
    "#I will now update my function by copying and pasting the code made here in Problem 4 to my existing planet_tour function."
   ]
  },
  {
   "cell_type": "markdown",
   "metadata": {},
   "source": [
    "C) Import the updated function and run it for a trip from Io to Jupiter and Earth to Venus (**5 points**). \n",
    "\n",
    "Rename the output message to message_to_stations_1.txt (explain why you should only have 1 message here). Then run it for a trip from the Earth to Pluto (**5 points**). Rename the output message to message_to_stations_2.txt "
   ]
  },
  {
   "cell_type": "code",
   "execution_count": 23,
   "metadata": {},
   "outputs": [
    {
     "name": "stdout",
     "output_type": "stream",
     "text": [
      "Help on function planet_tour in module midterm_funct_diegobenavidesucf:\n",
      "\n",
      "planet_tour(start, destination)\n",
      "    This function will take in the given starting location and the given destination location, and return the\n",
      "    distance between the two locations for the best case and the time taken to travel between them \n",
      "    moving at 0.001 AU/hr for the best case.\n",
      "    The function also returns how many stops of refueling are required, and makes a .txt file to send to \n",
      "    the stations mentioning where the refueling stops are needed. It also prints the date for the best case with the \n",
      "    distance for the best case of each refuel stop with a 4 digit precision.\n",
      "    \n",
      "    INPUT: start location input at the beginning of the code, destination location input in the beginning \n",
      "    OUTPUT: distance between the two inputs for the best case, \n",
      "            and the travel time between the two places with a speed of 0.001 AU/hr for the best case\n",
      "\n"
     ]
    }
   ],
   "source": [
    "from midterm_funct_diegobenavidesucf import planet_tour\n",
    "help(planet_tour)"
   ]
  },
  {
   "cell_type": "code",
   "execution_count": 24,
   "metadata": {},
   "outputs": [
    {
     "name": "stdout",
     "output_type": "stream",
     "text": [
      "Type in your starting location and then type in your desired destination location:\n",
      "\n",
      "Io\n",
      "Jupiter\n",
      "Both Io and Jupiter are valid locations. The Journey will proceed!\n",
      "\n",
      "The best date to travel is Date 3 , the distance is 0.0018 AU.\n",
      "\n",
      "Your trip will take 0 year(s), 0 day(s), 1 hour(s), and 47 minute(s)\n",
      "\n",
      "Your journey will require -0.0 refueling stops.\n",
      "No stops needed for your trip.\n",
      "\n",
      "('The best date to travel is Date 3 , the distance is 0.0018 AU.', 'Your trip will take 0 year(s), 0 day(s), 1 hour(s), and 47 minute(s)')\n"
     ]
    }
   ],
   "source": [
    "#Io to Jupiter case. I will change the output message to message_to_stations_1.txt\n",
    "#because I dont want to overwrite my message_to_stations.txt\n",
    "\n",
    "print(planet_tour( 'Io' , 'Jupiter' ))"
   ]
  },
  {
   "cell_type": "code",
   "execution_count": 25,
   "metadata": {},
   "outputs": [
    {
     "name": "stdout",
     "output_type": "stream",
     "text": [
      "Type in your starting location and then type in your desired destination location:\n",
      "\n",
      "Earth\n",
      "Venus\n",
      "Both Earth and Venus are valid locations. The Journey will proceed!\n",
      "\n",
      "The best date to travel is Date 1 , the distance is 0.3915 AU.\n",
      "\n",
      "Your trip will take 0 year(s), 16 day(s), 7 hour(s), and 30 minute(s)\n",
      "\n",
      "Your journey will require -0.0 refueling stops.\n",
      "No stops needed for your trip.\n",
      "\n",
      "('The best date to travel is Date 1 , the distance is 0.3915 AU.', 'Your trip will take 0 year(s), 16 day(s), 7 hour(s), and 30 minute(s)')\n"
     ]
    }
   ],
   "source": [
    "#Earth to Venus. I should only have one message here because it will overwrite the meassages with the same title.\n",
    "#This output will be renamed message_to_stations_2.txt\n",
    "\n",
    "print(planet_tour( 'Earth' , 'Venus' ))"
   ]
  },
  {
   "cell_type": "code",
   "execution_count": 26,
   "metadata": {},
   "outputs": [
    {
     "name": "stdout",
     "output_type": "stream",
     "text": [
      "Type in your starting location and then type in your desired destination location:\n",
      "\n",
      "Earth\n",
      "Pluto\n",
      "Both Earth and Pluto are valid locations. The Journey will proceed!\n",
      "\n",
      "The best date to travel is Date 2 , the distance is 34.4110 AU.\n",
      "\n",
      "Your trip will take 3 year(s), 338 day(s), 18 hour(s), and 59 minute(s)\n",
      "\n",
      "Your journey will require 52.0 refueling stops.\n",
      "\n",
      "\n",
      "My trip starts at Earth and ends at Pluto. I will need to encounter a stop at 0.6500 AU.\n",
      "I will need to encounter a stop at 1.3000 AU.\n",
      "I will need to encounter a stop at 1.9500 AU.\n",
      "I will need to encounter a stop at 2.6000 AU.\n",
      "I will need to encounter a stop at 3.2500 AU.\n",
      "I will need to encounter a stop at 3.9000 AU.\n",
      "I will need to encounter a stop at 4.5500 AU.\n",
      "I will need to encounter a stop at 5.2000 AU.\n",
      "I will need to encounter a stop at 5.8500 AU.\n",
      "I will need to encounter a stop at 6.5000 AU.\n",
      "I will need to encounter a stop at 7.1500 AU.\n",
      "I will need to encounter a stop at 7.8000 AU.\n",
      "I will need to encounter a stop at 8.4500 AU.\n",
      "I will need to encounter a stop at 9.1000 AU.\n",
      "I will need to encounter a stop at 9.7500 AU.\n",
      "I will need to encounter a stop at 10.4000 AU.\n",
      "I will need to encounter a stop at 11.0500 AU.\n",
      "I will need to encounter a stop at 11.7000 AU.\n",
      "I will need to encounter a stop at 12.3500 AU.\n",
      "I will need to encounter a stop at 13.0000 AU.\n",
      "I will need to encounter a stop at 13.6500 AU.\n",
      "I will need to encounter a stop at 14.3000 AU.\n",
      "I will need to encounter a stop at 14.9500 AU.\n",
      "I will need to encounter a stop at 15.6000 AU.\n",
      "I will need to encounter a stop at 16.2500 AU.\n",
      "I will need to encounter a stop at 16.9000 AU.\n",
      "I will need to encounter a stop at 17.5500 AU.\n",
      "I will need to encounter a stop at 18.2000 AU.\n",
      "I will need to encounter a stop at 18.8500 AU.\n",
      "I will need to encounter a stop at 19.5000 AU.\n",
      "I will need to encounter a stop at 20.1500 AU.\n",
      "I will need to encounter a stop at 20.8000 AU.\n",
      "I will need to encounter a stop at 21.4500 AU.\n",
      "I will need to encounter a stop at 22.1000 AU.\n",
      "I will need to encounter a stop at 22.7500 AU.\n",
      "I will need to encounter a stop at 23.4000 AU.\n",
      "I will need to encounter a stop at 24.0500 AU.\n",
      "I will need to encounter a stop at 24.7000 AU.\n",
      "I will need to encounter a stop at 25.3500 AU.\n",
      "I will need to encounter a stop at 26.0000 AU.\n",
      "I will need to encounter a stop at 26.6500 AU.\n",
      "I will need to encounter a stop at 27.3000 AU.\n",
      "I will need to encounter a stop at 27.9500 AU.\n",
      "I will need to encounter a stop at 28.6000 AU.\n",
      "I will need to encounter a stop at 29.2500 AU.\n",
      "I will need to encounter a stop at 29.9000 AU.\n",
      "I will need to encounter a stop at 30.5500 AU.\n",
      "I will need to encounter a stop at 31.2000 AU.\n",
      "I will need to encounter a stop at 31.8500 AU.\n",
      "I will need to encounter a stop at 32.5000 AU.\n",
      "I will need to encounter a stop at 33.1500 AU.\n",
      "I will need to encounter a stop at 33.8000 AU.\n",
      "\n",
      "('The best date to travel is Date 2 , the distance is 34.4110 AU.', 'Your trip will take 3 year(s), 338 day(s), 18 hour(s), and 59 minute(s)')\n"
     ]
    }
   ],
   "source": [
    "# Earth to Pluto. This output will be renamed message_to_stations_2b.txt for the same reasons stated above\n",
    "\n",
    "print(planet_tour( 'Earth' , 'Pluto'))"
   ]
  },
  {
   "cell_type": "code",
   "execution_count": 26,
   "metadata": {},
   "outputs": [],
   "source": [
    "#I now reverted my message file back to message_to_stations.txt so that the test cases above dont get overwritten within \n",
    "#my midterm folder."
   ]
  },
  {
   "cell_type": "markdown",
   "metadata": {},
   "source": [
    "## 5. On the dot. ( 20 points total)\n",
    "\n",
    "Traveling in the 21st century from A to B with your car, truck or motorcycle was relatively simple. You just needed to know when you have time to go, and you could have many alternatives to the when that would be. Places A and B would always be there....In 2340 though, traveling is a little bit more complex. Locations A and B are on different bodies of the Solar system that orbit the Sun with different speeds. For example, a trip from Mars to the Earth may only be 33,900,000 miles long on day_1, and on day_2 more than 250,000,000 miles long! *A lot* more time and fuel can be needed for your trip if you pick the wrong date to travel. Let's make the needed updates to the function to make the user's trip as efficient as possible."
   ]
  },
  {
   "cell_type": "markdown",
   "metadata": {},
   "source": [
    "A) Update the function you created to read in the files for all possible travel dates. The code should then compare the distance (or time) it takes to do the trip at different dates. The code should print a statement letting the user know when it is the best time to travel and only print the distance and refueling information needed for that best-case trip. (**10 points**)"
   ]
  },
  {
   "cell_type": "code",
   "execution_count": 27,
   "metadata": {},
   "outputs": [],
   "source": [
    "space_distances_date_1 = np.loadtxt('solar_system_date_1.dat', comments = '#')\n",
    "\n",
    "space_distances_date_2 = np.loadtxt('solar_system_date_2.dat', comments = '#')\n",
    "\n",
    "space_distances_date_3 = np.loadtxt('solar_system_date_3.dat', comments = '#')"
   ]
  },
  {
   "cell_type": "code",
   "execution_count": 28,
   "metadata": {},
   "outputs": [
    {
     "name": "stdout",
     "output_type": "stream",
     "text": [
      "The best date to travel is Date 3 , the distance is 2.023 AU.\n",
      "\n"
     ]
    }
   ],
   "source": [
    "distance_date_1 = space_distances_date_1[ destination_body_i , start_body_i ]\n",
    "\n",
    "distance_date_2 = space_distances_date_2[ destination_body_i , start_body_i ]\n",
    "\n",
    "distance_date_3 = space_distances_date_3[ destination_body_i , start_body_i ]\n",
    "\n",
    "\n",
    "list_of_distances = [ distance_date_1 , distance_date_2 , distance_date_3]\n",
    "\n",
    "\n",
    "best_date_distance = np.min(list_of_distances)\n",
    "\n",
    "if distance_date_1 == best_date_distance :\n",
    "    best_date = 'Date 1'\n",
    "        \n",
    "if distance_date_2 == best_date_distance :\n",
    "    best_date = 'Date 2' \n",
    "        \n",
    "if distance_date_3 == best_date_distance :\n",
    "    best_date = 'Date 3'\n",
    "        \n",
    "\n",
    "print(f'The best date to travel is {best_date} , the distance is {best_date_distance} AU.\\n')"
   ]
  },
  {
   "cell_type": "markdown",
   "metadata": {},
   "source": [
    "B) Now that we are ready to do interplanetary trips we also need our mesages to the refueling stations to be more streamlined. Change the function to ensure that the output distances are formated with a 4 digit accuracy (so 0.6500 AU not 0.65 and not 0.65000001) (**5 points**)\n"
   ]
  },
  {
   "cell_type": "code",
   "execution_count": 29,
   "metadata": {},
   "outputs": [
    {
     "name": "stdout",
     "output_type": "stream",
     "text": [
      "I will need to encounter a stop at 1.3300 AU.\n",
      "\n"
     ]
    }
   ],
   "source": [
    "#I will round my numbers to 4-digit accuracy using '%.4f' %(x)\n",
    "#and update all my code printing a digit by adding this function.\n",
    "\n",
    "# FOR EXAMPLE I will add this structure to my current function\n",
    "\n",
    "prec_num = 1.33\n",
    "\n",
    "print(f\"I will need to encounter a stop at %.4f AU.\\n\" % (prec_num))\n",
    "        \n",
    "    \n",
    "#Now I will update my function with this syntax"
   ]
  },
  {
   "cell_type": "markdown",
   "metadata": {},
   "source": [
    "C) Test the changes you made for a trip from Earth to Neptune. Rename the output message to message_to_stations_3.txt and save it to your handin folder. (**5 points**)"
   ]
  },
  {
   "cell_type": "code",
   "execution_count": 30,
   "metadata": {},
   "outputs": [
    {
     "name": "stdout",
     "output_type": "stream",
     "text": [
      "Help on function planet_tour in module midterm_funct_diegobenavidesucf:\n",
      "\n",
      "planet_tour(start, destination)\n",
      "    This function will take in the given starting location and the given destination location, and return the\n",
      "    distance between the two locations for the best case and the time taken to travel between them \n",
      "    moving at 0.001 AU/hr for the best case.\n",
      "    The function also returns how many stops of refueling are required, and makes a .txt file to send to \n",
      "    the stations mentioning where the refueling stops are needed. It also prints the date for the best case with the \n",
      "    distance for the best case of each refuel stop with a 4 digit precision.\n",
      "    \n",
      "    INPUT: start location input at the beginning of the code, destination location input in the beginning \n",
      "    OUTPUT: distance between the two inputs for the best case, \n",
      "            and the travel time between the two places with a speed of 0.001 AU/hr for the best case\n",
      "\n",
      "None\n"
     ]
    }
   ],
   "source": [
    "from midterm_funct_diegobenavidesucf import planet_tour\n",
    "print(help(planet_tour))"
   ]
  },
  {
   "cell_type": "code",
   "execution_count": 31,
   "metadata": {},
   "outputs": [
    {
     "name": "stdout",
     "output_type": "stream",
     "text": [
      "Type in your starting location and then type in your desired destination location:\n",
      "\n",
      "Earth\n",
      "Neptune\n",
      "Both Earth and Neptune are valid locations. The Journey will proceed!\n",
      "\n",
      "The best date to travel is Date 3 , the distance is 28.8610 AU.\n",
      "\n",
      "Your trip will take 3 year(s), 107 day(s), 13 hour(s), and 0 minute(s)\n",
      "\n",
      "Your journey will require 44.0 refueling stops.\n",
      "\n",
      "\n",
      "My trip starts at Earth and ends at Neptune. I will need to encounter a stop at 0.6500 AU.\n",
      "I will need to encounter a stop at 1.3000 AU.\n",
      "I will need to encounter a stop at 1.9500 AU.\n",
      "I will need to encounter a stop at 2.6000 AU.\n",
      "I will need to encounter a stop at 3.2500 AU.\n",
      "I will need to encounter a stop at 3.9000 AU.\n",
      "I will need to encounter a stop at 4.5500 AU.\n",
      "I will need to encounter a stop at 5.2000 AU.\n",
      "I will need to encounter a stop at 5.8500 AU.\n",
      "I will need to encounter a stop at 6.5000 AU.\n",
      "I will need to encounter a stop at 7.1500 AU.\n",
      "I will need to encounter a stop at 7.8000 AU.\n",
      "I will need to encounter a stop at 8.4500 AU.\n",
      "I will need to encounter a stop at 9.1000 AU.\n",
      "I will need to encounter a stop at 9.7500 AU.\n",
      "I will need to encounter a stop at 10.4000 AU.\n",
      "I will need to encounter a stop at 11.0500 AU.\n",
      "I will need to encounter a stop at 11.7000 AU.\n",
      "I will need to encounter a stop at 12.3500 AU.\n",
      "I will need to encounter a stop at 13.0000 AU.\n",
      "I will need to encounter a stop at 13.6500 AU.\n",
      "I will need to encounter a stop at 14.3000 AU.\n",
      "I will need to encounter a stop at 14.9500 AU.\n",
      "I will need to encounter a stop at 15.6000 AU.\n",
      "I will need to encounter a stop at 16.2500 AU.\n",
      "I will need to encounter a stop at 16.9000 AU.\n",
      "I will need to encounter a stop at 17.5500 AU.\n",
      "I will need to encounter a stop at 18.2000 AU.\n",
      "I will need to encounter a stop at 18.8500 AU.\n",
      "I will need to encounter a stop at 19.5000 AU.\n",
      "I will need to encounter a stop at 20.1500 AU.\n",
      "I will need to encounter a stop at 20.8000 AU.\n",
      "I will need to encounter a stop at 21.4500 AU.\n",
      "I will need to encounter a stop at 22.1000 AU.\n",
      "I will need to encounter a stop at 22.7500 AU.\n",
      "I will need to encounter a stop at 23.4000 AU.\n",
      "I will need to encounter a stop at 24.0500 AU.\n",
      "I will need to encounter a stop at 24.7000 AU.\n",
      "I will need to encounter a stop at 25.3500 AU.\n",
      "I will need to encounter a stop at 26.0000 AU.\n",
      "I will need to encounter a stop at 26.6500 AU.\n",
      "I will need to encounter a stop at 27.3000 AU.\n",
      "I will need to encounter a stop at 27.9500 AU.\n",
      "I will need to encounter a stop at 28.6000 AU.\n",
      "\n",
      "('The best date to travel is Date 3 , the distance is 28.8610 AU.', 'Your trip will take 3 year(s), 107 day(s), 13 hour(s), and 0 minute(s)')\n"
     ]
    }
   ],
   "source": [
    "print(planet_tour('Earth' , 'Neptune'))"
   ]
  },
  {
   "cell_type": "code",
   "execution_count": 3,
   "metadata": {},
   "outputs": [],
   "source": [
    "#I will revert the .txt message to message_to_stations.txt so I dont overwrite the message I just made."
   ]
  },
  {
   "cell_type": "markdown",
   "metadata": {},
   "source": [
    "## 6. The grand tour ( 35 points total)"
   ]
  },
  {
   "cell_type": "markdown",
   "metadata": {},
   "source": [
    "A grand tour wouldn't be a *grand* tour without a stop or two on the way. As planets rotate around the Sun, the 'best' stop might not always be trivial (e.g., going from Ceres to Venus sometimes the best stop is Mars, sometimes it can be Earth, as Mars (or Earth) is in on the opposite side of their orbit). In this last task you will make the necessary changes to the code to let the user do a grand tour with one stop along the way."
   ]
  },
  {
   "cell_type": "code",
   "execution_count": 20,
   "metadata": {},
   "outputs": [],
   "source": [
    "from midterm_funct_diegobenavidesucf import planet_tour"
   ]
  },
  {
   "cell_type": "markdown",
   "metadata": {},
   "source": [
    "A) Update the function to allow for one stop along the way. To do this, the function will get the start and end point of the trip and ask the user if they want to do a tour (input should be Y/N or Yes/No). (**2 points**)\n",
    "\n",
    "\n",
    "A1) If the user replies 'N' or 'No' the function should work as above and print the best date to travel from A to B etc. (**5 points**)\n",
    "\n",
    "\n",
    "\n",
    "A2) If the user replies 'Yes' or 'Y', the function will then check for all dates what a possible stop would be. (**13 points**) \n",
    "\n",
    "A stop that makes sense needs to have the smallest possible extra distance in comparison to the direct trip from A to B. E.g., going from Mars to Ceres on date 1 the stop the traveler would do is on Mercury adding 'just' 1.3 AU to the trip (because Venus and the Earth are on the 'wrong side' of their orbits). \n",
    "\n",
    "The function will then print out the information for the user to see:\n",
    "\n",
    "    1) on what date can they do, what stop, and \n",
    "\n",
    "    2) at what cost in milage and \n",
    "\n",
    "    3) number of refueling stops. \n",
    "    \n",
    "Don't save a message for the refueling stations for each of these stops. We will adapt this part later on."
   ]
  },
  {
   "cell_type": "code",
   "execution_count": null,
   "metadata": {},
   "outputs": [],
   "source": []
  },
  {
   "cell_type": "code",
   "execution_count": null,
   "metadata": {},
   "outputs": [],
   "source": []
  },
  {
   "cell_type": "markdown",
   "metadata": {},
   "source": [
    "B) Test the updates you did for a trip from Mars to Ceres. (5 points)"
   ]
  },
  {
   "cell_type": "code",
   "execution_count": null,
   "metadata": {},
   "outputs": [],
   "source": []
  },
  {
   "cell_type": "code",
   "execution_count": null,
   "metadata": {},
   "outputs": [],
   "source": []
  },
  {
   "cell_type": "markdown",
   "metadata": {},
   "source": [
    "C) The code should now let the user choose which is their prefered stop. \n",
    "\n",
    "After getting the available stops per date, store them in a dictionary named stops_for_date. The keys should be the name of the stop (ordered for date 1, 2 and 3: e.g., 'Mercury' 'Mercury' 'Venus'), and the values should be the corresponding total distance of the trip (e.g., 4.2058, 4.5132, 4.5077 ). If more than one dates return the same stop make sure to adapt the key accordingly ('Mercury_1', 'Mercury_2' ). Use an If/else if/else structure to do this. **(6 points)**\n",
    "\n",
    "What would happen if you fogot to do this name change? Explain with a comment in your code. **(2 points)**\n",
    "\n",
    "The code will then ask the user which is their prefered stop. If more than one dates return the same stop then the code will let the user know when they should travel (the date with the least travel time/miles). **(5 point)** \n",
    "<br>(in the above example if the user wanted to stop at Mercury we would let them know the best time is date 1).\n",
    "    Tip: to do this you can use an if/else if/ else structure to test if more than one dates match the user's input and if so decide when they should move. You can also *try* different methods.\n",
    "\n",
    "The code will then save the necessary message for the refueling stations on that date. **( 2 points)**\n",
    "\n",
    "The message should now let the stations know on what date they will meet! The message should print the start date of the trip (date 1, 2, 3) on the start of the message. \n",
    "\n",
    "\n",
    "(e.g., :\n",
    "\n",
    "############ refueling information##############\n",
    "############\n",
    "\n",
    "########## Starting trip from Mars to Ceres on date 1 #########\n",
    "\n",
    "######### Will refuel on date 1 + 3.01 days at location 0.6500 AU\n",
    "\n",
    "######### Will refuel on date 1 + 5.52 days at location 1.3000 AU\n",
    "\n",
    "Note that this is a random example, not based on any of the data)"
   ]
  },
  {
   "cell_type": "code",
   "execution_count": null,
   "metadata": {},
   "outputs": [],
   "source": []
  },
  {
   "cell_type": "code",
   "execution_count": null,
   "metadata": {},
   "outputs": [],
   "source": []
  },
  {
   "cell_type": "code",
   "execution_count": null,
   "metadata": {},
   "outputs": [],
   "source": []
  },
  {
   "cell_type": "code",
   "execution_count": null,
   "metadata": {},
   "outputs": [],
   "source": []
  },
  {
   "cell_type": "code",
   "execution_count": null,
   "metadata": {},
   "outputs": [],
   "source": []
  },
  {
   "cell_type": "code",
   "execution_count": null,
   "metadata": {},
   "outputs": [],
   "source": []
  },
  {
   "cell_type": "markdown",
   "metadata": {},
   "source": [
    "## 7. The wraping up. (10 points)\n",
    "\n",
    "\n",
    "Prepare and submit your homework. Copy the finalized Jupyter notebook to the handin/midterm_* folder and don’t forget to commit and push it to GitHub. Explain what you did to do that in your log. Make a screenshot that shows you committed the file and add it to your handin/midterm_* folder (remember to use an appropriate name for the screenshot!). Make sure that *all* necessary files, including data files are included in the folder. Write what you did to make and submit the zip file into your log. When satisfied, close the log, copy it to your homework directory one last time, and run the commands to make and submit the zip file. Turn the file in on WebCourses. "
   ]
  },
  {
   "cell_type": "code",
   "execution_count": 21,
   "metadata": {},
   "outputs": [],
   "source": [
    "#I will know copy and paste my log int my midterm_diegobenavidesucf folder, push origin from github desktop app,\n",
    "#and screenshot the proof of pushing origin\n",
    "#I will then zip the file and submit"
   ]
  }
 ],
 "metadata": {
  "kernelspec": {
   "display_name": "Python 3",
   "language": "python",
   "name": "python3"
  },
  "language_info": {
   "codemirror_mode": {
    "name": "ipython",
    "version": 3
   },
   "file_extension": ".py",
   "mimetype": "text/x-python",
   "name": "python",
   "nbconvert_exporter": "python",
   "pygments_lexer": "ipython3",
   "version": "3.8.3"
  }
 },
 "nbformat": 4,
 "nbformat_minor": 5
}
