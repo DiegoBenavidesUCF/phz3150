{
 "cells": [
  {
   "cell_type": "code",
   "execution_count": 1,
   "metadata": {},
   "outputs": [],
   "source": [
    "# Diego Benavides\n",
    "\n",
    "#April 3 2022\n",
    "\n",
    "#Homerwork 11\n"
   ]
  },
  {
   "cell_type": "markdown",
   "metadata": {},
   "source": [
    "Problem 2:"
   ]
  },
  {
   "cell_type": "markdown",
   "metadata": {},
   "source": [
    " (15 points) In a lab you measured the dataset y(x) with:\n",
    "x= np.linspace(1,100,40) and\n",
    "y = np.array([ 7.7, 15.82307692, 23.94615385, 32.06923077,\n",
    "40.19230769, 48.31538462, 56.43846154, 64.56153846,\n",
    "72.68461538, 80.80769231, 88.93076923, 97.05384615,\n",
    "105.17692308, 113.3 , 121.42307692, 129.54615385, 137.66923077,\n",
    "145.79230769, 153.91538462, 162.03846154, 170.16153846,\n",
    "178.28461538, 186.40769231, 194.53076923, 202.65384615,\n",
    "210.77692308, 218.9, 227.02307692, 235.14615385, 243.26923077,\n",
    "251.39230769, 259.51538462, 267.63846154, 275.76153846,\n",
    "283.88461538, 292.00769231, 300.13076923, 308.25384615,\n",
    "316.37692308, 324.5]).\n",
    "You know that the best-fit model for this dataset is of the form y_mod = a*x_mod+b,\n",
    "with x_mod = np.linspace(1,100,100), 0.1<a<10 and 0.1<b<15.\n",
    "Create a code that tests different models (so different combinations of a and b) to find\n",
    "the best-fit model for dataset y(x). The code should print the best-fit model parameters\n",
    "a and b with an informative statement."
   ]
  },
  {
   "cell_type": "code",
   "execution_count": null,
   "metadata": {},
   "outputs": [],
   "source": []
  }
 ],
 "metadata": {
  "kernelspec": {
   "display_name": "Python 3",
   "language": "python",
   "name": "python3"
  },
  "language_info": {
   "codemirror_mode": {
    "name": "ipython",
    "version": 3
   },
   "file_extension": ".py",
   "mimetype": "text/x-python",
   "name": "python",
   "nbconvert_exporter": "python",
   "pygments_lexer": "ipython3",
   "version": "3.8.3"
  }
 },
 "nbformat": 4,
 "nbformat_minor": 4
}
