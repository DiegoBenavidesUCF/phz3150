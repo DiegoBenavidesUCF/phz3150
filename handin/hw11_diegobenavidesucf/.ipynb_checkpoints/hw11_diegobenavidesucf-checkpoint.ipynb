{
 "cells": [
  {
   "cell_type": "code",
   "execution_count": 1,
   "metadata": {},
   "outputs": [],
   "source": [
    "# Diego Benavides\n",
    "\n",
    "#April 3 2022\n",
    "\n",
    "#Homerwork 11\n"
   ]
  },
  {
   "cell_type": "code",
   "execution_count": 7,
   "metadata": {},
   "outputs": [],
   "source": [
    "import numpy as np\n",
    "import matplotlib.pyplot as plt"
   ]
  },
  {
   "cell_type": "markdown",
   "metadata": {},
   "source": [
    "Problem 2:"
   ]
  },
  {
   "cell_type": "markdown",
   "metadata": {},
   "source": [
    " (15 points) In a lab you measured the dataset y(x) with:\n",
    "x= np.linspace(1,100,40) and\n",
    "y = np.array([ 7.7, 15.82307692, 23.94615385, 32.06923077,\n",
    "40.19230769, 48.31538462, 56.43846154, 64.56153846,\n",
    "72.68461538, 80.80769231, 88.93076923, 97.05384615,\n",
    "105.17692308, 113.3 , 121.42307692, 129.54615385, 137.66923077,\n",
    "145.79230769, 153.91538462, 162.03846154, 170.16153846,\n",
    "178.28461538, 186.40769231, 194.53076923, 202.65384615,\n",
    "210.77692308, 218.9, 227.02307692, 235.14615385, 243.26923077,\n",
    "251.39230769, 259.51538462, 267.63846154, 275.76153846,\n",
    "283.88461538, 292.00769231, 300.13076923, 308.25384615,\n",
    "316.37692308, 324.5]).\n",
    "You know that the best-fit model for this dataset is of the form y_mod = a*x_mod+b,\n",
    "with x_mod = np.linspace(1,100,100), 0.1<a<10 and 0.1<b<15.\n",
    "Create a code that tests different models (so different combinations of a and b) to find\n",
    "the best-fit model for dataset y(x). The code should print the best-fit model parameters\n",
    "a and b with an informative statement."
   ]
  },
  {
   "cell_type": "code",
   "execution_count": 14,
   "metadata": {},
   "outputs": [
    {
     "name": "stdout",
     "output_type": "stream",
     "text": [
      "Problem 2:\n",
      "\n",
      "[  1.           3.53846154   6.07692308   8.61538462  11.15384615\n",
      "  13.69230769  16.23076923  18.76923077  21.30769231  23.84615385\n",
      "  26.38461538  28.92307692  31.46153846  34.          36.53846154\n",
      "  39.07692308  41.61538462  44.15384615  46.69230769  49.23076923\n",
      "  51.76923077  54.30769231  56.84615385  59.38461538  61.92307692\n",
      "  64.46153846  67.          69.53846154  72.07692308  74.61538462\n",
      "  77.15384615  79.69230769  82.23076923  84.76923077  87.30769231\n",
      "  89.84615385  92.38461538  94.92307692  97.46153846 100.        ]\n",
      "(40,)\n",
      "\n",
      "\n",
      "[  7.7         15.82307692  23.94615385  32.06923077  40.19230769\n",
      "  48.31538462  56.43846154  64.56153846  72.68461538  80.80769231\n",
      "  88.93076923  97.05384615 105.17692308 113.3        121.42307692\n",
      " 129.54615385 137.66923077 145.79230769 153.91538462 162.03846154\n",
      " 170.16153846 178.28461538 186.40769231 194.53076923 202.65384615\n",
      " 210.77692308 218.9        227.02307692 235.14615385 243.26923077\n",
      " 251.39230769 259.51538462 267.63846154 275.76153846 283.88461538\n",
      " 292.00769231 300.13076923 308.25384615 316.37692308 324.5       ]\n",
      "(40,)\n"
     ]
    }
   ],
   "source": [
    "print('Problem 2:\\n')\n",
    "\n",
    "x= np.linspace(1,100,40)\n",
    "\n",
    "\n",
    "y = np.array([ 7.7, 15.82307692, 23.94615385, 32.06923077,\n",
    "40.19230769, 48.31538462, 56.43846154, 64.56153846,\n",
    "72.68461538, 80.80769231, 88.93076923, 97.05384615,\n",
    "105.17692308, 113.3 , 121.42307692, 129.54615385, 137.66923077,\n",
    "145.79230769, 153.91538462, 162.03846154, 170.16153846,\n",
    "178.28461538, 186.40769231, 194.53076923, 202.65384615,\n",
    "210.77692308, 218.9, 227.02307692, 235.14615385, 243.26923077,\n",
    "251.39230769, 259.51538462, 267.63846154, 275.76153846,\n",
    "283.88461538, 292.00769231, 300.13076923, 308.25384615,\n",
    "316.37692308, 324.5])\n",
    "\n",
    "\n",
    "#print(x)\n",
    "#print(np.shape(x))\n",
    "\n",
    "#print('\\n')\n",
    "\n",
    "#print(y)\n",
    "#print(np.shape(y))\n"
   ]
  },
  {
   "cell_type": "markdown",
   "metadata": {},
   "source": [
    "Problem 3:"
   ]
  },
  {
   "cell_type": "markdown",
   "metadata": {},
   "source": [
    "a) (7points) The wind chill factor gives us the temperature feel on a windy day and\n",
    "is given by: �� = 35.74 + 0.6215 ∗ � − 35.75 ∗ �!.#$ + 0.4275 ∗ � ∗ �!.#$ (with T\n",
    "in Fahrenheit and V in mph]. Create a function wind_chill that takes as input\n",
    "the actual temperature on a given day and the wind speed and returns the wind\n",
    "chill temperature. Run it for a day with T = 20F and V = 55mph and print the\n",
    "result with an informative statement.\n",
    "b) (8 points) The parallax of a star is defined as the apparent displacement of a\n",
    "star on the sky in the course of a half year due to the Earth’s motion around the\n",
    "Sun. Using simple trigonometry you can show that π~ 1/�, where � is the\n",
    "parallax in arcseconds and d is the distance of the star to the Earth in pc. Create\n",
    "a function parallax_to_distance that takes as input a dictionary with\n",
    "information on stars observed (their name and their parallax) and returns a\n",
    "dictionary with the names of the stars and their distances from Earth. Call the\n",
    "function for a dictionary containing the following observations:\n",
    "Name of star Parallax (in milliarcsec)\n",
    "Betelgeuse 7.63\n",
    "Antares 5.89\n",
    "Spica 13.06\n",
    "Proxima Cen 768\n",
    "c) (10 points) Make a function lists_to_dict that takes as input two lists and\n",
    "combines them in a dictionary. The lists could be either containing strings or\n",
    "numbers, but they will be homogeneous (i.e., if the first element is a string all\n",
    "elements of the list will be strings). Your function should check which of the input\n",
    "lists contains the keywords for the dictionary (i.e., which list has the strings; don’t\n",
    "assume list1 or list2 will be one kind or another) and use that as keywords and\n",
    "use the other list as the values. The function should then return the dictionary.\n",
    "Call the function for the following pairs:\n",
    "- List_1 = [ 1, 3, 5, 10, 12, 14] & List_2 = [ ‘watermelon’, ‘melon’, ‘apple’,\n",
    "‘strawberries’, ‘cherries’, ‘oranges’ ]\n",
    "- List_1 = [ ‘cars’, ‘motorcycles’, ‘bikes’, ‘skateboards’] & List_2 = [ 200, 150,\n",
    "10, 67 ]\n",
    "d) (10 points) Make a function matrix_mult that takes as input two matrices and\n",
    "multiplies them, if possible. The function should first check if the matrices can be\n",
    "multiplied (i.e., are their dimensions compatible?). If not, the function should give\n",
    "an error message with information about the dimensions of the matrices. If the\n",
    "matrices can be multiplied the function should proceed to do the matrix\n",
    "multiplication (you need to this manually, don’t use numpy functions like matmul!)\n",
    "and return the matrix product of the two matrices. Call matrix_mult for:\n",
    "A1 = np.array( [ [1, 2, 3 ], [4, 5, 6] ]) & A2 = np.array( [ [2, 3] , [2 , 2 ] ] ) ;\n",
    "B1 = np.array( [ [1, 0], [0, 1] ]) & B2 = np.array( [ [4, 1], [ 2,1 ] ] ) and\n",
    "C1 = np.array( [ [1, 0, 3], [0, 1, 4], [2, 1 , 8] ]) & C2 = np.array( [4, 1 , 5] )"
   ]
  },
  {
   "cell_type": "code",
   "execution_count": 43,
   "metadata": {},
   "outputs": [
    {
     "name": "stdout",
     "output_type": "stream",
     "text": [
      "Problem 3a:\n",
      "\n",
      "The wind chill factor is -3.4748397706315757 °F and the actual temperature is 16.525160229368424 °F\n"
     ]
    }
   ],
   "source": [
    "print('Problem 3a:\\n')\n",
    "\n",
    "#creating function:\n",
    "\n",
    "def wind_chill( T , V_wind ):\n",
    "    \n",
    "    \"\"\"The function takes in the temperature in fahrenheit and the speed of the wind in miles per hour,\n",
    "    in order to return the wind chill factor and wind chill temperature, both in fahrenheit.\n",
    "    INPUT: Temperature [degrees Fahrenheit], Windspeed [mph]\n",
    "    OUTPUT: Wind chill temperature [degrees Fahrenheit]\"\"\"\n",
    "    \n",
    "    wind_chill_factor = 35.74 + 0.6215 * T - 35.75 * np.power( V_wind , 0.16 ) + 0.4275 * T * np.power( V_wind , 0.16) \n",
    "    \n",
    "    real_temp = T + wind_chill_factor\n",
    "    \n",
    "    return f'The wind chill factor is {wind_chill_factor} \\u00b0F and the actual temperature is {real_temp} \\u00b0F'\n",
    "   \n",
    "\n",
    "#Test case:\n",
    "\n",
    "temp = 20\n",
    "\n",
    "wind_speed = 55\n",
    "\n",
    "print(wind_chill( temp , wind_speed ))\n"
   ]
  },
  {
   "cell_type": "code",
   "execution_count": 45,
   "metadata": {},
   "outputs": [
    {
     "name": "stdout",
     "output_type": "stream",
     "text": [
      "Problem 3b:\n",
      "\n",
      "{'Betelgeuse': 131.06159895150722, 'Antares': 169.77928692699493, 'Spica': 76.5696784073507, 'Proxima Cen': 1.3020833333333333}\n"
     ]
    }
   ],
   "source": [
    "print('Problem 3b:\\n')\n",
    "\n",
    "# distance is equal to 1/parallax where the parallax is in arcseconds\n",
    "# I will convert the parallax to arcseconds instead of milliarcseconds within the dictionary of parallax for each star:\n",
    "\n",
    "parallax = { 'Betelgeuse' : (7.63*0.001) , 'Antares' : (5.89*0.001) , \n",
    "            'Spica' : (13.06*0.001) , 'Proxima Cen' : (768*0.001) }\n",
    "\n",
    "\n",
    "def parallax_to_distance(p):\n",
    "    \"\"\"The function takes in a dictionary with stars' names as keys and their parallax in arcseconds as values. And\n",
    "    returns a dictionary of the stars' names as keys and their distances from earth in parsecs as values.\n",
    "    \n",
    "    INPUT: Dictionary with stars' names as keys and their parallax in arcseconds as values.\n",
    "    OUTPUT: Dictionary of the stars' names as keys and their distances from earth in parsecs as values.\"\"\"\n",
    "    \n",
    "    #initializzing an empty dictionary:\n",
    "    distances = {}\n",
    "    \n",
    "    #iterates and updates the empty distances dictionary using the :\n",
    "    for k , v in p.items():\n",
    "        \n",
    "        distances.update({k : 1/v})\n",
    "        \n",
    "        \n",
    "        \n",
    "    return distances\n",
    "\n",
    "\n",
    "#The returned dictionary has the distances in PARSECS!\n",
    "\n",
    "#test case:\n",
    "print(parallax_to_distance(parallax))\n",
    "    \n",
    "    "
   ]
  },
  {
   "cell_type": "code",
   "execution_count": 46,
   "metadata": {},
   "outputs": [
    {
     "name": "stdout",
     "output_type": "stream",
     "text": [
      "Problem 3c:\n",
      "\n"
     ]
    }
   ],
   "source": [
    "print('Problem 3c:\\n')\n",
    "\n",
    "\n"
   ]
  },
  {
   "cell_type": "code",
   "execution_count": null,
   "metadata": {},
   "outputs": [],
   "source": []
  }
 ],
 "metadata": {
  "kernelspec": {
   "display_name": "Python 3",
   "language": "python",
   "name": "python3"
  },
  "language_info": {
   "codemirror_mode": {
    "name": "ipython",
    "version": 3
   },
   "file_extension": ".py",
   "mimetype": "text/x-python",
   "name": "python",
   "nbconvert_exporter": "python",
   "pygments_lexer": "ipython3",
   "version": "3.8.3"
  }
 },
 "nbformat": 4,
 "nbformat_minor": 4
}
