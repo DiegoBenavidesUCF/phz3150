{
 "cells": [
  {
   "cell_type": "code",
   "execution_count": 47,
   "metadata": {},
   "outputs": [],
   "source": [
    "# Diego Benavides\n",
    "\n",
    "#April 3 2022\n",
    "\n",
    "#Homerwork 11\n"
   ]
  },
  {
   "cell_type": "code",
   "execution_count": 2,
   "metadata": {},
   "outputs": [],
   "source": [
    "import numpy as np\n",
    "import matplotlib.pyplot as plt"
   ]
  },
  {
   "cell_type": "markdown",
   "metadata": {},
   "source": [
    "Problem 2:"
   ]
  },
  {
   "cell_type": "markdown",
   "metadata": {},
   "source": [
    " (15 points) In a lab you measured the dataset y(x) with:\n",
    "x= np.linspace(1,100,40) and\n",
    "y = np.array([ 7.7, 15.82307692, 23.94615385, 32.06923077,\n",
    "40.19230769, 48.31538462, 56.43846154, 64.56153846,\n",
    "72.68461538, 80.80769231, 88.93076923, 97.05384615,\n",
    "105.17692308, 113.3 , 121.42307692, 129.54615385, 137.66923077,\n",
    "145.79230769, 153.91538462, 162.03846154, 170.16153846,\n",
    "178.28461538, 186.40769231, 194.53076923, 202.65384615,\n",
    "210.77692308, 218.9, 227.02307692, 235.14615385, 243.26923077,\n",
    "251.39230769, 259.51538462, 267.63846154, 275.76153846,\n",
    "283.88461538, 292.00769231, 300.13076923, 308.25384615,\n",
    "316.37692308, 324.5]).\n",
    "You know that the best-fit model for this dataset is of the form y_mod = a*x_mod+b,\n",
    "with x_mod = np.linspace(1,100,100), 0.1<a<10 and 0.1<b<15.\n",
    "Create a code that tests different models (so different combinations of a and b) to find\n",
    "the best-fit model for dataset y(x). The code should print the best-fit model parameters\n",
    "a and b with an informative statement."
   ]
  },
  {
   "cell_type": "code",
   "execution_count": 49,
   "metadata": {},
   "outputs": [
    {
     "name": "stdout",
     "output_type": "stream",
     "text": [
      "Problem 2:\n",
      "\n"
     ]
    }
   ],
   "source": [
    "print('Problem 2:\\n')\n",
    "\n",
    "x= np.linspace(1,100,40)\n",
    "\n",
    "\n",
    "y = np.array([ 7.7, 15.82307692, 23.94615385, 32.06923077,\n",
    "40.19230769, 48.31538462, 56.43846154, 64.56153846,\n",
    "72.68461538, 80.80769231, 88.93076923, 97.05384615,\n",
    "105.17692308, 113.3 , 121.42307692, 129.54615385, 137.66923077,\n",
    "145.79230769, 153.91538462, 162.03846154, 170.16153846,\n",
    "178.28461538, 186.40769231, 194.53076923, 202.65384615,\n",
    "210.77692308, 218.9, 227.02307692, 235.14615385, 243.26923077,\n",
    "251.39230769, 259.51538462, 267.63846154, 275.76153846,\n",
    "283.88461538, 292.00769231, 300.13076923, 308.25384615,\n",
    "316.37692308, 324.5])\n",
    "\n",
    "\n",
    "#print(x)\n",
    "#print(np.shape(x))\n",
    "\n",
    "#print('\\n')\n",
    "\n",
    "#print(y)\n",
    "#print(np.shape(y))\n"
   ]
  },
  {
   "cell_type": "markdown",
   "metadata": {},
   "source": [
    "Problem 3:"
   ]
  },
  {
   "cell_type": "markdown",
   "metadata": {},
   "source": [
    "a) (7points) The wind chill factor gives us the temperature feel on a windy day and\n",
    "is given by: �� = 35.74 + 0.6215 ∗ � − 35.75 ∗ �!.#$ + 0.4275 ∗ � ∗ �!.#$ (with T\n",
    "in Fahrenheit and V in mph]. Create a function wind_chill that takes as input\n",
    "the actual temperature on a given day and the wind speed and returns the wind\n",
    "chill temperature. Run it for a day with T = 20F and V = 55mph and print the\n",
    "result with an informative statement.\n",
    "b) (8 points) The parallax of a star is defined as the apparent displacement of a\n",
    "star on the sky in the course of a half year due to the Earth’s motion around the\n",
    "Sun. Using simple trigonometry you can show that π~ 1/�, where � is the\n",
    "parallax in arcseconds and d is the distance of the star to the Earth in pc. Create\n",
    "a function parallax_to_distance that takes as input a dictionary with\n",
    "information on stars observed (their name and their parallax) and returns a\n",
    "dictionary with the names of the stars and their distances from Earth. Call the\n",
    "function for a dictionary containing the following observations:\n",
    "Name of star Parallax (in milliarcsec)\n",
    "Betelgeuse 7.63\n",
    "Antares 5.89\n",
    "Spica 13.06\n",
    "Proxima Cen 768\n",
    "c) (10 points) Make a function lists_to_dict that takes as input two lists and\n",
    "combines them in a dictionary. The lists could be either containing strings or\n",
    "numbers, but they will be homogeneous (i.e., if the first element is a string all\n",
    "elements of the list will be strings). Your function should check which of the input\n",
    "lists contains the keywords for the dictionary (i.e., which list has the strings; don’t\n",
    "assume list1 or list2 will be one kind or another) and use that as keywords and\n",
    "use the other list as the values. The function should then return the dictionary.\n",
    "Call the function for the following pairs:\n",
    "- List_1 = [ 1, 3, 5, 10, 12, 14] & List_2 = [ ‘watermelon’, ‘melon’, ‘apple’,\n",
    "‘strawberries’, ‘cherries’, ‘oranges’ ]\n",
    "- List_1 = [ ‘cars’, ‘motorcycles’, ‘bikes’, ‘skateboards’] & List_2 = [ 200, 150,\n",
    "10, 67 ]\n",
    "d) (10 points) Make a function matrix_mult that takes as input two matrices and\n",
    "multiplies them, if possible. The function should first check if the matrices can be\n",
    "multiplied (i.e., are their dimensions compatible?). If not, the function should give\n",
    "an error message with information about the dimensions of the matrices. If the\n",
    "matrices can be multiplied the function should proceed to do the matrix\n",
    "multiplication (you need to this manually, don’t use numpy functions like matmul!)\n",
    "and return the matrix product of the two matrices. Call matrix_mult for:\n",
    "A1 = np.array( [ [1, 2, 3 ], [4, 5, 6] ]) & A2 = np.array( [ [2, 3] , [2 , 2 ] ] ) ;\n",
    "B1 = np.array( [ [1, 0], [0, 1] ]) & B2 = np.array( [ [4, 1], [ 2,1 ] ] ) and\n",
    "C1 = np.array( [ [1, 0, 3], [0, 1, 4], [2, 1 , 8] ]) & C2 = np.array( [4, 1 , 5] )"
   ]
  },
  {
   "cell_type": "code",
   "execution_count": 56,
   "metadata": {},
   "outputs": [
    {
     "name": "stdout",
     "output_type": "stream",
     "text": [
      "Problem 3a:\n",
      "\n",
      "The wind chill factor is -3.4748397706315757 °F and the actual temperature is 16.525160229368424 °F\n"
     ]
    }
   ],
   "source": [
    "print('Problem 3a:\\n')\n",
    "\n",
    "#creating function:\n",
    "\n",
    "def wind_chill( T , V_wind ):\n",
    "    \n",
    "    \"\"\"The function takes in the temperature in fahrenheit and the speed of the wind in miles per hour,\n",
    "    in order to return the wind chill factor and wind chill temperature, both in fahrenheit.\n",
    "    INPUT: Temperature [degrees Fahrenheit], Windspeed [mph]\n",
    "    OUTPUT: Wind chill temperature [degrees Fahrenheit]\"\"\"\n",
    "    \n",
    "    #given equation for wind chill factor:\n",
    "    wind_chill_factor = 35.74 + 0.6215 * T - 35.75 * np.power( V_wind , 0.16 ) + 0.4275 * T * np.power( V_wind , 0.16) \n",
    "    \n",
    "    real_temp = T + wind_chill_factor\n",
    "    \n",
    "    return f'The wind chill factor is {wind_chill_factor} \\u00b0F and the actual temperature is {real_temp} \\u00b0F'\n",
    "   \n",
    "\n",
    "#Test case:\n",
    "\n",
    "temp = 20\n",
    "\n",
    "wind_speed = 55\n",
    "\n",
    "print(wind_chill( temp , wind_speed ))\n"
   ]
  },
  {
   "cell_type": "code",
   "execution_count": 100,
   "metadata": {},
   "outputs": [
    {
     "name": "stdout",
     "output_type": "stream",
     "text": [
      "Problem 3b:\n",
      "\n",
      "{'Betelgeuse': 131.06159895150722, 'Antares': 169.77928692699493, 'Spica': 76.5696784073507, 'Proxima Cen': 1.3020833333333333}\n"
     ]
    }
   ],
   "source": [
    "print('Problem 3b:\\n')\n",
    "\n",
    "# distance is equal to 1/parallax where the parallax is in arcseconds\n",
    "\n",
    "# I will convert the parallax to arcseconds instead of milliarcseconds within the dictionary of parallax for each star:\n",
    "\n",
    "parallax = { 'Betelgeuse' : (7.63*0.001) , 'Antares' : (5.89*0.001) , \n",
    "            'Spica' : (13.06*0.001) , 'Proxima Cen' : (768*0.001) }\n",
    "\n",
    "\n",
    "def parallax_to_distance( p ):\n",
    "    \"\"\"The function takes in a dictionary with stars' names as keys and their parallax in arcseconds as values. And\n",
    "    returns a dictionary of the stars' names as keys and their distances from earth in parsecs as values.\n",
    "    \n",
    "    INPUT: Dictionary with stars' names as keys and their parallax in arcseconds as values.\n",
    "    OUTPUT: Dictionary of the stars' names as keys and their distances from earth in parsecs as values.\"\"\"\n",
    "    \n",
    "    #initializzing an empty dictionary:\n",
    "    distances = {}\n",
    "    \n",
    "    #iterates and updates the empty distances dictionary using the :\n",
    "    for k , v in p.items():\n",
    "        \n",
    "        distances.update({k : 1/(v)})\n",
    "        \n",
    "        \n",
    "        \n",
    "    return distances\n",
    "\n",
    "\n",
    "#The returned dictionary has the distances in PARSECS!\n",
    "\n",
    "#test case:\n",
    "print(parallax_to_distance(parallax))\n",
    "    \n",
    "    "
   ]
  },
  {
   "cell_type": "code",
   "execution_count": 101,
   "metadata": {},
   "outputs": [
    {
     "name": "stdout",
     "output_type": "stream",
     "text": [
      "Problem 3c:\n",
      "\n",
      "{'watermelon': 1, 'melon': 3, 'apple': 5, 'strawberries': 10, 'cherries': 12, 'oranges': 14}\n",
      "\n",
      "\n",
      "{'cars': 200, 'motorcycles': 150, 'bikes': 10, 'skateboards': 67}\n"
     ]
    }
   ],
   "source": [
    "print('Problem 3c:\\n')\n",
    "\n",
    "\n",
    "def lists_to_dict( list_1 , list_2 ):\n",
    "    \"\"\"This function takes in two lists, where one list is a list of strings and the other is a list of values. \n",
    "    The function then checks which list is the list of strings and makes that list the keys of the new dictionary, and \n",
    "    makes the other list the values of the dictionary. This new dictionary is returned.\n",
    "    INPUT: List of strings and a list of values.\n",
    "    OUTPUT: Dictionary where the list of strings are the keys and the list of values are the values.\"\"\"\n",
    "    \n",
    "    #initializing an empty dictionary\n",
    "    new_dict = {}\n",
    "    \n",
    "    \n",
    "    #If and Elif statements to check which list contains strings and making that list be the keywords and the other list the values:\n",
    "    if (type(list_1[0]) == str):\n",
    "        keys = list_1\n",
    "        vals = list_2\n",
    "        \n",
    "        for i in range(len(keys)):\n",
    "            new_dict.update({ keys[i] : vals[i] })\n",
    "        \n",
    "        \n",
    "    elif (type(list_2[0]) == str):\n",
    "        \n",
    "        keys = list_2\n",
    "        vals = list_1\n",
    "        \n",
    "        for i in range(len(keys)):\n",
    "            new_dict.update({ keys[i] : vals[i] })\n",
    "            \n",
    "            \n",
    "    \n",
    "            \n",
    "    return new_dict\n",
    "    \n",
    "    \n",
    "# Test case 1:\n",
    "\n",
    "list_1a = [ 1 , 3 , 5 , 10 , 12 , 14 ]\n",
    "\n",
    "list_2a = [ 'watermelon', 'melon', 'apple', 'strawberries', 'cherries', 'oranges' ]\n",
    "\n",
    "print(lists_to_dict( list_1a , list_2a ))\n",
    "\n",
    "print('\\n')\n",
    "\n",
    "# Test case 2:\n",
    "\n",
    "list_1b = [ 'cars', 'motorcycles', 'bikes', 'skateboards']\n",
    "\n",
    "list_2b =  [ 200 , 150 , 10, 67 ]\n",
    "\n",
    "\n",
    "print(lists_to_dict( list_1b , list_2b ))\n"
   ]
  },
  {
   "cell_type": "code",
   "execution_count": 97,
   "metadata": {},
   "outputs": [
    {
     "name": "stdout",
     "output_type": "stream",
     "text": [
      "Problem 3d:\n",
      "\n",
      "Test case 1:\n",
      "\n",
      "The two matrices inputted are NOT compatible, so they CANNOT be mutiplied!\n",
      "None\n",
      "\n",
      "Test case 2:\n",
      "\n",
      "[4. 1.]\n",
      "[2. 1.]\n",
      "None\n",
      "\n",
      "Test case 3:\n",
      "\n"
     ]
    },
    {
     "ename": "IndexError",
     "evalue": "too many indices for array",
     "output_type": "error",
     "traceback": [
      "\u001b[1;31m---------------------------------------------------------------------------\u001b[0m",
      "\u001b[1;31mIndexError\u001b[0m                                Traceback (most recent call last)",
      "\u001b[1;32m<ipython-input-97-7a1479408fd3>\u001b[0m in \u001b[0;36m<module>\u001b[1;34m\u001b[0m\n\u001b[0;32m     66\u001b[0m \u001b[1;33m\u001b[0m\u001b[0m\n\u001b[0;32m     67\u001b[0m \u001b[0mprint\u001b[0m\u001b[1;33m(\u001b[0m\u001b[1;34mf'Test case 3:\\n'\u001b[0m\u001b[1;33m)\u001b[0m\u001b[1;33m\u001b[0m\u001b[1;33m\u001b[0m\u001b[0m\n\u001b[1;32m---> 68\u001b[1;33m \u001b[0mprint\u001b[0m\u001b[1;33m(\u001b[0m\u001b[0mmatrix_mult\u001b[0m\u001b[1;33m(\u001b[0m\u001b[0mC1\u001b[0m\u001b[1;33m,\u001b[0m\u001b[0mC2\u001b[0m\u001b[1;33m)\u001b[0m\u001b[1;33m)\u001b[0m \u001b[1;31m# Unfortunately because test case 3 is multiplication between a vector and a matrix, I cant\u001b[0m\u001b[1;33m\u001b[0m\u001b[1;33m\u001b[0m\u001b[0m\n\u001b[0m\u001b[0;32m     69\u001b[0m                           \u001b[1;31m# seem to get the function to work in this case. It seems that my function only works for\u001b[0m\u001b[1;33m\u001b[0m\u001b[1;33m\u001b[0m\u001b[1;33m\u001b[0m\u001b[0m\n\u001b[0;32m     70\u001b[0m                           \u001b[1;31m# two 2-d matrices being multiplied, not a matrix and a vector.\u001b[0m\u001b[1;33m\u001b[0m\u001b[1;33m\u001b[0m\u001b[1;33m\u001b[0m\u001b[0m\n",
      "\u001b[1;32m<ipython-input-97-7a1479408fd3>\u001b[0m in \u001b[0;36mmatrix_mult\u001b[1;34m(m_1, m_2)\u001b[0m\n\u001b[0;32m     13\u001b[0m     \u001b[1;31m#testing for matrix compatability:\u001b[0m\u001b[1;33m\u001b[0m\u001b[1;33m\u001b[0m\u001b[1;33m\u001b[0m\u001b[0m\n\u001b[0;32m     14\u001b[0m \u001b[1;33m\u001b[0m\u001b[0m\n\u001b[1;32m---> 15\u001b[1;33m     \u001b[1;32mif\u001b[0m \u001b[1;33m(\u001b[0m\u001b[1;33m(\u001b[0m\u001b[0mlen\u001b[0m\u001b[1;33m(\u001b[0m\u001b[0mm_1\u001b[0m\u001b[1;33m[\u001b[0m\u001b[1;36m0\u001b[0m\u001b[1;33m,\u001b[0m\u001b[1;33m:\u001b[0m\u001b[1;33m]\u001b[0m\u001b[1;33m)\u001b[0m\u001b[1;33m)\u001b[0m\u001b[1;33m==\u001b[0m\u001b[1;33m(\u001b[0m\u001b[0mlen\u001b[0m\u001b[1;33m(\u001b[0m\u001b[0mm_2\u001b[0m\u001b[1;33m[\u001b[0m\u001b[1;33m:\u001b[0m\u001b[1;33m,\u001b[0m\u001b[1;36m0\u001b[0m\u001b[1;33m]\u001b[0m\u001b[1;33m)\u001b[0m\u001b[1;33m)\u001b[0m\u001b[1;33m)\u001b[0m\u001b[1;33m:\u001b[0m\u001b[1;33m\u001b[0m\u001b[1;33m\u001b[0m\u001b[0m\n\u001b[0m\u001b[0;32m     16\u001b[0m \u001b[1;33m\u001b[0m\u001b[0m\n\u001b[0;32m     17\u001b[0m         \u001b[1;31m#initializing the shape of the expected result which is the dimensions of the m_1 rows and m_2 columns:\u001b[0m\u001b[1;33m\u001b[0m\u001b[1;33m\u001b[0m\u001b[1;33m\u001b[0m\u001b[0m\n",
      "\u001b[1;31mIndexError\u001b[0m: too many indices for array"
     ]
    }
   ],
   "source": [
    "print('Problem 3d:\\n')\n",
    "\n",
    "def matrix_mult( m_1 , m_2 ):\n",
    "    \"\"\"The function takes in two matrices and multiplies them if it is possible.\n",
    "    If the matrices cant be multiplied then the function returns an error. \n",
    "    INPUT: two matrices.\n",
    "    OUTPUT: the product of the two matrices , or an error message.\"\"\"\n",
    "    \n",
    "    #Amount of rows is given by: len(m[:,0]). Amount of columns is given by: len(m[0,:]). \n",
    "    \n",
    "    #Matrix can be multiplied when the amount of columns of the first matrix match the amount of rows of the second matrix:\n",
    "    \n",
    "    #testing for matrix compatability:\n",
    "    \n",
    "    if ((len(m_1[0,:]))==(len(m_2[:,0]))):\n",
    "        \n",
    "        #initializing the shape of the expected result which is the dimensions of the m_1 rows and m_2 columns:\n",
    "        result = np.zeros([len(m_1[:,0]),len(m_2[0,:])])\n",
    "        \n",
    "        \n",
    "        \n",
    "    #Now I have to populate the resulting matrix of zeros in order to \n",
    "        # iterating by rows of m_1\n",
    "        for x in range(len(m_1)):\n",
    "            \n",
    "            # iterating by columns by m_2\n",
    "            for y in range(len(m_2[0])):\n",
    "                \n",
    "                # iterating by rows of m_2\n",
    "                for z in range(len(m_2)):\n",
    "                    result[x][y] += m_1[x][z] * m_2[z][y]\n",
    "                    \n",
    "        for answer in result:\n",
    "            print(answer)\n",
    "        \n",
    "        \n",
    "    else:\n",
    "        error_messaage = 'The two matrices inputted are NOT compatible, so they CANNOT be mutiplied!'\n",
    "        \n",
    "        print(error_messaage)\n",
    "    \n",
    "\n",
    "    \n",
    "# Test cases:\n",
    "\n",
    "# Test case 1:\n",
    "\n",
    "A1 = np.array( [ [1, 2, 3 ], [4, 5, 6] ])\n",
    "A2 = np.array( [ [2, 3] , [2 , 2 ] ] )\n",
    "\n",
    "print(f'Test case 1:\\n')\n",
    "print(f'{matrix_mult(A1,A2)}\\n')\n",
    "\n",
    "# Test case 2:\n",
    "\n",
    "B1 = np.array( [ [1, 0], [0, 1] ])\n",
    "B2 = np.array( [ [4, 1], [ 2,1 ] ] )\n",
    "\n",
    "print(f'Test case 2:\\n')\n",
    "print(f'{matrix_mult(B1,B2)}\\n')\n",
    "\n",
    "\n",
    "# Test case 3:\n",
    "C1 = np.array( [ [1, 0, 3], [0, 1, 4], [2, 1 , 8] ]) \n",
    "C2 = np.array( [4, 1 ,5] )\n",
    "\n",
    "print(f'Test case 3:\\n')\n",
    "print(matrix_mult(C1,C2)) # Unfortunately because test case 3 is multiplication between a vector and a matrix, I cant \n",
    "                          # seem to get the function to work in this case. It seems that my function only works for\n",
    "                          # two 2-d matrices being multiplied, not a matrix and a vector. \n",
    "\n",
    "    \n",
    "\n"
   ]
  },
  {
   "cell_type": "code",
   "execution_count": 96,
   "metadata": {},
   "outputs": [
    {
     "name": "stdout",
     "output_type": "stream",
     "text": [
      "\n",
      "\n",
      "[[4 1]\n",
      " [2 1]]\n",
      "\n",
      "\n",
      "[19 21 49]\n"
     ]
    }
   ],
   "source": [
    "#testing the answers using np.matmul()\n",
    "\n",
    "# Test case 1:\n",
    "\n",
    "#print(np.matmul(A1,A2)) #GIVES AN ERROR SO MY CODE WORKS!\n",
    "print('\\n')\n",
    "\n",
    "# Test case 2:\n",
    "print(np.matmul(B1,B2)) #THIS MATCHES MY RESULT SO MY CODE WORKS!\n",
    "print('\\n')\n",
    "\n",
    "#Test case 3:\n",
    "print(np.matmul(C1,C2)) #I dont get this, my function fails here!\n"
   ]
  },
  {
   "cell_type": "code",
   "execution_count": null,
   "metadata": {},
   "outputs": [],
   "source": []
  }
 ],
 "metadata": {
  "kernelspec": {
   "display_name": "Python 3",
   "language": "python",
   "name": "python3"
  },
  "language_info": {
   "codemirror_mode": {
    "name": "ipython",
    "version": 3
   },
   "file_extension": ".py",
   "mimetype": "text/x-python",
   "name": "python",
   "nbconvert_exporter": "python",
   "pygments_lexer": "ipython3",
   "version": "3.8.3"
  }
 },
 "nbformat": 4,
 "nbformat_minor": 4
}
