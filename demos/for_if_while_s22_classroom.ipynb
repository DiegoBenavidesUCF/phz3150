{
 "cells": [
  {
   "cell_type": "markdown",
   "metadata": {},
   "source": [
    "# FOR - IF - WHILE LOOPS "
   ]
  },
  {
   "cell_type": "code",
   "execution_count": 1,
   "metadata": {},
   "outputs": [],
   "source": [
    "### 2.15.2021 - Spring 2021 "
   ]
  },
  {
   "cell_type": "code",
   "execution_count": 2,
   "metadata": {},
   "outputs": [],
   "source": [
    "import numpy as np"
   ]
  },
  {
   "cell_type": "markdown",
   "metadata": {},
   "source": [
    "# FOR"
   ]
  },
  {
   "cell_type": "markdown",
   "metadata": {},
   "source": [
    "### A for loop is iterating over a parameter (e.g. i) to do a specific thing.\n"
   ]
  },
  {
   "cell_type": "markdown",
   "metadata": {},
   "source": [
    "<img src=\"for_loop.png\" width=600 height=600 />"
   ]
  },
  {
   "cell_type": "markdown",
   "metadata": {},
   "source": [
    "### A for loop is iterating over a parameter (e.g. i) to do a specific thing.\n",
    "\n",
    "In Fortran (first language to introduce for loops, but they are called “DO”) you would have:\n",
    "\n",
    "      DO i = 0, 10\n",
    "        print*, i\n",
    "\n",
    "In Python:  <br>\n",
    "     for i in 1, 2, 3,10 : <br>\n",
    "-------     print(i)\n"
   ]
  },
  {
   "cell_type": "markdown",
   "metadata": {},
   "source": [
    "### The element over which you iterate can be a list/tuple/array..: "
   ]
  },
  {
   "cell_type": "code",
   "execution_count": 3,
   "metadata": {},
   "outputs": [
    {
     "name": "stdout",
     "output_type": "stream",
     "text": [
      "1 2\n",
      "3 4\n",
      "jane joe\n"
     ]
    }
   ],
   "source": [
    "for a, b in (1, 2), [3, 4], ('jane', 'joe'):\n",
    "      print( a, b )\n"
   ]
  },
  {
   "cell_type": "code",
   "execution_count": 4,
   "metadata": {},
   "outputs": [
    {
     "name": "stdout",
     "output_type": "stream",
     "text": [
      "Current Letter : P\n",
      "Current Letter : y\n",
      "Current Letter : t\n",
      "Current Letter : h\n",
      "Current Letter : o\n",
      "Current Letter : n\n"
     ]
    }
   ],
   "source": [
    "for ch in 'Python': \n",
    "      print ( f'Current Letter : {ch}' )\n"
   ]
  },
  {
   "cell_type": "code",
   "execution_count": 5,
   "metadata": {},
   "outputs": [
    {
     "name": "stdout",
     "output_type": "stream",
     "text": [
      "0\n",
      "1\n",
      "2\n",
      "3\n",
      "4\n",
      "5\n",
      "6\n",
      "7\n",
      "8\n",
      "9\n"
     ]
    }
   ],
   "source": [
    "for i in range( 10 ):\n",
    "     print( i )\n"
   ]
  },
  {
   "cell_type": "code",
   "execution_count": 6,
   "metadata": {},
   "outputs": [
    {
     "name": "stdout",
     "output_type": "stream",
     "text": [
      "1\n",
      "3\n",
      "5\n",
      "7\n",
      "9\n"
     ]
    }
   ],
   "source": [
    "for num in range(1, 10, 2 ):\n",
    "     print( num )\n"
   ]
  },
  {
   "cell_type": "markdown",
   "metadata": {},
   "source": [
    "### When working with an array and you are not sure about its size you can iterate over the length of the array:\n",
    "for i in range( len(your_array) ): <br>\n",
    "-----------  do_something_with_the_array\n"
   ]
  },
  {
   "cell_type": "code",
   "execution_count": 7,
   "metadata": {},
   "outputs": [],
   "source": [
    "#### e.g., make a numpy array x with numbers 5, 12, 15, 16, 22, 42, 32, 88, 104:\n",
    "\n",
    "x =  np.array( [ 5, 12, 15, 16, 22, 42, 32, 88, 104] )"
   ]
  },
  {
   "cell_type": "markdown",
   "metadata": {},
   "source": [
    "### test difference of:\n",
    "\n"
   ]
  },
  {
   "cell_type": "code",
   "execution_count": 8,
   "metadata": {},
   "outputs": [
    {
     "name": "stdout",
     "output_type": "stream",
     "text": [
      "5\n",
      "12\n",
      "15\n",
      "16\n",
      "22\n",
      "42\n",
      "32\n",
      "88\n",
      "104\n"
     ]
    }
   ],
   "source": [
    "for i in x:\n",
    "    print( i )"
   ]
  },
  {
   "cell_type": "markdown",
   "metadata": {},
   "source": [
    "### with: "
   ]
  },
  {
   "cell_type": "code",
   "execution_count": 9,
   "metadata": {},
   "outputs": [
    {
     "name": "stdout",
     "output_type": "stream",
     "text": [
      "0 5\n",
      "1 12\n",
      "2 15\n",
      "3 16\n",
      "4 22\n",
      "5 42\n",
      "6 32\n",
      "7 88\n",
      "8 104\n"
     ]
    }
   ],
   "source": [
    "for i in range( len( x ) ):\n",
    "    print( i , x[ i ] )"
   ]
  },
  {
   "cell_type": "markdown",
   "metadata": {},
   "source": [
    "### when would you use the first and when the second case?"
   ]
  },
  {
   "cell_type": "code",
   "execution_count": null,
   "metadata": {},
   "outputs": [],
   "source": []
  },
  {
   "cell_type": "markdown",
   "metadata": {},
   "source": [
    "### For lists you can use list comprehension:"
   ]
  },
  {
   "cell_type": "code",
   "execution_count": 10,
   "metadata": {},
   "outputs": [],
   "source": [
    "#let's make list x_list \n",
    "x_list = [1, 2, 3, 4, 8, 12, 24, 32] "
   ]
  },
  {
   "cell_type": "code",
   "execution_count": 11,
   "metadata": {},
   "outputs": [],
   "source": [
    "# now try a for loop to make y_list with each element equal to x**2:\n",
    "y_list_1 = []\n",
    "\n",
    "for i in x_list:\n",
    "    y_list_1.append( i**2 )"
   ]
  },
  {
   "cell_type": "code",
   "execution_count": 12,
   "metadata": {},
   "outputs": [
    {
     "name": "stdout",
     "output_type": "stream",
     "text": [
      "[1, 4, 9, 16, 64, 144, 576, 1024]\n"
     ]
    }
   ],
   "source": [
    "print( y_list_1 )"
   ]
  },
  {
   "cell_type": "code",
   "execution_count": 13,
   "metadata": {},
   "outputs": [],
   "source": [
    "# and try list comprehension:\n",
    "y_list_2 = [i**2 for i in x_list ]"
   ]
  },
  {
   "cell_type": "code",
   "execution_count": 14,
   "metadata": {},
   "outputs": [
    {
     "name": "stdout",
     "output_type": "stream",
     "text": [
      "[1, 4, 9, 16, 64, 144, 576, 1024]\n"
     ]
    }
   ],
   "source": [
    "print( y_list_2 )"
   ]
  },
  {
   "cell_type": "code",
   "execution_count": null,
   "metadata": {},
   "outputs": [],
   "source": []
  },
  {
   "cell_type": "markdown",
   "metadata": {},
   "source": [
    "### Try using a FOR loop to get array q2_numpy that is the square of the array  q_numpy = np.arange( 0, 10000, 0.0005)"
   ]
  },
  {
   "cell_type": "code",
   "execution_count": 15,
   "metadata": {},
   "outputs": [],
   "source": [
    "q_numpy = np.arange(0 , 10000 , .0005)\n",
    "\n",
    "q2_numpy = np.zeros(len(q_numpy))"
   ]
  },
  {
   "cell_type": "code",
   "execution_count": 16,
   "metadata": {},
   "outputs": [],
   "source": [
    "for i in range(len(q_numpy)) :\n",
    "    q2_numpy[i] = q_numpy[i] ** 2\n",
    "    "
   ]
  },
  {
   "cell_type": "markdown",
   "metadata": {},
   "source": [
    "### how could you have done it *much* faster?"
   ]
  },
  {
   "cell_type": "code",
   "execution_count": 17,
   "metadata": {},
   "outputs": [],
   "source": [
    "q2_numpy = q_numpy**2"
   ]
  },
  {
   "cell_type": "code",
   "execution_count": 18,
   "metadata": {},
   "outputs": [
    {
     "name": "stdout",
     "output_type": "stream",
     "text": [
      "[0.000000e+00 2.500000e-07 1.000000e-06 ... 9.999997e+07 9.999998e+07\n",
      " 9.999999e+07]\n"
     ]
    }
   ],
   "source": [
    "print( q2_numpy )"
   ]
  },
  {
   "cell_type": "markdown",
   "metadata": {},
   "source": [
    "### Don’t use FOR loops like this for arrays, too slow. That’s why we have numpy!"
   ]
  },
  {
   "cell_type": "code",
   "execution_count": null,
   "metadata": {},
   "outputs": [],
   "source": []
  },
  {
   "cell_type": "code",
   "execution_count": null,
   "metadata": {},
   "outputs": [],
   "source": []
  },
  {
   "cell_type": "markdown",
   "metadata": {},
   "source": [
    "### You can do multiple things in one loop:"
   ]
  },
  {
   "cell_type": "code",
   "execution_count": 19,
   "metadata": {},
   "outputs": [
    {
     "ename": "ModuleNotFoundError",
     "evalue": "No module named 'accelerations'",
     "output_type": "error",
     "traceback": [
      "\u001b[1;31m---------------------------------------------------------------------------\u001b[0m",
      "\u001b[1;31mModuleNotFoundError\u001b[0m                       Traceback (most recent call last)",
      "\u001b[1;32m<ipython-input-19-28145c704b14>\u001b[0m in \u001b[0;36m<module>\u001b[1;34m\u001b[0m\n\u001b[0;32m     10\u001b[0m \u001b[1;33m\u001b[0m\u001b[0m\n\u001b[0;32m     11\u001b[0m \u001b[1;31m# for this we' ll need the accelaration and displacement function; let's import them:\u001b[0m\u001b[1;33m\u001b[0m\u001b[1;33m\u001b[0m\u001b[1;33m\u001b[0m\u001b[0m\n\u001b[1;32m---> 12\u001b[1;33m \u001b[1;32mfrom\u001b[0m \u001b[0maccelerations\u001b[0m \u001b[1;32mimport\u001b[0m \u001b[0macceleration\u001b[0m\u001b[1;33m\u001b[0m\u001b[1;33m\u001b[0m\u001b[0m\n\u001b[0m\u001b[0;32m     13\u001b[0m \u001b[1;32mfrom\u001b[0m \u001b[0mdisplacements\u001b[0m \u001b[1;32mimport\u001b[0m \u001b[0mdisplacement\u001b[0m\u001b[1;33m\u001b[0m\u001b[1;33m\u001b[0m\u001b[0m\n\u001b[0;32m     14\u001b[0m \u001b[1;33m\u001b[0m\u001b[0m\n",
      "\u001b[1;31mModuleNotFoundError\u001b[0m: No module named 'accelerations'"
     ]
    }
   ],
   "source": [
    "#create the acceleration and displacement arrays:\n",
    "a = np.zeros(10)\n",
    "d = np.zeros(10)\n",
    "\n",
    "# make a random speed array:\n",
    "speed = np.array( [12, 40, 100, 312, 84, 670, 56, 114, 99, 120 ] )\n",
    "# and a time array:\n",
    "time  = np.array( [12, 14, 18, 140, 168, 221, 235, 282, 319, 333] )\n",
    "\n",
    "\n",
    "# for this we' ll need the accelaration and displacement function; let's import them:\n",
    "from accelerations import acceleration\n",
    "from displacements import displacement\n",
    "\n",
    "\n",
    "#make a for loop that goes through the speed and time arrays and print #the displacement:\n",
    "for i in range( 0, 9 ):\n",
    "    # make an initial speed: \n",
    "    uin      = speed[ i ]\n",
    "    \n",
    "    # calculate the acceleration calling your acceleration function  \n",
    "    a[ i ]   = acceleration( speed[ i ], speed[ i+1 ], time[ i ], time[ i+1 ] )\n",
    "    \n",
    "    # calculate the displacement calling your displacement function \n",
    "    d[ i ]   = displacement( uin, time[ i+1 ] - time[ i ], a[ i ] )\n",
    "    \n",
    "    # print the,:\n",
    "    print ('With acceleration:',a[i],'m/s^2 moved',d[i], 'm')\n",
    "    \n",
    "#Print total displacment:    \n",
    "\n",
    "print('Total displacement:',np.sum(d),'m') \n"
   ]
  },
  {
   "cell_type": "code",
   "execution_count": null,
   "metadata": {},
   "outputs": [],
   "source": []
  },
  {
   "cell_type": "markdown",
   "metadata": {},
   "source": [
    "### Let's do some for loop practice. \n",
    "\n",
    "Create an array time that goes from 1 to 11 with a step of 1. \n",
    "Make a for loop that scans the array and prints its value (use t as your looping variable).\n"
   ]
  },
  {
   "cell_type": "code",
   "execution_count": null,
   "metadata": {},
   "outputs": [],
   "source": [
    "time = np.arange(1 , 11 , 1)\n",
    "\n",
    "for t in range(len(time)):\n",
    "    print(time[t])\n",
    "    "
   ]
  },
  {
   "cell_type": "code",
   "execution_count": null,
   "metadata": {},
   "outputs": [],
   "source": [
    "#or:\n",
    "for t in time:\n",
    "    print(t)\n"
   ]
  },
  {
   "cell_type": "markdown",
   "metadata": {},
   "source": [
    "### Create an array distance that goes from 10 to 20 with a step of 1. Make a for loop that scans the arrays distance and time and prints the speed of the object (distance/time) using the distance from here and the time stamps from above, but in reverse order (so distance[0] will go with time[ 9 ])."
   ]
  },
  {
   "cell_type": "code",
   "execution_count": null,
   "metadata": {},
   "outputs": [],
   "source": [
    "distance = np.arange( 10 , 20 , 1 )\n",
    "time = np.arange( 1 , 11 , 1 )"
   ]
  },
  {
   "cell_type": "code",
   "execution_count": null,
   "metadata": {},
   "outputs": [],
   "source": [
    "print(distance)\n",
    "print(time)"
   ]
  },
  {
   "cell_type": "code",
   "execution_count": null,
   "metadata": {},
   "outputs": [],
   "source": [
    "for m in range(len( time )):\n",
    "    print(distance[m] / time[ (len(time)-1)-m])"
   ]
  },
  {
   "cell_type": "code",
   "execution_count": null,
   "metadata": {},
   "outputs": [],
   "source": []
  },
  {
   "cell_type": "markdown",
   "metadata": {},
   "source": [
    "### Create a 2D array speed with dimensions equal to the length of time and distance. Create a nested for loop (for loop in for loop)  that scans over i and j and assigns a value to speed for every time and distance."
   ]
  },
  {
   "cell_type": "code",
   "execution_count": null,
   "metadata": {},
   "outputs": [],
   "source": [
    "speed = np.zeros((10,10))"
   ]
  },
  {
   "cell_type": "code",
   "execution_count": null,
   "metadata": {},
   "outputs": [],
   "source": [
    "print(speed)"
   ]
  },
  {
   "cell_type": "code",
   "execution_count": null,
   "metadata": {},
   "outputs": [],
   "source": [
    "#for i in range(9):\n",
    " #   for j in range(9):\n",
    "  #      speed[i,j] = distance[i] / time[j]\n",
    "   #     print(speed)"
   ]
  },
  {
   "cell_type": "code",
   "execution_count": null,
   "metadata": {},
   "outputs": [],
   "source": []
  },
  {
   "cell_type": "code",
   "execution_count": null,
   "metadata": {},
   "outputs": [],
   "source": [
    "# could you have done it as :\n",
    "\n",
    "for i in time  : \n",
    "    for j in distance :\n",
    "        # speed[ i, j ] =  j  /  i \n",
    "        print(i,j)\n",
    "            \n",
    "            \n",
    "         # ??? why/ why not? "
   ]
  },
  {
   "cell_type": "code",
   "execution_count": null,
   "metadata": {},
   "outputs": [],
   "source": []
  },
  {
   "cell_type": "code",
   "execution_count": null,
   "metadata": {},
   "outputs": [],
   "source": []
  },
  {
   "cell_type": "code",
   "execution_count": null,
   "metadata": {},
   "outputs": [],
   "source": []
  },
  {
   "cell_type": "code",
   "execution_count": null,
   "metadata": {},
   "outputs": [],
   "source": [
    "# what could have worked is this:\n",
    "for i in  time : \n",
    "    for j in distance :\n",
    "        \n",
    "        speed[ i-1, j-10 ] =  j  /  i "
   ]
  },
  {
   "cell_type": "code",
   "execution_count": null,
   "metadata": {},
   "outputs": [],
   "source": [
    "#print ( speed )"
   ]
  },
  {
   "cell_type": "markdown",
   "metadata": {},
   "source": [
    "## Indentation is SUPER important for Python"
   ]
  },
  {
   "cell_type": "code",
   "execution_count": null,
   "metadata": {},
   "outputs": [],
   "source": [
    "#create the speed array:\n",
    "#a = np.zeros( ( len( time ), len( distance ) ) )\n",
    "\n",
    "#create a nested for loop:\n",
    "\n",
    "for i in range( 3):\n",
    "    for j in range( 3 ):\n",
    "            \n",
    "            speed[ i, j ] = distance[ j ] / time[ i ] \n",
    "            \n",
    "            print( i, j, time[ i ], distance[ j ], speed[ i, j ] ) \n",
    "\n",
    "\n",
    "##NOTE that same blocks of code must have the same indentation!\n"
   ]
  },
  {
   "cell_type": "markdown",
   "metadata": {},
   "source": [
    "<img src=\"loop_levs.png\" width=800 height=600 />"
   ]
  },
  {
   "cell_type": "markdown",
   "metadata": {},
   "source": [
    "### Try moving the print statement to ”Level 1” or “Level 0”. What happens? Why?\n"
   ]
  },
  {
   "cell_type": "code",
   "execution_count": null,
   "metadata": {},
   "outputs": [],
   "source": [
    "for i in range( 3):\n",
    "    for j in range( 3 ):\n",
    "            \n",
    "            speed[ i, j ] = distance[ j ] / time[ i ] \n",
    "            \n",
    "    print( i, j, time[ i ], distance[ j ], speed[ i, j ] ) \n"
   ]
  },
  {
   "cell_type": "code",
   "execution_count": null,
   "metadata": {},
   "outputs": [],
   "source": [
    "for i in range( 3):\n",
    "    for j in range( 3 ):\n",
    "            \n",
    "            speed[ i, j ] = distance[ j ] / time[ i ] \n",
    "            \n",
    "print( i, j, time[ i ], distance[ j ], speed[ i, j ] ) \n"
   ]
  },
  {
   "cell_type": "code",
   "execution_count": null,
   "metadata": {},
   "outputs": [],
   "source": [
    "for i in range( 3):\n",
    "    for j in range( 3 ):\n",
    "            \n",
    "            speed[ i, j ] = distance[ j ] / time[ i ] \n",
    "            \n",
    "            print( i, j, time[ i ], distance[ j ], speed[ i, j ] ) \n"
   ]
  },
  {
   "cell_type": "code",
   "execution_count": null,
   "metadata": {},
   "outputs": [],
   "source": []
  },
  {
   "cell_type": "code",
   "execution_count": null,
   "metadata": {},
   "outputs": [],
   "source": []
  },
  {
   "cell_type": "markdown",
   "metadata": {},
   "source": [
    "# ----------------------------------------------"
   ]
  },
  {
   "cell_type": "markdown",
   "metadata": {},
   "source": [
    "# IF"
   ]
  },
  {
   "cell_type": "markdown",
   "metadata": {},
   "source": [
    "## Conditional statement that does something *only* IF the condition(s) is met.\n",
    "\n",
    "\n",
    "if your_conditions_here: <br>\n",
    "<------------------------------if true:><br>\n",
    "------------ do something here<br>\n",
    "<----------------------------- if not it will be skipped><br>"
   ]
  },
  {
   "cell_type": "code",
   "execution_count": null,
   "metadata": {},
   "outputs": [],
   "source": [
    "#e.g.,\n",
    "\n",
    "x = 5\n",
    "\n",
    "if x < 10:\n",
    "    print ( ' True!' )\n",
    "else:\n",
    "    print('false')\n"
   ]
  },
  {
   "cell_type": "code",
   "execution_count": null,
   "metadata": {},
   "outputs": [],
   "source": [
    "x = 15\n",
    "\n",
    "if x < 10:\n",
    "    print ( ' True!' )\n",
    "else:\n",
    "    print('false')\n"
   ]
  },
  {
   "cell_type": "code",
   "execution_count": null,
   "metadata": {},
   "outputs": [],
   "source": [
    "#Make array \n",
    "\n",
    "a = np.arange( 10 )\n",
    "\n",
    "# then Make an if loop that will only print a[i] if a[i] is smaller than 5...\n",
    "\n",
    "for i in range( 10 ):\n",
    "      if a[ i ] < 5:\n",
    "            print( a[ i ] )\n"
   ]
  },
  {
   "cell_type": "markdown",
   "metadata": {},
   "source": [
    "### You may also want to have more than one conditions. Then use:\n",
    "<img src=\"if_elif.png\" width=800 height=600 />"
   ]
  },
  {
   "cell_type": "markdown",
   "metadata": {},
   "source": [
    "### Go back to previous loop and add a condition that prints “NO” if a[i] >= 5."
   ]
  },
  {
   "cell_type": "code",
   "execution_count": null,
   "metadata": {},
   "outputs": [],
   "source": [
    "for i in range( 10 ):\n",
    "    if a[ i ] < 5:\n",
    "            print( a[ i ] )\n",
    "    else:\n",
    "        print('no!')"
   ]
  },
  {
   "cell_type": "markdown",
   "metadata": {},
   "source": [
    "### now make the loop print a[ i ] if it is < 3 ; a[i] * 2 if a[i] is >8 and 'NaN' for all other cases:"
   ]
  },
  {
   "cell_type": "code",
   "execution_count": null,
   "metadata": {},
   "outputs": [],
   "source": [
    "for i in range(10):\n",
    "    if a[ i ]<3:\n",
    "        print(a[i])\n",
    "    elif a[i]>8:\n",
    "        print(a[i]*2)\n",
    "    else:\n",
    "        print('NaN')"
   ]
  },
  {
   "cell_type": "markdown",
   "metadata": {},
   "source": [
    "### You have a shelter with different animals. Write a code that asks the user for the kind of pet it wants. The code then scans a list with the following words that are the pets in your inventory: 'dog', 'cat', 'parrot', 'mouse', 'spider', 'bird'. If the pet is there let the user know they can get a pet, if the word is not there, let them know no pet is there."
   ]
  },
  {
   "cell_type": "code",
   "execution_count": null,
   "metadata": {},
   "outputs": [],
   "source": [
    "#make list with your inventory\n",
    "pet_inventory = [ 'dog', 'cat', 'parrot', 'mouse', 'spider', 'bird']"
   ]
  },
  {
   "cell_type": "code",
   "execution_count": null,
   "metadata": {},
   "outputs": [],
   "source": [
    "#ask input from user\n",
    "\n",
    "pet_wantd = input('What animal do you like?')"
   ]
  },
  {
   "cell_type": "code",
   "execution_count": null,
   "metadata": {},
   "outputs": [],
   "source": [
    "print(pet_wantd) "
   ]
  },
  {
   "cell_type": "code",
   "execution_count": null,
   "metadata": {},
   "outputs": [],
   "source": [
    "#try with for/if\n",
    "for pet in pet_inventory:\n",
    "    if pet == pet_wantd:\n",
    "        print(f'yes we have a {pet}')\n",
    "    if pet!= pet_wantd:\n",
    "        print(f'sorry we have no {pet}')\n",
    "        "
   ]
  },
  {
   "cell_type": "code",
   "execution_count": null,
   "metadata": {},
   "outputs": [],
   "source": [
    "#avoid bug above\n",
    "\n",
    "if pet_wantd in pet_inventory:\n",
    "    print(f\"yes we have a {pet_wantd}\")\n",
    "else:\n",
    "    print(f'There is no{pet_wantd}')\n",
    "    "
   ]
  },
  {
   "cell_type": "code",
   "execution_count": null,
   "metadata": {},
   "outputs": [],
   "source": [
    "pet_wantd = input('What animal do you like?')\n"
   ]
  },
  {
   "cell_type": "code",
   "execution_count": null,
   "metadata": {},
   "outputs": [],
   "source": [
    "\n",
    "if pet_wantd in pet_inventory:\n",
    "    print(f\"yes we have a {pet_wantd}\")\n",
    "else:\n",
    "    print(f'There is no{pet_wantd}')\n",
    "    \n"
   ]
  },
  {
   "cell_type": "code",
   "execution_count": null,
   "metadata": {},
   "outputs": [],
   "source": []
  },
  {
   "cell_type": "markdown",
   "metadata": {},
   "source": [
    "# ----------------------------------------------"
   ]
  },
  {
   "cell_type": "markdown",
   "metadata": {},
   "source": [
    "# WHILE"
   ]
  },
  {
   "cell_type": "markdown",
   "metadata": {},
   "source": [
    "## Does something ‘while’ a conditions is true. If not, it stops:\n",
    "while <condition 1>:  <br>\n",
    "-----do something\n"
   ]
  },
  {
   "cell_type": "markdown",
   "metadata": {},
   "source": [
    "#### For example, start with x = 1 and keep on adding 1 until x<5:\n"
   ]
  },
  {
   "cell_type": "code",
   "execution_count": null,
   "metadata": {},
   "outputs": [],
   "source": [
    "x  = 1\n",
    "\n",
    "while x < 5:\n",
    "    print( x )\n",
    "    x += 1 # or x = x +1\n"
   ]
  },
  {
   "cell_type": "markdown",
   "metadata": {},
   "source": [
    "### Create array x going from 0 to 10 in steps of 0.1. Create array y=sin(x). Make a while loop that scans parameter i (initiate it to 0) and prints x[i],y[i] as long as y[i]>=0. \n"
   ]
  },
  {
   "cell_type": "code",
   "execution_count": null,
   "metadata": {},
   "outputs": [],
   "source": [
    "x = np.arange( 0, 10 , 0.1 )\n",
    "y = np.sin( x )"
   ]
  },
  {
   "cell_type": "code",
   "execution_count": null,
   "metadata": {},
   "outputs": [],
   "source": [
    "i = 0 \n",
    "\n",
    "while y[ i ] >= 0 :\n",
    "    print( x[ i ], y[ i ] )\n",
    "    i+=1 "
   ]
  },
  {
   "cell_type": "markdown",
   "metadata": {},
   "source": [
    "### While loops accept \"else\" to do something once the condition is no longer met:"
   ]
  },
  {
   "cell_type": "code",
   "execution_count": null,
   "metadata": {},
   "outputs": [],
   "source": [
    "x  = 0\n",
    "\n",
    "while x < 5:\n",
    "    print( x )\n",
    "    x = x + 1\n",
    "else:\n",
    "    print( 'x >= 5' )\n"
   ]
  },
  {
   "cell_type": "code",
   "execution_count": null,
   "metadata": {},
   "outputs": [],
   "source": []
  },
  {
   "cell_type": "markdown",
   "metadata": {},
   "source": [
    "## Breaking loops"
   ]
  },
  {
   "cell_type": "markdown",
   "metadata": {},
   "source": [
    "#### In some cases you may want to break through a loop if some condition is met. Use the **break**."
   ]
  },
  {
   "cell_type": "code",
   "execution_count": null,
   "metadata": {},
   "outputs": [],
   "source": [
    "#### For example, make a for loop scanning through list x, which should be positive. Break if by accident x contains negative element:\n",
    "x =  [0 ,1, 2,4, 6,8, -12, 14, 16] "
   ]
  },
  {
   "cell_type": "code",
   "execution_count": null,
   "metadata": {},
   "outputs": [],
   "source": [
    "for i in range( len( x ) ):\n",
    "    print( x[ i ] ) \n",
    "    if x[ i ] < 0 :\n",
    "        break"
   ]
  },
  {
   "cell_type": "markdown",
   "metadata": {},
   "source": [
    "### There are cases where you might want to raise exceptions (for example, your simulation gives a negative flux which is unphysical, or the file you try to open is not there) that break loops and give warning signs. \n"
   ]
  },
  {
   "cell_type": "markdown",
   "metadata": {},
   "source": [
    "## 1) I/O Errors:"
   ]
  },
  {
   "cell_type": "code",
   "execution_count": null,
   "metadata": {},
   "outputs": [],
   "source": [
    "\n",
    "file_list = ('first_data_read_plot.dat', 'my_first_data.dat', 'forest_surface.dat')  \n",
    "#if you have everything under demos/ you should be getting 1 error only\n",
    "\n",
    "for i in range(2):\n",
    "#    f = open(file_list[i], 'r')\n",
    "    try:\n",
    "        f = open(file_list[i], 'r')\n",
    "        f.read()\n",
    "    except IOError:\n",
    "        \n",
    "        print ('cannot open', file_list[i])\n"
   ]
  },
  {
   "cell_type": "code",
   "execution_count": null,
   "metadata": {},
   "outputs": [],
   "source": []
  },
  {
   "cell_type": "markdown",
   "metadata": {},
   "source": [
    "## 2) Making your own exceptions:"
   ]
  },
  {
   "cell_type": "code",
   "execution_count": null,
   "metadata": {},
   "outputs": [],
   "source": []
  },
  {
   "cell_type": "code",
   "execution_count": null,
   "metadata": {},
   "outputs": [],
   "source": [
    "class NegativeFlux(Exception):\n",
    "    \"\"\"You got a physically impossible flux (F<0)\"\"\"\n",
    "    \n",
    "    pass\n",
    "\n"
   ]
  },
  {
   "cell_type": "code",
   "execution_count": null,
   "metadata": {},
   "outputs": [],
   "source": [
    "#then raise an exception if F<0:\n",
    "Fin = 5\n",
    "\n",
    "if Fin<0:\n",
    "    raise NegativeFlux( \"F < 0 !\" )"
   ]
  },
  {
   "cell_type": "code",
   "execution_count": null,
   "metadata": {},
   "outputs": [],
   "source": [
    "Fin = -25.\n",
    "\n",
    "\n",
    "if Fin<0:\n",
    "    raise NegativeFlux( \"F < 0 !\" )"
   ]
  },
  {
   "cell_type": "code",
   "execution_count": null,
   "metadata": {},
   "outputs": [],
   "source": []
  },
  {
   "cell_type": "markdown",
   "metadata": {},
   "source": [
    "## Continuing loops"
   ]
  },
  {
   "cell_type": "markdown",
   "metadata": {},
   "source": [
    "### continue : continues with next step. For example:\n"
   ]
  },
  {
   "cell_type": "code",
   "execution_count": 20,
   "metadata": {},
   "outputs": [
    {
     "name": "stdout",
     "output_type": "stream",
     "text": [
      "Current Letter : P\n",
      "Current Letter : y\n",
      "Current Letter : t\n",
      "Current Letter : o\n",
      "Current Letter : n\n"
     ]
    }
   ],
   "source": [
    "for ch in 'Python': \n",
    "    if ch == 'h': \n",
    "        continue   #go to the next iteration \n",
    "    print ('Current Letter :', ch)\n"
   ]
  },
  {
   "cell_type": "code",
   "execution_count": 21,
   "metadata": {},
   "outputs": [
    {
     "name": "stdout",
     "output_type": "stream",
     "text": [
      "20.0\n",
      "40.0\n",
      "100.0\n",
      "Oops! negative flux here: 3\n",
      "30.0\n",
      "Oops! negative flux here: 5\n",
      "50.0\n"
     ]
    }
   ],
   "source": [
    "F = [ 2, 4, 10, -3, 3, -4, 5 ]\n",
    "\n",
    "for i in range( 7 ):\n",
    "    \n",
    "    Fin = F[ i ] * 10.\n",
    "    \n",
    "    if Fin < 0:\n",
    "        print('Oops! negative flux here:', i )\n",
    "        continue\n",
    "        \n",
    "    print( Fin )\n"
   ]
  },
  {
   "cell_type": "code",
   "execution_count": null,
   "metadata": {},
   "outputs": [],
   "source": []
  },
  {
   "cell_type": "markdown",
   "metadata": {},
   "source": [
    "#### Make a loop that searches a list (or tuple) of strings and returns the longest word and the shortest word that the list contains."
   ]
  },
  {
   "cell_type": "code",
   "execution_count": 22,
   "metadata": {},
   "outputs": [],
   "source": [
    "word_list = [ 'hello', 'world', 'computer', 'test', 'homework', 'programming', 'Python' ]"
   ]
  },
  {
   "cell_type": "code",
   "execution_count": 29,
   "metadata": {},
   "outputs": [],
   "source": [
    "#how would you go about it?\n",
    "\n",
    "max_word = word_list[0]\n",
    "\n",
    "for words in word_list:\n",
    "    if len(words) > len(max_word):\n",
    "        max_word = words\n",
    "    "
   ]
  },
  {
   "cell_type": "code",
   "execution_count": 27,
   "metadata": {},
   "outputs": [
    {
     "name": "stdout",
     "output_type": "stream",
     "text": [
      "programming\n"
     ]
    }
   ],
   "source": [
    "print(max_word)"
   ]
  },
  {
   "cell_type": "code",
   "execution_count": 30,
   "metadata": {},
   "outputs": [],
   "source": [
    "\n",
    "min_word = word_list[0]\n",
    "\n",
    "for words in word_list:\n",
    "    if len(words) < len(min_word):\n",
    "        min_word = words"
   ]
  },
  {
   "cell_type": "code",
   "execution_count": 31,
   "metadata": {},
   "outputs": [
    {
     "name": "stdout",
     "output_type": "stream",
     "text": [
      "test\n"
     ]
    }
   ],
   "source": [
    "print(min_word)"
   ]
  },
  {
   "cell_type": "markdown",
   "metadata": {},
   "source": [
    "### Create a numpy array z that has the elements: 95, 402, 984, 651, 69, 408, 319, 601, 485, 980, 507, 725, 547, 544, 610, 83, 165, 141, 500, 263, 17, 865, 575, 219, 390, 984, 592, 236, 105, 942, 941, 86, 42, 47, 1, 900, 34, 23, 35, 820, 66, 597, 978, 328, 615, 953, 345, 409, 162, 758, 219, 918, 237, 412, 506, 826, 248, 86, 950, 626, 949, 687, 217, 815, 67, 104, 58, 512, 24, 892, 894, 767, 553, 81, 2379, 843, 831, 445, 742, 717, 958, 609, 842, 451, 688, 753, 854, 685, 93, 1857, 440, 380, 126, 721, 328, 753, 470, 743, 52. <br> Create a for loop that scans through z and prints a ‘yes’ and the element number if z[i] is greater than 200. <br> <br> Change the loop to print a ‘yes’ and the value of z if z[i] is greater than 200 and less than 800. Change the loop to print ‘yes’ and the value of z if z[i] is greater than 200 and less  than 800, but **not** when 220<z[i]<300."
   ]
  },
  {
   "cell_type": "code",
   "execution_count": null,
   "metadata": {},
   "outputs": [],
   "source": []
  },
  {
   "cell_type": "code",
   "execution_count": null,
   "metadata": {},
   "outputs": [],
   "source": []
  },
  {
   "cell_type": "code",
   "execution_count": null,
   "metadata": {},
   "outputs": [],
   "source": []
  },
  {
   "cell_type": "code",
   "execution_count": null,
   "metadata": {},
   "outputs": [],
   "source": []
  },
  {
   "cell_type": "code",
   "execution_count": null,
   "metadata": {},
   "outputs": [],
   "source": []
  },
  {
   "cell_type": "code",
   "execution_count": null,
   "metadata": {},
   "outputs": [],
   "source": [
    "# add condition: not if 220<z[i]<300\n",
    "\n"
   ]
  },
  {
   "cell_type": "markdown",
   "metadata": {},
   "source": [
    "### Create a for/if loop that scans through the elements of z and creates a list with the location i where z[i] is greater than 200. How else could you do this? Which way is faster? "
   ]
  },
  {
   "cell_type": "code",
   "execution_count": null,
   "metadata": {},
   "outputs": [],
   "source": []
  },
  {
   "cell_type": "code",
   "execution_count": null,
   "metadata": {},
   "outputs": [],
   "source": []
  },
  {
   "cell_type": "code",
   "execution_count": null,
   "metadata": {},
   "outputs": [],
   "source": []
  },
  {
   "cell_type": "code",
   "execution_count": null,
   "metadata": {},
   "outputs": [],
   "source": []
  },
  {
   "cell_type": "code",
   "execution_count": null,
   "metadata": {},
   "outputs": [],
   "source": []
  },
  {
   "cell_type": "markdown",
   "metadata": {},
   "source": [
    "### Now make a loop that searches z element by element to find the minimum of the full array. How else can you do this? "
   ]
  },
  {
   "cell_type": "code",
   "execution_count": null,
   "metadata": {},
   "outputs": [],
   "source": []
  },
  {
   "cell_type": "code",
   "execution_count": null,
   "metadata": {},
   "outputs": [],
   "source": [
    "\n"
   ]
  },
  {
   "cell_type": "code",
   "execution_count": null,
   "metadata": {},
   "outputs": [],
   "source": []
  },
  {
   "cell_type": "code",
   "execution_count": null,
   "metadata": {},
   "outputs": [],
   "source": []
  },
  {
   "cell_type": "markdown",
   "metadata": {},
   "source": [
    "### Do the same thing, but now for the maximum:"
   ]
  },
  {
   "cell_type": "code",
   "execution_count": null,
   "metadata": {},
   "outputs": [],
   "source": []
  },
  {
   "cell_type": "code",
   "execution_count": null,
   "metadata": {},
   "outputs": [],
   "source": []
  },
  {
   "cell_type": "code",
   "execution_count": null,
   "metadata": {},
   "outputs": [],
   "source": []
  },
  {
   "cell_type": "code",
   "execution_count": null,
   "metadata": {},
   "outputs": [],
   "source": []
  },
  {
   "cell_type": "markdown",
   "metadata": {},
   "source": [
    "### Read in the file first_data_plot.dat that we used in a previous demo. Skip the first line when reading in, it’s a comment line (use comments=‘#’ or skiprows=1). The first column is the wavelength of your observations, and the other two are two spectra. Make a loop that scans both full spectra and prints the wavelength, and both spectra if the first spectrum is larger than 0.5 and (at the same wavelength) the second one is larger than 0.3. Print a message warning you that the conditions are not met otherwise."
   ]
  },
  {
   "cell_type": "code",
   "execution_count": 32,
   "metadata": {},
   "outputs": [],
   "source": [
    "# read the data in:\n",
    "data = np.loadtxt('first_data_read_plot.dat')"
   ]
  },
  {
   "cell_type": "code",
   "execution_count": 34,
   "metadata": {},
   "outputs": [],
   "source": [
    "#print(data)"
   ]
  },
  {
   "cell_type": "code",
   "execution_count": 36,
   "metadata": {},
   "outputs": [],
   "source": [
    "# assign to variables with names that make sense:\n",
    "wav   = data[ : , 0 ]\n",
    "flux1 = data[ : , 1 ]\n",
    "flux2 = data[ : , 2 ]"
   ]
  },
  {
   "cell_type": "code",
   "execution_count": 39,
   "metadata": {
    "scrolled": false
   },
   "outputs": [
    {
     "name": "stdout",
     "output_type": "stream",
     "text": [
      "0.66 0.7\n",
      "0.66 0.7\n",
      "0.66 0.7\n",
      "0.66 0.7\n",
      "0.66 0.7\n",
      "0.66 0.7\n",
      "0.66 0.7\n",
      "0.66 0.7\n",
      "0.66 0.7\n",
      "0.66 0.7\n",
      "0.66 0.7\n",
      "0.66 0.7\n",
      "0.66 0.7\n",
      "0.66 0.7\n",
      "0.66 0.7\n",
      "0.66 0.7\n",
      "0.66 0.7\n",
      "0.66 0.7\n",
      "0.66 0.7\n",
      "0.66 0.7\n",
      "0.66 0.7\n",
      "0.66 0.7\n",
      "0.66 0.7\n",
      "0.66 0.7\n",
      "0.66 0.7\n",
      "0.66 0.7\n",
      "0.66 0.7\n",
      "0.66 0.7\n",
      "0.66 0.7\n",
      "0.66 0.7\n",
      "0.66 0.7\n",
      "0.66 0.7\n",
      "0.66 0.7\n",
      "0.66 0.7\n",
      "0.66 0.7\n",
      "0.66 0.7\n",
      "0.66 0.7\n",
      "0.66 0.7\n",
      "0.66 0.7\n",
      "0.66 0.7\n",
      "0.66 0.7\n",
      "0.66 0.7\n",
      "0.66 0.7\n",
      "0.66 0.7\n",
      "0.66 0.7\n",
      "0.66 0.7\n",
      "0.66 0.7\n",
      "0.66 0.7\n",
      "0.66 0.7\n",
      "0.66 0.7\n",
      "0.66 0.7\n",
      "0.66 0.7\n",
      "0.66 0.7\n",
      "0.66 0.7\n",
      "0.66 0.7\n",
      "0.66 0.7\n",
      "0.66 0.7\n",
      "0.66 0.7\n",
      "0.66 0.7\n",
      "0.66 0.7\n",
      "0.66 0.7\n",
      "0.66 0.7\n",
      "0.66 0.7\n",
      "0.66 0.7\n",
      "0.66 0.7\n",
      "0.66 0.7\n",
      "0.66 0.7\n",
      "0.66 0.7\n",
      "0.66 0.7\n",
      "0.66 0.7\n",
      "0.66 0.7\n",
      "0.66 0.7\n",
      "0.66 0.7\n",
      "0.66 0.7\n",
      "0.66 0.7\n",
      "0.66 0.7\n",
      "0.66 0.7\n",
      "0.66 0.7\n",
      "0.66 0.7\n",
      "0.66 0.7\n",
      "0.66 0.7\n",
      "0.66 0.7\n",
      "0.66 0.7\n",
      "0.66 0.7\n",
      "0.66 0.7\n",
      "0.66 0.7\n",
      "0.66 0.7\n",
      "0.66 0.7\n",
      "0.66 0.7\n",
      "0.66 0.7\n",
      "0.66 0.7\n",
      "0.66 0.7\n",
      "0.66 0.7\n",
      "0.66 0.7\n",
      "0.66 0.7\n",
      "0.66 0.7\n",
      "0.66 0.7\n",
      "0.66 0.7\n",
      "0.66 0.7\n",
      "0.66 0.7\n",
      "0.66 0.7\n",
      "0.66 0.7\n",
      "0.66 0.7\n",
      "0.66 0.7\n",
      "0.66 0.7\n",
      "0.66 0.7\n",
      "0.66 0.7\n",
      "0.66 0.7\n",
      "0.66 0.7\n",
      "0.66 0.7\n",
      "0.66 0.7\n",
      "0.66 0.7\n",
      "0.66 0.7\n",
      "0.66 0.7\n",
      "0.66 0.7\n",
      "0.66 0.7\n",
      "0.66 0.7\n",
      "0.66 0.7\n",
      "0.66 0.7\n",
      "0.66 0.7\n",
      "0.66 0.7\n",
      "0.66 0.7\n",
      "0.66 0.7\n",
      "0.66 0.7\n",
      "0.66 0.7\n",
      "0.66 0.7\n",
      "0.66 0.7\n",
      "0.66 0.7\n",
      "0.66 0.7\n",
      "0.66 0.7\n",
      "0.66 0.7\n",
      "0.66 0.7\n",
      "0.66 0.7\n",
      "0.66 0.7\n",
      "0.66 0.7\n",
      "0.66 0.7\n",
      "0.66 0.7\n",
      "0.66 0.7\n",
      "0.66 0.7\n",
      "0.66 0.7\n",
      "0.66 0.7\n",
      "0.66 0.7\n",
      "0.66 0.7\n",
      "0.66 0.7\n"
     ]
    }
   ],
   "source": [
    "for waves in range(len(wav)):\n",
    "    if wav[ i ] < 1.3:\n",
    "        print( flux1[i] , flux2[i] )\n",
    "    else:\n",
    "        print('too long wavelength')"
   ]
  },
  {
   "cell_type": "code",
   "execution_count": null,
   "metadata": {},
   "outputs": [],
   "source": [
    "\n"
   ]
  },
  {
   "cell_type": "code",
   "execution_count": null,
   "metadata": {},
   "outputs": [],
   "source": []
  },
  {
   "cell_type": "markdown",
   "metadata": {},
   "source": [
    "### Write a for loop that scans a list of input file names: ‘first_data_read_in.dat’, ‘second_data_read_in.dat’, ‘not_existing.dat’ that tries to open the file, and gives you an IOError if it fails. Add a comment that informs the user which file doesn’t exist in the list of file names."
   ]
  },
  {
   "cell_type": "code",
   "execution_count": null,
   "metadata": {},
   "outputs": [],
   "source": [
    "list_names = [ 'first_data_read_in.dat', 'second_data_read_in.dat', 'not_existing.dat'  ]"
   ]
  },
  {
   "cell_type": "code",
   "execution_count": null,
   "metadata": {},
   "outputs": [],
   "source": []
  },
  {
   "cell_type": "code",
   "execution_count": null,
   "metadata": {},
   "outputs": [],
   "source": []
  },
  {
   "cell_type": "code",
   "execution_count": null,
   "metadata": {},
   "outputs": [],
   "source": []
  },
  {
   "cell_type": "code",
   "execution_count": null,
   "metadata": {},
   "outputs": [],
   "source": []
  },
  {
   "cell_type": "code",
   "execution_count": null,
   "metadata": {},
   "outputs": [],
   "source": []
  },
  {
   "cell_type": "markdown",
   "metadata": {},
   "source": [
    "### Create a function that gets as input a word. If the word you give is maximum of 5 characters it prints it. If it is longer, it exits with an error message. In the main code write a code that asks input from the user and calls the function to test if it is right (< 5 char) or not. Try googling to find how you can use the keyboard to get input (or, remember, Python commands are *very* intuitive)."
   ]
  },
  {
   "cell_type": "code",
   "execution_count": null,
   "metadata": {},
   "outputs": [],
   "source": [
    "# lets first make the function:\n"
   ]
  },
  {
   "cell_type": "code",
   "execution_count": null,
   "metadata": {},
   "outputs": [],
   "source": [
    "word1 = input( \" Give me your word: \" )   # try: test, gap, approximation, about\n",
    "\n",
    "test_word_size ( word1 )"
   ]
  },
  {
   "cell_type": "code",
   "execution_count": null,
   "metadata": {},
   "outputs": [],
   "source": []
  },
  {
   "cell_type": "code",
   "execution_count": null,
   "metadata": {},
   "outputs": [],
   "source": []
  },
  {
   "cell_type": "code",
   "execution_count": null,
   "metadata": {},
   "outputs": [],
   "source": []
  },
  {
   "cell_type": "markdown",
   "metadata": {},
   "source": [
    "### Practice dictionaries"
   ]
  },
  {
   "cell_type": "code",
   "execution_count": null,
   "metadata": {},
   "outputs": [],
   "source": [
    "#We have a dictionary of students (1,2 and 3). For every student we have a name, and their scores (0-10) \n",
    "#in hw assignments, quizzes and projects:\n",
    "\n",
    "student1 = {\n",
    "  \"name\": \"Jane\",\n",
    "  \"homework\": [9.0,7.0,5.0,10.],\n",
    "  \"quizzes\": [8.0,7.0,9.0],\n",
    "  \"projects\": [7.5,9.5]\n",
    "}\n",
    "student2 = {\n",
    "  \"name\": \"Joe\",\n",
    "  \"homework\": [10.0, 3.9, 4.0, 10.0],\n",
    "  \"quizzes\": [5.1, 4.2, 5.0],\n",
    "  \"projects\": [8.9, 2.7]\n",
    "}\n",
    "student3 = {\n",
    "  \"name\": \"Jimmy\",\n",
    "  \"homework\": [3.0, 8.0, 9.0, 10.0],\n",
    "  \"quizzes\": [3.0, 7.5, 7.],\n",
    "  \"projects\": [8.0, 10.0]\n",
    "}\n"
   ]
  },
  {
   "cell_type": "code",
   "execution_count": null,
   "metadata": {},
   "outputs": [],
   "source": [
    "plt.figure( figsize = ( 8, 8 ) )\n"
   ]
  },
  {
   "cell_type": "code",
   "execution_count": null,
   "metadata": {},
   "outputs": [],
   "source": [
    "#make a function total_grade that gets the homework, quiz and projects information from the dictionary, \n",
    "#calculates their mean and then a final score using:\n",
    "#\n",
    "# sum = 0.4 * mean(homework) + 0.4 * mean(quiz) + 0.2 * mean(projects)\n",
    "\n",
    "#the function should then return the student's average grade\n",
    "# call the function and print the student's name and average grade for all 3 students\n",
    "\n"
   ]
  },
  {
   "cell_type": "code",
   "execution_count": null,
   "metadata": {},
   "outputs": [],
   "source": []
  },
  {
   "cell_type": "code",
   "execution_count": null,
   "metadata": {},
   "outputs": [],
   "source": []
  },
  {
   "cell_type": "code",
   "execution_count": null,
   "metadata": {},
   "outputs": [],
   "source": []
  },
  {
   "cell_type": "code",
   "execution_count": null,
   "metadata": {},
   "outputs": [],
   "source": []
  },
  {
   "cell_type": "code",
   "execution_count": null,
   "metadata": {},
   "outputs": [],
   "source": []
  },
  {
   "cell_type": "code",
   "execution_count": null,
   "metadata": {},
   "outputs": [],
   "source": []
  },
  {
   "cell_type": "code",
   "execution_count": null,
   "metadata": {},
   "outputs": [],
   "source": []
  },
  {
   "cell_type": "code",
   "execution_count": null,
   "metadata": {},
   "outputs": [],
   "source": []
  }
 ],
 "metadata": {
  "kernelspec": {
   "display_name": "Python 3",
   "language": "python",
   "name": "python3"
  },
  "language_info": {
   "codemirror_mode": {
    "name": "ipython",
    "version": 3
   },
   "file_extension": ".py",
   "mimetype": "text/x-python",
   "name": "python",
   "nbconvert_exporter": "python",
   "pygments_lexer": "ipython3",
   "version": "3.8.3"
  }
 },
 "nbformat": 4,
 "nbformat_minor": 2
}
