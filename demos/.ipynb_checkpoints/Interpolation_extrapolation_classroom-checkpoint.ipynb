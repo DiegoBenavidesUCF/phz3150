{
 "cells": [
  {
   "cell_type": "markdown",
   "metadata": {},
   "source": [
    "# Interpolation and extrapolation in Python"
   ]
  },
  {
   "cell_type": "code",
   "execution_count": null,
   "metadata": {},
   "outputs": [],
   "source": [
    "# PHZ3150 - Spring 2022"
   ]
  },
  {
   "cell_type": "code",
   "execution_count": null,
   "metadata": {},
   "outputs": [],
   "source": [
    "import numpy as np\n",
    "import matplotlib.pyplot as plt"
   ]
  },
  {
   "cell_type": "markdown",
   "metadata": {},
   "source": [
    "### The meteorological balloon recorded a few temperatures, but due to instrument issues we only have the following observations:"
   ]
  },
  {
   "cell_type": "code",
   "execution_count": null,
   "metadata": {},
   "outputs": [],
   "source": [
    "temperature = [ 20, -20, -55, -55, -40, -20  ]  #C\n",
    "altitude    = [ 0,    6,  12,  20,  32,  38  ]  #km "
   ]
  },
  {
   "cell_type": "markdown",
   "metadata": {},
   "source": [
    "### which results in this profile:"
   ]
  },
  {
   "cell_type": "code",
   "execution_count": null,
   "metadata": {},
   "outputs": [],
   "source": [
    "plt.figure( figsize = (6, 6) )\n",
    "plt.plot( temperature, altitude, marker = 'o', linestyle = 'none')\n",
    "plt.xlabel('Temperature [C]', fontsize = 12)\n",
    "plt.ylabel('Altitude [km]', fontsize = 12)"
   ]
  },
  {
   "cell_type": "markdown",
   "metadata": {},
   "source": [
    "### Is this a \"lost\" campaign, or can we use the existing data to define the TP profile of the Earth?"
   ]
  },
  {
   "cell_type": "code",
   "execution_count": null,
   "metadata": {},
   "outputs": [],
   "source": []
  },
  {
   "cell_type": "markdown",
   "metadata": {},
   "source": [
    "### What about if we had only these?"
   ]
  },
  {
   "cell_type": "code",
   "execution_count": null,
   "metadata": {},
   "outputs": [],
   "source": [
    "temperature = [ 20,  -40, -20  ]  #C\n",
    "altitude    = [ 0,    32,  38  ]  #km "
   ]
  },
  {
   "cell_type": "code",
   "execution_count": null,
   "metadata": {},
   "outputs": [],
   "source": [
    "plt.figure( figsize = (6, 6) )\n",
    "plt.plot( temperature, altitude, marker = 'o', linestyle = 'none')\n",
    "plt.xlabel('Temperature [C]', fontsize = 12)\n",
    "plt.ylabel('Altitude [km]', fontsize = 12)"
   ]
  },
  {
   "cell_type": "code",
   "execution_count": null,
   "metadata": {},
   "outputs": [],
   "source": []
  },
  {
   "cell_type": "code",
   "execution_count": null,
   "metadata": {},
   "outputs": [],
   "source": []
  },
  {
   "cell_type": "code",
   "execution_count": null,
   "metadata": {},
   "outputs": [],
   "source": []
  },
  {
   "cell_type": "markdown",
   "metadata": {},
   "source": [
    "## Interpolation"
   ]
  },
  {
   "cell_type": "markdown",
   "metadata": {},
   "source": [
    "## Let's assume that we have two points (1,1) and (10,10):\n"
   ]
  },
  {
   "cell_type": "code",
   "execution_count": null,
   "metadata": {},
   "outputs": [],
   "source": [
    "p1 = [1, 1]\n",
    "p2 = [10, 10]\n",
    "\n",
    "plt.figure( figsize = ( 8, 8 ) )\n",
    "plt.plot( p1[ 0 ], p1[ 1 ], marker ='o', markersize = 12 , color = 'red')\n",
    "plt.plot( p2[ 0 ], p2[ 1 ], marker ='o', markersize = 12 , color = 'red')\n",
    "plt.xticks(fontsize = 20 )\n",
    "plt.yticks(fontsize = 20 )\n"
   ]
  },
  {
   "cell_type": "markdown",
   "metadata": {},
   "source": [
    "### Assuming that the two are related, not random points (they follow some physical law) is there a way to figure out what happens between these two points? There's a lot of empty space between the two .....\n"
   ]
  },
  {
   "cell_type": "markdown",
   "metadata": {},
   "source": [
    "### In this case it is a bit obvious that if I wanted to figure out the value of y for p3 with x = 5 it would be....and if I wanted the y of p4  with x = 7 it would be...\n"
   ]
  },
  {
   "cell_type": "code",
   "execution_count": null,
   "metadata": {},
   "outputs": [],
   "source": [
    "p3 = [ 5, 5 ]\n",
    "p4 = [ 7, 7 ]\n",
    "\n",
    "plt.figure( figsize = ( 8, 8 ) )\n",
    "\n",
    "## plot the points:\n",
    "\n",
    "plt.plot( p1[ 0 ], p1[ 1 ], marker ='o', markersize = 12, color = 'red')\n",
    "plt.plot( p3[ 0 ], p3[ 1 ] , marker ='o', markersize = 12, color = 'gray') \n",
    "plt.plot( p4[ 0 ], p4[ 1 ] , marker ='o', markersize = 12, color = 'gray')\n",
    "plt.plot( p2[ 0 ], p2[ 1 ], marker ='o', markersize = 12, color = 'red')\n",
    "plt.xticks(fontsize = 20 )\n",
    "plt.yticks(fontsize = 20 )"
   ]
  },
  {
   "cell_type": "markdown",
   "metadata": {},
   "source": [
    "### But how do you figure this out in a mathematically consistent way? INTERPOLATION\n"
   ]
  },
  {
   "cell_type": "markdown",
   "metadata": {},
   "source": [
    "### If you have a function f=f(x), interpolation is the process of using known values f(x0),f(x1),f(x2),...,f(xN)  to find values for f(x) at points x != x1, x2,...,xN. \n",
    "\n",
    "\n",
    "### In general, you need to find a function L(x) called the interpolant which agrees with f at the known points and which you use to compute the desired values:\n",
    "\n",
    "### the example here is an obvious $f(x) = x$  --> $y = x$  but let's solve it in the generic way:"
   ]
  },
  {
   "cell_type": "code",
   "execution_count": null,
   "metadata": {},
   "outputs": [],
   "source": []
  },
  {
   "cell_type": "markdown",
   "metadata": {},
   "source": [
    "### The simplest interpolation is the linear interpolation:\n",
    "\n",
    "### Let's assume that we have a linear interpolant of the form $y = a * (x-x_0) + b$  the slope $a$ between two points $(x_1,y_1)$ and $(x_2, y_2)$ is ...."
   ]
  },
  {
   "cell_type": "code",
   "execution_count": null,
   "metadata": {},
   "outputs": [],
   "source": []
  },
  {
   "cell_type": "markdown",
   "metadata": {},
   "source": [
    " $ a = \\frac{y_2-y_1}{x_2 -x_1}$ <br>\n",
    " and our b will be the point we want our line to start at, so here $(x_1 , y_1)$ :\n",
    "\n",
    "### So, let's interpolate between $p_1$ and $p_2$:\n",
    "\n",
    "- find a and b based on your two points:"
   ]
  },
  {
   "cell_type": "code",
   "execution_count": null,
   "metadata": {},
   "outputs": [],
   "source": []
  },
  {
   "cell_type": "code",
   "execution_count": null,
   "metadata": {},
   "outputs": [],
   "source": [
    "#find a and b based on your two points:\n",
    "a = ( p2[ 1 ] - p1[ 1 ] ) / ( p2[ 0 ] - p1[ 0 ] )\n",
    "b = p1[ 1 ]\n",
    "\n",
    "\n",
    "#calculate y for x = 5 and x = 7:\n",
    "\n",
    "print('Linear interpolation between p1 and p2 at point x = 5 gives:', a * ( 5 - p1[ 0 ] ) + b, '\\n' )\n",
    "print('Linear interpolation between p1 and p2 at point x = 7 gives:', a * ( 7 - p1[ 0 ] ) + b )\n",
    "\n"
   ]
  },
  {
   "cell_type": "markdown",
   "metadata": {},
   "source": [
    "\n",
    "### it works!"
   ]
  },
  {
   "cell_type": "markdown",
   "metadata": {},
   "source": [
    "## Now let's try a bit more complex problems"
   ]
  },
  {
   "cell_type": "markdown",
   "metadata": {},
   "source": [
    "### Assume we have arrays:"
   ]
  },
  {
   "cell_type": "code",
   "execution_count": null,
   "metadata": {},
   "outputs": [],
   "source": [
    "x = np.array( [ 0, 5, 9 , 11, 14 ] )\n",
    "y = np.array( [ -0.5, 109.5, 197.5, 241.5, 307.5 ] )\n",
    "\n",
    "\n",
    "#Can you figure out the value of y at the following values?\n",
    "x1 = np.array( [ 2 , 4, 8 , 12.5 ] )"
   ]
  },
  {
   "cell_type": "code",
   "execution_count": null,
   "metadata": {},
   "outputs": [],
   "source": [
    "#Let's visualize the data first:\n",
    "\n",
    "plt.figure( figsize = ( 8 , 8 ) )\n",
    "plt.plot( x, y, marker = 'o', linestyle = 'none' )\n"
   ]
  },
  {
   "cell_type": "code",
   "execution_count": null,
   "metadata": {},
   "outputs": [],
   "source": [
    "# what do you think? is linear interpolation a good choice? how could we test it?"
   ]
  },
  {
   "cell_type": "code",
   "execution_count": null,
   "metadata": {},
   "outputs": [],
   "source": []
  },
  {
   "cell_type": "code",
   "execution_count": null,
   "metadata": {},
   "outputs": [],
   "source": [
    "# use a function : y = a* x + c to calculate the y at the new x points\n"
   ]
  },
  {
   "cell_type": "code",
   "execution_count": null,
   "metadata": {},
   "outputs": [],
   "source": []
  },
  {
   "cell_type": "markdown",
   "metadata": {},
   "source": [
    "## Of course numpy already has a routine that does all of it for you: np.interp()\n",
    "https://numpy.org/doc/stable/reference/generated/numpy.interp.html"
   ]
  },
  {
   "cell_type": "code",
   "execution_count": null,
   "metadata": {},
   "outputs": [],
   "source": [
    "y2 = np.interp( x1, x, y )\n",
    "\n",
    "print( y2 )\n"
   ]
  },
  {
   "cell_type": "code",
   "execution_count": null,
   "metadata": {},
   "outputs": [],
   "source": []
  },
  {
   "cell_type": "code",
   "execution_count": null,
   "metadata": {},
   "outputs": [],
   "source": []
  },
  {
   "cell_type": "markdown",
   "metadata": {},
   "source": [
    "## But what happens when your data are not a linear function of x?\n"
   ]
  },
  {
   "cell_type": "code",
   "execution_count": null,
   "metadata": {},
   "outputs": [],
   "source": [
    "#example from https://docs.scipy.org/doc/scipy/reference/tutorial/interpolate.html\n",
    "x = np.linspace( 0, 10, num = 11 )\n",
    "y = np.cos( - x**2 / 9.0 )\n",
    "\n",
    "#Let's plot it to see how it looks:\n",
    "plt.figure( figsize = ( 8, 8 ) )\n",
    "plt.plot( x, y, 'o', linestyle = '--' )"
   ]
  },
  {
   "cell_type": "markdown",
   "metadata": {},
   "source": [
    "### you know that the underlying function is a cos, but if you just linearly connect the points you have they are a weird, sharp at points functions....so clearly, a linear interpolation between the two (numpy's linear interpolation) would not do a good job..."
   ]
  },
  {
   "cell_type": "markdown",
   "metadata": {},
   "source": [
    "### In comes scipy:"
   ]
  },
  {
   "cell_type": "code",
   "execution_count": null,
   "metadata": {},
   "outputs": [],
   "source": [
    "from scipy.interpolate import interp1d\n",
    "\n",
    "\n",
    "help(interp1d)\n"
   ]
  },
  {
   "cell_type": "code",
   "execution_count": null,
   "metadata": {},
   "outputs": [],
   "source": [
    "f  = interp1d( x, y)                    # linear interpolation\n",
    "f2 = interp1d( x, y, kind = 'cubic' )   # cubic spline interpolation\n",
    "\n",
    "\n",
    "xnew = np.linspace( 0, 10, num = 41, endpoint=True)\n",
    "\n",
    "plt.figure( figsize = ( 12, 8 ) )\n",
    "\n",
    "plt.plot( x, y, 'ro', xnew, f(xnew), 'b-', xnew, f2(xnew), 'g--')\n",
    "# aka:\n",
    "#plt.plot( x, y, marker = 'o', linestyle = 'none', color = 'red')\n",
    "#plt.plot( xnew, f(xnew), linestyle = '-' , color = 'blue')\n",
    "#plt.plot( xnew, f2(xnew), linestyle = '--', color = 'green' )\n",
    "\n",
    "plt.legend( ['data', 'linear', 'cubic'], loc = 'best', fontsize = 20 )\n",
    "plt.xticks( fontsize = 20 )\n",
    "plt.yticks( fontsize = 20 )\n"
   ]
  },
  {
   "cell_type": "code",
   "execution_count": null,
   "metadata": {},
   "outputs": [],
   "source": [
    "#this function is based on the cubic spline interpolation which you can also call directly:\n",
    "\n",
    "from scipy.interpolate import  splrep,splev\n"
   ]
  },
  {
   "cell_type": "code",
   "execution_count": null,
   "metadata": {},
   "outputs": [],
   "source": []
  },
  {
   "cell_type": "code",
   "execution_count": null,
   "metadata": {},
   "outputs": [],
   "source": [
    "#create your x and y arrays:\n",
    "x = np.arange( 0, 2 * np.pi + np.pi / 4, 2 * np.pi / 8 )\n",
    "y = np.sin( x )\n",
    "\n",
    "#evaluate the spline derivatives (splrep) and the spline function (splev):   (FORTRAN powered ):\n",
    "tck = splrep( x, y, s = 0 )\n",
    "xnew = np.arange( 0, 2 * np.pi, np.pi / 50 )\n",
    "ynew = splev( xnew, tck, der = 0 )\n"
   ]
  },
  {
   "cell_type": "code",
   "execution_count": null,
   "metadata": {},
   "outputs": [],
   "source": [
    "fig, ax = plt.subplots( figsize = ( 12, 8 ) )\n",
    "\n",
    "plt.plot( x, y, 'x',linestyle = 'none')\n",
    "plt.plot( xnew, ynew, color='red')\n",
    "plt.plot( xnew, np.sin(xnew), linestyle = '-.',color='blue')\n",
    "plt.plot( x, y,'forestgreen')\n",
    "plt.legend( [ 'Linear', 'Cubic Spline', 'True' ],fontsize = 30 )\n",
    "plt.axis( [ -0.05, 6.33, -1.05, 1.05 ] )\n",
    "plt.title( 'Cubic-spline interpolation',fontsize = 30 )\n",
    "\n",
    "ax.tick_params(axis='both', which='major', labelsize = 30 )\n"
   ]
  },
  {
   "cell_type": "markdown",
   "metadata": {},
   "source": [
    "### splines are \"a polynomial between each pair of table points, but one whose coefficients are determined 'slightly' nonlocally. The nonlocality is designed to guarantee global smoothness in the interpolated function up to some order of derivative\"  (Numerical Recipes FORTRAN 77)\n",
    "### A cubic spline is programmed to find the cubic polynomial $(a+ b*x + c*x^2 + d * x^3)$ within each interval (between your data points) that matches your data, and has continuous first and second derivatives at the knots "
   ]
  },
  {
   "cell_type": "code",
   "execution_count": null,
   "metadata": {},
   "outputs": [],
   "source": [
    "#let's try with a different dataset:\n",
    "\n",
    "x = np.arange(0, 8*np.pi+np.pi/4, 2*np.pi/8)\n",
    "y = np.sin(x)+np.cos(x)\n",
    "\n",
    "\n",
    "#evaluate the spline derivatives (splrep) and the spline function (splev):   \n",
    "tck = splrep(x, y, s=0)\n",
    "xnew = np.arange(0, 8*np.pi, np.pi/50)\n",
    "ynew = splev(xnew, tck, der=0)\n",
    "\n",
    "fig, ax = plt.subplots( figsize = (12 , 8) )\n",
    "\n",
    "plt.plot(x, y, 'x',color='forestgreen',linestyle='--',markersize=12)\n",
    "plt.plot(xnew, ynew, color='red')\n",
    "plt.plot(xnew, np.sin(xnew) +np.cos(xnew), linestyle = '-.',color='blue')\n",
    "\n",
    "plt.title('Cubic-spline interpolation',fontsize = 30)\n",
    "\n",
    "ax.tick_params(axis='both', which='major', labelsize=30)\n",
    "\n"
   ]
  },
  {
   "cell_type": "markdown",
   "metadata": {},
   "source": [
    "### What if you have a 2D array and you want to interpolate between points in 2 dimensions? Then we have the bilinear interpolation:\n"
   ]
  },
  {
   "cell_type": "code",
   "execution_count": null,
   "metadata": {},
   "outputs": [],
   "source": [
    "from scipy.interpolate import  interp2d"
   ]
  },
  {
   "cell_type": "code",
   "execution_count": null,
   "metadata": {},
   "outputs": [],
   "source": [
    "#let's make our dataset:\n",
    "\n",
    "x = np.arange( -5.01, 5.01, 0.25 )\n",
    "y = np.arange( -5.01, 5.01, 0.25 )\n",
    "xx, yy = np.meshgrid( x, y )\n",
    "\n",
    "#Create a 2D array that uses xx , yy\n",
    "z = np.sin( xx**2 + yy**2 ) / ( xx**2 + yy**2 )\n"
   ]
  },
  {
   "cell_type": "code",
   "execution_count": null,
   "metadata": {},
   "outputs": [],
   "source": [
    "# use the 2D interpolation\n",
    "f = interp2d(x, y, z, kind='cubic')\n"
   ]
  },
  {
   "cell_type": "code",
   "execution_count": null,
   "metadata": {},
   "outputs": [],
   "source": [
    "# plot the result:\n",
    "xnew = np.arange( -5.01, 5.01, 1e-2 )\n",
    "ynew = np.arange( -5.01, 5.01, 1e-2 )\n",
    "znew = f( xnew, ynew )\n",
    "\n",
    "plt.figure( figsize = ( 12, 8) )\n",
    "\n",
    "plt.plot(x, z[0, :], 'ro')\n",
    "plt.plot(xnew, znew[0, :], 'b-')\n",
    "plt.xticks(fontsize =20 )\n",
    "plt.yticks(fontsize =20 )\n"
   ]
  },
  {
   "cell_type": "code",
   "execution_count": null,
   "metadata": {},
   "outputs": [],
   "source": [
    "#https://docs.scipy.org/doc/scipy/reference/generated/scipy.interpolate.griddata.html\n",
    "#Suppose we want to interpolate the 2-D function on a grid in [0, 1]x[0, 1]\n",
    "\n",
    "def func(x, y):\n",
    "     return x*(1-x)*np.cos(4*np.pi*x) * np.sin(4*np.pi*y**2)**2\n",
    "\n",
    "\n",
    "grid_x, grid_y = np.mgrid[0:1:100j, 0:1:200j]\n",
    "\n",
    "#but we only know its values at 1000 data points:\n",
    "\n",
    "\n",
    "points = np.random.rand( 1000, 2 )\n",
    "values = func( points[ :, 0 ], points[ :, 1 ] )\n",
    "#This can be done with griddata() – below we try out all of the interpolation methods:\n"
   ]
  },
  {
   "cell_type": "code",
   "execution_count": null,
   "metadata": {},
   "outputs": [],
   "source": [
    "from scipy.interpolate import griddata\n",
    "\n",
    "grid_z0 = griddata(points, values, (grid_x, grid_y), method='nearest')\n",
    "grid_z1 = griddata(points, values, (grid_x, grid_y), method='linear')\n",
    "grid_z2 = griddata(points, values, (grid_x, grid_y), method='cubic')\n",
    "\n",
    "#One can see that the exact result is reproduced by all of the methods to some degree, but for this \n",
    "#smooth function the piecewise cubic interpolant gives the best results:\n",
    "\n",
    "\n",
    "plt.subplot(221)\n",
    "plt.imshow(func(grid_x, grid_y).T, extent=(0,1,0,1), origin='lower')\n",
    "plt.plot(points[:,0], points[:,1], 'k.', ms=1)\n",
    "plt.title('Original')\n",
    "\n",
    "plt.subplot(222)\n",
    "plt.imshow(grid_z0.T, extent=(0,1,0,1), origin='lower')\n",
    "plt.title('Nearest')\n",
    "\n",
    "plt.subplot(223)\n",
    "plt.imshow(grid_z1.T, extent=(0,1,0,1), origin='lower')\n",
    "plt.title('Linear')\n",
    "\n",
    "plt.subplot(224)\n",
    "plt.imshow(grid_z2.T, extent=(0,1,0,1), origin='lower')\n",
    "plt.title('Cubic')\n",
    "plt.gcf().set_size_inches(6, 6)\n"
   ]
  },
  {
   "cell_type": "markdown",
   "metadata": {},
   "source": [
    "##  Extrapolation: \n",
    "\n",
    "### estimate the value of a function y(x) outside the initial range [x1,x2] for which we have data\n"
   ]
  },
  {
   "cell_type": "markdown",
   "metadata": {},
   "source": [
    "### Most basic version: linear extrapolation. "
   ]
  },
  {
   "cell_type": "markdown",
   "metadata": {},
   "source": [
    "<img src=\"extrapolation_example_start.png\" width=400 height=400 />"
   ]
  },
  {
   "cell_type": "code",
   "execution_count": null,
   "metadata": {},
   "outputs": [],
   "source": []
  },
  {
   "cell_type": "markdown",
   "metadata": {},
   "source": [
    "### You create a tangent line at the end of the known data and extend it  beyond that limit:"
   ]
  },
  {
   "cell_type": "markdown",
   "metadata": {},
   "source": [
    "<img src=\"extrapolation_example.png\" width=700 height=400 />"
   ]
  },
  {
   "cell_type": "code",
   "execution_count": null,
   "metadata": {},
   "outputs": [],
   "source": []
  },
  {
   "cell_type": "code",
   "execution_count": null,
   "metadata": {},
   "outputs": [],
   "source": []
  },
  {
   "cell_type": "code",
   "execution_count": null,
   "metadata": {},
   "outputs": [],
   "source": [
    "p1 = [1, 1]\n",
    "p2 = [10, 10]\n",
    "\n",
    "a = ( p2[1] - p1[1] ) / ( p2[0] - p1[0] )\n",
    "b = p1[1]\n",
    "\n",
    "\n",
    "#calculate y for x = 5 and x = 7:\n",
    "\n",
    "print('Linear extrapolation to p4 at point x = 15 gives:', a * ( 15 - p1[ 0 ] ) + b,'\\n')"
   ]
  },
  {
   "cell_type": "markdown",
   "metadata": {},
   "source": [
    "### Linear extrapolation will only provide good results when used to extend the graph of an approximately linear function, or when you want a point not too far beyond the known data."
   ]
  },
  {
   "cell_type": "code",
   "execution_count": null,
   "metadata": {},
   "outputs": [],
   "source": [
    "#Make a sin function between 0 and 10 and try to extrapolate to 12\n",
    "x = np.linspace(0, 10, num=11, endpoint=True)\n",
    "y = np.sin(x)\n",
    "\n",
    "\n",
    "plt.plot(x,y,marker='o')"
   ]
  },
  {
   "cell_type": "code",
   "execution_count": null,
   "metadata": {},
   "outputs": [],
   "source": [
    "#we take the last two points x and y [9] and [10] and try to extrapolate at x = 12 :\n",
    "y_pred = y[9] + ( 12 - x[ 9 ] ) / ( x[ 10 ] - x[ 9 ] ) * ( y[ 10 ] - y[ 9 ] )\n",
    "\n",
    "\n",
    "x2 = np.linspace(0, 20, 22, endpoint=True)\n",
    "y2 = np.sin( x2 )\n",
    "\n",
    "\n",
    "plt.figure( figsize = ( 12, 12 ) )\n",
    "plt.plot( x2, y2, marker = 'o' )\n",
    "plt.plot( 12 , y_pred , marker = '*', markersize = 18 )  "
   ]
  },
  {
   "cell_type": "code",
   "execution_count": null,
   "metadata": {},
   "outputs": [],
   "source": [
    "# it (of course) fails!"
   ]
  },
  {
   "cell_type": "markdown",
   "metadata": {},
   "source": [
    "### could we use interpolation as an extrapolation?"
   ]
  },
  {
   "cell_type": "code",
   "execution_count": null,
   "metadata": {},
   "outputs": [],
   "source": [
    "##from scipy.interpolate import  splrep,splev\n",
    "\n",
    "\n",
    "\n",
    "x2[13] = 12.0\n",
    "\n",
    "tck = splrep(x, y, s = 0 )\n",
    "xnew = x2 \n",
    "ynew = splev(xnew, tck, der =0)\n",
    "\n",
    "fig, ax = plt.subplots(figsize = ( 12, 8 ) )\n",
    "\n",
    "plt.plot( x, y, 'x',linestyle = 'none',markersize = 15)\n",
    "plt.plot( xnew, ynew, color='red')\n",
    "plt.plot( xnew, np.sin(xnew), linestyle = '-.',color='blue',marker='o',markersize = 15)\n",
    "plt.xlim(0,14)\n",
    "plt.ylim(-2,2)\n"
   ]
  },
  {
   "cell_type": "markdown",
   "metadata": {},
   "source": [
    "### it seems to be doing OK-ish close to the initial space, but notice how it deviates  a lot, very fast !\n"
   ]
  },
  {
   "cell_type": "code",
   "execution_count": null,
   "metadata": {},
   "outputs": [],
   "source": [
    "#try the interp1d of scipy:\n",
    "\n",
    "f = interp1d(x, y , fill_value='extrapolate')\n",
    "\n",
    "ynew2 = f( xnew )\n",
    "\n",
    "\n",
    "fig, ax = plt.subplots(figsize = ( 12, 8 ) )\n",
    "\n",
    "plt.plot( x, y, 'o',linestyle = 'none',markersize = 15)\n",
    "plt.plot( xnew, ynew2, color='red', marker = '*',markersize = 15)\n",
    "plt.plot( xnew, np.sin(xnew), linestyle = '-.',color='blue',marker='o',markersize = 15)\n",
    "plt.xlim( 0, 14 )\n",
    "plt.ylim( -4, 2 )\n",
    "\n",
    "# losing it fast"
   ]
  },
  {
   "cell_type": "code",
   "execution_count": null,
   "metadata": {},
   "outputs": [],
   "source": []
  },
  {
   "cell_type": "markdown",
   "metadata": {},
   "source": [
    "### how about exponential functions? "
   ]
  },
  {
   "cell_type": "code",
   "execution_count": null,
   "metadata": {},
   "outputs": [],
   "source": [
    "\n",
    "x = np.linspace( 0, 10, 11, endpoint=True)\n",
    "y = np.exp( x )\n",
    "\n",
    "x2[13] = 12.0\n",
    "\n",
    "tck = splrep( x, y, s = 0 )\n",
    "xnew = x2 \n",
    "ynew = splev(xnew, tck, der=0)\n",
    "\n",
    "fig, ax = plt.subplots(figsize = ( 12 , 8 ) )\n",
    "\n",
    "\n",
    "#semilogy asks the plot to be logarithmic scale on the y axis (also have semilogx; loglog....)\n",
    "\n",
    "plt.semilogy( x, y, 'x',linestyle = 'none',markersize = 15)\n",
    "plt.semilogy( xnew, ynew, color='red', marker='d',markersize = 15)\n",
    "plt.semilogy( xnew, np.exp(xnew), linestyle = '-.',color='blue',marker='o',markersize = 15)\n",
    "plt.xlim(0,14)\n",
    "\n"
   ]
  },
  {
   "cell_type": "code",
   "execution_count": null,
   "metadata": {},
   "outputs": [],
   "source": [
    "\n",
    "##versus the full plot:\n",
    "\n",
    "plt.figure(figsize = ( 12, 8 ) )\n",
    "plt.plot( x, y, 'x',linestyle = 'none',markersize = 15)\n",
    "plt.plot( xnew, ynew, color='red', marker='d',markersize = 15)\n",
    "plt.plot( xnew, np.exp(xnew), linestyle = '-.',color='blue',marker='o',markersize = 15)\n",
    "plt.xlim( 0,14 )\n",
    "plt.ylim( 0,1e6 )\n"
   ]
  },
  {
   "cell_type": "code",
   "execution_count": null,
   "metadata": {},
   "outputs": [],
   "source": [
    "from scipy.interpolate import InterpolatedUnivariateSpline\n",
    "\n",
    "# given values\n",
    "xi = np.linspace(1,100,45)\n",
    "yi = np.sin(xi) \n",
    "\n",
    "# positions to inter/extrapolate\n",
    "x = np.linspace(0, 104, 50)  #-->test the further point; the more you push it the more you diverge from the real value\n",
    "\n",
    "# spline order: 1 linear, 2 quadratic, 3 cubic ... \n",
    "order = 1\n",
    "\n",
    "# do inter/extrapolation\n",
    "s = InterpolatedUnivariateSpline(xi, yi, k=order)\n",
    "y = s(x)"
   ]
  },
  {
   "cell_type": "code",
   "execution_count": null,
   "metadata": {},
   "outputs": [],
   "source": [
    "# example showing the interpolation for linear, quadratic and cubic interpolation\n",
    "plt.figure(figsize = ( 12 , 8 ) )\n",
    "\n",
    "plt.plot(xi, yi, color='red' )\n",
    "\n",
    "clr = ['blue', 'magenta', 'forestgreen', 'orange']\n",
    "\n",
    "\n",
    "for order in range(1, 4):\n",
    "    s = InterpolatedUnivariateSpline(xi, yi, k=order)\n",
    "    y = s(x)\n",
    "    plt.plot(x, y, color = clr[order])\n",
    "\n",
    "plt.plot( x, np.sin(x),color='black')\n",
    "plt.xlim( -2, 110 )\n",
    "plt.ylim( -2, 2 )\n"
   ]
  },
  {
   "cell_type": "markdown",
   "metadata": {},
   "source": [
    "# ---------------------------------"
   ]
  },
  {
   "cell_type": "markdown",
   "metadata": {},
   "source": [
    "## Practicum"
   ]
  },
  {
   "cell_type": "code",
   "execution_count": null,
   "metadata": {},
   "outputs": [],
   "source": []
  },
  {
   "cell_type": "markdown",
   "metadata": {},
   "source": [
    "### 1. You have observed thirty people and registered their weight [cm] and height [kg] (see below). Assuming that these two are directly related (i.e., ignore other parameters that could affect the person's weight), can you use these data to predict the most probable weight of someone 187cm tall? Can you predict the height of someone that weighs 120kg?"
   ]
  },
  {
   "cell_type": "code",
   "execution_count": null,
   "metadata": {},
   "outputs": [],
   "source": [
    "height = np.array( [ 165, 172, 184, 154, 193, 177, 164, 210, 181, 158, \n",
    "                     176, 169, 142, 201, 195, 183, 174, 150, 161, 190 ] )\n",
    "weight = np.array( [ 60 , 64, 76, 55, 79, 69, 57, 100, 70, 58, \n",
    "                     68 , 59, 46, 90, 85, 76, 66,  51, 58, 81  ] )"
   ]
  },
  {
   "cell_type": "code",
   "execution_count": null,
   "metadata": {},
   "outputs": [],
   "source": []
  },
  {
   "cell_type": "code",
   "execution_count": null,
   "metadata": {},
   "outputs": [],
   "source": [
    "# what do we need to do now to find the most probable weight of someone 187cm tall?"
   ]
  },
  {
   "cell_type": "code",
   "execution_count": null,
   "metadata": {},
   "outputs": [],
   "source": []
  },
  {
   "cell_type": "code",
   "execution_count": null,
   "metadata": {},
   "outputs": [],
   "source": []
  },
  {
   "cell_type": "code",
   "execution_count": null,
   "metadata": {},
   "outputs": [],
   "source": []
  },
  {
   "cell_type": "code",
   "execution_count": null,
   "metadata": {},
   "outputs": [],
   "source": []
  },
  {
   "cell_type": "code",
   "execution_count": null,
   "metadata": {},
   "outputs": [],
   "source": []
  },
  {
   "cell_type": "markdown",
   "metadata": {},
   "source": [
    "### 2. You have a range of series circuits for which you have calculated the voltage and resistance when using a 10A currrent. Assume you don't know Ohm's law. Can you calcute the resistance of a series circuit for V = 9.5 and V = 28.2 V?"
   ]
  },
  {
   "cell_type": "code",
   "execution_count": null,
   "metadata": {},
   "outputs": [],
   "source": []
  },
  {
   "cell_type": "code",
   "execution_count": null,
   "metadata": {},
   "outputs": [],
   "source": []
  },
  {
   "cell_type": "code",
   "execution_count": null,
   "metadata": {},
   "outputs": [],
   "source": []
  },
  {
   "cell_type": "markdown",
   "metadata": {},
   "source": [
    "### 3. Projectile motion is a form of motion experienced by an object or particle that is thrown near the Earth's surface and moves along a curved path under the action of gravity only. In this example you will study the parabolic motion of objects with different initial speeds and angles.  Create function balistics_planet( gravity, balistics_obj ) that gets as input a dictionary gravity and a dictionary balistics_obj and returns the maximum altitude the projectile reached (h_max) and the total time it traveled (t_tot).  \n",
    "\n",
    "### gravity should have as keys the names of the four terrestrial planets (Mercury, Venus, Earth and Mars) and as values the acceleration of the four terrestrial planets: (3.7 ,  8.87 , 9.81 and 3.71). balistics_obj should have as keys the names of the four terrestrial planets and as keys lists containing the following information for the initial speed and angle of the projectile on each planet:\n",
    "Planet |\tMercury|\tVenus|\tEarth\t|Mars\n",
    "--|:---------:|:---------:|:---------:|:---------:\n",
    "Initial Speed (u0)\t|0.2|\t2.8|\t8.81|\t1.71\n",
    "Angle (theta)\t|30|\t32|\t50\t|22\n",
    " \n",
    "### Remember that $t_{tot} = 2*u0 * \\sin(\\theta)/g$   and that $h_{max} = u0^2  * \\sin(\\theta)^2 / (2*g)$ . \n",
    "\n",
    "\n",
    "### Call balistics_planet(gravity,balistics_obj) and print an informative sentence about the total time each projectile travelled on each planet and what the maximum altitude it reached is (like: \" On Mercury the object with a starting speed of 0.2 and an angle of 30.0 degrees will travel for a total of XYZ and reach a maximum of NNN meters.\"). Format the statement so that the h_max and t_tot have 4 digit accuracy (so 1.0000). \n",
    "\n"
   ]
  },
  {
   "cell_type": "code",
   "execution_count": null,
   "metadata": {},
   "outputs": [],
   "source": []
  },
  {
   "cell_type": "markdown",
   "metadata": {},
   "source": [
    "###  4. A mass of 0.2kg is hanging from the end of a spring with a constant k=3.5 N/m. You let the mass go, and the mass-spring system starts oscillating.  Assume that x0 = 0 [m], u0 = 0 [m/s]. Remember that g = 9.8 [m/s2], and that the force applied on the mass by the gravity-spring system is F = −mg - kx . \n",
    "\n",
    "### Your goal: Plot the oscillation of the mass over time t=np.linespace(0,4,100). \n",
    "\n",
    "### To do this, create a function oscillation(x0,t0,u0,k,m,g,t) that takes as input the initial position x0 of the object at time t0, its initial speed u0, the parameters k, m and g and the time at which you want to calculate the location of the mass t, and returns the corresponding location of the object x. \n",
    "\n",
    "### Tip 1: remember that F=m * a=m $\\frac{d^2x}{d^2t}$.  \n",
    "### Tip 2: to make the problem more tractable you can split the second order derivative into two first order differences ( $\\frac{\\Delta x}{\\Delta t}$  and $\\frac{\\Delta u}{\\Delta t}$ ).\n",
    "\n"
   ]
  },
  {
   "cell_type": "code",
   "execution_count": null,
   "metadata": {},
   "outputs": [],
   "source": []
  },
  {
   "cell_type": "code",
   "execution_count": null,
   "metadata": {},
   "outputs": [],
   "source": []
  },
  {
   "cell_type": "markdown",
   "metadata": {},
   "source": [
    "### 5. Plot your x,y with errorbars sigma2 and sigma respectively. Plot x vs y only where sigma < 11.5."
   ]
  },
  {
   "cell_type": "code",
   "execution_count": null,
   "metadata": {},
   "outputs": [],
   "source": [
    "x = np.array( [0.25,0.5,0.75,1.,1.25,1.5,1.75,2.,2.25,2.5, \n",
    "               2.75,3.,3.25,3.5,3.75,4.0,4.25,4.5,4.75,5.0,5.25] ) \n",
    "y = np.array( [14.059, 19.18, 26.26, 25.95, 31.567, 44.464, 49.88, \n",
    "               64.016, 79.34, 93.229, 104.985, 113.425, 130.466, 150.331, \n",
    "               168.620, 185.888, 207.500, 225.716, 241.891, 268.802, 287.936] )\n",
    "\n",
    "sigma = np.array( [12.536, 13.601, 11.8492, 15.937, 12.6478, 13.927, 11.445, \n",
    "                   10.224, 12.981, 10.969, 11.666, 12.060, 10.173, 10.292, 14.507, \n",
    "                   12.195, 11.578, 9.321, 12.602, 13.03, 8.6004] )\n",
    "\n",
    "sigma2 = sigma * np.random.random( len(sigma) )* .2"
   ]
  },
  {
   "cell_type": "code",
   "execution_count": null,
   "metadata": {},
   "outputs": [],
   "source": []
  },
  {
   "cell_type": "code",
   "execution_count": null,
   "metadata": {},
   "outputs": [],
   "source": []
  },
  {
   "cell_type": "markdown",
   "metadata": {},
   "source": [
    "### 6. Github in action: https://classroom.github.com/a/8tBzCzla"
   ]
  },
  {
   "cell_type": "code",
   "execution_count": null,
   "metadata": {},
   "outputs": [],
   "source": []
  }
 ],
 "metadata": {
  "kernelspec": {
   "display_name": "Python 3 (ipykernel)",
   "language": "python",
   "name": "python3"
  },
  "language_info": {
   "codemirror_mode": {
    "name": "ipython",
    "version": 3
   },
   "file_extension": ".py",
   "mimetype": "text/x-python",
   "name": "python",
   "nbconvert_exporter": "python",
   "pygments_lexer": "ipython3",
   "version": "3.7.11"
  }
 },
 "nbformat": 4,
 "nbformat_minor": 2
}
