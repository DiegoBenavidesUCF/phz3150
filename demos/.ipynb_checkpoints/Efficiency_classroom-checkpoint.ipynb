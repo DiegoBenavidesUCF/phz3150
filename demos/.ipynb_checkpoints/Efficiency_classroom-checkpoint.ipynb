{
 "cells": [
  {
   "cell_type": "markdown",
   "metadata": {},
   "source": [
    "# Algorithmic efficiency"
   ]
  },
  {
   "cell_type": "code",
   "execution_count": null,
   "metadata": {},
   "outputs": [],
   "source": [
    "#PHZ3150 "
   ]
  },
  {
   "cell_type": "code",
   "execution_count": null,
   "metadata": {},
   "outputs": [],
   "source": [
    "import numpy as np\n",
    "import csv\n",
    "import matplotlib.pyplot as plt"
   ]
  },
  {
   "cell_type": "markdown",
   "metadata": {},
   "source": [
    "## Big ‘O’notation: a way to discuss the growth of an algorithm’s runtime as a function of one or more variables of interest, often focused on N, the number of data points or records.\n",
    "\n",
    "\n",
    "<img src=\"efficiency1.png\" width=550 height=250 />\n",
    "Source: Statistics, Data Mining and Machine Learning in Astronomy 2014\n"
   ]
  },
  {
   "cell_type": "markdown",
   "metadata": {},
   "source": [
    "## also important is how much space (RAM) we need to use for our code"
   ]
  },
  {
   "cell_type": "code",
   "execution_count": null,
   "metadata": {},
   "outputs": [],
   "source": [
    "### FYI, you might hear about the \"Big Oh\" and \"Omega\" asymptotic upper and lower bounds that are a \n",
    "### means to describe the max (asymptotic!) and min time "
   ]
  },
  {
   "cell_type": "code",
   "execution_count": null,
   "metadata": {},
   "outputs": [],
   "source": []
  },
  {
   "cell_type": "markdown",
   "metadata": {},
   "source": [
    "## Number of things can slow your code down:\n"
   ]
  },
  {
   "cell_type": "markdown",
   "metadata": {},
   "source": [
    "- Make sure that you avoid a lot of I/O  (see below)\n",
    "\n",
    "- if possible, consider where code runs; running the code if possible/appropriate at GPUs will help speed it up\n",
    "    \n",
    "- Parallelize code (if possible; ideas?)\n",
    "\n",
    "- Avoid repeating work on subproblems that has already been performed (--> note that if too complex problems recalling result from memory can end up adding more time...)\n",
    "\n",
    "- Sometimes, the order of performing specific calculations can also affect the speed of your code  (see below)\n",
    "\n",
    "- Chop up the parameter space and show that some parts can be ignored or approximated during the computation \n",
    "\n",
    "- For fitting data (think ML) chose a subset of the points that yield higher leverage or somehow more effectively represent the information in the whole data set\n",
    "\n",
    "- transform/ decompose complicated functions into simpler ones (simplify your problem -- reduce dimensionality - see below)\n",
    "\n"
   ]
  },
  {
   "cell_type": "markdown",
   "metadata": {},
   "source": [
    "## Examples of order of calculations \"killing\" your runtime:\n"
   ]
  },
  {
   "cell_type": "code",
   "execution_count": null,
   "metadata": {},
   "outputs": [],
   "source": [
    "# nested loops!!\n",
    "\n",
    "N = 30000\n",
    "M = 30000\n",
    "A = np.arange(1, M, 1)\n",
    "B = np.arange( 1, N, 1)\n",
    "\n",
    "C = np.zeros( (N, M) )\n"
   ]
  },
  {
   "cell_type": "code",
   "execution_count": null,
   "metadata": {},
   "outputs": [],
   "source": [
    "%%time\n",
    "for i in range( N -1 ):\n",
    "    for j in range( M-1 ):\n",
    "        C[ i, j ] = A[ j ] * B[ i ]\n",
    "\n"
   ]
  },
  {
   "cell_type": "code",
   "execution_count": null,
   "metadata": {},
   "outputs": [],
   "source": [
    "%%time\n",
    "for j in range( M -1 ):\n",
    "    for i in range( N-1 ):\n",
    "        C[ i, j ] = A[ j ] * B[ i ]\n"
   ]
  },
  {
   "cell_type": "markdown",
   "metadata": {},
   "source": [
    "### sometimes, list comprehension comes to the rescue"
   ]
  },
  {
   "cell_type": "code",
   "execution_count": null,
   "metadata": {},
   "outputs": [],
   "source": [
    "%%time\n",
    "C2 = [ [A[ j ] * B[ i ] for i in range(N-1)] for j in range(M-1)]\n"
   ]
  },
  {
   "cell_type": "code",
   "execution_count": null,
   "metadata": {},
   "outputs": [],
   "source": [
    "%%time\n",
    "C2b = [ [A[ j ] * B[ i ] for j in range(M-1)] for i in range(N-1)]\n"
   ]
  },
  {
   "cell_type": "code",
   "execution_count": null,
   "metadata": {},
   "outputs": [],
   "source": [
    "print ( C2b[0][0:3] )\n",
    "print ( C[ 0 , 0:3] )"
   ]
  },
  {
   "cell_type": "markdown",
   "metadata": {},
   "source": [
    "## An example of IO affecting your running time:"
   ]
  },
  {
   "cell_type": "code",
   "execution_count": null,
   "metadata": {},
   "outputs": [],
   "source": [
    "%%time\n",
    "#open file emma read some lines, then read some more...\n",
    "\n",
    "\n",
    "\n",
    "file_read = open(\"emma.txt\", \"r\")\n",
    "\n",
    "lines = file_read.readlines()[2:10]\n",
    "# do sth....\n",
    "lines2 = file_read.readlines()[10: 30]\n",
    "# do sth else....\n",
    "lines3 = file_read.readlines()[ 40: 100]\n",
    "\n",
    "# do sth else....\n",
    "lines4 = file_read.readlines()[ 110: 140]\n",
    "# do sth else....\n",
    "lines5 = file_read.readlines()[ 140: ]\n",
    "\n",
    "file_read.close()"
   ]
  },
  {
   "cell_type": "code",
   "execution_count": null,
   "metadata": {},
   "outputs": [],
   "source": [
    "%%time\n",
    "#open file emma read everything in one go...\n",
    "file_read = open(\"emma.txt\", \"r\")\n",
    "lines_all = file_read.read()\n",
    "file_read.close()"
   ]
  },
  {
   "cell_type": "markdown",
   "metadata": {},
   "source": [
    "### comparable to when you deal with data:"
   ]
  },
  {
   "cell_type": "code",
   "execution_count": null,
   "metadata": {},
   "outputs": [],
   "source": []
  },
  {
   "cell_type": "code",
   "execution_count": null,
   "metadata": {},
   "outputs": [],
   "source": [
    "mm = np.zeros( 40 ) "
   ]
  },
  {
   "cell_type": "code",
   "execution_count": null,
   "metadata": {},
   "outputs": [],
   "source": [
    "%%time\n",
    "with open('com_2.dat') as f:\n",
    "    for i, line in enumerate(f):\n",
    "        if i <= 10:\n",
    "            mm[ i ] = line.split()[3]\n",
    "            \n",
    "with open('com_2.dat') as f:\n",
    "    for i, line in enumerate(f):\n",
    "        if (i > 10) & (i <= 20) :\n",
    "            mm[ i ] = line.split()[3]\n",
    "            \n",
    "with open('com_2.dat') as f:\n",
    "    for i, line in enumerate(f):\n",
    "        if (i > 20) & (i <= 30) :\n",
    "            mm[ i ] = line.split()[3]\n",
    "            \n",
    "with open('com_2.dat') as f:\n",
    "    for i, line in enumerate(f):\n",
    "        if (i > 30) & (i < 40) :\n",
    "            mm[ i ] = line.split()[3]\n",
    "# CPU times: user 710 µs, sys: 961 µs, total: 1.67 ms\n",
    "# Wall time: 912 µs"
   ]
  },
  {
   "cell_type": "code",
   "execution_count": null,
   "metadata": {},
   "outputs": [],
   "source": [
    "%%time\n",
    "\n",
    "with open('com_2.dat') as f:\n",
    "    a  = f.read()\n",
    "    mm = a.split()[ 3]\n",
    "# CPU times: user 325 µs, sys: 341 µs, total: 666 µs\n",
    "# Wall time: 376 µs    "
   ]
  },
  {
   "cell_type": "code",
   "execution_count": null,
   "metadata": {},
   "outputs": [],
   "source": []
  },
  {
   "cell_type": "code",
   "execution_count": null,
   "metadata": {},
   "outputs": [],
   "source": []
  },
  {
   "cell_type": "markdown",
   "metadata": {},
   "source": [
    "### “dimensionality is a curse” the more complicated your model is the harder it is to find a solution; the more data you need to constrain the model\n",
    "\n",
    "### think of wanting to buy a car with n =1, 2, 3, 4….requirements (color, interior, stick or automatic, cylinders….) The probability to find your dream car is $r^n$ ($r << 1$) .... the more requirements you have the more cars you need to go through to find your ideal car/ the less chances you have to find it.\n"
   ]
  },
  {
   "cell_type": "markdown",
   "metadata": {},
   "source": [
    "### Reducing your dimensionality: try to find the fewer amount of parameters you need to fit to model your data.\n"
   ]
  },
  {
   "cell_type": "markdown",
   "metadata": {},
   "source": [
    "### There are a number of ways to reduce your dimensionality. Most common one is PCA (Principal Component Analysis):\n",
    "- Orthogonal transformation to convert a set of observations of possibly correlated variables into a set of values of linearly uncorrelated varaibles: the principal components\n",
    "- e.g., https://scikit-learn.org/stable/modules/generated/sklearn.decomposition.PCA.html\n",
    "\n",
    "<img src=\"pca_example.png\" width=350 height=350 />\n",
    "Image source: Nicoguaro - Own work, CC BY 4.0, https://commons.wikimedia.org/w/index.php?curid=46871195\n"
   ]
  },
  {
   "cell_type": "markdown",
   "metadata": {},
   "source": [
    "### PCA can be helpful for making your highly complex problems tracktable, like, e.g.:\n",
    "\n",
    "- <img src=\"pca_1.png\" width=350 height=350 />\n",
    "\n",
    "- <img src=\"pca_2.png\" width=350 height=350 />"
   ]
  },
  {
   "cell_type": "markdown",
   "metadata": {},
   "source": [
    "### Some examples of where to use PCA can be found here: \n",
    " https://jakevdp.github.io/PythonDataScienceHandbook/05.09-principal-component-analysis.html\n",
    "\n",
    "\n",
    "### Simplifying the problem at hand: often you will need to write code that models advanced problems (integrations, differentiations,….). How do you simplify those?  \n",
    "- summation instead of integration; \n",
    "- $\\frac{\\Delta y}{\\Delta x}$ instead of $\\frac{dy}{dx}$; \n",
    "- Taylor expansions for more complex functions ....\n"
   ]
  },
  {
   "cell_type": "markdown",
   "metadata": {},
   "source": [
    "### We discussed about some of these in past weeks. Let's see them in action, and we 'll see some expansions as well:"
   ]
  },
  {
   "cell_type": "markdown",
   "metadata": {},
   "source": [
    "#### Just for a recap, examples for 1, 2 and a Taylor expansion in practice: "
   ]
  },
  {
   "cell_type": "markdown",
   "metadata": {},
   "source": [
    "### 1*. Assume sphere with radius R = 1,000 m and density $\\rho (r) = \\rho_0 (1 - \\alpha \\frac{r}{R}) $, where $\\rho_0, \\alpha$ are constants. What is the total mass of the sphere if you know that: $M_{tot} = \\int_0^{2\\pi} \\int_0^{\\pi} \\int_0^R \\rho(r) r^2 \\sin \\phi dr d\\phi d\\theta $ . \n",
    "\n",
    "### You can assume $R$ = 8.913e7 m , $\\alpha = 1.13$ and $\\rho_0$ = 5320 kg/m3"
   ]
  },
  {
   "cell_type": "code",
   "execution_count": null,
   "metadata": {},
   "outputs": [],
   "source": [
    "R0 = 8.9137e7\n",
    "alpha = 0.13\n",
    "rho0 = 5320."
   ]
  },
  {
   "cell_type": "code",
   "execution_count": null,
   "metadata": {},
   "outputs": [],
   "source": [
    "# integration == summation over small deltas :) \n",
    "\n",
    "# let's make arrays for r , theta and phi:\n",
    "\n",
    "## try it at a lower res: faster/less accurate though\n",
    "\n",
    "r = np.arange( 0, R0, 1000 )\n",
    "theta = np.arange( 0, 1, 0.01 ) * 2 * np.pi\n",
    "phi = np.arange( 0, 1, 0.01 ) *  np.pi"
   ]
  },
  {
   "cell_type": "code",
   "execution_count": null,
   "metadata": {},
   "outputs": [],
   "source": [
    "mass_tot = 0 \n",
    "\n",
    "for i in range(1,  1000 ):\n",
    "    dr = r[ i ] - r[ i -1 ]\n",
    "    \n",
    "    for j in range( 1, len( phi )):\n",
    "        dphi = phi[ j ] - phi[ j - 1 ]\n",
    "        \n",
    "        for k in range( 1, len( theta ) ):\n",
    "            dtheta = theta[ k ] - theta[ k - 1 ]\n",
    "            \n",
    "            \n",
    "            mass_tot = mass_tot + \\\n",
    "             rho0 * ( 1 - alpha * r[ i ]/R0 )* r[ i ] **2 * np.sin( phi[ k ] ) * dr* dtheta * dphi\n"
   ]
  },
  {
   "cell_type": "code",
   "execution_count": null,
   "metadata": {},
   "outputs": [],
   "source": [
    "print( mass_tot )"
   ]
  },
  {
   "cell_type": "code",
   "execution_count": null,
   "metadata": {},
   "outputs": [],
   "source": [
    "# error is of the order of 1%"
   ]
  },
  {
   "cell_type": "markdown",
   "metadata": {},
   "source": [
    "### Other approximation you already used:  u = $\\frac{dx}{dt}$"
   ]
  },
  {
   "cell_type": "code",
   "execution_count": null,
   "metadata": {},
   "outputs": [],
   "source": [
    "t = np.linspace( 1, 20 )\n",
    "x = np.arange( 1, 20, 1. ) * 4.2\n",
    "\n",
    "\n",
    "u = np.zeros( 20 )\n",
    "\n",
    "for i in range( 1, 19 ):\n",
    "    u[ i-1 ] = (x[ i ] - x[ i - 1]) / (t[ i ] - t[ i - 1])"
   ]
  },
  {
   "cell_type": "code",
   "execution_count": null,
   "metadata": {},
   "outputs": [],
   "source": [
    "print( u )"
   ]
  },
  {
   "cell_type": "code",
   "execution_count": null,
   "metadata": {},
   "outputs": [],
   "source": []
  },
  {
   "cell_type": "markdown",
   "metadata": {},
   "source": [
    "### 2. A mass of 0.2kg is hanging from the end of a spring with a constant k=3.5 N/m. You let the mass go, and the mass-spring system starts oscillating.  Assume that x0 = 0 [m], u0 = 0 [m/s]. Remember that g = 9.8 [m/s2], and that the force applied on the mass by the gravity-spring system is F = −mg - kx . \n",
    "\n",
    "### Your goal: Plot the oscillation of the mass over time t=np.linespace(0,4,100). \n",
    "\n",
    "### To do this, create a function oscillation(x0,t0,u0,k,m,g,t) that takes as input the initial position x0 of the object at time t0, its initial speed u0, the parameters k, m and g and the time at which you want to calculate the location of the mass t, and returns the corresponding location of the object x. \n",
    "\n",
    "### Tip 1: remember that F=m * a=m $\\frac{d^2x}{d^2t}$.  \n",
    "### Tip 2: to make the problem more tractable you can split the second order derivative into two first order differences ( $\\frac{\\Delta x}{\\Delta t}$  and $\\frac{\\Delta u}{\\Delta t}$ ).\n",
    "\n"
   ]
  },
  {
   "cell_type": "code",
   "execution_count": null,
   "metadata": {},
   "outputs": [],
   "source": [
    "## set up problem constants:\n",
    "\n",
    "xo = 0. # initial position of spring (not the equilibrium position; just random␣,→position)\n",
    "vo = 0. # initial velocity\n",
    "tau = 3. # total time of simulation\n",
    "k = 3.5 # spring constant , in N/m\n",
    "m = 0.2 # mass , in kg\n",
    "g = 9.8 # g , in m/ s 2"
   ]
  },
  {
   "cell_type": "code",
   "execution_count": null,
   "metadata": {},
   "outputs": [],
   "source": [
    "#def function:\n",
    "\n"
   ]
  },
  {
   "cell_type": "code",
   "execution_count": null,
   "metadata": {},
   "outputs": [],
   "source": []
  },
  {
   "cell_type": "code",
   "execution_count": null,
   "metadata": {},
   "outputs": [],
   "source": []
  },
  {
   "cell_type": "code",
   "execution_count": null,
   "metadata": {},
   "outputs": [],
   "source": []
  },
  {
   "cell_type": "code",
   "execution_count": null,
   "metadata": {},
   "outputs": [],
   "source": []
  },
  {
   "cell_type": "code",
   "execution_count": null,
   "metadata": {},
   "outputs": [],
   "source": [
    "#plot:"
   ]
  },
  {
   "cell_type": "code",
   "execution_count": null,
   "metadata": {},
   "outputs": [],
   "source": []
  },
  {
   "cell_type": "markdown",
   "metadata": {},
   "source": [
    "### Examples of Taylor expansion:"
   ]
  },
  {
   "cell_type": "code",
   "execution_count": null,
   "metadata": {},
   "outputs": [],
   "source": [
    "x = np.linspace(0,40,120)\n",
    "\n",
    "#let's try exp(x) = 1 + x +x^2/2! + x^3 /3! + x^4 /4!+....\n",
    "y = np.exp( x )\n",
    "\n",
    "#plot x,y and then make a for loop that overplots the Taylor expansions at different steps:\n",
    "\n",
    "plt.figure( figsize = (12, 8 ) )\n",
    "#make the plot in log y axis:\n",
    "plt.semilogy( x, y, color='red')\n",
    "\n",
    "#define a set of colors:\n",
    "colors= ['blue', 'magenta', 'forestgreen', 'gray', 'black', 'orange', 'lightcoral', 'brown', 'maroon', 'teal',\n",
    "        'peru', 'pink', 'firebrick']\n",
    "\n",
    "#plot your Taylor expansion for the first 12 terms (use the math factorial)\n",
    "z =  1+ x\n",
    "\n",
    "plt.semilogy( x, z,color=colors[0])\n",
    "\n",
    "for i in range( 12 ):#(1,11):\n",
    "    z = z+ (x**i /np.math.factorial(i))\n",
    "    plt.semilogy(x, z , color = colors[i]) \n",
    "    "
   ]
  },
  {
   "cell_type": "code",
   "execution_count": null,
   "metadata": {},
   "outputs": [],
   "source": [
    "# or if you let it chose the colors on its own:\n",
    "plt.figure( figsize = (12, 8 ) )\n",
    "#make the plot in log y axis:\n",
    "plt.semilogy( x, y, color='red')\n",
    "\n",
    "z = 1 + x\n",
    "plt.semilogy( x, z,color=colors[0])\n",
    "\n",
    "for i in range( 42 ): # around 42 you are getting to the exp(x)\n",
    "    z = z+ (x**i /np.math.factorial(i))\n",
    "    plt.semilogy(x, z ) "
   ]
  },
  {
   "cell_type": "markdown",
   "metadata": {},
   "source": [
    "### Some examples of Taylor expansion actually used in Physics:\n",
    "- astrophysics: for small parallax angles  \n",
    "\n",
    "     -- $\\sin\\theta \\sim \\theta $ ; origin: $\\sin\\theta = \\theta - \\frac{\\theta^3}{3!} + \\frac{\\theta^5}{5!} - ... $\n",
    "\n",
    "- very similar to what you have probably done (without realizing?) for solving the motion of a pendulum : \n",
    "\n",
    "     -- $\\frac{d^2\\theta}{dt^2} = - \\frac{g}{l} \\sin\\theta $ --> hard to solve..."
   ]
  },
  {
   "cell_type": "markdown",
   "metadata": {},
   "source": [
    "#### -- $\\frac{d^2\\theta}{dt^2} \\sim - \\frac{g}{l} \\theta$ is easier!"
   ]
  },
  {
   "cell_type": "code",
   "execution_count": null,
   "metadata": {},
   "outputs": [],
   "source": []
  },
  {
   "cell_type": "code",
   "execution_count": null,
   "metadata": {},
   "outputs": [],
   "source": []
  },
  {
   "cell_type": "markdown",
   "metadata": {},
   "source": [
    "### of course, Taylor expansion approximation is an approximation...errors will be introduced but they can be negligible in comparison to the gain you get from speeding up your code.."
   ]
  },
  {
   "cell_type": "code",
   "execution_count": null,
   "metadata": {},
   "outputs": [],
   "source": []
  },
  {
   "cell_type": "markdown",
   "metadata": {},
   "source": [
    "### 3. Think of 2 stars A and B both at 10pc away from us. They appear to be separated by 0.1 deg. What is their real separation? Use propert trigonometry and then small angle approximation...what is faster?"
   ]
  },
  {
   "cell_type": "markdown",
   "metadata": {},
   "source": [
    "<img src=\"stars_1.png\" width=150 height=50 />"
   ]
  },
  {
   "cell_type": "code",
   "execution_count": null,
   "metadata": {},
   "outputs": [],
   "source": [
    "%%time\n",
    "#full-blown trigonometry:\n",
    "\n",
    "theta    = np.deg2rad( 0.1 )\n",
    "tantheta = np.tan( theta )\n",
    "\n",
    "#d/ 10 = tantheta\n",
    "\n",
    "d = 10. * tantheta\n",
    "\n",
    "#"
   ]
  },
  {
   "cell_type": "code",
   "execution_count": null,
   "metadata": {},
   "outputs": [],
   "source": [
    "%%time\n",
    "# use small angle approx : tantheta = theta:\n",
    "theta    = np.deg2rad( 0.1 )\n",
    "d2 = 10. * theta\n",
    "\n"
   ]
  },
  {
   "cell_type": "code",
   "execution_count": null,
   "metadata": {},
   "outputs": [],
   "source": [
    "# get relative error:\n",
    "print( (d - d2) /d ) "
   ]
  },
  {
   "cell_type": "markdown",
   "metadata": {},
   "source": [
    "### --> negligible relative error, but did save us >10$\\mu$sec; note that even if you don't add the extra step of calculating np.tan(theta) and storing it as tantheta, calculation will still be faster for approximation "
   ]
  },
  {
   "cell_type": "markdown",
   "metadata": {},
   "source": [
    "### other approximations in Physics :"
   ]
  },
  {
   "cell_type": "markdown",
   "metadata": {},
   "source": [
    "### Ap1. spring with elastic potential energy U = $\\frac{1}{2} k x^2$. What is the relative energy change if we move it by $\\delta$x? \n"
   ]
  },
  {
   "cell_type": "code",
   "execution_count": null,
   "metadata": {},
   "outputs": [],
   "source": [
    "# approximations:"
   ]
  },
  {
   "cell_type": "markdown",
   "metadata": {},
   "source": [
    "### from here on I write $\\delta$x as dx for easiness: at location x+dx: "
   ]
  },
  {
   "cell_type": "markdown",
   "metadata": {},
   "source": [
    "$U_{x+dx} = \\frac{1}{2} k (x + dx)^2 $ , so $DU = \\frac{1}{2} k (x + dx)^2 - \\frac{1}{2} k x^2$\n",
    "\n",
    "$ \\frac{DU}{U}  = \\frac{1}{2} k [ ( x + dx)^2 - x^2]  /  ( \\frac{1}{2} k x^2 ) $  ==>\n",
    "\n",
    "$ \\frac{DU}{U} =  \\frac{  2 x dx + dx ^2  } { x ^2 } $ ==>\n",
    "\n",
    "$ \\frac{DU}{U} = 2 \\frac{dx}{ x } + \\frac{dx}{x} ^2$ ; \n",
    "and $\\frac{dx}{x}$ <<1  ==> $\\frac{dx}{ x }^2$ ~ 0 ==> $\\frac{DU}{U} = 2 \\frac{dx}{ x } $\n"
   ]
  },
  {
   "cell_type": "markdown",
   "metadata": {},
   "source": [
    "### or using binomial expansion: $(1 + x)^n \\sim 1 + nx$ for $x<<1$ so:\n",
    "\n",
    "$ U + DU = \\frac{1}{2} k  ( x + dx)^2   = \\frac{1}{2} kx^2 ( 1 + \\frac{dx}{x})^2 = U ( 1 + \\frac{dx}{x}) ^2 $\n",
    "\n",
    "and $dx << x$ ==> $( 1 + \\frac{dx}{x}) ^2 \\sim ( 1 + 2 \\frac{dx}{x})$   so that :\n",
    "\n",
    "$ U + DU = U ( 1 + 2 \\frac{dx}{x} ) = U + 2 U \\frac{dx}{x}$ ==>\n",
    "\n",
    "\n",
    "$ \\frac{dU}{U} = 2 \\frac{dx}{x}$"
   ]
  },
  {
   "cell_type": "markdown",
   "metadata": {},
   "source": [
    "### Ap2. you have point charge Q at distance r1 from charge -Q. What is the potential at distance r2 from Q, where $\\overrightarrow{r2}$ is  perpendicular to $\\overrightarrow{r1}$ ?"
   ]
  },
  {
   "cell_type": "markdown",
   "metadata": {},
   "source": [
    "$V = \\frac{kQ}{r1} - \\frac{kQ}{\\sqrt{ r1^2+r2^2} }  = \\frac{kQ}{r1} * ( 1 - (1 + \\frac{r2^2}{ r1^2 })^{(-0.5 )} )$ ==>\n",
    "\n",
    "### using \n",
    "\n",
    "$(1+\\frac{a}{b})^{-0.5} = 1 -0.5 \\frac{a}{b}$ for $a<<b$\n",
    "\n",
    "$ V = \\frac{kQ}{r1} * ( 1 - ( 1 - \\frac{1}{2} \\frac{r2^2}{r1^2}) ) = kQ \\frac{r2^2}{2r1^3}$ "
   ]
  },
  {
   "cell_type": "code",
   "execution_count": null,
   "metadata": {},
   "outputs": [],
   "source": []
  },
  {
   "cell_type": "markdown",
   "metadata": {},
   "source": [
    "### a very basic multiprocessing example:\n",
    "https://docs.python.org/3/library/multiprocessing.html\n"
   ]
  },
  {
   "cell_type": "code",
   "execution_count": null,
   "metadata": {},
   "outputs": [],
   "source": [
    "def my_sin( n ) :\n",
    "    \"\"\"makes a sin function from array x; where x = np.arange( 1, 10000, n)\n",
    "    Input : n\n",
    "    Output: sin( 2* pi * x +4 ) \"\"\"\n",
    "    \n",
    "    x = np.linspace( 1, 10000, n ) \n",
    "    y = np.sin( 2 * np.pi * x )\n",
    "    \n",
    "    return y"
   ]
  },
  {
   "cell_type": "code",
   "execution_count": null,
   "metadata": {},
   "outputs": [],
   "source": [
    "import multiprocessing\n",
    "\n",
    "num_procs = multiprocessing.cpu_count()\n",
    "num_procs\n"
   ]
  },
  {
   "cell_type": "code",
   "execution_count": null,
   "metadata": {},
   "outputs": [],
   "source": [
    "%%time\n",
    "aa = my_sin( 100000 )\n",
    "qq = np.mean( aa ) "
   ]
  },
  {
   "cell_type": "code",
   "execution_count": null,
   "metadata": {},
   "outputs": [],
   "source": [
    "def sin_multiprocessing( n ):\n",
    "    \"\"\"Split the sin into num_procs pieces.\"\"\"\n",
    "    \n",
    "    m   = multiprocessing.cpu_count()\n",
    "    pool = multiprocessing.Pool( m )\n",
    "    results = pool.map(my_sin,  [int(n/m)]*m) \n",
    "    pool.close()\n",
    "    return np.mean( results )"
   ]
  },
  {
   "cell_type": "code",
   "execution_count": null,
   "metadata": {},
   "outputs": [],
   "source": [
    "%%time\n",
    "sin_multiprocessing( 100000 )\n"
   ]
  },
  {
   "cell_type": "code",
   "execution_count": null,
   "metadata": {},
   "outputs": [],
   "source": []
  },
  {
   "cell_type": "code",
   "execution_count": null,
   "metadata": {},
   "outputs": [],
   "source": [
    "%%time\n",
    "aa = my_sin( 300000000)\n",
    "qq = np.mean( aa ) \n",
    "\n",
    "# CPU times: user 4.58 s, sys: 7.64 s, total: 12.2 s\n",
    "# Wall time: 14.1 s"
   ]
  },
  {
   "cell_type": "code",
   "execution_count": null,
   "metadata": {},
   "outputs": [],
   "source": [
    "%%time\n",
    "sin_multiprocessing(300000000)\n",
    "# CPU times: user 2.87 s, sys: 5.23 s, total: 8.1 s\n",
    "# Wall time: 12.7 s"
   ]
  },
  {
   "cell_type": "code",
   "execution_count": null,
   "metadata": {},
   "outputs": [],
   "source": []
  },
  {
   "cell_type": "code",
   "execution_count": null,
   "metadata": {},
   "outputs": [],
   "source": []
  },
  {
   "cell_type": "code",
   "execution_count": null,
   "metadata": {},
   "outputs": [],
   "source": []
  },
  {
   "cell_type": "markdown",
   "metadata": {},
   "source": [
    "### 4. You have the following data:  m1 =  [1, 9, 2, 5, 7, 5]  and  m2 =  [12, 13, 3, 5, 88, -4]  where every element of m1 has a corresponding value in m2 (so 1 and 12 are related, 9 and 13 etc)\n",
    "### Sort lists m1 and m2 based on the sorting of m1 from min to max."
   ]
  },
  {
   "cell_type": "code",
   "execution_count": null,
   "metadata": {},
   "outputs": [],
   "source": [
    "m1 =  [1, 9, 2, 15, 7, 5] \n",
    "m2 =  [12, 13, 3, 5, 88, -4] "
   ]
  },
  {
   "cell_type": "code",
   "execution_count": null,
   "metadata": {},
   "outputs": [],
   "source": [
    "sr1 = sorted(m1)\n",
    "sr2 = []\n",
    "\n",
    "for i in range( 6 ):\n",
    "    a = m1.index( sr1[ i ])\n",
    "    sr2.append( m2[ a ] )\n",
    "\n",
    "print( sr1 )\n",
    "print( sr2 )"
   ]
  },
  {
   "cell_type": "code",
   "execution_count": null,
   "metadata": {},
   "outputs": [],
   "source": [
    "from more_itertools import sort_together"
   ]
  },
  {
   "cell_type": "code",
   "execution_count": null,
   "metadata": {},
   "outputs": [],
   "source": [
    "s = sort_together([m1, m2])[1]\n",
    "print(s)"
   ]
  },
  {
   "cell_type": "code",
   "execution_count": null,
   "metadata": {},
   "outputs": [],
   "source": [
    "# arrays at end will be:\n",
    "# m1 --> 1, 2, 5, 7, 9, 15\n",
    "# m1 --> 12, 3, -4, 88, 13, 5\n"
   ]
  },
  {
   "cell_type": "code",
   "execution_count": null,
   "metadata": {},
   "outputs": [],
   "source": []
  },
  {
   "cell_type": "code",
   "execution_count": null,
   "metadata": {},
   "outputs": [],
   "source": []
  },
  {
   "cell_type": "code",
   "execution_count": null,
   "metadata": {},
   "outputs": [],
   "source": []
  },
  {
   "cell_type": "markdown",
   "metadata": {},
   "source": [
    "### 5. We have numpy arrays: \n",
    "\n",
    "x = [0.25,0.5,0.75,1.,1.25,1.5,1.75,2.,2.25,2.5, 2.75,3.,3.25,3.5,3.75,4.0,4.25,4.5,4.75,5.0,5.25] \n",
    "\n",
    "y =[14.059, 19.18, 26.26,  25.95, 31.567,  44.464, 49.88,  64.016, 79.34, 93.229, 104.985, 113.425, 130.466, 150.331, 168.620, 185.888, 207.500, 225.716, 241.891, 268.802, 287.936] . \n",
    "\n",
    "### and y-error bars: \n",
    "\n",
    "sigma = [12.536, 13.601, 11.8492, 15.937, 12.6478, 13.927, 11.445, 10.224, 12.981, 10.969, 11.666, 12.060, 10.173, 10.292, 14.507, 12.195, 11.578, 9.321, 12.602, 13.03,8.6004].\n",
    "\n",
    "### - You know that the data should be fit by the model: $a x^2+b x+c$. Create arrays a1, b1 and c1 that scan the range 0 to 10, 0 to 15 and 0 to 10 respectively, with a step of 0.1 (so a1 = np.arange(0, 10, 0.1) ). For each possible combination of (a1, b1, c1) calculate the least square difference of the model to the observations. Which model is the best fit model? Print the best-fit parameters (a1, b1, c1).\n",
    "\n",
    "### - Create a function fit_my_curve(t, a, b, c) that fits a curve of the form $a x^2+b x+c$ and calculates the parameters a,b,c. Use curve_fit to fit the data. Plot y(x) with errorbars sigma, and overplot the fitted curve. Save figure using the appropriate commands and naming conventions.\n",
    "\n",
    "### - Create a function fit_my_curve_2(params, t, y) that fits a curve of the form $a x^2+b x+c$. Use leastsq to fit the data. Plot y(x) with errorbars sigma, and overplot the fitted curve. Save figure using the appropriate commands and name conventions."
   ]
  },
  {
   "cell_type": "code",
   "execution_count": null,
   "metadata": {},
   "outputs": [],
   "source": [
    "x = np.array([0.25,0.5,0.75,1.,1.25,1.5,1.75,2.,2.25,2.5, 2.75,3.,3.25,3.5,3.75,4.0,4.25,4.5,4.75,5.0,5.25] )\n",
    "y = np.array([14.059, 19.18, 26.26,  25.95, 31.567,  44.464, 49.88,  64.016, 79.34, 93.229, 104.985, 113.425, \n",
    "     130.466, 150.331, 168.620, 185.888, 207.500, 225.716, 241.891, 268.802, 287.936] )\n",
    "sigma = np.array([12.5357806 , 13.60113206, 11.84892057, 15.93705285, 12.64771554,\n",
    "        13.92678159, 11.44483822, 10.22352192, 12.9813505 , 10.96907422,\n",
    "        11.66618969, 12.0604899 , 10.17309145, 10.29161505, 14.50724923,\n",
    "        12.19490092, 11.57796134, 9.32115802, 12.60187156, 13.0297564 ,\n",
    "        8.60039528])\n"
   ]
  },
  {
   "cell_type": "code",
   "execution_count": null,
   "metadata": {},
   "outputs": [],
   "source": []
  },
  {
   "cell_type": "code",
   "execution_count": null,
   "metadata": {},
   "outputs": [],
   "source": []
  },
  {
   "cell_type": "markdown",
   "metadata": {},
   "source": [
    "### 6. White light falls on an ice crystal under angle $\\theta_1 = 60^\\circ$. Assume that the crystal was formed in a prism-like shape with $\\alpha = 70 ^\\circ$ and that the refractive index of the ice water is the same as that of ice (use H2O.refrind from demos/). Knowing that the angle of deviation for the light is given by:\n",
    "\n",
    "### $ \\mathrm{Dev} =  \\theta_1 + \\theta_2 - \\alpha $, where\n",
    "### $ \\sin (\\theta_2) = \\sin( \\alpha ) \\sqrt{ n^2 - \\sin(\\theta_1) } - \\cos(\\alpha) \\sin(\\theta_1) $ \n",
    "\n",
    "### calculate the angle of deviation for *each* wavelength from 0.3$\\mu$m to 1$\\mu$m. What do you see?"
   ]
  },
  {
   "cell_type": "code",
   "execution_count": null,
   "metadata": {},
   "outputs": [],
   "source": []
  },
  {
   "cell_type": "code",
   "execution_count": null,
   "metadata": {},
   "outputs": [],
   "source": []
  },
  {
   "cell_type": "markdown",
   "metadata": {},
   "source": [
    "### 7. Get file exoplanet_eu_catalog2.csv from demos/. These are actual data from exoplanets. Plot the mass (column 2) versus the radius (columnn 8) of the planets. Use an errorbar plot and plot both mass-error (column 3) and radius-error (column 9). Calculate the average density of the planets ( $\\rho = \\frac{M}{ V } $ ) and its error. Then plot the average density vs their orbital period (column 11 and error is column 12) with errorbars. Note that units are weird (Jupiter radius and mass) and you need to convert them to gr and cm. How do these densities compare with Earth's (5.51 g/cm$^3$) and Jupiter's (1.33 g/cm$^3$) ? Plot two horizontal lines at the densities of these two planets for comparison."
   ]
  },
  {
   "cell_type": "code",
   "execution_count": null,
   "metadata": {},
   "outputs": [],
   "source": []
  }
 ],
 "metadata": {
  "kernelspec": {
   "display_name": "Python 3 (ipykernel)",
   "language": "python",
   "name": "python3"
  },
  "language_info": {
   "codemirror_mode": {
    "name": "ipython",
    "version": 3
   },
   "file_extension": ".py",
   "mimetype": "text/x-python",
   "name": "python",
   "nbconvert_exporter": "python",
   "pygments_lexer": "ipython3",
   "version": "3.7.11"
  }
 },
 "nbformat": 4,
 "nbformat_minor": 2
}
