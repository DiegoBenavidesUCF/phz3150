{
 "cells": [
  {
   "cell_type": "code",
   "execution_count": 1,
   "id": "e3a7e1ea",
   "metadata": {},
   "outputs": [],
   "source": [
    "import numpy as np\n",
    "import matplotlib.pyplot as plt"
   ]
  },
  {
   "cell_type": "code",
   "execution_count": null,
   "id": "c82e03be",
   "metadata": {},
   "outputs": [],
   "source": []
  },
  {
   "cell_type": "code",
   "execution_count": null,
   "id": "d804e18c",
   "metadata": {},
   "outputs": [],
   "source": []
  },
  {
   "cell_type": "code",
   "execution_count": null,
   "id": "652ac7b0",
   "metadata": {},
   "outputs": [],
   "source": []
  },
  {
   "cell_type": "markdown",
   "id": "84b81272",
   "metadata": {},
   "source": [
    "# Error propagation"
   ]
  },
  {
   "cell_type": "markdown",
   "id": "3d8a3227",
   "metadata": {},
   "source": [
    "### Quantities you measure have errors. How do you calculate the error of a quantity that is a combination of different measurements?  --> error propagation"
   ]
  },
  {
   "cell_type": "markdown",
   "id": "c71c3eb5",
   "metadata": {},
   "source": [
    "### Assume you have observations y and x with errorbars yerr and xerr as here:"
   ]
  },
  {
   "cell_type": "code",
   "execution_count": null,
   "id": "18967ef5",
   "metadata": {},
   "outputs": [],
   "source": [
    "#define your parameters X and Y\n",
    "x = np.linspace(1,100,400)\n",
    "y = np.linspace(4,20,400)**.5\n",
    "\n",
    "#define some random errorbars for your X and Y\n",
    "x_err = np.random.random(len(x))*.5\n",
    "y_err = np.random.random(len(y))*1.5\n"
   ]
  },
  {
   "cell_type": "code",
   "execution_count": null,
   "id": "7b856f75",
   "metadata": {},
   "outputs": [],
   "source": [
    "#Let's see what we \"observed\":\n",
    "plt.figure( figsize = ( 12, 8) )\n",
    "plt.errorbar(x,y, xerr=x_err, yerr= y_err ,linestyle='none',marker='d')\n",
    "plt.xlabel('X',fontsize = 30)\n",
    "plt.ylabel('Y', fontsize = 30)\n",
    "plt.xticks(fontsize = 30)\n",
    "plt.yticks(fontsize = 30)"
   ]
  },
  {
   "cell_type": "markdown",
   "id": "411ad44b",
   "metadata": {},
   "source": [
    "### Now assume that y and x are connected in a physical law with a quantity f like f = x * y (e.g., y could be the mass of a body, x its acceleration and f the force applied on the body). "
   ]
  },
  {
   "cell_type": "markdown",
   "id": "77595d18",
   "metadata": {},
   "source": [
    "### Calculate f and plot f(x):"
   ]
  },
  {
   "cell_type": "code",
   "execution_count": null,
   "id": "3fc9b9ed",
   "metadata": {},
   "outputs": [],
   "source": [
    "f = x *y\n",
    "\n",
    "plt.figure( figsize = ( 12, 8 ) )\n",
    "plt.errorbar(x,f, xerr=x_err ,linestyle='none',marker='d')\n",
    "plt.xlabel('X',fontsize = 30)\n",
    "plt.ylabel('f = x* y', fontsize = 30)\n",
    "plt.xticks(fontsize = 30)\n",
    "plt.yticks(fontsize = 30)"
   ]
  },
  {
   "cell_type": "markdown",
   "id": "f77ce78e",
   "metadata": {},
   "source": [
    "### What is the error that I should assign to f? I know the error of x and y and I know how x and y give me f..."
   ]
  },
  {
   "cell_type": "markdown",
   "id": "c0bf8698",
   "metadata": {},
   "source": [
    "### Assuming you have measured x and y with errors $\\delta$x and $\\delta$y that are INDEPENDENT of each other, the error of $f = f(x, y )$ is given by:\n",
    "\n",
    "### $\\delta f = \\sqrt{ (\\frac{\\partial f(x,y)}{\\partial x} \\delta x)^2 + (\\frac{\\partial f(x,y)}{\\partial y} \\delta y)^2 }$\n"
   ]
  },
  {
   "cell_type": "markdown",
   "id": "b3834cc7",
   "metadata": {},
   "source": [
    "#### If you don't know what $\\frac{\\partial f(x,y)}{\\partial x}$ means it is $\\sim \\frac{df(y)}{dx}$, so for the error propagation example here assume that f(x,y) is \n",
    "- $f_y(x)$ and do the differentiation of f over x ignoring its y dependence; and\n",
    "- $f_x(y)$ and do the differentiation of f over y ignoring its x dependence\n"
   ]
  },
  {
   "cell_type": "markdown",
   "id": "490e4991",
   "metadata": {},
   "source": [
    "#### with $f = x * y $ we would get $\\frac{\\partial f(x,y)}{\\partial x} = y $ and $\\frac{\\partial f(x,y)}{\\partial y} = x $ so: $f_{err} = \\sqrt{ (y*\\delta x)^2 + (x* \\delta y)^2 )}$\n",
    " "
   ]
  },
  {
   "cell_type": "code",
   "execution_count": null,
   "id": "a36d3792",
   "metadata": {},
   "outputs": [],
   "source": [
    "f_err = np.sqrt( (y*x_err)**2 + (x*y_err)**2 )\n",
    "\n",
    "\n",
    "plt.figure( figsize = ( 12, 8 ) )\n",
    "plt.errorbar(x,f, xerr=x_err, yerr = f_err, linestyle='none',marker='d')\n",
    "plt.xlabel('X',fontsize = 30)\n",
    "plt.ylabel('f = x* y', fontsize = 30)\n",
    "plt.xticks(fontsize = 30)\n",
    "plt.yticks(fontsize = 30)"
   ]
  },
  {
   "cell_type": "markdown",
   "id": "c3320388",
   "metadata": {},
   "source": [
    "### Let's try a function: $f = \\frac{x }{ y^2 }$"
   ]
  },
  {
   "cell_type": "code",
   "execution_count": null,
   "id": "035c79ae",
   "metadata": {},
   "outputs": [],
   "source": [
    "f = x/ y**2"
   ]
  },
  {
   "cell_type": "markdown",
   "id": "c087912f",
   "metadata": {},
   "source": [
    "### Use error propagation to get $\\delta f$"
   ]
  },
  {
   "cell_type": "markdown",
   "id": "304aeb2f",
   "metadata": {},
   "source": [
    "#### $\\frac{\\partial f(x,y)}{\\partial x} = ?? $\n",
    "\n",
    "#### $\\frac{\\partial f(x,y)}{\\partial y} = ?? $"
   ]
  },
  {
   "cell_type": "code",
   "execution_count": null,
   "id": "1e64fea6",
   "metadata": {},
   "outputs": [],
   "source": [
    "#f_err = \n"
   ]
  },
  {
   "cell_type": "code",
   "execution_count": null,
   "id": "f4d3029f",
   "metadata": {},
   "outputs": [],
   "source": [
    "#Let's see what we got in a plot :\n",
    "\n",
    "plt.figure( figsize = ( 12, 8) )\n",
    "\n",
    "plt.errorbar(x, f, xerr = x_err, yerr= f_err ,linestyle='none',marker='d')\n",
    "plt.xlabel('X',fontsize = 30)\n",
    "plt.ylabel('f = x/ y$^2$', fontsize = 30)\n",
    "plt.yscale('log')\n",
    "plt.xticks(fontsize = 30)\n",
    "plt.yticks(fontsize = 30)\n"
   ]
  },
  {
   "cell_type": "markdown",
   "id": "c98348f0",
   "metadata": {},
   "source": [
    "### Let's try a function: $f = \\cos(x) *\\sin(\\frac{y}{4})$"
   ]
  },
  {
   "cell_type": "code",
   "execution_count": null,
   "id": "0cc24e6b",
   "metadata": {},
   "outputs": [],
   "source": [
    "#use error propagation to calculate the error in f:\n",
    "\n",
    "f = np.cos(x) * np.sin(y/4.)\n",
    "\n",
    "# df/dx = ?\n",
    "# df/ dy = ?"
   ]
  },
  {
   "cell_type": "code",
   "execution_count": null,
   "id": "f9de42a2",
   "metadata": {},
   "outputs": [],
   "source": [
    "dfdx = \n",
    "dfdy = \n",
    "f_err = np.sqrt( (dfdx * x_err) **2 + (dfdy *y_err) ** 2 )\n",
    "\n"
   ]
  },
  {
   "cell_type": "code",
   "execution_count": null,
   "id": "288bd543",
   "metadata": {},
   "outputs": [],
   "source": [
    "\n",
    "#Let's see what we got :\n",
    "plt.figure( figsize = ( 12, 8 ) )\n",
    "plt.errorbar( x, f, xerr = x_err, yerr = f_err ,linestyle='none',marker='d')\n",
    "plt.xlabel('X',fontsize = 30)\n",
    "plt.ylabel(r'f = cos(x) *sin($ \\frac{y}{4}$ )', fontsize = 30)\n",
    "plt.xticks(fontsize = 30)\n",
    "plt.yticks(fontsize = 30)\n",
    "plt.ylim( -1, 1)"
   ]
  },
  {
   "cell_type": "code",
   "execution_count": null,
   "id": "0bafed69",
   "metadata": {},
   "outputs": [],
   "source": []
  },
  {
   "cell_type": "markdown",
   "id": "0a1e2656",
   "metadata": {},
   "source": [
    "### Let's try a function: $f = e^x  * \\ln(y^2)$"
   ]
  },
  {
   "cell_type": "code",
   "execution_count": null,
   "id": "a62bea7c",
   "metadata": {},
   "outputs": [],
   "source": [
    "# get f:\n",
    "\n",
    "f = np.exp(x) * np.log(y**2)"
   ]
  },
  {
   "cell_type": "code",
   "execution_count": null,
   "id": "4a96951e",
   "metadata": {},
   "outputs": [],
   "source": [
    "## what is df/dx?\n",
    "## what is df/dy?"
   ]
  },
  {
   "cell_type": "code",
   "execution_count": null,
   "id": "404bf105",
   "metadata": {},
   "outputs": [],
   "source": [
    "# get df:\n",
    "\n",
    "dfdx = \n",
    "dfdy = \n",
    "\n",
    "f_err = np.sqrt( ( dfdx * x_err ) ** 2 + ( dfdy *y_err )**2 )\n",
    "\n"
   ]
  },
  {
   "cell_type": "code",
   "execution_count": null,
   "id": "1b8ce3ab",
   "metadata": {},
   "outputs": [],
   "source": [
    "\n",
    "#Let's see what we plotted:\n",
    "plt.figure( figsize = (12, 8) )\n",
    "plt.errorbar( x, f, xerr=x_err, yerr = f_err ,linestyle='none',marker='d')\n",
    "plt.xlabel('X',fontsize = 30)\n",
    "plt.ylabel('f = e$^x$ *ln(y$^2$)', fontsize = 30)\n",
    "plt.xlim( 90, 100)\n",
    "plt.xticks(fontsize = 30)\n",
    "plt.yticks(fontsize = 30)\n"
   ]
  },
  {
   "cell_type": "code",
   "execution_count": null,
   "id": "13870331",
   "metadata": {},
   "outputs": [],
   "source": []
  },
  {
   "cell_type": "code",
   "execution_count": null,
   "id": "34082239",
   "metadata": {},
   "outputs": [],
   "source": []
  },
  {
   "cell_type": "markdown",
   "id": "1cd859b3",
   "metadata": {},
   "source": [
    "## Practicum"
   ]
  },
  {
   "cell_type": "markdown",
   "id": "b4f10d5b",
   "metadata": {},
   "source": [
    "### 1. You know that the radius of the Earth is 6,356 km. Assume its mantle and core cause a negligible refraction to seismic p waves. A seismic p-wave travels at 5.6km/ s and hits place A at 10: 00: 09 and place B on the other side of the Earth at 10: 37: 40. What was the depth of the epicenter?\n",
    "\n",
    "<img src=\"earthquake.png\" width=350 height=350 />"
   ]
  },
  {
   "cell_type": "code",
   "execution_count": null,
   "id": "6e5a2cdd",
   "metadata": {},
   "outputs": [],
   "source": []
  },
  {
   "cell_type": "code",
   "execution_count": null,
   "id": "fbd56c89",
   "metadata": {},
   "outputs": [],
   "source": []
  },
  {
   "cell_type": "markdown",
   "id": "29c56f8e",
   "metadata": {},
   "source": [
    "### 2.  You are given arrays with observations x and y, and the corresponding error in the measurement x_err and y_err. What are the corresponding values and error-bars for quantity $f(x,y) = x* \\sin( y ) + \\sqrt[3]{x} $ ? "
   ]
  },
  {
   "cell_type": "code",
   "execution_count": null,
   "id": "7751cdb4",
   "metadata": {},
   "outputs": [],
   "source": [
    "x = np.array( [ 42.3, 12.5, 44,6, 18.3, 15.7, 82.1, 65.4, 75.6, 53.2, 22.3, 35., 55.2, 56.4, 80.2, 86., 68.  ] )\n",
    "x_err = np.array([2.81375368, 0.08540501, 1.87199234, 0.34497076, 0.29795455, 0.78227453, 0.15090837, 2.8244208 , \n",
    "                 6.16508509, 3.33874134, 1.29143933, 1.62802492, 4.23052681, 3.42807668, 2.87669011, 2.55536329, \n",
    "                 3.04274511])\n",
    "\n",
    "y = np.array([19.19384502,  7.28553391, 19.83324958,  4.24948974,  9.76784993, 8.67232255, 33.69090503, 27.70702665, \n",
    "              31.37482605, 23.25383301, 11.41228758, 16.41607978, 23.98967025, 24.42999334, 33.01544527, 35.0736185 ,\n",
    "              28.64621125])\n",
    "y_err = np.array([0.26509302, 0.0134772 , 0.41862496, 0.03052536, 0.02950779, 0.33969798, 1.54278188, 0.27892291, \n",
    "                 0.80318125, 0.46434622, 0.51352369, 0.65397114, 1.04427   , 0.91616869, 0.63403263, 1.00469923,\n",
    "                 0.67141604])"
   ]
  },
  {
   "cell_type": "code",
   "execution_count": null,
   "id": "b3d17456",
   "metadata": {},
   "outputs": [],
   "source": []
  },
  {
   "cell_type": "code",
   "execution_count": null,
   "id": "f759702a",
   "metadata": {},
   "outputs": [],
   "source": []
  },
  {
   "cell_type": "markdown",
   "id": "748f0f49",
   "metadata": {},
   "source": [
    "### 3. Is this a sine or cosine function?"
   ]
  },
  {
   "cell_type": "code",
   "execution_count": null,
   "id": "c3dbaf22",
   "metadata": {},
   "outputs": [],
   "source": [
    "\n",
    "\n",
    "tw = np.arange(1,40,1)\n",
    "w  = np.array( [ 2.73155223e+00 , 3.17368658e+00 , 2.08082264e+00,  7.08391866e-01,\n",
    " -1.02196616e-01, -3.66845259e-01, -7.47889353e-01,  8.52096473e-01,\n",
    "  2.13320321e+00,  2.73754612e+00,  2.36456758e+00,  1.66566340e+00,\n",
    " -6.78664125e-01, -1.12492492e-01, -1.92925580e-01,  1.59608994e+00,\n",
    "  2.94364482e+00,  2.39214715e+00,  2.42116101e+00,  7.49597754e-01,\n",
    " -1.26025273e+00, -6.33402949e-01,  8.56344418e-02 , 1.84353600e+00,\n",
    "  2.47992405e+00,  2.76758273e+00,  3.01939636e+00,  4.81326171e-01,\n",
    " -1.12837078e+00, -3.75890761e-02, -1.33917103e+00,  3.20806668e-01,\n",
    "  1.83529070e+00,  2.03098421e+00,  2.33727279e+00,  2.72209809e-03,\n",
    " -6.47557862e-01, -4.87585375e-01, -3.13698707e-01] )\n",
    "\n",
    "sigma = np.zeros( len( tw )) + 0.8"
   ]
  },
  {
   "cell_type": "code",
   "execution_count": null,
   "id": "5ce64fdf",
   "metadata": {},
   "outputs": [],
   "source": []
  },
  {
   "cell_type": "code",
   "execution_count": null,
   "id": "dd0e3be4",
   "metadata": {},
   "outputs": [],
   "source": []
  },
  {
   "cell_type": "markdown",
   "id": "39e4a17d",
   "metadata": {},
   "source": [
    "### 4. We have numpy arrays: \n",
    "\n",
    "x = [0.25,0.5,0.75,1.,1.25,1.5,1.75,2.,2.25,2.5, 2.75,3.,3.25,3.5,3.75,4.0,4.25,4.5,4.75,5.0,5.25] \n",
    "\n",
    "y =[14.059, 19.18, 26.26,  25.95, 31.567,  44.464, 49.88,  64.016, 79.34, 93.229, 104.985, 113.425, 130.466, 150.331, 168.620, 185.888, 207.500, 225.716, 241.891, 268.802, 287.936] . \n",
    "\n",
    "### and y-error bars: \n",
    "\n",
    "sigma = [12.536, 13.601, 11.8492, 15.937, 12.6478, 13.927, 11.445, 10.224, 12.981, 10.969, 11.666, 12.060, 10.173, 10.292, 14.507, 12.195, 11.578, 9.321, 12.602, 13.03,8.6004].\n",
    "\n",
    "### - You know that the data should be fit by the model: $a x^2+b x+c$. Create arrays a1, b1 and c1 that scan the range 0 to 10, 0 to 15 and 0 to 10 respectively, with a step of 0.1 (so a1 = np.arange(0, 10, 0.1) ). For each possible combination of (a1, b1, c1) calculate the least square difference of the model to the observations. Which model is the best fit model? Print the best-fit parameters (a1, b1, c1).\n",
    "\n",
    "### - Create a function fit_my_curve(t, a, b, c) that fits a curve of the form $a x^2+b x+c$ and calculates the parameters a,b,c. Use curve_fit to fit the data. Plot y(x) with errorbars sigma, and overplot the fitted curve. Save figure using the appropriate commands and naming conventions.\n",
    "\n",
    "### - Create a function fit_my_curve_2(params, t, y) that fits a curve of the form $a x^2+b x+c$. Use leastsq to fit the data. Plot y(x) with errorbars sigma, and overplot the fitted curve. Save figure using the appropriate commands and name conventions."
   ]
  },
  {
   "cell_type": "code",
   "execution_count": null,
   "id": "0311ae50",
   "metadata": {},
   "outputs": [],
   "source": [
    "x = np.array([0.25,0.5,0.75,1.,1.25,1.5,1.75,2.,2.25,2.5, 2.75,3.,3.25,3.5,3.75,4.0,4.25,4.5,4.75,5.0,5.25] )\n",
    "y = np.array([14.059, 19.18, 26.26,  25.95, 31.567,  44.464, 49.88,  64.016, 79.34, 93.229, 104.985, 113.425, \n",
    "     130.466, 150.331, 168.620, 185.888, 207.500, 225.716, 241.891, 268.802, 287.936] )\n",
    "sigma = np.array([12.5357806 , 13.60113206, 11.84892057, 15.93705285, 12.64771554,\n",
    "        13.92678159, 11.44483822, 10.22352192, 12.9813505 , 10.96907422,\n",
    "        11.66618969, 12.0604899 , 10.17309145, 10.29161505, 14.50724923,\n",
    "        12.19490092, 11.57796134, 9.32115802, 12.60187156, 13.0297564 ,\n",
    "        8.60039528])\n"
   ]
  },
  {
   "cell_type": "code",
   "execution_count": null,
   "id": "06310cdc",
   "metadata": {},
   "outputs": [],
   "source": [
    "# do it brute-force first for y = a* x^2+b * x+c\n",
    "\n"
   ]
  },
  {
   "cell_type": "code",
   "execution_count": null,
   "id": "671337d5",
   "metadata": {},
   "outputs": [],
   "source": []
  },
  {
   "cell_type": "code",
   "execution_count": null,
   "id": "92ce5797",
   "metadata": {},
   "outputs": [],
   "source": []
  },
  {
   "cell_type": "code",
   "execution_count": null,
   "id": "fab41fcf",
   "metadata": {},
   "outputs": [],
   "source": [
    "# use fcurve_fit\n",
    "\n"
   ]
  },
  {
   "cell_type": "code",
   "execution_count": null,
   "id": "bd4a5a4c",
   "metadata": {},
   "outputs": [],
   "source": []
  },
  {
   "cell_type": "code",
   "execution_count": null,
   "id": "44e82ef5",
   "metadata": {},
   "outputs": [],
   "source": [
    "#try leastsq: \n",
    "from scipy.optimize import leastsq\n",
    "\n"
   ]
  },
  {
   "cell_type": "code",
   "execution_count": null,
   "id": "63ce0f0a",
   "metadata": {},
   "outputs": [],
   "source": []
  },
  {
   "cell_type": "code",
   "execution_count": null,
   "id": "2744e70e",
   "metadata": {},
   "outputs": [],
   "source": []
  },
  {
   "cell_type": "code",
   "execution_count": null,
   "id": "5cbd4633",
   "metadata": {},
   "outputs": [],
   "source": []
  },
  {
   "cell_type": "markdown",
   "id": "8ef0149e",
   "metadata": {},
   "source": [
    "### 5. Let's create a Python code that mimics unix commands 'cat', 'head -N' and 'wc'. For this problem you need to use file 'random_text.txt' from a previous demo. First let's refresh our minds about what these commands do....Then try to code a Python program that mimics these commands."
   ]
  },
  {
   "cell_type": "code",
   "execution_count": null,
   "id": "bf6c5a47",
   "metadata": {},
   "outputs": [],
   "source": [
    "# cat: concatinates the file -- shows you the whole text. How do we code this in Python?\n",
    "\n"
   ]
  },
  {
   "cell_type": "code",
   "execution_count": null,
   "id": "877c7914",
   "metadata": {},
   "outputs": [],
   "source": [
    "# head -N gives you the N first lines of the file. How do we code this in Python?\n"
   ]
  },
  {
   "cell_type": "code",
   "execution_count": null,
   "id": "22a7af58",
   "metadata": {},
   "outputs": [],
   "source": [
    "# wc does a line, word and character count. How do we code this in Python?\n",
    "\n"
   ]
  },
  {
   "cell_type": "code",
   "execution_count": null,
   "id": "a8f644e2",
   "metadata": {},
   "outputs": [],
   "source": []
  },
  {
   "cell_type": "markdown",
   "id": "3e4523cf",
   "metadata": {},
   "source": [
    "### 6. Get file exoplanet_eu_catalog2.csv from demos/. These are actual data from exoplanets. Plot the mass (column 2) versus the radius (columnn 8) of the planets. Use an errorbar plot and plot both mass-error (column 3) and radius-error (column 9). Calculate the average density of the planets ( $\\rho = \\frac{M}{ V } $ ) and its error. Then plot the average density vs their orbital period (column 11 and error is column 12) with errorbars. Note that units are weird (Jupiter radius and mass) and you need to convert them to gr and cm. How do these densities compare with Earth's (5.51 g/cm$^3$) and Jupiter's (1.33 g/cm$^3$) ? Plot two horizontal lines at the densities of these two planets for comparison."
   ]
  },
  {
   "cell_type": "code",
   "execution_count": null,
   "id": "92fa038d",
   "metadata": {},
   "outputs": [],
   "source": []
  },
  {
   "cell_type": "code",
   "execution_count": null,
   "id": "1cf4a5b1",
   "metadata": {},
   "outputs": [],
   "source": []
  },
  {
   "cell_type": "code",
   "execution_count": null,
   "id": "77caf884",
   "metadata": {},
   "outputs": [],
   "source": [
    "c1 = 6991100000 #Jupiter radius in centimeters\n",
    "c2 = 1.898e30   #Jupiter mass in grams\n",
    "\n"
   ]
  },
  {
   "cell_type": "code",
   "execution_count": null,
   "id": "a6e14581",
   "metadata": {},
   "outputs": [],
   "source": []
  },
  {
   "cell_type": "code",
   "execution_count": null,
   "id": "3c051119",
   "metadata": {},
   "outputs": [],
   "source": []
  },
  {
   "cell_type": "markdown",
   "id": "92c2cf82",
   "metadata": {},
   "source": [
    "### 7. White light falls on an ice crystal under angle $\\theta_1 = 60^\\circ$. Assume that the crystal was formed in a prism-like shape with $\\alpha = 70 ^\\circ$ and that the refractive index of the ice water is the same as that of ice (use H2O.refrind from demos/). Knowing that the angle of deviation for the light is given by:\n",
    "\n",
    "### $ \\mathrm{Dev} =  \\theta_1 + \\theta_2 - \\alpha $, where\n",
    "### $ \\sin (\\theta_2) = \\sin( \\alpha ) \\sqrt{ n^2 - \\sin(\\theta_1) } - \\cos(\\alpha) \\sin(\\theta_1) $ \n",
    "\n",
    "### calculate the angle of deviation for *each* wavelength from 0.3$\\mu$m to 1$\\mu$m. What do you see?"
   ]
  },
  {
   "cell_type": "code",
   "execution_count": null,
   "id": "fef185c7",
   "metadata": {},
   "outputs": [],
   "source": []
  },
  {
   "cell_type": "code",
   "execution_count": null,
   "id": "6e412fdd",
   "metadata": {},
   "outputs": [],
   "source": []
  },
  {
   "cell_type": "code",
   "execution_count": null,
   "id": "42a1fc26",
   "metadata": {},
   "outputs": [],
   "source": []
  },
  {
   "cell_type": "code",
   "execution_count": null,
   "id": "7175b568",
   "metadata": {},
   "outputs": [],
   "source": []
  },
  {
   "cell_type": "code",
   "execution_count": null,
   "id": "22cc9d37",
   "metadata": {},
   "outputs": [],
   "source": []
  },
  {
   "cell_type": "code",
   "execution_count": null,
   "id": "fe889b7d",
   "metadata": {},
   "outputs": [],
   "source": []
  },
  {
   "cell_type": "code",
   "execution_count": null,
   "id": "06772776",
   "metadata": {},
   "outputs": [],
   "source": []
  }
 ],
 "metadata": {
  "kernelspec": {
   "display_name": "Python 3 (ipykernel)",
   "language": "python",
   "name": "python3"
  },
  "language_info": {
   "codemirror_mode": {
    "name": "ipython",
    "version": 3
   },
   "file_extension": ".py",
   "mimetype": "text/x-python",
   "name": "python",
   "nbconvert_exporter": "python",
   "pygments_lexer": "ipython3",
   "version": "3.7.11"
  }
 },
 "nbformat": 4,
 "nbformat_minor": 5
}
