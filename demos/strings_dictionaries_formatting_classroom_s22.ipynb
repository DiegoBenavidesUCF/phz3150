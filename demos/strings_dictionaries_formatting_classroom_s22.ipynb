{
 "cells": [
  {
   "cell_type": "markdown",
   "metadata": {},
   "source": [
    "# Strings, dictionaries & formating"
   ]
  },
  {
   "cell_type": "code",
   "execution_count": 1,
   "metadata": {},
   "outputs": [],
   "source": [
    "## Spring 2022 -  2.10.2022"
   ]
  },
  {
   "cell_type": "code",
   "execution_count": 2,
   "metadata": {},
   "outputs": [],
   "source": [
    "#first lets do the appropriate imports:\n",
    "\n",
    "import numpy as np\n",
    "import matplotlib.pyplot as plt"
   ]
  },
  {
   "cell_type": "markdown",
   "metadata": {},
   "source": [
    "## Strings in Python"
   ]
  },
  {
   "cell_type": "markdown",
   "metadata": {},
   "source": [
    "### Strings are sequences of values. Like tuples they are immutable, but you can slice them, access parts of them in a sequence, use them in a traversal."
   ]
  },
  {
   "cell_type": "code",
   "execution_count": 3,
   "metadata": {},
   "outputs": [],
   "source": [
    "my_first_string = 'Hello World!'"
   ]
  },
  {
   "cell_type": "markdown",
   "metadata": {},
   "source": [
    "### you can get the length of the full string with len():"
   ]
  },
  {
   "cell_type": "code",
   "execution_count": 4,
   "metadata": {},
   "outputs": [
    {
     "name": "stdout",
     "output_type": "stream",
     "text": [
      "12\n"
     ]
    }
   ],
   "source": [
    "print( len( my_first_string ) )"
   ]
  },
  {
   "cell_type": "markdown",
   "metadata": {},
   "source": [
    "### You can access elements of the string and slice a string:"
   ]
  },
  {
   "cell_type": "code",
   "execution_count": 5,
   "metadata": {},
   "outputs": [
    {
     "name": "stdout",
     "output_type": "stream",
     "text": [
      "ll\n"
     ]
    }
   ],
   "source": [
    "print( my_first_string [ 2 : 4 ] )"
   ]
  },
  {
   "cell_type": "code",
   "execution_count": 6,
   "metadata": {},
   "outputs": [
    {
     "name": "stdout",
     "output_type": "stream",
     "text": [
      "W\n"
     ]
    }
   ],
   "source": [
    "print( my_first_string[ 6 ] )"
   ]
  },
  {
   "cell_type": "markdown",
   "metadata": {},
   "source": [
    "### You can even use for and while loops (see next week) to access a string element by element (traversal) and do something with it:"
   ]
  },
  {
   "cell_type": "code",
   "execution_count": 7,
   "metadata": {},
   "outputs": [
    {
     "name": "stdout",
     "output_type": "stream",
     "text": [
      "H\n",
      "e\n",
      "l\n",
      "l\n",
      "o\n",
      " \n",
      "W\n",
      "o\n",
      "r\n",
      "l\n",
      "d\n",
      "!\n"
     ]
    }
   ],
   "source": [
    "for i in my_first_string:\n",
    "    print ( i )"
   ]
  },
  {
   "cell_type": "markdown",
   "metadata": {},
   "source": [
    "### but strings are immutable:"
   ]
  },
  {
   "cell_type": "code",
   "execution_count": 8,
   "metadata": {},
   "outputs": [
    {
     "ename": "TypeError",
     "evalue": "'str' object does not support item assignment",
     "output_type": "error",
     "traceback": [
      "\u001b[1;31m---------------------------------------------------------------------------\u001b[0m",
      "\u001b[1;31mTypeError\u001b[0m                                 Traceback (most recent call last)",
      "\u001b[1;32m<ipython-input-8-b378ceedad12>\u001b[0m in \u001b[0;36m<module>\u001b[1;34m\u001b[0m\n\u001b[1;32m----> 1\u001b[1;33m \u001b[0mmy_first_string\u001b[0m\u001b[1;33m[\u001b[0m\u001b[1;36m0\u001b[0m\u001b[1;33m]\u001b[0m \u001b[1;33m=\u001b[0m \u001b[1;34m'M'\u001b[0m\u001b[1;33m\u001b[0m\u001b[1;33m\u001b[0m\u001b[0m\n\u001b[0m",
      "\u001b[1;31mTypeError\u001b[0m: 'str' object does not support item assignment"
     ]
    }
   ],
   "source": [
    "my_first_string[0] = 'M'\n"
   ]
  },
  {
   "cell_type": "markdown",
   "metadata": {},
   "source": [
    "### to change it you would need (like with tuples) to make a new one:"
   ]
  },
  {
   "cell_type": "code",
   "execution_count": 9,
   "metadata": {},
   "outputs": [
    {
     "name": "stdout",
     "output_type": "stream",
     "text": [
      "2368615930800\n"
     ]
    }
   ],
   "source": [
    "print( id( my_first_string ) )"
   ]
  },
  {
   "cell_type": "code",
   "execution_count": 12,
   "metadata": {},
   "outputs": [],
   "source": [
    "my_muted_first_string = 'M' + my_first_string[ 1 : ] # this last part only adds the string past 'H'"
   ]
  },
  {
   "cell_type": "code",
   "execution_count": 13,
   "metadata": {},
   "outputs": [
    {
     "name": "stdout",
     "output_type": "stream",
     "text": [
      "Mello World!\n"
     ]
    }
   ],
   "source": [
    "print( my_muted_first_string )"
   ]
  },
  {
   "cell_type": "code",
   "execution_count": 14,
   "metadata": {},
   "outputs": [
    {
     "name": "stdout",
     "output_type": "stream",
     "text": [
      "2368626666352\n"
     ]
    }
   ],
   "source": [
    "print( id( my_muted_first_string ) )"
   ]
  },
  {
   "cell_type": "code",
   "execution_count": 16,
   "metadata": {},
   "outputs": [
    {
     "name": "stdout",
     "output_type": "stream",
     "text": [
      "Hello World!\n"
     ]
    }
   ],
   "source": [
    "print(my_first_string) # doesnt change"
   ]
  },
  {
   "cell_type": "markdown",
   "metadata": {},
   "source": [
    "### if the name change triggered you, it is not the problem/ reason why the id changed; try it with the same name as well"
   ]
  },
  {
   "cell_type": "code",
   "execution_count": 17,
   "metadata": {},
   "outputs": [
    {
     "name": "stdout",
     "output_type": "stream",
     "text": [
      "Mello World!\n",
      "2368617941232\n"
     ]
    }
   ],
   "source": [
    "my_first_string = 'M' + my_first_string[ 1 : ]\n",
    "\n",
    "print( my_first_string       )\n",
    "print( id( my_first_string ) )"
   ]
  },
  {
   "cell_type": "code",
   "execution_count": 18,
   "metadata": {},
   "outputs": [],
   "source": [
    "#let's put the string back to normal:\n",
    "\n",
    "my_first_string = 'Hello World!'"
   ]
  },
  {
   "cell_type": "markdown",
   "metadata": {},
   "source": [
    "### Python offers tools to work with strings like: *string_name.find( letter_you_want )*\n"
   ]
  },
  {
   "cell_type": "code",
   "execution_count": 19,
   "metadata": {},
   "outputs": [
    {
     "name": "stdout",
     "output_type": "stream",
     "text": [
      "2\n"
     ]
    }
   ],
   "source": [
    "# test:\n",
    "print( my_first_string.find( 'l' ) )\n",
    "\n",
    "\n",
    "#this returns the location index on the string and if there is a repeat it only finds the first occurance of the thing\n",
    "#you are trying to find."
   ]
  },
  {
   "cell_type": "code",
   "execution_count": 22,
   "metadata": {},
   "outputs": [
    {
     "name": "stdout",
     "output_type": "stream",
     "text": [
      "4\n"
     ]
    }
   ],
   "source": [
    "# then :\n",
    "print( my_first_string.find( 'o' ) )"
   ]
  },
  {
   "cell_type": "code",
   "execution_count": 23,
   "metadata": {},
   "outputs": [
    {
     "name": "stdout",
     "output_type": "stream",
     "text": [
      "-1\n"
     ]
    }
   ],
   "source": [
    "# or :\n",
    "print( my_first_string.find( 'q' ) )"
   ]
  },
  {
   "cell_type": "markdown",
   "metadata": {},
   "source": [
    "### can you guess what it does?"
   ]
  },
  {
   "cell_type": "code",
   "execution_count": 24,
   "metadata": {},
   "outputs": [
    {
     "name": "stdout",
     "output_type": "stream",
     "text": [
      "-1\n",
      "1\n",
      "5\n"
     ]
    }
   ],
   "source": [
    "#another example if above not obvious:\n",
    "\n",
    "#the .find() is case sensative\n",
    "wrd = 'spring'\n",
    "\n",
    "print( wrd.find( 'S' ) )\n",
    "print( wrd.find( 'p' ) )\n",
    "print( wrd.find( 'g' ) )\n"
   ]
  },
  {
   "cell_type": "code",
   "execution_count": null,
   "metadata": {},
   "outputs": [],
   "source": []
  },
  {
   "cell_type": "code",
   "execution_count": null,
   "metadata": {},
   "outputs": [],
   "source": []
  },
  {
   "cell_type": "markdown",
   "metadata": {},
   "source": [
    "### another function you can see: count()"
   ]
  },
  {
   "cell_type": "code",
   "execution_count": 25,
   "metadata": {},
   "outputs": [
    {
     "name": "stdout",
     "output_type": "stream",
     "text": [
      "1\n",
      "2\n",
      "3\n",
      "1\n"
     ]
    }
   ],
   "source": [
    "word_tst = 'Hello World'\n",
    "\n",
    "print( word_tst.count( 'H' ) )\n",
    "print( word_tst.count( 'o' ) )\n",
    "print( word_tst.count( 'l' ) )\n",
    "print( word_tst.count( 'd' ) )\n",
    "\n",
    "#counts the occurences of the letters in string.\n"
   ]
  },
  {
   "cell_type": "code",
   "execution_count": 27,
   "metadata": {},
   "outputs": [
    {
     "name": "stdout",
     "output_type": "stream",
     "text": [
      "0\n"
     ]
    }
   ],
   "source": [
    "print( word_tst.count( 'h' ) ) \n",
    "\n",
    "#also case sensative"
   ]
  },
  {
   "cell_type": "markdown",
   "metadata": {},
   "source": [
    "### Can you guess what .count does?"
   ]
  },
  {
   "cell_type": "markdown",
   "metadata": {},
   "source": [
    "### if you need to read *all* letters w/o caring for upper/lower cases you could:"
   ]
  },
  {
   "cell_type": "code",
   "execution_count": 28,
   "metadata": {},
   "outputs": [
    {
     "name": "stdout",
     "output_type": "stream",
     "text": [
      "2\n",
      "2\n"
     ]
    }
   ],
   "source": [
    "up_low_word = 'A SesamE'\n",
    "print( up_low_word.lower().find( 's' ) )\n",
    "print( up_low_word.lower().count( 'a' ) )\n",
    "\n",
    "#first lower cases everything before finding the letters"
   ]
  },
  {
   "cell_type": "code",
   "execution_count": null,
   "metadata": {},
   "outputs": [],
   "source": []
  },
  {
   "cell_type": "code",
   "execution_count": null,
   "metadata": {},
   "outputs": [],
   "source": []
  },
  {
   "cell_type": "markdown",
   "metadata": {},
   "source": [
    "#### Other things you may find useful:\n",
    "- endswith()\n",
    "- rfind()\n",
    "- strip() \n",
    "     - rstrip()  \n",
    "     - lstrip()\n"
   ]
  },
  {
   "cell_type": "code",
   "execution_count": 29,
   "metadata": {},
   "outputs": [
    {
     "name": "stdout",
     "output_type": "stream",
     "text": [
      "True\n"
     ]
    }
   ],
   "source": [
    "print( word_tst.endswith( 'd' ) )"
   ]
  },
  {
   "cell_type": "code",
   "execution_count": 30,
   "metadata": {},
   "outputs": [
    {
     "name": "stdout",
     "output_type": "stream",
     "text": [
      "False\n"
     ]
    }
   ],
   "source": [
    "print( word_tst.endswith( 'o' ) )"
   ]
  },
  {
   "cell_type": "code",
   "execution_count": 32,
   "metadata": {},
   "outputs": [
    {
     "name": "stdout",
     "output_type": "stream",
     "text": [
      "2\n"
     ]
    }
   ],
   "source": [
    "print(word_tst.find('l')) #first occurence"
   ]
  },
  {
   "cell_type": "code",
   "execution_count": 31,
   "metadata": {},
   "outputs": [
    {
     "name": "stdout",
     "output_type": "stream",
     "text": [
      "9\n"
     ]
    }
   ],
   "source": [
    "print( word_tst.rfind ('l' ) ) #last occurence"
   ]
  },
  {
   "cell_type": "code",
   "execution_count": 35,
   "metadata": {},
   "outputs": [
    {
     "name": "stdout",
     "output_type": "stream",
     "text": [
      "-1\n",
      "10\n"
     ]
    }
   ],
   "source": [
    "### gives the last place on which you find a word; can also limit \n",
    "#the search between start and end point:\n",
    "\n",
    "print( word_tst.rfind( 'd' , 0, 4 ) ) ## why?\n",
    "print( word_tst.rfind( 'd' , 0, 12 ) )"
   ]
  },
  {
   "cell_type": "code",
   "execution_count": 36,
   "metadata": {},
   "outputs": [
    {
     "name": "stdout",
     "output_type": "stream",
     "text": [
      "9\n"
     ]
    }
   ],
   "source": [
    "## or:\n",
    "print( word_tst.rindex( 'l' ) )"
   ]
  },
  {
   "cell_type": "code",
   "execution_count": 37,
   "metadata": {},
   "outputs": [
    {
     "name": "stdout",
     "output_type": "stream",
     "text": [
      "2\n"
     ]
    }
   ],
   "source": [
    "print(word_tst.index('l'))"
   ]
  },
  {
   "cell_type": "code",
   "execution_count": 38,
   "metadata": {},
   "outputs": [],
   "source": [
    "a_weird_string = '   hello world   '"
   ]
  },
  {
   "cell_type": "code",
   "execution_count": 39,
   "metadata": {},
   "outputs": [
    {
     "name": "stdout",
     "output_type": "stream",
     "text": [
      "   hello world   \n"
     ]
    }
   ],
   "source": [
    "print(  a_weird_string  )"
   ]
  },
  {
   "cell_type": "code",
   "execution_count": 40,
   "metadata": {},
   "outputs": [
    {
     "name": "stdout",
     "output_type": "stream",
     "text": [
      "hello world\n"
     ]
    }
   ],
   "source": [
    "print( a_weird_string.strip(  ) ) #removes space at start and end"
   ]
  },
  {
   "cell_type": "code",
   "execution_count": 41,
   "metadata": {},
   "outputs": [
    {
     "name": "stdout",
     "output_type": "stream",
     "text": [
      "   hello world\n"
     ]
    }
   ],
   "source": [
    "print( a_weird_string.rstrip( ) ) #Removes end"
   ]
  },
  {
   "cell_type": "code",
   "execution_count": 42,
   "metadata": {},
   "outputs": [
    {
     "name": "stdout",
     "output_type": "stream",
     "text": [
      "hello world   \n"
     ]
    }
   ],
   "source": [
    "print( a_weird_string.lstrip( ) ) #removes start"
   ]
  },
  {
   "cell_type": "markdown",
   "metadata": {},
   "source": [
    "### you can also define *which* character you want removed from start/end:"
   ]
  },
  {
   "cell_type": "code",
   "execution_count": 43,
   "metadata": {},
   "outputs": [],
   "source": [
    "#e.g., \n",
    "another_weird_word = '---test---'"
   ]
  },
  {
   "cell_type": "code",
   "execution_count": 44,
   "metadata": {},
   "outputs": [
    {
     "name": "stdout",
     "output_type": "stream",
     "text": [
      "test\n"
     ]
    }
   ],
   "source": [
    "print( another_weird_word.strip( '-' ) )"
   ]
  },
  {
   "cell_type": "code",
   "execution_count": 45,
   "metadata": {},
   "outputs": [],
   "source": [
    "#### you can even search two strings for common elements \n",
    "#    (see next week for the for/if loops):\n",
    "word_1 = 'My name is '\n",
    "word_2 = 'Inigo Montoya '"
   ]
  },
  {
   "cell_type": "code",
   "execution_count": 46,
   "metadata": {},
   "outputs": [
    {
     "name": "stdout",
     "output_type": "stream",
     "text": [
      "M\n",
      "y\n",
      " \n",
      "n\n",
      "a\n",
      " \n",
      "i\n",
      " \n"
     ]
    }
   ],
   "source": [
    "for i in word_1:\n",
    "    if i in word_2:\n",
    "        print( i )"
   ]
  },
  {
   "cell_type": "code",
   "execution_count": 48,
   "metadata": {},
   "outputs": [
    {
     "name": "stdout",
     "output_type": "stream",
     "text": [
      "m\n",
      "e\n",
      "s\n"
     ]
    }
   ],
   "source": [
    "### or for not common elements:\n",
    "for i in word_1:\n",
    "    if i not in word_2:\n",
    "        print( i )"
   ]
  },
  {
   "cell_type": "code",
   "execution_count": null,
   "metadata": {},
   "outputs": [],
   "source": []
  },
  {
   "cell_type": "markdown",
   "metadata": {},
   "source": [
    "### you can also search in lists containing strings for occurances of words: "
   ]
  },
  {
   "cell_type": "code",
   "execution_count": 49,
   "metadata": {},
   "outputs": [],
   "source": [
    "names_compiled = [ 'Mary', 'Jack', 'Ines', 'Lena', 'John' ]"
   ]
  },
  {
   "cell_type": "code",
   "execution_count": 50,
   "metadata": {},
   "outputs": [],
   "source": [
    "name_petition  =  'Jack'"
   ]
  },
  {
   "cell_type": "code",
   "execution_count": 51,
   "metadata": {},
   "outputs": [
    {
     "data": {
      "text/plain": [
       "False"
      ]
     },
     "execution_count": 51,
     "metadata": {},
     "output_type": "execute_result"
    }
   ],
   "source": [
    "names_compiled[ 0 ] == name_petition"
   ]
  },
  {
   "cell_type": "code",
   "execution_count": 52,
   "metadata": {},
   "outputs": [
    {
     "data": {
      "text/plain": [
       "True"
      ]
     },
     "execution_count": 52,
     "metadata": {},
     "output_type": "execute_result"
    }
   ],
   "source": [
    "names_compiled[ 1 ] == name_petition"
   ]
  },
  {
   "cell_type": "code",
   "execution_count": null,
   "metadata": {},
   "outputs": [],
   "source": []
  },
  {
   "cell_type": "code",
   "execution_count": null,
   "metadata": {},
   "outputs": [],
   "source": []
  },
  {
   "cell_type": "code",
   "execution_count": null,
   "metadata": {},
   "outputs": [],
   "source": []
  },
  {
   "cell_type": "code",
   "execution_count": 53,
   "metadata": {},
   "outputs": [
    {
     "name": "stdout",
     "output_type": "stream",
     "text": [
      "indented\n",
      "function\n",
      "function\n",
      "t.lt(90)\n",
      "argument\n",
      "Wrapping\n",
      "function\n",
      "benefits\n",
      "found a: piece in line: Wrapping a piece of code up in a function is called encapsulation. One of the benefits of\n",
      "\n",
      "Found 8  words with 8  characters up to here.\n",
      "------------\n",
      "\n",
      "Printing last line:\n",
      "\n",
      "Wrapping a piece of code up in a function is called encapsulation. One of the benefits of\n",
      "\n",
      "------------\n",
      "\n",
      "printing a snippet from that line:\n",
      "is called encapsulation.\n"
     ]
    }
   ],
   "source": [
    "word='piece'\n",
    "\n",
    "count_words = 0\n",
    "word_len = 8\n",
    "\n",
    "with open(\"random_text_thinkpython2.txt\", \"r\") as f:\n",
    "    for line in f:                         #----> reads the line in the file\n",
    "\n",
    "        q = line.split()                   #----> splits it in words\n",
    "        for i in range( len( q ) ) :       #----> now loops over all words\n",
    "            if len( q[ i ]) == word_len :  #----> if the length of a word is 8 \n",
    "                print(q[i])                #----> it prints the word\n",
    "                count_words =  count_words + 1     # then adds one to the counter \n",
    "        if word in q:                      # it also checks if it found the word I want to search\n",
    "            print('found a:', word, 'in line:', line )\n",
    "            break\n",
    "\n",
    "print('Found',count_words,' words with',word_len,' characters up to here.')   \n",
    "\n",
    "print('------------\\n')\n",
    "print('Printing last line:\\n')\n",
    "print(line[:])\n",
    "print('------------\\n')\n",
    "print('printing a snippet from that line:')\n",
    "print(line[42:66])"
   ]
  },
  {
   "cell_type": "code",
   "execution_count": null,
   "metadata": {},
   "outputs": [],
   "source": []
  },
  {
   "cell_type": "code",
   "execution_count": 54,
   "metadata": {},
   "outputs": [
    {
     "name": "stdout",
     "output_type": "stream",
     "text": [
      "This is a raw string. \n",
      " It has a literal backslash followed by an \"n\".\n",
      "\n",
      "This is a raw string.\\n It has a literal backslash followed by an 'n'.\\n\n"
     ]
    }
   ],
   "source": [
    "print('This is a raw string. \\n It has a literal backslash followed by an \"n\".\\n')\n",
    "##vs:\n",
    "\n",
    "#raw string prints all in the string\n",
    "print(r\"This is a raw string.\\n It has a literal backslash followed by an 'n'.\\n\")\n"
   ]
  },
  {
   "cell_type": "code",
   "execution_count": 55,
   "metadata": {},
   "outputs": [
    {
     "name": "stdout",
     "output_type": "stream",
     "text": [
      "Hello,World!\n"
     ]
    }
   ],
   "source": [
    "#You can add strings together:\n",
    "str1 = 'Hello,'\n",
    "\n",
    "str2 = 'World!'\n",
    "\n",
    "#try it! what happens?\n",
    "print( str1 + str2 )"
   ]
  },
  {
   "cell_type": "code",
   "execution_count": 56,
   "metadata": {},
   "outputs": [],
   "source": [
    "### also, a cautionary tale for some print statements: \n",
    "\n",
    "one_number     = 10.\n",
    "another_number = 22."
   ]
  },
  {
   "cell_type": "code",
   "execution_count": 57,
   "metadata": {},
   "outputs": [
    {
     "name": "stdout",
     "output_type": "stream",
     "text": [
      "10.0  is larger than  22.0\n"
     ]
    }
   ],
   "source": [
    "print( one_number, ' is larger than ', another_number )  # note the commas"
   ]
  },
  {
   "cell_type": "code",
   "execution_count": 58,
   "metadata": {},
   "outputs": [
    {
     "ename": "TypeError",
     "evalue": "unsupported operand type(s) for +: 'float' and 'str'",
     "output_type": "error",
     "traceback": [
      "\u001b[1;31m---------------------------------------------------------------------------\u001b[0m",
      "\u001b[1;31mTypeError\u001b[0m                                 Traceback (most recent call last)",
      "\u001b[1;32m<ipython-input-58-d07f753d081f>\u001b[0m in \u001b[0;36m<module>\u001b[1;34m\u001b[0m\n\u001b[0;32m      2\u001b[0m \u001b[1;31m# convert the numbers into strings:\u001b[0m\u001b[1;33m\u001b[0m\u001b[1;33m\u001b[0m\u001b[1;33m\u001b[0m\u001b[0m\n\u001b[0;32m      3\u001b[0m \u001b[1;33m\u001b[0m\u001b[0m\n\u001b[1;32m----> 4\u001b[1;33m \u001b[0mprint\u001b[0m\u001b[1;33m(\u001b[0m \u001b[0mone_number\u001b[0m \u001b[1;33m+\u001b[0m \u001b[1;34m' is larger than '\u001b[0m \u001b[1;33m+\u001b[0m \u001b[0manother_number\u001b[0m \u001b[1;33m)\u001b[0m   \u001b[1;31m# will err\u001b[0m\u001b[1;33m\u001b[0m\u001b[1;33m\u001b[0m\u001b[0m\n\u001b[0m",
      "\u001b[1;31mTypeError\u001b[0m: unsupported operand type(s) for +: 'float' and 'str'"
     ]
    }
   ],
   "source": [
    "# but if I want it saved as a single string I need to add its parts ***and***\n",
    "# convert the numbers into strings:\n",
    "\n",
    "print( one_number + ' is larger than ' + another_number )   # will err \n"
   ]
  },
  {
   "cell_type": "code",
   "execution_count": 60,
   "metadata": {},
   "outputs": [
    {
     "name": "stdout",
     "output_type": "stream",
     "text": [
      "10.0 is larger than 22.0\n"
     ]
    }
   ],
   "source": [
    "print( str( one_number ) + ' is larger than ' + str( another_number ) ) # will work ::: Turns number into string in order to print"
   ]
  },
  {
   "cell_type": "code",
   "execution_count": 61,
   "metadata": {},
   "outputs": [
    {
     "name": "stdout",
     "output_type": "stream",
     "text": [
      "10.0 is larger than 22.0\n"
     ]
    }
   ],
   "source": [
    "# and I can store it - if needed for a weird reason -- in a single string: \n",
    "\n",
    "print_string = str( one_number ) + ' is larger than ' + str( another_number )\n",
    "\n",
    "print( print_string )"
   ]
  },
  {
   "cell_type": "code",
   "execution_count": null,
   "metadata": {},
   "outputs": [],
   "source": []
  },
  {
   "cell_type": "code",
   "execution_count": 62,
   "metadata": {},
   "outputs": [
    {
     "name": "stdout",
     "output_type": "stream",
     "text": [
      "hey hey hey \n"
     ]
    }
   ],
   "source": [
    "### try printing str3 * 3\n",
    "\n",
    "str3 = 'hey '\n",
    "\n",
    "print( str3 * 3 )"
   ]
  },
  {
   "cell_type": "code",
   "execution_count": null,
   "metadata": {},
   "outputs": [],
   "source": []
  },
  {
   "cell_type": "markdown",
   "metadata": {},
   "source": [
    "## Formats in Python"
   ]
  },
  {
   "cell_type": "markdown",
   "metadata": {},
   "source": [
    "### There are different cases where you can encounter formatting in Python. You may need, e.g., to get a variable you scan through (say sample number, wavelength,...) and format it to use in a string (think of file names e.g.)"
   ]
  },
  {
   "cell_type": "code",
   "execution_count": 63,
   "metadata": {},
   "outputs": [],
   "source": [
    "### think of a spectrum and for some reason you want to store the intensity at 0.612345 microns\n",
    "### as 0.61_intensity.dat - you need formating to do it automatically"
   ]
  },
  {
   "cell_type": "markdown",
   "metadata": {},
   "source": [
    "### there are a number of different formatting you can encounter:"
   ]
  },
  {
   "cell_type": "markdown",
   "metadata": {},
   "source": [
    "### the .format()"
   ]
  },
  {
   "cell_type": "code",
   "execution_count": 64,
   "metadata": {},
   "outputs": [
    {
     "name": "stdout",
     "output_type": "stream",
     "text": [
      "In this class we will learn Python\n"
     ]
    }
   ],
   "source": [
    "print( \"In this class we will learn {}\".format( 'Python' ) )\n"
   ]
  },
  {
   "cell_type": "code",
   "execution_count": 65,
   "metadata": {},
   "outputs": [
    {
     "name": "stdout",
     "output_type": "stream",
     "text": [
      "Apples and Oranges are Fruit\n"
     ]
    }
   ],
   "source": [
    "string = ('Apples', 'Oranges' , 'Fruit')\n",
    "\n",
    "print(\"{} and {} are {}\".format( string[ 0 ], string[ 1 ], string[ 2 ] ) )\n"
   ]
  },
  {
   "cell_type": "markdown",
   "metadata": {},
   "source": [
    "### the % operator:"
   ]
  },
  {
   "cell_type": "code",
   "execution_count": 66,
   "metadata": {},
   "outputs": [],
   "source": [
    "# <format_string> % <values>  --> also give what string properties you want"
   ]
  },
  {
   "cell_type": "code",
   "execution_count": 67,
   "metadata": {},
   "outputs": [
    {
     "name": "stdout",
     "output_type": "stream",
     "text": [
      "This is 100.0% right!!\n",
      "This is 100.000% right!!\n"
     ]
    }
   ],
   "source": [
    "print ( \"This is {0:.1f}% {1}!!\".format(100, \"right\" ) )\n",
    "\n",
    "print ( \"This is {0:.3f}% {1}!!\".format(100, \"right\" ) )"
   ]
  },
  {
   "cell_type": "code",
   "execution_count": 68,
   "metadata": {},
   "outputs": [],
   "source": [
    "#let's break this down:\n",
    "# the 2 words to be formated are included here: .format(100, \"right\" ) \n",
    "# which one goes where and how it is formated goes here:   \"This is {0:.1f}% {1}!!\" \n"
   ]
  },
  {
   "cell_type": "code",
   "execution_count": 69,
   "metadata": {},
   "outputs": [
    {
     "name": "stdout",
     "output_type": "stream",
     "text": [
      " 90.72 is smaller than 90.724 \n"
     ]
    }
   ],
   "source": [
    "#e.g. try this:\n",
    "\n",
    "print( \" {0:.2f} is smaller than {1:.3f} \".format( 90.723, 90.724 ) )"
   ]
  },
  {
   "cell_type": "code",
   "execution_count": 72,
   "metadata": {},
   "outputs": [
    {
     "name": "stdout",
     "output_type": "stream",
     "text": [
      " 90.72 is smaller than 90.723 \n"
     ]
    }
   ],
   "source": [
    "#or: \n",
    "print( \" {1:.2f} is smaller than {0:.3f} \".format( 90.723, 90.724 ) ) # see how it can go wrong with wrong \n",
    "                                                                      # formating?"
   ]
  },
  {
   "cell_type": "code",
   "execution_count": 73,
   "metadata": {},
   "outputs": [
    {
     "name": "stdout",
     "output_type": "stream",
     "text": [
      " 90.723 is smaller than 90.724 \n",
      " 90.724 is smaller than 90.723 \n"
     ]
    }
   ],
   "source": [
    "# better:\n",
    "\n",
    "print( \" {0:.3f} is smaller than {1:.3f} \".format( 90.723, 90.724 ) )\n",
    "print( \" {1:.3f} is smaller than {0:.3f} \".format( 90.723, 90.724 ) )"
   ]
  },
  {
   "cell_type": "code",
   "execution_count": null,
   "metadata": {},
   "outputs": [],
   "source": []
  },
  {
   "cell_type": "code",
   "execution_count": null,
   "metadata": {},
   "outputs": [],
   "source": []
  },
  {
   "cell_type": "code",
   "execution_count": null,
   "metadata": {},
   "outputs": [],
   "source": []
  },
  {
   "cell_type": "code",
   "execution_count": 74,
   "metadata": {},
   "outputs": [
    {
     "name": "stdout",
     "output_type": "stream",
     "text": [
      "12 eggs cost $1.55\n",
      "12 eggs cost $1.5456\n"
     ]
    }
   ],
   "source": [
    "#also compare:\n",
    "print( '%d %s cost $%.2f' % (12, 'eggs', 1.5456) )\n",
    "print('{0} {1} cost ${2}'.format( 12, 'eggs', 1.5456) )"
   ]
  },
  {
   "cell_type": "code",
   "execution_count": null,
   "metadata": {},
   "outputs": [],
   "source": []
  },
  {
   "cell_type": "markdown",
   "metadata": {},
   "source": [
    "### You can format a float when you want to scan through filenames with specific patterns"
   ]
  },
  {
   "cell_type": "code",
   "execution_count": 75,
   "metadata": {},
   "outputs": [
    {
     "name": "stdout",
     "output_type": "stream",
     "text": [
      "0.0 K and 0.000 bar\n",
      "0.0 K and 0.083 bar\n",
      "0.0 K and 0.167 bar\n",
      "0.0 K and 0.250 bar\n",
      "0.0 K and 0.333 bar\n",
      "1.0 K and 0.000 bar\n",
      "1.0 K and 0.083 bar\n",
      "1.0 K and 0.167 bar\n",
      "1.0 K and 0.250 bar\n",
      "1.0 K and 0.333 bar\n",
      "2.0 K and 0.000 bar\n",
      "2.0 K and 0.083 bar\n",
      "2.0 K and 0.167 bar\n",
      "2.0 K and 0.250 bar\n",
      "2.0 K and 0.333 bar\n",
      "3.0 K and 0.000 bar\n",
      "3.0 K and 0.083 bar\n",
      "3.0 K and 0.167 bar\n",
      "3.0 K and 0.250 bar\n",
      "3.0 K and 0.333 bar\n"
     ]
    }
   ],
   "source": [
    "#import numpy as np\n",
    "\n",
    "t = np.arange( 4 )\n",
    "p = np.arange( 5  )/ 12.\n",
    "\n",
    "for i in t:\n",
    "    for j in range( 5 ):\n",
    "        print( \"%.1f K and %.3f bar\" %( t[ i ], p[ j ] ) )"
   ]
  },
  {
   "cell_type": "code",
   "execution_count": null,
   "metadata": {},
   "outputs": [],
   "source": []
  },
  {
   "cell_type": "code",
   "execution_count": null,
   "metadata": {},
   "outputs": [],
   "source": []
  },
  {
   "cell_type": "markdown",
   "metadata": {},
   "source": [
    "## Dictionaries in Python"
   ]
  },
  {
   "cell_type": "markdown",
   "metadata": {},
   "source": [
    "### Dictionaries are like lists, but they have keys."
   ]
  },
  {
   "cell_type": "code",
   "execution_count": 76,
   "metadata": {},
   "outputs": [],
   "source": [
    "my_first_dict = dict()"
   ]
  },
  {
   "cell_type": "code",
   "execution_count": 77,
   "metadata": {},
   "outputs": [
    {
     "name": "stdout",
     "output_type": "stream",
     "text": [
      "<class 'dict'>\n"
     ]
    }
   ],
   "source": [
    "print( type( my_first_dict ) )"
   ]
  },
  {
   "cell_type": "markdown",
   "metadata": {},
   "source": [
    "### let's populate the dictionary:"
   ]
  },
  {
   "cell_type": "code",
   "execution_count": 78,
   "metadata": {},
   "outputs": [],
   "source": [
    "my_first_dict[ 'one'   ] = 1\n",
    "my_first_dict[ 'two'   ] = 2\n",
    "my_first_dict[ 'three' ] = 3\n",
    "my_first_dict[ 'four'  ] = 4\n"
   ]
  },
  {
   "cell_type": "code",
   "execution_count": 79,
   "metadata": {},
   "outputs": [
    {
     "name": "stdout",
     "output_type": "stream",
     "text": [
      "{'one': 1, 'two': 2, 'three': 3, 'four': 4}\n"
     ]
    }
   ],
   "source": [
    "print( my_first_dict )"
   ]
  },
  {
   "cell_type": "markdown",
   "metadata": {},
   "source": [
    "### 'one', 'two' etc are the keywords of the dictionary. If you want to print the element associated with a keyword:\n"
   ]
  },
  {
   "cell_type": "code",
   "execution_count": 80,
   "metadata": {},
   "outputs": [
    {
     "name": "stdout",
     "output_type": "stream",
     "text": [
      "2\n"
     ]
    }
   ],
   "source": [
    "print( my_first_dict['two'] )"
   ]
  },
  {
   "cell_type": "markdown",
   "metadata": {},
   "source": [
    "### try printing the length of the dictionary. What is it? Why?\n",
    "\n"
   ]
  },
  {
   "cell_type": "code",
   "execution_count": 81,
   "metadata": {},
   "outputs": [
    {
     "name": "stdout",
     "output_type": "stream",
     "text": [
      "4\n"
     ]
    }
   ],
   "source": [
    "print ( len( my_first_dict ) )"
   ]
  },
  {
   "cell_type": "code",
   "execution_count": 82,
   "metadata": {},
   "outputs": [
    {
     "name": "stdout",
     "output_type": "stream",
     "text": [
      "one\n",
      "two\n",
      "three\n",
      "four\n"
     ]
    }
   ],
   "source": [
    "for i in my_first_dict:\n",
    "    print ( i )\n"
   ]
  },
  {
   "cell_type": "code",
   "execution_count": 83,
   "metadata": {},
   "outputs": [
    {
     "name": "stdout",
     "output_type": "stream",
     "text": [
      "one\n",
      "two\n",
      "three\n",
      "four\n"
     ]
    }
   ],
   "source": [
    "for key in my_first_dict:\n",
    "    print( key )"
   ]
  },
  {
   "cell_type": "code",
   "execution_count": 84,
   "metadata": {},
   "outputs": [
    {
     "name": "stdout",
     "output_type": "stream",
     "text": [
      "one 1\n",
      "two 2\n",
      "three 3\n",
      "four 4\n"
     ]
    }
   ],
   "source": [
    "for i in my_first_dict:\n",
    "    print ( i, my_first_dict[ i ] )\n"
   ]
  },
  {
   "cell_type": "code",
   "execution_count": null,
   "metadata": {},
   "outputs": [],
   "source": []
  },
  {
   "cell_type": "code",
   "execution_count": null,
   "metadata": {},
   "outputs": [],
   "source": []
  },
  {
   "cell_type": "code",
   "execution_count": 85,
   "metadata": {},
   "outputs": [
    {
     "name": "stdout",
     "output_type": "stream",
     "text": [
      "1\n",
      "2\n",
      "3\n",
      "4\n"
     ]
    }
   ],
   "source": [
    "for i in my_first_dict.values():\n",
    "    print ( i )"
   ]
  },
  {
   "cell_type": "code",
   "execution_count": 88,
   "metadata": {},
   "outputs": [
    {
     "name": "stdout",
     "output_type": "stream",
     "text": [
      "one 1\n",
      "two 2\n",
      "three 3\n",
      "four 4\n"
     ]
    }
   ],
   "source": [
    "for i,j in my_first_dict.items():\n",
    "    print ( i , j)"
   ]
  },
  {
   "cell_type": "code",
   "execution_count": 89,
   "metadata": {},
   "outputs": [
    {
     "name": "stdout",
     "output_type": "stream",
     "text": [
      "one 1\n",
      "two 2\n",
      "three 3\n",
      "four 4\n"
     ]
    }
   ],
   "source": [
    "for key, val in my_first_dict.items():\n",
    "    print( key, val)"
   ]
  },
  {
   "cell_type": "code",
   "execution_count": null,
   "metadata": {},
   "outputs": [],
   "source": []
  },
  {
   "cell_type": "markdown",
   "metadata": {},
   "source": [
    "### You can also have nested dictionaries :"
   ]
  },
  {
   "cell_type": "code",
   "execution_count": 90,
   "metadata": {},
   "outputs": [],
   "source": [
    "#example of nested dictionaries:\n",
    "car1 = {\n",
    "  \"model\" : \"Escape\",\n",
    "  \"make\" : \"Ford\"\n",
    "}\n",
    "car2 = {\n",
    "  \"model\" : \"500\",\n",
    "  \"make\" : \"Fiat\"\n",
    "}\n",
    "car3 = {\n",
    "  \"model\" : \"Tucson\",\n",
    "  \"make\" : \"Hyundai\"\n",
    "}\n"
   ]
  },
  {
   "cell_type": "code",
   "execution_count": 91,
   "metadata": {},
   "outputs": [],
   "source": [
    "experiment = {\n",
    "  \"car1\" : car1,\n",
    "  \"car2\" : car2,\n",
    "  \"car3\" : car3\n",
    "}"
   ]
  },
  {
   "cell_type": "code",
   "execution_count": 92,
   "metadata": {},
   "outputs": [
    {
     "name": "stdout",
     "output_type": "stream",
     "text": [
      "dict_keys(['car1', 'car2', 'car3'])\n"
     ]
    }
   ],
   "source": [
    "print( experiment.keys() )"
   ]
  },
  {
   "cell_type": "code",
   "execution_count": 93,
   "metadata": {},
   "outputs": [
    {
     "name": "stdout",
     "output_type": "stream",
     "text": [
      "dict_values([{'model': 'Escape', 'make': 'Ford'}, {'model': '500', 'make': 'Fiat'}, {'model': 'Tucson', 'make': 'Hyundai'}])\n"
     ]
    }
   ],
   "source": [
    "print( experiment.values() )"
   ]
  },
  {
   "cell_type": "code",
   "execution_count": 94,
   "metadata": {},
   "outputs": [
    {
     "name": "stdout",
     "output_type": "stream",
     "text": [
      "dict_items([('car1', {'model': 'Escape', 'make': 'Ford'}), ('car2', {'model': '500', 'make': 'Fiat'}), ('car3', {'model': 'Tucson', 'make': 'Hyundai'})])\n"
     ]
    }
   ],
   "source": [
    "### what did I just do? let's see:\n",
    "print( experiment.items() )"
   ]
  },
  {
   "cell_type": "code",
   "execution_count": 95,
   "metadata": {},
   "outputs": [
    {
     "name": "stdout",
     "output_type": "stream",
     "text": [
      "500\n",
      "Fiat\n"
     ]
    }
   ],
   "source": [
    "#now let's try to print the model of car2:\n",
    "print( experiment['car2']['model'] )\n",
    "\n",
    "# and its make:\n",
    "print( experiment['car2']['make'] )\n"
   ]
  },
  {
   "cell_type": "markdown",
   "metadata": {},
   "source": [
    "### Useful for dictionaries:\n",
    "\n",
    "<dictionary>.get()\n",
    "<dictionary>.update()\n",
    "<dictionary>.items()\n",
    "<dictionary>.values()\n",
    "<dictionary>.clear()\n"
   ]
  },
  {
   "cell_type": "code",
   "execution_count": 96,
   "metadata": {},
   "outputs": [
    {
     "name": "stdout",
     "output_type": "stream",
     "text": [
      "{'model': '500', 'make': 'Fiat'}\n",
      "{'model': 'Escape', 'make': 'Ford'}\n"
     ]
    }
   ],
   "source": [
    "# let's use get() to get the values of specific keywords:\n",
    "\n",
    "print( experiment.get( 'car2' ) )\n",
    "print( experiment.get( 'car1' ) )"
   ]
  },
  {
   "cell_type": "code",
   "execution_count": null,
   "metadata": {},
   "outputs": [],
   "source": []
  },
  {
   "cell_type": "code",
   "execution_count": null,
   "metadata": {},
   "outputs": [],
   "source": [
    "#Assume you have the following dictionary. Suddenly your realized that \n",
    "#the color of the car is wrong and it should be white! ---> use: .update()\n",
    "\n",
    "car = {\n",
    "  \"brand\": \"Ford\",\n",
    "  \"model\": \"Mustang\",\n",
    "  \"color\": \"black\"\n",
    "}\n"
   ]
  },
  {
   "cell_type": "code",
   "execution_count": null,
   "metadata": {},
   "outputs": [],
   "source": [
    "#let's get the color to see what we had first:\n",
    "\n",
    "print( car.get('color') )"
   ]
  },
  {
   "cell_type": "code",
   "execution_count": null,
   "metadata": {},
   "outputs": [],
   "source": [
    "#let's fix its color:\n",
    "\n",
    "car.update( {\"color\": \"white\"} )"
   ]
  },
  {
   "cell_type": "code",
   "execution_count": null,
   "metadata": {},
   "outputs": [],
   "source": [
    "print( car.get('color') ) "
   ]
  },
  {
   "cell_type": "code",
   "execution_count": null,
   "metadata": {},
   "outputs": [],
   "source": [
    "#let's check all our dictionary's items:\n",
    "print( car.items() ) "
   ]
  },
  {
   "cell_type": "code",
   "execution_count": null,
   "metadata": {},
   "outputs": [],
   "source": [
    "#it's keys and then its values:\n",
    "print( car.keys()   )\n",
    "print( car.values() )"
   ]
  },
  {
   "cell_type": "code",
   "execution_count": null,
   "metadata": {},
   "outputs": [],
   "source": []
  },
  {
   "cell_type": "markdown",
   "metadata": {},
   "source": [
    "### You can also add input to a dictionary:"
   ]
  },
  {
   "cell_type": "code",
   "execution_count": null,
   "metadata": {},
   "outputs": [],
   "source": [
    "#let's get back the original car:\n",
    "car = {\n",
    "  \"brand\": \"Ford\",\n",
    "  \"model\": \"Mustang\",\n",
    "  \"color\": \"black\"\n",
    "}\n",
    "\n",
    "print( car )"
   ]
  },
  {
   "cell_type": "code",
   "execution_count": null,
   "metadata": {},
   "outputs": [],
   "source": [
    "#and add to it the year:\n",
    "\n",
    "car[ \"year\" ] = \"1974\"\n",
    "\n",
    "print( car )"
   ]
  },
  {
   "cell_type": "code",
   "execution_count": null,
   "metadata": {},
   "outputs": [],
   "source": []
  },
  {
   "cell_type": "code",
   "execution_count": null,
   "metadata": {},
   "outputs": [],
   "source": []
  },
  {
   "cell_type": "code",
   "execution_count": null,
   "metadata": {},
   "outputs": [],
   "source": []
  },
  {
   "cell_type": "code",
   "execution_count": null,
   "metadata": {},
   "outputs": [],
   "source": []
  },
  {
   "cell_type": "markdown",
   "metadata": {},
   "source": [
    "### 1. It's storm season, so let's create a code that calculates the distance to where lightning strucks. Create function *thunderstruck* that calculates the distance from you of the point where lightning struck. Remember that lightning travels with the speed of light, so you can assume you see it instantaneously (as soon as it happens). Thunder on the other hand travels with the speed of sound, at $u_{sound} = 343$  m/s or $1088$ feet/s.  Remember to write an informative docstring. \n",
    "\n",
    "1) Discuss: what should the input of the function be? What should be its output?\n",
    "\n",
    "2) Print the docstring\n",
    "\n",
    "3) You hear the roar of thunder 5s after you see the lightning. How far away was the strike (in feet)?\n",
    "\n",
    "4) You hear the roar of thunder 12s after you saw the lightning. Where did it hit in miles ( 1miles = 5280 feet )?\n",
    "\n",
    "5) Make a list times and a list distances that will contain the time in seconds between hearing the roar of thunder and seeing the lightning. Populate it with numbers: 5, 7, 10, 12, 15, 20. Call the functions thunderstruck for all values of list times and store the results in list distances in miles. Make a plot that shows the distance as a function if times. Plot the data using a red, dashed line. The x - axis ticks should be going from 5 to 20 with a step of 5 and the y-axis from 1 to 5 with a step of 0.5.  \n"
   ]
  },
  {
   "cell_type": "code",
   "execution_count": 99,
   "metadata": {},
   "outputs": [],
   "source": [
    "def thunderstruck(t_from_sight_to_sound):\n",
    "    \"\"\"This function calculates the distance to where the lightning has struck by\n",
    "    as a function of the time it takes to hear the strike after seeing it.\n",
    "    INPUT: time passed from seeing lightning to hearing it\n",
    "    OUTPUT: distance of lightning strike.\"\"\"\n",
    "    \n",
    "    d = 1088 * t_from_sight_to_sound\n",
    "    \n",
    "    return d"
   ]
  },
  {
   "cell_type": "code",
   "execution_count": 100,
   "metadata": {},
   "outputs": [
    {
     "name": "stdout",
     "output_type": "stream",
     "text": [
      "hearing the roar after 5s the lightning struck at 5440 feet away\n"
     ]
    }
   ],
   "source": [
    "print(f'hearing the roar after 5s the lightning struck at { thunderstruck(5) } feet away')"
   ]
  },
  {
   "cell_type": "code",
   "execution_count": 102,
   "metadata": {},
   "outputs": [
    {
     "name": "stdout",
     "output_type": "stream",
     "text": [
      "hearing the roar after 12s the lightning struck at 2.4727272727272727 miles away\n"
     ]
    }
   ],
   "source": [
    "print(f'hearing the roar after 12s the lightning struck at { thunderstruck(12)/5280 } miles away')"
   ]
  },
  {
   "cell_type": "code",
   "execution_count": null,
   "metadata": {},
   "outputs": [],
   "source": []
  },
  {
   "cell_type": "code",
   "execution_count": 104,
   "metadata": {},
   "outputs": [],
   "source": [
    "times = [5, 7, 10, 12, 15, 20]\n",
    "\n",
    "distances = [thunderstruck(times[0])/5280 , (thunderstruck(times[1]))/5280 , \n",
    "            thunderstruck(times[2])/5280 , (thunderstruck(times[3]))/5280 ,\n",
    "            thunderstruck(times[4])/5280 , (thunderstruck(times[5]))/5280]"
   ]
  },
  {
   "cell_type": "code",
   "execution_count": 105,
   "metadata": {},
   "outputs": [
    {
     "data": {
      "text/plain": [
       "[<matplotlib.lines.Line2D at 0x2277eda1d30>]"
      ]
     },
     "execution_count": 105,
     "metadata": {},
     "output_type": "execute_result"
    },
    {
     "data": {
      "image/png": "[encoded data removed]",
      "text/plain": [
       "<Figure size 576x576 with 1 Axes>"
      ]
     },
     "metadata": {
      "needs_background": "light"
     },
     "output_type": "display_data"
    }
   ],
   "source": [
    "plt.figure(figsize = (8,8))\n",
    "\n",
    "plt.plot(times ,  distances , color = 'green' , linestyle = '--')\n",
    "\n"
   ]
  },
  {
   "cell_type": "code",
   "execution_count": null,
   "metadata": {},
   "outputs": [],
   "source": []
  },
  {
   "cell_type": "markdown",
   "metadata": {},
   "source": [
    "### 2. For your HW you made a function ft_to_m that takes as input a number of the height of a person in feet and inches. A person being 5' 6\" was noted as 5.06, a person being 5' 10\" would be noted as 5.10 etc.  Take the function and change it (make a copy function ft_to_m2) to accept the height as a list [height_ft, height_inches]. Make the necessary changes to your function so that it works with the new input. Call the new functions for a student with a height 6' 11\" and a student with a height of 5' 6\""
   ]
  },
  {
   "cell_type": "code",
   "execution_count": null,
   "metadata": {},
   "outputs": [],
   "source": []
  },
  {
   "cell_type": "code",
   "execution_count": null,
   "metadata": {},
   "outputs": [],
   "source": []
  },
  {
   "cell_type": "code",
   "execution_count": null,
   "metadata": {},
   "outputs": [],
   "source": []
  },
  {
   "cell_type": "markdown",
   "metadata": {},
   "source": [
    "### 3. Create a tuple *trip_time* that contains the amount of hours a trip takes. Create a tuple *trip_distance* that <br> contains the distance of a given trip in km. <br> Populate *trip_time* with numbers: 1.5, 3.2, 5.6, 14.3, 26.4 and *trip_distance* with 180, 320, 728, 1573, 3326.  <br>Calculate the average speed (remember it is distance/time) of each trip. Can you use plain division of the tuples in a single line to do it?  <br>Why/why not?  After each calculation store the average speed in a tuple called *trip_average_speed* (\"append\" each calculation to the previous tuple). Is the tuple you have at the end the same as at the start? Why/why not? <br> You just realized you made a typo, and the 728 should have been 718! Change the tuple accordingly (and properly) and recalculate and print the new *trip_average_speed* tuple. "
   ]
  },
  {
   "cell_type": "code",
   "execution_count": null,
   "metadata": {},
   "outputs": [],
   "source": []
  },
  {
   "cell_type": "code",
   "execution_count": null,
   "metadata": {},
   "outputs": [],
   "source": []
  },
  {
   "cell_type": "code",
   "execution_count": null,
   "metadata": {},
   "outputs": [],
   "source": []
  },
  {
   "cell_type": "code",
   "execution_count": null,
   "metadata": {},
   "outputs": [],
   "source": []
  },
  {
   "cell_type": "code",
   "execution_count": null,
   "metadata": {},
   "outputs": [],
   "source": []
  },
  {
   "cell_type": "code",
   "execution_count": null,
   "metadata": {},
   "outputs": [],
   "source": []
  },
  {
   "cell_type": "markdown",
   "metadata": {},
   "source": [
    "### 4. We have a dictionary with the information about a student. For every student we have have a name, and their scores (0-10) in hw assignments, quizzes and projects:"
   ]
  },
  {
   "cell_type": "code",
   "execution_count": null,
   "metadata": {},
   "outputs": [],
   "source": [
    "student1 = {\n",
    "  \"name\": \"Jane\",\n",
    "  \"homework\": [9.0,7.0,5.0,10.],\n",
    "  \"quizzes\": [8.0,7.0,9.0],\n",
    "  \"projects\": [7.5,9.5]\n",
    "}\n",
    "student2 = {\n",
    "  \"name\": \"Joe\",\n",
    "  \"homework\": [10.0, 3.9, 4.0, 10.0],\n",
    "  \"quizzes\": [5.1, 4.2, 5.0],\n",
    "  \"projects\": [8.9, 2.7]\n",
    "}"
   ]
  },
  {
   "cell_type": "markdown",
   "metadata": {},
   "source": [
    "### Use what we learned today to plot *in the same plot* the homework, quizzes, and projects grades of student1. Use no lines, and different colors and symbols to separate the categories of the assignments. Make sure to add a legend so that the reader can understand which color/symbol is what. Add a title with the student's name. "
   ]
  },
  {
   "cell_type": "code",
   "execution_count": null,
   "metadata": {},
   "outputs": [],
   "source": []
  },
  {
   "cell_type": "code",
   "execution_count": null,
   "metadata": {},
   "outputs": [],
   "source": []
  },
  {
   "cell_type": "markdown",
   "metadata": {},
   "source": [
    "### Use what we learned today to plot *in the same plot* the homework grades of student1 and student 2. Use no lines, the same symbols and different colors to separate the categories of the assignments. Add a legend with the students' names and a title showing that this is their homework grades."
   ]
  },
  {
   "cell_type": "code",
   "execution_count": null,
   "metadata": {},
   "outputs": [],
   "source": []
  },
  {
   "cell_type": "code",
   "execution_count": null,
   "metadata": {},
   "outputs": [],
   "source": []
  },
  {
   "cell_type": "code",
   "execution_count": null,
   "metadata": {},
   "outputs": [],
   "source": []
  }
 ],
 "metadata": {
  "kernelspec": {
   "display_name": "Python 3",
   "language": "python",
   "name": "python3"
  },
  "language_info": {
   "codemirror_mode": {
    "name": "ipython",
    "version": 3
   },
   "file_extension": ".py",
   "mimetype": "text/x-python",
   "name": "python",
   "nbconvert_exporter": "python",
   "pygments_lexer": "ipython3",
   "version": "3.8.3"
  }
 },
 "nbformat": 4,
 "nbformat_minor": 2
}
